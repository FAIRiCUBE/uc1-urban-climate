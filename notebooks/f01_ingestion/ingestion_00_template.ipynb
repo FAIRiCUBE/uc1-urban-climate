{
 "cells": [
  {
   "cell_type": "markdown",
   "id": "b9a97b7a-114e-4b8b-a525-f171884b3ed5",
   "metadata": {},
   "source": [
    "# Ingestion template\n",
    "Ingest raster data to SentinelHub"
   ]
  },
  {
   "cell_type": "markdown",
   "id": "d68a275c-8dd6-4c40-9e37-05934ef0c2c5",
   "metadata": {},
   "source": [
    "TODO\n",
    "- [ ] convert raster to COG: add script to convert raster into COG, either within this notebook or as separate script (or else?)\n",
    "- [ ] are there alternatives to ingesting tile one by one? (cell 2)\n",
    "- [ ] add ingestion routine for multitemporal collections\n"
   ]
  },
  {
   "cell_type": "code",
   "execution_count": null,
   "id": "48a1d338-03d3-461e-aaee-6f34915f7908",
   "metadata": {},
   "outputs": [],
   "source": [
    "# Configure plots for inline use in Jupyter Notebook\n",
    "%matplotlib inline\n",
    "\n",
    "import datetime as dt\n",
    "\n",
    "# Utilities\n",
    "import boto3\n",
    "import dateutil\n",
    "import geopandas as gpd\n",
    "import matplotlib.pyplot as plt\n",
    "import pandas as pd\n",
    "import os\n",
    "import rasterio\n",
    "\n",
    "# Sentinel Hub\n",
    "from sentinelhub import (\n",
    "    CRS,\n",
    "    BBox,\n",
    "    ByocCollection,\n",
    "    ByocCollectionAdditionalData,\n",
    "    ByocCollectionBand,\n",
    "    ByocTile,\n",
    "    DataCollection,\n",
    "    DownloadFailedException,\n",
    "    MimeType,\n",
    "    SentinelHubBYOC,\n",
    "    SentinelHubRequest,\n",
    "    SHConfig,\n",
    "    bbox_to_dimensions,\n",
    "    os_utils,\n",
    ")\n",
    "\n",
    "config = SHConfig()\n",
    "config.instance_id = os.environ.get(\"SH_INSTANCE_ID\")\n",
    "config.sh_client_id = os.environ.get(\"SH_CLIENT_ID\")\n",
    "config.sh_client_secret = os.environ.get(\"SH_CLIENT_SECRET\")\n",
    "config.aws_access_key_id = os.environ.get(\"username\")\n",
    "config.aws_secret_access_key = os.environ.get(\"password\")    "
   ]
  },
  {
   "cell_type": "code",
   "execution_count": null,
   "id": "6cc1befc-6928-4116-9aa9-4dc5e1cb0aef",
   "metadata": {
    "tags": []
   },
   "outputs": [],
   "source": [
    "# Initialize SentinelHubBYOC class\n",
    "byoc = SentinelHubBYOC(config=config)\n",
    "\n",
    "# !! change collection name\n",
    "new_collection = ByocCollection(name=\"collection_name\", s3_bucket=\"hub-fairicube0\")\n",
    "#byoc.delete_collection(new_collection) # for the deleting of the collection\n",
    "created_collection = byoc.create_collection(new_collection)\n",
    "my_collection = byoc.get_collection(created_collection[\"id\"])\n",
    "\n",
    "\n",
    "#https://sentinelhub-py.readthedocs.io/en/latest/examples/byoc_request.html#Create-new-collection\n",
    "\n",
    "input_folder =\"data/path/to/data\"\n",
    "\n",
    "# add tiles one by one\n",
    "tile_list = [\n",
    "        \"tile_1_(BAND).tif\",\n",
    "        \"tile_2_(BAND).tif\",\n",
    "        \"tile_3_(BAND).tif\",\n",
    "        \"...\"\n",
    "            ]\n",
    "\n",
    "# ingest tiles\n",
    "for tile in tile_list:\n",
    "    path_link = input_folder+\"/\"+tile\n",
    "    new_tile = ByocTile(path=path_link, , sensing_time=dt.datetime(2018, 1, 1)) # change to correct date\n",
    "    created_tile = byoc.create_tile(created_collection, new_tile)\n",
    "    tile = byoc.get_tile(collection=created_collection[\"id\"], tile=created_tile[\"id\"])\n",
    "    tile"
   ]
  },
  {
   "cell_type": "code",
   "execution_count": null,
   "id": "543ace25-7630-481d-88d3-5683aeb48086",
   "metadata": {},
   "outputs": [],
   "source": [
    "# check ingestion status\n",
    "print(\"Collection name:\", my_collection[\"name\"])\n",
    "print(\"Collection id: \", my_collection[\"id\"])\n",
    "tiles = list(byoc.iter_tiles(collection))\n",
    "for tile in tiles:\n",
    "    print(\"Tile status: \", tile['status'])\n",
    "    print(\"Tile created: \", tile['created'])\n",
    "    if(tile['status'] == \"FAILED\"):\n",
    "        print(\"Ingestion failed error: \", tile['additionalData'])\n",
    "print(\"-------------------\")"
   ]
  }
 ],
 "metadata": {
  "kernelspec": {
   "display_name": "fairicube-edc-2022.10-14",
   "language": "python",
   "name": "conda-env-fairicube-edc-2022.10-14-py"
  },
  "language_info": {
   "codemirror_mode": {
    "name": "ipython",
    "version": 3
   },
   "file_extension": ".py",
   "mimetype": "text/x-python",
   "name": "python",
   "nbconvert_exporter": "python",
   "pygments_lexer": "ipython3",
   "version": "3.9.15"
  }
 },
 "nbformat": 4,
 "nbformat_minor": 5
}
