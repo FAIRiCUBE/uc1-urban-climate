{
 "cells": [
  {
   "cell_type": "code",
   "execution_count": 1,
   "id": "0534d22d-e532-4eae-a92c-123102ba59e4",
   "metadata": {},
   "outputs": [],
   "source": [
    "# Configure plots for inline use in Jupyter Notebook\n",
    "%matplotlib inline\n",
    "\n",
    "import datetime as dt\n",
    "\n",
    "# Utilities\n",
    "import boto3\n",
    "import dateutil\n",
    "import geopandas as gpd\n",
    "import matplotlib.pyplot as plt\n",
    "import pandas as pd\n",
    "import os\n",
    "import rasterio\n",
    "\n",
    "# Sentinel Hub\n",
    "from sentinelhub import (\n",
    "    CRS,\n",
    "    BBox,\n",
    "    ByocCollection,\n",
    "    ByocCollectionAdditionalData,\n",
    "    ByocCollectionBand,\n",
    "    ByocTile,\n",
    "    DataCollection,\n",
    "    DownloadFailedException,\n",
    "    MimeType,\n",
    "    SentinelHubBYOC,\n",
    "    SentinelHubRequest,\n",
    "    SHConfig,\n",
    "    bbox_to_dimensions,\n",
    "    os_utils,\n",
    ")\n",
    "\n",
    "config = SHConfig()\n",
    "config.instance_id = os.environ.get(\"SH_INSTANCE_ID\")\n",
    "config.sh_client_id = os.environ.get(\"SH_CLIENT_ID\")\n",
    "config.sh_client_secret = os.environ.get(\"SH_CLIENT_SECRET\")\n",
    "config.aws_access_key_id = os.environ.get(\"username\")\n",
    "config.aws_secret_access_key = os.environ.get(\"password\")\n",
    "    \n",
    "    \n",
    "        "
   ]
  },
  {
   "cell_type": "code",
   "execution_count": 3,
   "id": "a9e9ee0c-6b0d-4e12-9c91-e92cebebba51",
   "metadata": {},
   "outputs": [
    {
     "name": "stdout",
     "output_type": "stream",
     "text": [
      "path link = data/d001_administration/urban_audit_2021_city_10m_3035_(BAND).tif\n"
     ]
    },
    {
     "data": {
      "text/plain": [
       "{'id': '819dd44b-5afb-4dd0-9e09-f84ca5acaadc',\n",
       " 'created': '2023-03-01T12:09:46.026022Z',\n",
       " 'ingestionStart': '2023-03-01T12:09:46.026022Z',\n",
       " 'path': 'data/d001_administration/urban_audit_2021_city_10m_3035_(BAND).tif',\n",
       " 'status': 'WAITING'}"
      ]
     },
     "execution_count": 3,
     "metadata": {},
     "output_type": "execute_result"
    }
   ],
   "source": [
    "# Initialize SentinelHubBYOC class\n",
    "byoc = SentinelHubBYOC(config=config)\n",
    "\n",
    "new_collection = ByocCollection(name=\"urban_audit_2021_city\", s3_bucket=\"hub-fairicube0\")\n",
    "created_collection = byoc.create_collection(new_collection)\n",
    "my_collection = byoc.get_collection(created_collection[\"id\"])\n",
    "\n",
    "\n",
    "#https://sentinelhub-py.readthedocs.io/en/latest/examples/byoc_request.html#Create-new-collection\n",
    "input_folder =\"data/d001_administration\"\n",
    "input_raster_file = 'urban_audit_2021_city_10m_3035_(BAND).tif'\n",
    "\n",
    "\n",
    "path_link = input_folder+\"/\"+input_raster_file\n",
    "print (\"path link = \" + path_link)\n",
    "new_tile= ByocTile(path=path_link) \n",
    "created_tile = byoc.create_tile(created_collection, new_tile)\n",
    "\n",
    "##print (my_collection)\n",
    "\n",
    "tile = byoc.get_tile(collection=created_collection[\"id\"], tile=created_tile[\"id\"])\n",
    "tile\n"
   ]
  },
  {
   "cell_type": "code",
   "execution_count": 8,
   "id": "f5d26cb8-b593-4b26-8aa6-d0dc3bfd4a19",
   "metadata": {},
   "outputs": [
    {
     "name": "stdout",
     "output_type": "stream",
     "text": [
      "START--------------------------START checking your collection...\n",
      "Collection name: urban_audit_2021_city\n",
      "Collection id:  2bf84477-e224-46f1-8613-7726624d97a0\n",
      "Tile status:  FAILED\n",
      "Tile created:  2023-03-01T12:09:46.026022Z\n",
      "Ingestion failed error:  {'failedIngestionCause': \"File 'B1' problem: TIFF header size is over 1.0 MB limit.\"}\n",
      "-------------------\n",
      "Collection name: urban_audit_2021_city\n",
      "Collection id:  8d15e636-485a-44cb-93b0-87360e9b2cf1\n",
      "Tile status:  FAILED\n",
      "Tile created:  2023-03-01T12:09:14.037411Z\n",
      "Ingestion failed error:  {'failedIngestionCause': \"File 'B1' problem: TIFF header size is over 1.0 MB limit.\"}\n",
      "-------------------\n",
      "Collection name: UrbanAtlas2018_10m_raster\n",
      "Collection id:  bc4099db-f686-4e66-99a6-387a11eb2067\n",
      "Tile status:  INGESTED\n",
      "Tile created:  2023-03-01T10:20:07.219071Z\n",
      "Tile status:  INGESTED\n",
      "Tile created:  2023-03-01T10:20:07.004590Z\n",
      "Tile status:  INGESTED\n",
      "Tile created:  2023-03-01T10:20:07.364183Z\n",
      "-------------------\n",
      "end\n"
     ]
    }
   ],
   "source": [
    "# check your collection:\n",
    "\n",
    "\n",
    "byoc = SentinelHubBYOC(config=config)\n",
    "print (\"START--------------------------START checking your collection...\")\n",
    "# list collections and tiles\n",
    "# from: https://sentinelhub-py.readthedocs.io/en/latest/examples/byoc_request.html\n",
    "collections_iterator = byoc.iter_collections()\n",
    "my_collections = list(collections_iterator)\n",
    "\n",
    "for collection in my_collections:\n",
    "    \n",
    "    print(\"Collection name:\", collection[\"name\"])\n",
    "    print(\"Collection id: \", collection[\"id\"])\n",
    "    tiles = list(byoc.iter_tiles(collection))\n",
    "    for tile in tiles:\n",
    "        print(\"Tile status: \", tile['status'])\n",
    "        print(\"Tile created: \", tile['created'])\n",
    "        if(tile['status'] == \"FAILED\"):\n",
    "            print(\"Ingestion failed error: \", tile['additionalData'])\n",
    "    print(\"-------------------\")\n",
    "print (\"end\")"
   ]
  },
  {
   "cell_type": "code",
   "execution_count": null,
   "id": "bad8d662-0c14-43b1-9ebc-c14b233b7452",
   "metadata": {},
   "outputs": [],
   "source": []
  },
  {
   "cell_type": "code",
   "execution_count": null,
   "id": "fd4ad25a-2098-4803-be5f-40dae2bc4352",
   "metadata": {},
   "outputs": [],
   "source": []
  }
 ],
 "metadata": {
  "kernelspec": {
   "display_name": "fairicube-edc-2022.10-14",
   "language": "python",
   "name": "conda-env-fairicube-edc-2022.10-14-py"
  },
  "language_info": {
   "codemirror_mode": {
    "name": "ipython",
    "version": 3
   },
   "file_extension": ".py",
   "mimetype": "text/x-python",
   "name": "python",
   "nbconvert_exporter": "python",
   "pygments_lexer": "ipython3",
   "version": "3.9.15"
  }
 },
 "nbformat": 4,
 "nbformat_minor": 5
}
