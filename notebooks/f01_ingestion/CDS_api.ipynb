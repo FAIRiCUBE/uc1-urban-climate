{
 "cells": [
  {
   "cell_type": "markdown",
   "id": "81965347-82fd-4b2b-b1a8-ce09a59b8862",
   "metadata": {},
   "source": [
    "# Download data from Climate Data Store (CDS)\n",
    "\n",
    "CDS provides free-to-use historical data and forecasts about EU climate variables.\n",
    "\n",
    "## Getting started\n",
    "\n",
    "1. Self-register to the CDS website https://cds.climate.copernicus.eu/cdsapp#!/home\n",
    "2. Follow these instructions to set up the API client: https://cds.climate.copernicus.eu/api-how-to#use-the-cds-api-client-for-data-access\n",
    "    1. Create a file .cdsapirc in your home directory\n",
    "    2. Copy `url` and `key` in the .cdsapirc file\n",
    "    3. Install the cdsapi Python library `pip install cdsapi` (make sure to select the right conda environment)\n",
    "\n",
    "## Download data\n",
    "\n",
    "Adapt the `retrieve` statement to download the desired data. You can also use the CDS Form to craft the request and then copy&paste the request.\n",
    "You can also review the status of your requests in your profile page in the CDS website."
   ]
  },
  {
   "cell_type": "code",
   "execution_count": 1,
   "id": "9c6ad1df-e178-48d9-b221-377520f2fcb3",
   "metadata": {},
   "outputs": [],
   "source": [
    "import cdsapi\n",
    "c = cdsapi.Client()\n",
    "output_folder = \"./../../../s3/data/d003_climate/\""
   ]
  },
  {
   "cell_type": "code",
   "execution_count": null,
   "id": "9f620c05-b596-451d-8756-3b734b00ef89",
   "metadata": {},
   "outputs": [
    {
     "name": "stderr",
     "output_type": "stream",
     "text": [
      "2023-06-01 13:27:15,440 INFO Welcome to the CDS\n",
      "2023-06-01 13:27:15,440 INFO Sending request to https://cds.climate.copernicus.eu/api/v2/resources/reanalysis-cerra-single-levels\n",
      "2023-06-01 13:27:15,512 INFO Request is queued\n",
      "2023-06-01 13:27:16,535 INFO Request is running\n"
     ]
    }
   ],
   "source": [
    "c.retrieve(\n",
    "    'reanalysis-cerra-single-levels',\n",
    "    {\n",
    "        'format': 'netcdf',\n",
    "        'day': '31',\n",
    "        'month': '08',\n",
    "        'year': '1984',\n",
    "        'product_type': 'analysis',\n",
    "        'data_type': 'ensemble_members',\n",
    "        'level_type': 'surface_or_atmosphere',\n",
    "        'variable': '10m_wind_direction',\n",
    "        'time': '00:00',\n",
    "    },\n",
    "    output_folder+'download.nc')"
   ]
  }
 ],
 "metadata": {
  "kernelspec": {
   "display_name": "fairicube-edc-2022.10-14",
   "language": "python",
   "name": "conda-env-fairicube-edc-2022.10-14-py"
  },
  "language_info": {
   "codemirror_mode": {
    "name": "ipython",
    "version": 3
   },
   "file_extension": ".py",
   "mimetype": "text/x-python",
   "name": "python",
   "nbconvert_exporter": "python",
   "pygments_lexer": "ipython3",
   "version": "3.9.15"
  }
 },
 "nbformat": 4,
 "nbformat_minor": 5
}
