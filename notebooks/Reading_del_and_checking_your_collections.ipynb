{
 "cells": [
  {
   "cell_type": "markdown",
   "id": "93119b1c-2f5f-4c20-8f6f-8419b3bc6aba",
   "metadata": {},
   "source": [
    "## Checking existing collections"
   ]
  },
  {
   "cell_type": "code",
   "execution_count": 4,
   "id": "61482512-7890-484d-88de-3090b32514d5",
   "metadata": {},
   "outputs": [],
   "source": [
    "# Configure plots for inline use in Jupyter Notebook\n",
    "%matplotlib inline\n",
    "\n",
    "import datetime as dt\n",
    "\n",
    "# Utilities\n",
    "import boto3\n",
    "import dateutil\n",
    "import geopandas as gpd\n",
    "import matplotlib.pyplot as plt\n",
    "import pandas as pd\n",
    "import os\n",
    "from sentinelhub import DataCollection\n",
    "# Sentinel Hub\n",
    "from sentinelhub import (\n",
    "    CRS,\n",
    "    BBox,\n",
    "    ByocCollection,\n",
    "    ByocCollectionAdditionalData,\n",
    "    ByocCollectionBand,\n",
    "    ByocTile,\n",
    "    DataCollection,\n",
    "    DownloadFailedException,\n",
    "    MimeType,\n",
    "    SentinelHubBYOC,\n",
    "    SentinelHubRequest,\n",
    "    SHConfig,\n",
    "    bbox_to_dimensions,\n",
    ")\n",
    "\n",
    "config = SHConfig()\n",
    "config.instance_id = os.environ.get(\"SH_INSTANCE_ID\")\n",
    "config.sh_client_id = os.environ.get(\"SH_CLIENT_ID\")\n",
    "config.sh_client_secret = os.environ.get(\"SH_CLIENT_SECRET\")\n",
    "config.aws_access_key_id = os.environ.get(\"username\")\n",
    "config.aws_secret_access_key = os.environ.get(\"password\")\n",
    "    \n",
    "            "
   ]
  },
  {
   "cell_type": "code",
   "execution_count": 5,
   "id": "80ab25bd-6047-4dfe-b4d0-e3f16e87f1ab",
   "metadata": {},
   "outputs": [
    {
     "name": "stdout",
     "output_type": "stream",
     "text": [
      "DataCollection.SENTINEL2_L1C\n",
      "DataCollection.SENTINEL2_L2A\n",
      "DataCollection.SENTINEL1\n",
      "DataCollection.SENTINEL1_IW\n",
      "DataCollection.SENTINEL1_IW_ASC\n",
      "DataCollection.SENTINEL1_IW_DES\n",
      "DataCollection.SENTINEL1_EW\n",
      "DataCollection.SENTINEL1_EW_ASC\n",
      "DataCollection.SENTINEL1_EW_DES\n",
      "DataCollection.SENTINEL1_EW_SH\n",
      "DataCollection.SENTINEL1_EW_SH_ASC\n",
      "DataCollection.SENTINEL1_EW_SH_DES\n",
      "DataCollection.DEM\n",
      "DataCollection.DEM_MAPZEN\n",
      "DataCollection.DEM_COPERNICUS_30\n",
      "DataCollection.DEM_COPERNICUS_90\n",
      "DataCollection.MODIS\n",
      "DataCollection.LANDSAT_MSS_L1\n",
      "DataCollection.LANDSAT_TM_L1\n",
      "DataCollection.LANDSAT_TM_L2\n",
      "DataCollection.LANDSAT_ETM_L1\n",
      "DataCollection.LANDSAT_ETM_L2\n",
      "DataCollection.LANDSAT_OT_L1\n",
      "DataCollection.LANDSAT_OT_L2\n",
      "DataCollection.SENTINEL5P\n",
      "DataCollection.SENTINEL3_OLCI\n",
      "DataCollection.SENTINEL3_SLSTR\n"
     ]
    }
   ],
   "source": [
    "for collection in DataCollection.get_available_collections():\n",
    "    print(collection)"
   ]
  },
  {
   "cell_type": "code",
   "execution_count": 21,
   "id": "79dbfcee-b450-4bf4-97e9-6e54e2c04300",
   "metadata": {},
   "outputs": [
    {
     "data": {
      "text/plain": [
       "<DataCollection.new collection: DataCollectionDefinition(\n",
       "  api_id: byoc-74984430-7a9c-4364-ad53-2fa0127f5a62\n",
       "  catalog_id: byoc-74984430-7a9c-4364-ad53-2fa0127f5a62\n",
       "  wfs_id: byoc-74984430-7a9c-4364-ad53-2fa0127f5a62\n",
       "  collection_type: BYOC\n",
       "  collection_id: 74984430-7a9c-4364-ad53-2fa0127f5a62\n",
       "  is_timeless: True\n",
       "  has_cloud_coverage: False\n",
       ")>"
      ]
     },
     "execution_count": 21,
     "metadata": {},
     "output_type": "execute_result"
    }
   ],
   "source": [
    "\n",
    "#{'id': '74984430-7a9c-4364-ad53-2fa0127f5a62', 'created': '2023-02-16T15:42:41.655723Z', 'ingestionStart': '2023-02-16T15:42:41.655723Z', 'path': 'data/d002_urban_atlas/UrbanAtlas2018_10m_(BAND).tif', 'status': 'WAITING'}\n",
    "\n",
    "collection_id = \"74984430-7a9c-4364-ad53-2fa0127f5a62\"\n",
    "new_collection = ByocCollection(name=\"new collection\", s3_bucket=\"my-s3-bucket\")\n",
    "byoc = DataCollection.define_byoc(collection_id, name=\"new collection\", is_timeless=True)\n",
    "\n",
    "byoc"
   ]
  },
  {
   "cell_type": "code",
   "execution_count": 27,
   "id": "84cefd42-8dfe-49c7-a70b-fc72fea6ad56",
   "metadata": {},
   "outputs": [
    {
     "name": "stdout",
     "output_type": "stream",
     "text": [
      "Collection name: new collection\n",
      "Collection id:  011ddec6-78fc-46dc-ba5e-07d175ecb335\n",
      "-------------------\n",
      "Collection name: byoc-s2l2a-120m-mosaic\n",
      "Collection id:  09ef49f9-af13-4336-8b36-d5dd7fade93a\n",
      "Tile status:  FAILED\n",
      "Tile created:  2023-02-15T14:40:10.142671Z\n",
      "Ingestion failed error:  {'failedIngestionCause': 'Could not access your files (check access policy).'}\n",
      "Tile status:  FAILED\n",
      "Tile created:  2023-02-16T10:16:05.927712Z\n",
      "Ingestion failed error:  {'failedIngestionCause': 'Could not access your files (check access policy).'}\n",
      "-------------------\n",
      "Collection name: new collection\n",
      "Collection id:  0adef337-c973-4b40-bb23-9b8e3c6c669f\n",
      "Tile status:  FAILED\n",
      "Tile created:  2023-02-16T13:21:50.079692Z\n",
      "Ingestion failed error:  {'failedIngestionCause': 'Could not access your files (check access policy).'}\n",
      "-------------------\n",
      "Collection name: new collection\n",
      "Collection id:  21d41271-5102-4d22-9abc-d30a1672abd0\n",
      "-------------------\n",
      "Collection name: testemich\n",
      "Collection id:  23dd7aab-f227-4abf-a862-d7819943a388\n",
      "Tile status:  FAILED\n",
      "Tile created:  2023-02-16T08:43:42.240124Z\n",
      "Ingestion failed error:  {'failedIngestionCause': 'Could not access your files (check access policy).'}\n",
      "-------------------\n",
      "Collection name: new collection\n",
      "Collection id:  296c5575-b0ff-4f49-87f4-56155328c37b\n",
      "Tile status:  FAILED\n",
      "Tile created:  2023-02-16T12:26:55.537431Z\n",
      "Ingestion failed error:  {'failedIngestionCause': 'Could not access your files (check access policy).'}\n",
      "-------------------\n",
      "Collection name: new collection\n",
      "Collection id:  30878618-0170-4aa1-b4a3-95e0b9e28d9d\n",
      "Tile status:  FAILED\n",
      "Tile created:  2023-02-16T15:41:46.575341Z\n",
      "Ingestion failed error:  {'failedIngestionCause': \"File 'B1' problem: There is no TIFF directory for the main (full resolution) image.\"}\n",
      "-------------------\n",
      "Collection name: new collection\n",
      "Collection id:  3374736e-43de-4ed5-8b66-e257917b2489\n",
      "Tile status:  FAILED\n",
      "Tile created:  2023-02-16T13:46:01.926311Z\n",
      "Ingestion failed error:  {'failedIngestionCause': 'The provided path data/d002_urban_atlas/UrbanAtlas2018_10m_B1.tif is a file. It should be either a folder (that contains one or more COGs) or a pattern with the (BAND) placeholder (that matches one or more COGs).'}\n",
      "Tile status:  FAILED\n",
      "Tile created:  2023-02-16T13:49:30.635523Z\n",
      "Ingestion failed error:  {'failedIngestionCause': \"File 'B1' problem: There is no TIFF directory for the main (full resolution) image.\"}\n",
      "-------------------\n",
      "Collection name: new collection\n",
      "Collection id:  5a7077ae-76c2-4dc9-a205-52b4fa9b76f2\n",
      "-------------------\n",
      "Collection name: new collection\n",
      "Collection id:  931798c3-ebf0-4115-a6af-354ed4807c07\n",
      "-------------------\n",
      "Collection name: byoc-s2l2a-120m-mosaic\n",
      "Collection id:  9f354c30-f2f7-45a2-8147-1306bf5fab12\n",
      "Tile status:  INGESTED\n",
      "Tile created:  2023-02-15T14:34:25.151907Z\n",
      "-------------------\n",
      "Collection name: byoc-s2l2a-120m-mosaic\n",
      "Collection id:  aec9ea44-30f6-47b0-a605-b2ab7bbc58de\n",
      "Tile status:  INGESTED\n",
      "Tile created:  2023-02-15T14:04:19.314470Z\n",
      "-------------------\n",
      "Collection name: new collection\n",
      "Collection id:  b43b38e5-447c-4b95-b0c4-720ba86b42af\n",
      "Tile status:  FAILED\n",
      "Tile created:  2023-02-16T15:42:41.655723Z\n",
      "Ingestion failed error:  {'failedIngestionCause': \"File 'B1' problem: There is no TIFF directory for the main (full resolution) image.\"}\n",
      "-------------------\n",
      "Collection name: byoc-s2l2a-120m-mosaic\n",
      "Collection id:  c1a32745-6c57-4031-9bc3-6e4db51759c5\n",
      "Tile status:  INGESTED\n",
      "Tile created:  2023-02-15T14:10:23.719097Z\n",
      "-------------------\n",
      "Collection name: new collection\n",
      "Collection id:  c248c09c-e781-4d6d-818d-489b8b899dc5\n",
      "Tile status:  FAILED\n",
      "Tile created:  2023-02-16T08:45:05.875307Z\n",
      "Ingestion failed error:  {'failedIngestionCause': 'Could not access your files (check access policy).'}\n",
      "-------------------\n",
      "Collection name: byoc-s2l2a-120m-mosaic\n",
      "Collection id:  ca9158fb-ec76-4ab3-b383-47336389e885\n",
      "-------------------\n",
      "Collection name: testemich\n",
      "Collection id:  f52f5d55-1a3a-426b-b901-aae7592f1ff4\n",
      "Tile status:  FAILED\n",
      "Tile created:  2023-02-15T14:42:18.261004Z\n",
      "Ingestion failed error:  {'failedIngestionCause': 'Could not access your files (check access policy).'}\n",
      "-------------------\n",
      "Collection name: new collection\n",
      "Collection id:  f56646cc-53bb-4159-a2d2-42465f068a22\n",
      "-------------------\n",
      "Collection name: new collection\n",
      "Collection id:  f795b524-81ab-46ff-8de3-bfecc8303671\n",
      "Tile status:  FAILED\n",
      "Tile created:  2023-02-16T08:46:49.294108Z\n",
      "Ingestion failed error:  {'failedIngestionCause': 'Could not access your files (check access policy).'}\n",
      "-------------------\n"
     ]
    }
   ],
   "source": [
    "\n",
    "# Initialize SentinelHubBYOC class\n",
    "byoc = SentinelHubBYOC(config=config)\n",
    "\n",
    "# list collections and tiles\n",
    "# from: https://sentinelhub-py.readthedocs.io/en/latest/examples/byoc_request.html\n",
    "collections_iterator = byoc.iter_collections()\n",
    "my_collections = list(collections_iterator)\n",
    "\n",
    "for collection in my_collections:\n",
    "    \n",
    "    print(\"Collection name:\", collection[\"name\"])\n",
    "    print(\"Collection id: \", collection[\"id\"])\n",
    "    tiles = list(byoc.iter_tiles(collection))\n",
    "    for tile in tiles:\n",
    "        print(\"Tile status: \", tile['status'])\n",
    "        print(\"Tile created: \", tile['created'])\n",
    "        if(tile['status'] == \"FAILED\"):\n",
    "            print(\"Ingestion failed error: \", tile['additionalData'])\n",
    "    print(\"-------------------\")"
   ]
  },
  {
   "cell_type": "code",
   "execution_count": 61,
   "id": "72e5b3b5-9a31-4843-aae2-7397ef93f7a3",
   "metadata": {},
   "outputs": [
    {
     "name": "stdout",
     "output_type": "stream",
     "text": [
      "end\n"
     ]
    }
   ],
   "source": [
    "#### delete all collections:\n",
    "\n",
    "for collection in my_collections:\n",
    "    \n",
    "   byoc.delete_collection(collection)\n",
    "print (\"end\")\n"
   ]
  },
  {
   "cell_type": "code",
   "execution_count": 60,
   "id": "280e1238-696f-40c4-b9dd-d3d4ebc7db91",
   "metadata": {},
   "outputs": [
    {
     "name": "stdout",
     "output_type": "stream",
     "text": [
      "START--------------------------\n",
      "Collection name: new collection\n",
      "Collection id:  3e438f5d-1e69-49ec-a075-2ab1f920161e\n",
      "Tile status:  FAILED\n",
      "Tile created:  2023-02-17T08:22:39.032701Z\n",
      "Ingestion failed error:  {'failedIngestionCause': \"File 'UrbanAtlas2018_10m_B1' problem: There is no TIFF directory for the main (full resolution) image.\"}\n",
      "-------------------\n",
      "end\n"
     ]
    }
   ],
   "source": [
    "# Initialize SentinelHubBYOC class\n",
    "byoc = SentinelHubBYOC(config=config)\n",
    "print (\"START--------------------------\")\n",
    "# list collections and tiles\n",
    "# from: https://sentinelhub-py.readthedocs.io/en/latest/examples/byoc_request.html\n",
    "collections_iterator = byoc.iter_collections()\n",
    "my_collections = list(collections_iterator)\n",
    "\n",
    "for collection in my_collections:\n",
    "    \n",
    "    print(\"Collection name:\", collection[\"name\"])\n",
    "    print(\"Collection id: \", collection[\"id\"])\n",
    "    tiles = list(byoc.iter_tiles(collection))\n",
    "    for tile in tiles:\n",
    "        print(\"Tile status: \", tile['status'])\n",
    "        print(\"Tile created: \", tile['created'])\n",
    "        if(tile['status'] == \"FAILED\"):\n",
    "            print(\"Ingestion failed error: \", tile['additionalData'])\n",
    "    print(\"-------------------\")\n",
    "print (\"end\")"
   ]
  },
  {
   "cell_type": "code",
   "execution_count": null,
   "id": "133691db-324a-4f31-8776-13c6094df074",
   "metadata": {},
   "outputs": [],
   "source": []
  },
  {
   "cell_type": "code",
   "execution_count": null,
   "id": "3def15ab-00c1-427a-b0ab-d4dc89204b9b",
   "metadata": {},
   "outputs": [],
   "source": []
  }
 ],
 "metadata": {
  "kernelspec": {
   "display_name": "fairicube-edc-2022.10-14",
   "language": "python",
   "name": "conda-env-fairicube-edc-2022.10-14-py"
  },
  "language_info": {
   "codemirror_mode": {
    "name": "ipython",
    "version": 3
   },
   "file_extension": ".py",
   "mimetype": "text/x-python",
   "name": "python",
   "nbconvert_exporter": "python",
   "pygments_lexer": "ipython3",
   "version": "3.9.15"
  }
 },
 "nbformat": 4,
 "nbformat_minor": 5
}
