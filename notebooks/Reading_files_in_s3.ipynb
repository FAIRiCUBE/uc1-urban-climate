{
 "cells": [
  {
   "cell_type": "code",
   "execution_count": 1,
   "id": "8501ee2c-6135-4fcc-a39c-84cc91f01b75",
   "metadata": {},
   "outputs": [],
   "source": [
    "# Configure plots for inline use in Jupyter Notebook\n",
    "%matplotlib inline\n",
    "\n",
    "import datetime as dt\n",
    "\n",
    "# Utilities\n",
    "import boto3\n",
    "import dateutil\n",
    "import geopandas as gpd\n",
    "import matplotlib.pyplot as plt\n",
    "import pandas as pd\n",
    "import os\n",
    "import rasterio\n",
    "\n",
    "# Sentinel Hub\n",
    "from sentinelhub import (\n",
    "    CRS,\n",
    "    BBox,\n",
    "    ByocCollection,\n",
    "    ByocCollectionAdditionalData,\n",
    "    ByocCollectionBand,\n",
    "    ByocTile,\n",
    "    DataCollection,\n",
    "    DownloadFailedException,\n",
    "    MimeType,\n",
    "    SentinelHubBYOC,\n",
    "    SentinelHubRequest,\n",
    "    SHConfig,\n",
    "    bbox_to_dimensions,\n",
    "    os_utils,\n",
    ")\n",
    "\n",
    "config = SHConfig()\n",
    "config.instance_id = os.environ.get(\"SH_INSTANCE_ID\")\n",
    "config.sh_client_id = os.environ.get(\"SH_CLIENT_ID\")\n",
    "config.sh_client_secret = os.environ.get(\"SH_CLIENT_SECRET\")\n",
    "config.aws_access_key_id = os.environ.get(\"username\")\n",
    "config.aws_secret_access_key = os.environ.get(\"password\")"
   ]
  },
  {
   "cell_type": "code",
   "execution_count": 2,
   "id": "3b72ec2a-54fd-4a02-b6ef-5747cd0737c5",
   "metadata": {},
   "outputs": [
    {
     "name": "stdout",
     "output_type": "stream",
     "text": [
      "s3://hub-fairicube0/data/d002_urban_atlas_tiles/ua2018_mosaic_raster_10m_cog_01_34.tif\n",
      "s3://hub-fairicube0/data/d002_urban_atlas_tiles/ua2018_mosaic_raster_10m_cog_01_35.tif\n"
     ]
    }
   ],
   "source": [
    "import boto3\n",
    "\n",
    "import boto3\n",
    "import rasterio\n",
    "from rasterio.session import AWSSession\n",
    "import numpy as np\n",
    "\n",
    "\n",
    "\n",
    "# Define your AWS access key and secret key\n",
    "aws_access_key_id = \"xx\"\n",
    "aws_secret_access_key = \"xx\"\n",
    "\n",
    "\n",
    "\n",
    "# Use boto3 to create a session with your AWS credentials\n",
    "session = boto3.Session(\n",
    "    aws_access_key_id=aws_access_key_id,\n",
    "    aws_secret_access_key=aws_secret_access_key\n",
    ")\n",
    "\n",
    "# Use awswrangler to connect to your S3 bucket\n",
    "bucket_name = \"hub-fairicube0\"\n",
    "\n",
    "# List the contents of your S3 bucket\n",
    "s3 = session.client(\"s3\")\n",
    "result = s3.list_objects(Bucket=bucket_name)\n",
    "\n",
    "# Print the contents of the bucket\n",
    "#if \"Contents\" in result:\n",
    "#    for obj in result[\"Contents\"]:\n",
    "#        print(obj[\"Key\"])\n",
    "#else:\n",
    "#    print(\"The bucket is empty.\")\n",
    "    \n",
    "s3 = session.resource('s3')\n",
    "my_bucket = s3.Bucket('hub-fairicube0')\n",
    "#bucket_dir = \"data/d002_urban_atlas_tiles/\"    \n",
    "for objects in my_bucket.objects.filter(Prefix=\"data/d002_urban_atlas_tiles/\"):\n",
    "    #print(objects.key)\n",
    "    if objects.key[-3:] =='tif':\n",
    "        #print(objects.key) \n",
    "        s3_part1 ='s3://hub-fairicube0/'\n",
    "        #s3_part1 ='https://hub-fairicube0.s3.eu-central-1.amazonaws.com/'\n",
    "        raster = s3_part1+objects.key\n",
    "        #dataset = rasterio.open(raster)\n",
    "        print (raster)\n",
    "        #dataset.bounds\n",
    "        \n"
   ]
  },
  {
   "cell_type": "code",
   "execution_count": null,
   "id": "7d319732-fbed-48f8-b22a-726863de3da9",
   "metadata": {},
   "outputs": [],
   "source": []
  }
 ],
 "metadata": {
  "kernelspec": {
   "display_name": "fairicube-edc-2022.10-14",
   "language": "python",
   "name": "conda-env-fairicube-edc-2022.10-14-py"
  },
  "language_info": {
   "codemirror_mode": {
    "name": "ipython",
    "version": 3
   },
   "file_extension": ".py",
   "mimetype": "text/x-python",
   "name": "python",
   "nbconvert_exporter": "python",
   "pygments_lexer": "ipython3",
   "version": "3.9.15"
  }
 },
 "nbformat": 4,
 "nbformat_minor": 5
}
