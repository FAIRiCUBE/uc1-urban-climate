{
 "cells": [
  {
   "cell_type": "markdown",
   "id": "8c9bc4f3-42e7-409a-b9d5-7d4c30cf81bc",
   "metadata": {},
   "source": [
    "# Import libraries"
   ]
  },
  {
   "cell_type": "code",
   "execution_count": 3,
   "id": "a73c9780-0c16-4050-8c84-a0fa84a655a0",
   "metadata": {},
   "outputs": [],
   "source": [
    "import numpy as np \n",
    "import pandas as pd \n",
    "import matplotlib.pyplot as plt \n",
    "from sklearn.preprocessing import LabelEncoder\n",
    "from sklearn.cluster import KMeans"
   ]
  },
  {
   "cell_type": "markdown",
   "id": "82a07cf7-cbc7-4725-99f9-2eaf550b822d",
   "metadata": {},
   "source": [
    "# Import Data"
   ]
  },
  {
   "cell_type": "code",
   "execution_count": 5,
   "id": "e08b23fa-0978-4932-9326-66bad1e2a426",
   "metadata": {},
   "outputs": [],
   "source": [
    "data = 'Ratios_Example.csv'\n",
    "#df = pd.read_csv(data)\n",
    "df = pd.read_csv(data, delimiter=\";\", decimal=\",\")"
   ]
  },
  {
   "cell_type": "code",
   "execution_count": 6,
   "id": "852a214c-b721-42b2-acfe-bb09c5e02072",
   "metadata": {},
   "outputs": [
    {
     "data": {
      "text/html": [
       "<div>\n",
       "<style scoped>\n",
       "    .dataframe tbody tr th:only-of-type {\n",
       "        vertical-align: middle;\n",
       "    }\n",
       "\n",
       "    .dataframe tbody tr th {\n",
       "        vertical-align: top;\n",
       "    }\n",
       "\n",
       "    .dataframe thead th {\n",
       "        text-align: right;\n",
       "    }\n",
       "</style>\n",
       "<table border=\"1\" class=\"dataframe\">\n",
       "  <thead>\n",
       "    <tr style=\"text-align: right;\">\n",
       "      <th></th>\n",
       "      <th>City_ID</th>\n",
       "      <th>Class_1</th>\n",
       "      <th>Class_2</th>\n",
       "      <th>Class_3</th>\n",
       "      <th>Class_4</th>\n",
       "      <th>Class_5</th>\n",
       "    </tr>\n",
       "  </thead>\n",
       "  <tbody>\n",
       "    <tr>\n",
       "      <th>0</th>\n",
       "      <td>London</td>\n",
       "      <td>0.2</td>\n",
       "      <td>0.2</td>\n",
       "      <td>0.2</td>\n",
       "      <td>0.2</td>\n",
       "      <td>0.2</td>\n",
       "    </tr>\n",
       "    <tr>\n",
       "      <th>1</th>\n",
       "      <td>Paris</td>\n",
       "      <td>0.316</td>\n",
       "      <td>0.387</td>\n",
       "      <td>0.1</td>\n",
       "      <td>0.096</td>\n",
       "      <td>0.101</td>\n",
       "    </tr>\n",
       "    <tr>\n",
       "      <th>2</th>\n",
       "      <td>Lisbon</td>\n",
       "      <td>0.407</td>\n",
       "      <td>0.267</td>\n",
       "      <td>0.296</td>\n",
       "      <td>0.016</td>\n",
       "      <td>0.014</td>\n",
       "    </tr>\n",
       "    <tr>\n",
       "      <th>3</th>\n",
       "      <td>Malaga</td>\n",
       "      <td>0.034</td>\n",
       "      <td>0.178</td>\n",
       "      <td>0.756</td>\n",
       "      <td>0.008</td>\n",
       "      <td>0.024</td>\n",
       "    </tr>\n",
       "    <tr>\n",
       "      <th>4</th>\n",
       "      <td>Oslo</td>\n",
       "      <td>0.081</td>\n",
       "      <td>0.806</td>\n",
       "      <td>0.038</td>\n",
       "      <td>0.047</td>\n",
       "      <td>0.028</td>\n",
       "    </tr>\n",
       "  </tbody>\n",
       "</table>\n",
       "</div>"
      ],
      "text/plain": [
       "  City_ID Class_1 Class_2 Class_3 Class_4 Class_5\n",
       "0  London     0.2     0.2     0.2     0.2     0.2\n",
       "1   Paris   0.316   0.387     0.1   0.096   0.101\n",
       "2  Lisbon   0.407   0.267   0.296   0.016   0.014\n",
       "3  Malaga   0.034   0.178   0.756   0.008   0.024\n",
       "4    Oslo   0.081   0.806   0.038   0.047   0.028"
      ]
     },
     "execution_count": 6,
     "metadata": {},
     "output_type": "execute_result"
    }
   ],
   "source": [
    "df.head()"
   ]
  },
  {
   "cell_type": "code",
   "execution_count": 7,
   "id": "f412a98c-19f0-4d1c-9bba-124e3c66ac64",
   "metadata": {},
   "outputs": [],
   "source": [
    "X = df.copy()\n",
    "y = df['City_ID']\n",
    "X.drop(['City_ID'], axis=1, inplace=True)"
   ]
  },
  {
   "cell_type": "markdown",
   "id": "02141033-5817-446b-90f3-5c3a0a59d787",
   "metadata": {},
   "source": [
    "# K-Means call with Elbow method"
   ]
  },
  {
   "cell_type": "markdown",
   "id": "46fb2662-e1a0-4387-84c3-0de2ba1280b5",
   "metadata": {},
   "source": [
    "To define the optimal K"
   ]
  },
  {
   "cell_type": "code",
   "execution_count": 9,
   "id": "f2fb9cb6-86ba-45de-bc4f-2c3d5dc85d03",
   "metadata": {},
   "outputs": [
    {
     "data": {
      "image/png": "[encoded data removed]",
      "text/plain": [
       "<Figure size 640x480 with 1 Axes>"
      ]
     },
     "metadata": {},
     "output_type": "display_data"
    }
   ],
   "source": [
    "cs = []\n",
    "max = 15\n",
    "for i in range(1, max):\n",
    "    kmeans = KMeans(n_clusters = i, init = 'k-means++', max_iter = 300, n_init = 10, random_state = 0)\n",
    "    kmeans.fit(X)\n",
    "    cs.append(kmeans.inertia_)\n",
    "plt.plot(range(1, max), cs)\n",
    "plt.title('The Elbow Method')\n",
    "plt.xlabel('Number of clusters')\n",
    "plt.ylabel('CS')\n",
    "plt.show()"
   ]
  },
  {
   "cell_type": "markdown",
   "id": "ea26f28b-3344-4409-bee0-8cb16add4afd",
   "metadata": {},
   "source": [
    "# Use k= 4 "
   ]
  },
  {
   "cell_type": "code",
   "execution_count": 10,
   "id": "10960af7-e435-4f85-8ad1-ee3a35102040",
   "metadata": {},
   "outputs": [
    {
     "data": {
      "text/html": [
       "<style>#sk-container-id-1 {color: black;background-color: white;}#sk-container-id-1 pre{padding: 0;}#sk-container-id-1 div.sk-toggleable {background-color: white;}#sk-container-id-1 label.sk-toggleable__label {cursor: pointer;display: block;width: 100%;margin-bottom: 0;padding: 0.3em;box-sizing: border-box;text-align: center;}#sk-container-id-1 label.sk-toggleable__label-arrow:before {content: \"▸\";float: left;margin-right: 0.25em;color: #696969;}#sk-container-id-1 label.sk-toggleable__label-arrow:hover:before {color: black;}#sk-container-id-1 div.sk-estimator:hover label.sk-toggleable__label-arrow:before {color: black;}#sk-container-id-1 div.sk-toggleable__content {max-height: 0;max-width: 0;overflow: hidden;text-align: left;background-color: #f0f8ff;}#sk-container-id-1 div.sk-toggleable__content pre {margin: 0.2em;color: black;border-radius: 0.25em;background-color: #f0f8ff;}#sk-container-id-1 input.sk-toggleable__control:checked~div.sk-toggleable__content {max-height: 200px;max-width: 100%;overflow: auto;}#sk-container-id-1 input.sk-toggleable__control:checked~label.sk-toggleable__label-arrow:before {content: \"▾\";}#sk-container-id-1 div.sk-estimator input.sk-toggleable__control:checked~label.sk-toggleable__label {background-color: #d4ebff;}#sk-container-id-1 div.sk-label input.sk-toggleable__control:checked~label.sk-toggleable__label {background-color: #d4ebff;}#sk-container-id-1 input.sk-hidden--visually {border: 0;clip: rect(1px 1px 1px 1px);clip: rect(1px, 1px, 1px, 1px);height: 1px;margin: -1px;overflow: hidden;padding: 0;position: absolute;width: 1px;}#sk-container-id-1 div.sk-estimator {font-family: monospace;background-color: #f0f8ff;border: 1px dotted black;border-radius: 0.25em;box-sizing: border-box;margin-bottom: 0.5em;}#sk-container-id-1 div.sk-estimator:hover {background-color: #d4ebff;}#sk-container-id-1 div.sk-parallel-item::after {content: \"\";width: 100%;border-bottom: 1px solid gray;flex-grow: 1;}#sk-container-id-1 div.sk-label:hover label.sk-toggleable__label {background-color: #d4ebff;}#sk-container-id-1 div.sk-serial::before {content: \"\";position: absolute;border-left: 1px solid gray;box-sizing: border-box;top: 0;bottom: 0;left: 50%;z-index: 0;}#sk-container-id-1 div.sk-serial {display: flex;flex-direction: column;align-items: center;background-color: white;padding-right: 0.2em;padding-left: 0.2em;position: relative;}#sk-container-id-1 div.sk-item {position: relative;z-index: 1;}#sk-container-id-1 div.sk-parallel {display: flex;align-items: stretch;justify-content: center;background-color: white;position: relative;}#sk-container-id-1 div.sk-item::before, #sk-container-id-1 div.sk-parallel-item::before {content: \"\";position: absolute;border-left: 1px solid gray;box-sizing: border-box;top: 0;bottom: 0;left: 50%;z-index: -1;}#sk-container-id-1 div.sk-parallel-item {display: flex;flex-direction: column;z-index: 1;position: relative;background-color: white;}#sk-container-id-1 div.sk-parallel-item:first-child::after {align-self: flex-end;width: 50%;}#sk-container-id-1 div.sk-parallel-item:last-child::after {align-self: flex-start;width: 50%;}#sk-container-id-1 div.sk-parallel-item:only-child::after {width: 0;}#sk-container-id-1 div.sk-dashed-wrapped {border: 1px dashed gray;margin: 0 0.4em 0.5em 0.4em;box-sizing: border-box;padding-bottom: 0.4em;background-color: white;}#sk-container-id-1 div.sk-label label {font-family: monospace;font-weight: bold;display: inline-block;line-height: 1.2em;}#sk-container-id-1 div.sk-label-container {text-align: center;}#sk-container-id-1 div.sk-container {/* jupyter's `normalize.less` sets `[hidden] { display: none; }` but bootstrap.min.css set `[hidden] { display: none !important; }` so we also need the `!important` here to be able to override the default hidden behavior on the sphinx rendered scikit-learn.org. See: https://github.com/scikit-learn/scikit-learn/issues/21755 */display: inline-block !important;position: relative;}#sk-container-id-1 div.sk-text-repr-fallback {display: none;}</style><div id=\"sk-container-id-1\" class=\"sk-top-container\"><div class=\"sk-text-repr-fallback\"><pre>KMeans(n_clusters=4, n_init=10, random_state=0)</pre><b>In a Jupyter environment, please rerun this cell to show the HTML representation or trust the notebook. <br />On GitHub, the HTML representation is unable to render, please try loading this page with nbviewer.org.</b></div><div class=\"sk-container\" hidden><div class=\"sk-item\"><div class=\"sk-estimator sk-toggleable\"><input class=\"sk-toggleable__control sk-hidden--visually\" id=\"sk-estimator-id-1\" type=\"checkbox\" checked><label for=\"sk-estimator-id-1\" class=\"sk-toggleable__label sk-toggleable__label-arrow\">KMeans</label><div class=\"sk-toggleable__content\"><pre>KMeans(n_clusters=4, n_init=10, random_state=0)</pre></div></div></div></div></div>"
      ],
      "text/plain": [
       "KMeans(n_clusters=4, n_init=10, random_state=0)"
      ]
     },
     "execution_count": 10,
     "metadata": {},
     "output_type": "execute_result"
    }
   ],
   "source": [
    "k = 4\n",
    "kmeans = KMeans(n_clusters = k, init = 'k-means++', max_iter = 300, n_init = 10, random_state = 0)\n",
    "kmeans.fit(X)"
   ]
  },
  {
   "cell_type": "markdown",
   "id": "8fe57bbc-c63e-46f9-a07a-cffd9654f4ab",
   "metadata": {},
   "source": [
    "# Statistics"
   ]
  },
  {
   "cell_type": "markdown",
   "id": "7f5a592e-b025-4805-a597-ffd70d3366e8",
   "metadata": {},
   "source": [
    "Insertia (example: https://www.codecademy.com/learn/machine-learning/modules/dspath-clustering/cheatsheet)"
   ]
  },
  {
   "cell_type": "code",
   "execution_count": 12,
   "id": "8d1e8f5c-4fdd-487c-9ea3-6c9e48e55c95",
   "metadata": {},
   "outputs": [
    {
     "name": "stdout",
     "output_type": "stream",
     "text": [
      "Inertia:  1.1339788952380951\n",
      "Number of clusters:  4\n",
      "Label per Data Point:  [3 1 3 3 1 3 1 3 1 1 3 2 0 0 2 0 3 0 0 2]\n"
     ]
    }
   ],
   "source": [
    "print(\"Inertia: \", kmeans.inertia_)\n",
    "print(\"Number of clusters: \", kmeans.n_clusters)\n",
    "print(\"Label per Data Point: \", kmeans.labels_)"
   ]
  },
  {
   "cell_type": "markdown",
   "id": "f319bc5b-44c4-49d1-9539-5755d972d97a",
   "metadata": {},
   "source": [
    "# Print every cluster"
   ]
  },
  {
   "cell_type": "code",
   "execution_count": 14,
   "id": "effa07ce-5e08-4a22-a057-60dda0e73e09",
   "metadata": {},
   "outputs": [
    {
     "name": "stdout",
     "output_type": "stream",
     "text": [
      "Elements in cluster  0  are:  ['Berlin' 'Budapest' 'Monaco' 'Zagreb' 'Amsterdam']\n",
      "Elements in cluster  1  are:  ['Paris' 'Oslo' 'Madrid' 'London' 'Helsenki']\n",
      "Elements in cluster  2  are:  ['Athens' 'Rome' 'Vienna']\n",
      "Elements in cluster  3  are:  ['London' 'Lisbon' 'Malaga' 'Montpellier' 'Luxembourg' 'Kiev' 'Copenhagen']\n"
     ]
    }
   ],
   "source": [
    "labels = np.array(kmeans.labels_)\n",
    "clusters = []\n",
    "cities = np.array(y)\n",
    "for i in range(k):\n",
    "    a = cities[np.where(labels == i)]\n",
    "    clusters.append(a)\n",
    "    print(\"Elements in cluster \", i, \" are: \", a)"
   ]
  },
  {
   "cell_type": "code",
   "execution_count": 15,
   "id": "2b42d5bf-4d36-4b77-8d72-756a4233a70e",
   "metadata": {},
   "outputs": [
    {
     "data": {
      "text/plain": [
       "[array(['Berlin', 'Budapest', 'Monaco', 'Zagreb', 'Amsterdam'],\n",
       "       dtype=object),\n",
       " array(['Paris', 'Oslo', 'Madrid', 'London', 'Helsenki'], dtype=object),\n",
       " array(['Athens', 'Rome', 'Vienna'], dtype=object),\n",
       " array(['London', 'Lisbon', 'Malaga', 'Montpellier', 'Luxembourg', 'Kiev',\n",
       "        'Copenhagen'], dtype=object)]"
      ]
     },
     "execution_count": 15,
     "metadata": {},
     "output_type": "execute_result"
    }
   ],
   "source": [
    "clusters"
   ]
  },
  {
   "cell_type": "code",
   "execution_count": null,
   "id": "a70bb925-6c3c-4dd2-9d03-93073db0a7d4",
   "metadata": {},
   "outputs": [],
   "source": []
  }
 ],
 "metadata": {
  "kernelspec": {
   "display_name": "fairicube-edc-2022.10-14",
   "language": "python",
   "name": "conda-env-fairicube-edc-2022.10-14-py"
  },
  "language_info": {
   "codemirror_mode": {
    "name": "ipython",
    "version": 3
   },
   "file_extension": ".py",
   "mimetype": "text/x-python",
   "name": "python",
   "nbconvert_exporter": "python",
   "pygments_lexer": "ipython3",
   "version": "3.9.15"
  }
 },
 "nbformat": 4,
 "nbformat_minor": 5
}
