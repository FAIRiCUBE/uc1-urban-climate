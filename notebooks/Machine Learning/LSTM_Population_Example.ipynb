{
 "cells": [
  {
   "cell_type": "markdown",
   "id": "5db74a7e",
   "metadata": {},
   "source": [
    "# LSTM (Long Short Term Memory) model for population forcasting\n",
    "Used for gap filling in this case"
   ]
  },
  {
   "cell_type": "code",
   "execution_count": 214,
   "id": "5b8c0c3c",
   "metadata": {},
   "outputs": [],
   "source": [
    "import numpy as np\n",
    "import pandas as pd\n",
    "from sklearn.model_selection import train_test_split\n",
    "from sklearn.preprocessing import MinMaxScaler\n",
    "from keras.models import Sequential\n",
    "from keras.layers import LSTM, Dense, Dropout\n",
    "import math\n",
    "import matplotlib.pyplot as plt"
   ]
  },
  {
   "cell_type": "markdown",
   "id": "6822cfcf",
   "metadata": {},
   "source": [
    "## Upload data"
   ]
  },
  {
   "cell_type": "code",
   "execution_count": 215,
   "id": "94dde18d",
   "metadata": {},
   "outputs": [
    {
     "data": {
      "text/html": [
       "<div>\n",
       "<style scoped>\n",
       "    .dataframe tbody tr th:only-of-type {\n",
       "        vertical-align: middle;\n",
       "    }\n",
       "\n",
       "    .dataframe tbody tr th {\n",
       "        vertical-align: top;\n",
       "    }\n",
       "\n",
       "    .dataframe thead th {\n",
       "        text-align: right;\n",
       "    }\n",
       "</style>\n",
       "<table border=\"1\" class=\"dataframe\">\n",
       "  <thead>\n",
       "    <tr style=\"text-align: right;\">\n",
       "      <th></th>\n",
       "      <th>index</th>\n",
       "      <th>indic_code</th>\n",
       "      <th>urau_code</th>\n",
       "      <th>1991</th>\n",
       "      <th>1992</th>\n",
       "      <th>1993</th>\n",
       "      <th>1994</th>\n",
       "      <th>1995</th>\n",
       "      <th>1996</th>\n",
       "      <th>1997</th>\n",
       "      <th>...</th>\n",
       "      <th>2012</th>\n",
       "      <th>2013</th>\n",
       "      <th>2014</th>\n",
       "      <th>2015</th>\n",
       "      <th>2016</th>\n",
       "      <th>2017</th>\n",
       "      <th>2018</th>\n",
       "      <th>2019</th>\n",
       "      <th>2020</th>\n",
       "      <th>2021</th>\n",
       "    </tr>\n",
       "  </thead>\n",
       "  <tbody>\n",
       "    <tr>\n",
       "      <th>0</th>\n",
       "      <td>7</td>\n",
       "      <td>DE1001V</td>\n",
       "      <td>BE</td>\n",
       "      <td>9986975.0</td>\n",
       "      <td>10021997.0</td>\n",
       "      <td>10068319.0</td>\n",
       "      <td>10100631.0</td>\n",
       "      <td>10130574.0</td>\n",
       "      <td>10143047.0</td>\n",
       "      <td>10170226.0</td>\n",
       "      <td>...</td>\n",
       "      <td>11094850.0</td>\n",
       "      <td>11161642.0</td>\n",
       "      <td>11203992.0</td>\n",
       "      <td>11258434.0</td>\n",
       "      <td>11307192.0</td>\n",
       "      <td>11351727.0</td>\n",
       "      <td>11398589.0</td>\n",
       "      <td>11455519.0</td>\n",
       "      <td>11522440.0</td>\n",
       "      <td>11554767.0</td>\n",
       "    </tr>\n",
       "    <tr>\n",
       "      <th>1</th>\n",
       "      <td>8</td>\n",
       "      <td>DE1001V</td>\n",
       "      <td>BE001C</td>\n",
       "      <td>954045.0</td>\n",
       "      <td>951217.0</td>\n",
       "      <td>950339.0</td>\n",
       "      <td>949070.0</td>\n",
       "      <td>951580.0</td>\n",
       "      <td>948122.0</td>\n",
       "      <td>950597.0</td>\n",
       "      <td>...</td>\n",
       "      <td>1159448.0</td>\n",
       "      <td>1174624.0</td>\n",
       "      <td>1183841.0</td>\n",
       "      <td>1196831.0</td>\n",
       "      <td>1201129.0</td>\n",
       "      <td>1199095.0</td>\n",
       "      <td>1205492.0</td>\n",
       "      <td>1215289.0</td>\n",
       "      <td>1223364.0</td>\n",
       "      <td>1226329.0</td>\n",
       "    </tr>\n",
       "    <tr>\n",
       "      <th>2</th>\n",
       "      <td>9</td>\n",
       "      <td>DE1001V</td>\n",
       "      <td>BE002C</td>\n",
       "      <td>467518.0</td>\n",
       "      <td>465783.0</td>\n",
       "      <td>465102.0</td>\n",
       "      <td>462880.0</td>\n",
       "      <td>459072.0</td>\n",
       "      <td>455852.0</td>\n",
       "      <td>453030.0</td>\n",
       "      <td>...</td>\n",
       "      <td>507368.0</td>\n",
       "      <td>512230.0</td>\n",
       "      <td>513915.0</td>\n",
       "      <td>515593.0</td>\n",
       "      <td>517731.0</td>\n",
       "      <td>520859.0</td>\n",
       "      <td>523591.0</td>\n",
       "      <td>526439.0</td>\n",
       "      <td>530014.0</td>\n",
       "      <td>530627.0</td>\n",
       "    </tr>\n",
       "    <tr>\n",
       "      <th>3</th>\n",
       "      <td>10</td>\n",
       "      <td>DE1001V</td>\n",
       "      <td>BE003C</td>\n",
       "      <td>230246.0</td>\n",
       "      <td>230232.0</td>\n",
       "      <td>229821.0</td>\n",
       "      <td>228490.0</td>\n",
       "      <td>227483.0</td>\n",
       "      <td>226464.0</td>\n",
       "      <td>225469.0</td>\n",
       "      <td>...</td>\n",
       "      <td>249205.0</td>\n",
       "      <td>249754.0</td>\n",
       "      <td>251984.0</td>\n",
       "      <td>253914.0</td>\n",
       "      <td>257226.0</td>\n",
       "      <td>259462.0</td>\n",
       "      <td>260329.0</td>\n",
       "      <td>262205.0</td>\n",
       "      <td>263687.0</td>\n",
       "      <td>264019.0</td>\n",
       "    </tr>\n",
       "    <tr>\n",
       "      <th>4</th>\n",
       "      <td>11</td>\n",
       "      <td>DE1001V</td>\n",
       "      <td>BE004C</td>\n",
       "      <td>206214.0</td>\n",
       "      <td>206903.0</td>\n",
       "      <td>207045.0</td>\n",
       "      <td>206898.0</td>\n",
       "      <td>206491.0</td>\n",
       "      <td>205591.0</td>\n",
       "      <td>204899.0</td>\n",
       "      <td>...</td>\n",
       "      <td>204762.0</td>\n",
       "      <td>204826.0</td>\n",
       "      <td>203640.0</td>\n",
       "      <td>203228.0</td>\n",
       "      <td>202602.0</td>\n",
       "      <td>201884.0</td>\n",
       "      <td>202341.0</td>\n",
       "      <td>202637.0</td>\n",
       "      <td>203314.0</td>\n",
       "      <td>238412.0</td>\n",
       "    </tr>\n",
       "  </tbody>\n",
       "</table>\n",
       "<p>5 rows × 34 columns</p>\n",
       "</div>"
      ],
      "text/plain": [
       "   index indic_code urau_code       1991        1992        1993        1994  \\\n",
       "0      7    DE1001V        BE  9986975.0  10021997.0  10068319.0  10100631.0   \n",
       "1      8    DE1001V    BE001C   954045.0    951217.0    950339.0    949070.0   \n",
       "2      9    DE1001V    BE002C   467518.0    465783.0    465102.0    462880.0   \n",
       "3     10    DE1001V    BE003C   230246.0    230232.0    229821.0    228490.0   \n",
       "4     11    DE1001V    BE004C   206214.0    206903.0    207045.0    206898.0   \n",
       "\n",
       "         1995        1996        1997  ...        2012        2013  \\\n",
       "0  10130574.0  10143047.0  10170226.0  ...  11094850.0  11161642.0   \n",
       "1    951580.0    948122.0    950597.0  ...   1159448.0   1174624.0   \n",
       "2    459072.0    455852.0    453030.0  ...    507368.0    512230.0   \n",
       "3    227483.0    226464.0    225469.0  ...    249205.0    249754.0   \n",
       "4    206491.0    205591.0    204899.0  ...    204762.0    204826.0   \n",
       "\n",
       "         2014        2015        2016        2017        2018        2019  \\\n",
       "0  11203992.0  11258434.0  11307192.0  11351727.0  11398589.0  11455519.0   \n",
       "1   1183841.0   1196831.0   1201129.0   1199095.0   1205492.0   1215289.0   \n",
       "2    513915.0    515593.0    517731.0    520859.0    523591.0    526439.0   \n",
       "3    251984.0    253914.0    257226.0    259462.0    260329.0    262205.0   \n",
       "4    203640.0    203228.0    202602.0    201884.0    202341.0    202637.0   \n",
       "\n",
       "         2020        2021  \n",
       "0  11522440.0  11554767.0  \n",
       "1   1223364.0   1226329.0  \n",
       "2    530014.0    530627.0  \n",
       "3    263687.0    264019.0  \n",
       "4    203314.0    238412.0  \n",
       "\n",
       "[5 rows x 34 columns]"
      ]
     },
     "execution_count": 215,
     "metadata": {},
     "output_type": "execute_result"
    }
   ],
   "source": [
    "data = pd.read_csv('CompleteData.csv')\n",
    "data.head()"
   ]
  },
  {
   "cell_type": "markdown",
   "id": "61dac1e6",
   "metadata": {},
   "source": [
    "## Select one country/city "
   ]
  },
  {
   "cell_type": "code",
   "execution_count": 216,
   "id": "286791b4",
   "metadata": {},
   "outputs": [],
   "source": [
    "city_index = 13\n",
    "population_timeSeries = data.iloc[city_index]"
   ]
  },
  {
   "cell_type": "markdown",
   "id": "5a7062fb",
   "metadata": {},
   "source": [
    "## Drop non relevant columns + reshape"
   ]
  },
  {
   "cell_type": "code",
   "execution_count": 217,
   "id": "a274007c",
   "metadata": {},
   "outputs": [],
   "source": [
    "population_timeSeries= population_timeSeries.drop(['index', 'indic_code', 'urau_code'])\n",
    "population_data = population_timeSeries.values.reshape(-1, 1)"
   ]
  },
  {
   "cell_type": "markdown",
   "id": "d272cc78",
   "metadata": {},
   "source": [
    "## Normalize the data to a range of (0, 1)\n"
   ]
  },
  {
   "cell_type": "code",
   "execution_count": 218,
   "id": "a0d9b139",
   "metadata": {},
   "outputs": [],
   "source": [
    "scaler = MinMaxScaler(feature_range=(0, 1))\n",
    "population_data_scaled = scaler.fit_transform(population_data)"
   ]
  },
  {
   "cell_type": "markdown",
   "id": "76212c89",
   "metadata": {},
   "source": [
    "## Split the data into training and testing sets"
   ]
  },
  {
   "cell_type": "code",
   "execution_count": 219,
   "id": "ceea3660",
   "metadata": {},
   "outputs": [],
   "source": [
    "train_size = int(len(population_data_scaled) * 0.7)  # 70% for training, 30% for testing\n",
    "train_data, test_data = population_data_scaled[:train_size], population_data_scaled[train_size:]"
   ]
  },
  {
   "cell_type": "markdown",
   "id": "1762b4ec",
   "metadata": {},
   "source": [
    "## Create sequences for training/testing"
   ]
  },
  {
   "cell_type": "code",
   "execution_count": 220,
   "id": "742cca8a",
   "metadata": {},
   "outputs": [],
   "source": [
    "# Function to create input sequences and corresponding outputs for LSTM\n",
    "def create_sequences(data, seq_length):\n",
    "    X, y = [], []\n",
    "    for i in range(len(data) - seq_length):\n",
    "        X.append(data[i : i + seq_length])\n",
    "        y.append(data[i + seq_length])\n",
    "    return np.array(X), np.array(y)"
   ]
  },
  {
   "cell_type": "code",
   "execution_count": 221,
   "id": "14d2c713",
   "metadata": {},
   "outputs": [],
   "source": [
    "# Define the sequence length (number of time steps to look back)\n",
    "sequence_length = 3\n",
    "# Create sequences for LSTM\n",
    "X_train, y_train = create_sequences(train_data, sequence_length)\n",
    "X_test, y_test = create_sequences(test_data, sequence_length)\n",
    "\n",
    "# Reshape the input data for LSTM (samples, time steps, features)\n",
    "X_train = np.reshape(X_train, (X_train.shape[0], X_train.shape[1], 1))\n",
    "X_test = np.reshape(X_test, (X_test.shape[0], X_test.shape[1], 1))"
   ]
  },
  {
   "cell_type": "code",
   "execution_count": 222,
   "id": "8d79f62d",
   "metadata": {},
   "outputs": [],
   "source": [
    "## Create the LSTM model"
   ]
  },
  {
   "cell_type": "code",
   "execution_count": 223,
   "id": "796c3cf0",
   "metadata": {},
   "outputs": [
    {
     "name": "stdout",
     "output_type": "stream",
     "text": [
      "Model: \"sequential_11\"\n",
      "_________________________________________________________________\n",
      " Layer (type)                Output Shape              Param #   \n",
      "=================================================================\n",
      " lstm_11 (LSTM)              (None, 50)                10400     \n",
      "                                                                 \n",
      " dropout_5 (Dropout)         (None, 50)                0         \n",
      "                                                                 \n",
      " dense_11 (Dense)            (None, 1)                 51        \n",
      "                                                                 \n",
      "=================================================================\n",
      "Total params: 10,451\n",
      "Trainable params: 10,451\n",
      "Non-trainable params: 0\n",
      "_________________________________________________________________\n",
      "None\n"
     ]
    }
   ],
   "source": [
    "model = Sequential()\n",
    "model.add(LSTM(50, input_shape=(sequence_length, 1)))  # 50 LSTM units\n",
    "model.add(Dropout(0.2))\n",
    "model.add(Dense(1))  # Output layer with 1 unit\n",
    "# Compile the model\n",
    "model.compile(loss='mean_squared_error', optimizer='adam')\n",
    "# Print model summary\n",
    "print(model.summary())"
   ]
  },
  {
   "cell_type": "markdown",
   "id": "ed1f2365",
   "metadata": {},
   "source": [
    "## Train the model"
   ]
  },
  {
   "cell_type": "code",
   "execution_count": 224,
   "id": "478d5146",
   "metadata": {},
   "outputs": [
    {
     "name": "stdout",
     "output_type": "stream",
     "text": [
      "Epoch 1/100\n",
      "5/5 [==============================] - 3s 5ms/step - loss: 0.1081\n",
      "Epoch 2/100\n",
      "5/5 [==============================] - 0s 5ms/step - loss: 0.0793\n",
      "Epoch 3/100\n",
      "5/5 [==============================] - 0s 6ms/step - loss: 0.0549\n",
      "Epoch 4/100\n",
      "5/5 [==============================] - 0s 5ms/step - loss: 0.0397\n",
      "Epoch 5/100\n",
      "5/5 [==============================] - 0s 5ms/step - loss: 0.0209\n",
      "Epoch 6/100\n",
      "5/5 [==============================] - 0s 6ms/step - loss: 0.0136\n",
      "Epoch 7/100\n",
      "5/5 [==============================] - 0s 4ms/step - loss: 0.0074\n",
      "Epoch 8/100\n",
      "5/5 [==============================] - 0s 4ms/step - loss: 0.0082\n",
      "Epoch 9/100\n",
      "5/5 [==============================] - 0s 6ms/step - loss: 0.0057\n",
      "Epoch 10/100\n",
      "5/5 [==============================] - 0s 5ms/step - loss: 0.0083\n",
      "Epoch 11/100\n",
      "5/5 [==============================] - 0s 4ms/step - loss: 0.0054\n",
      "Epoch 12/100\n",
      "5/5 [==============================] - 0s 3ms/step - loss: 0.0053\n",
      "Epoch 13/100\n",
      "5/5 [==============================] - 0s 3ms/step - loss: 0.0049\n",
      "Epoch 14/100\n",
      "5/5 [==============================] - 0s 4ms/step - loss: 0.0044\n",
      "Epoch 15/100\n",
      "5/5 [==============================] - 0s 5ms/step - loss: 0.0049\n",
      "Epoch 16/100\n",
      "5/5 [==============================] - 0s 5ms/step - loss: 0.0044\n",
      "Epoch 17/100\n",
      "5/5 [==============================] - 0s 5ms/step - loss: 0.0031\n",
      "Epoch 18/100\n",
      "5/5 [==============================] - 0s 4ms/step - loss: 0.0053\n",
      "Epoch 19/100\n",
      "5/5 [==============================] - 0s 6ms/step - loss: 0.0041\n",
      "Epoch 20/100\n",
      "5/5 [==============================] - 0s 4ms/step - loss: 0.0038\n",
      "Epoch 21/100\n",
      "5/5 [==============================] - 0s 7ms/step - loss: 0.0031\n",
      "Epoch 22/100\n",
      "5/5 [==============================] - 0s 4ms/step - loss: 0.0031\n",
      "Epoch 23/100\n",
      "5/5 [==============================] - 0s 6ms/step - loss: 0.0016\n",
      "Epoch 24/100\n",
      "5/5 [==============================] - 0s 5ms/step - loss: 0.0033\n",
      "Epoch 25/100\n",
      "5/5 [==============================] - 0s 5ms/step - loss: 0.0021\n",
      "Epoch 26/100\n",
      "5/5 [==============================] - 0s 6ms/step - loss: 0.0043\n",
      "Epoch 27/100\n",
      "5/5 [==============================] - 0s 4ms/step - loss: 0.0024\n",
      "Epoch 28/100\n",
      "5/5 [==============================] - 0s 6ms/step - loss: 0.0017\n",
      "Epoch 29/100\n",
      "5/5 [==============================] - 0s 6ms/step - loss: 0.0015\n",
      "Epoch 30/100\n",
      "5/5 [==============================] - 0s 6ms/step - loss: 0.0013\n",
      "Epoch 31/100\n",
      "5/5 [==============================] - 0s 6ms/step - loss: 0.0017\n",
      "Epoch 32/100\n",
      "5/5 [==============================] - 0s 5ms/step - loss: 0.0016\n",
      "Epoch 33/100\n",
      "5/5 [==============================] - 0s 5ms/step - loss: 0.0015\n",
      "Epoch 34/100\n",
      "5/5 [==============================] - 0s 8ms/step - loss: 0.0018\n",
      "Epoch 35/100\n",
      "5/5 [==============================] - 0s 8ms/step - loss: 0.0012\n",
      "Epoch 36/100\n",
      "5/5 [==============================] - 0s 9ms/step - loss: 0.0020\n",
      "Epoch 37/100\n",
      "5/5 [==============================] - 0s 12ms/step - loss: 6.5235e-04\n",
      "Epoch 38/100\n",
      "5/5 [==============================] - 0s 10ms/step - loss: 0.0011\n",
      "Epoch 39/100\n",
      "5/5 [==============================] - 0s 10ms/step - loss: 0.0023\n",
      "Epoch 40/100\n",
      "5/5 [==============================] - 0s 9ms/step - loss: 0.0013\n",
      "Epoch 41/100\n",
      "5/5 [==============================] - 0s 10ms/step - loss: 9.1326e-04\n",
      "Epoch 42/100\n",
      "5/5 [==============================] - 0s 8ms/step - loss: 0.0015\n",
      "Epoch 43/100\n",
      "5/5 [==============================] - 0s 9ms/step - loss: 0.0018\n",
      "Epoch 44/100\n",
      "5/5 [==============================] - 0s 12ms/step - loss: 8.5203e-04\n",
      "Epoch 45/100\n",
      "5/5 [==============================] - 0s 8ms/step - loss: 0.0016\n",
      "Epoch 46/100\n",
      "5/5 [==============================] - 0s 9ms/step - loss: 0.0011\n",
      "Epoch 47/100\n",
      "5/5 [==============================] - 0s 9ms/step - loss: 7.5226e-04\n",
      "Epoch 48/100\n",
      "5/5 [==============================] - 0s 8ms/step - loss: 8.3640e-04\n",
      "Epoch 49/100\n",
      "5/5 [==============================] - 0s 10ms/step - loss: 0.0011\n",
      "Epoch 50/100\n",
      "5/5 [==============================] - 0s 10ms/step - loss: 7.6323e-04\n",
      "Epoch 51/100\n",
      "5/5 [==============================] - 0s 8ms/step - loss: 0.0015\n",
      "Epoch 52/100\n",
      "5/5 [==============================] - 0s 6ms/step - loss: 7.2681e-04\n",
      "Epoch 53/100\n",
      "5/5 [==============================] - 0s 8ms/step - loss: 9.8353e-04\n",
      "Epoch 54/100\n",
      "5/5 [==============================] - 0s 8ms/step - loss: 0.0010\n",
      "Epoch 55/100\n",
      "5/5 [==============================] - 0s 8ms/step - loss: 9.9450e-04\n",
      "Epoch 56/100\n",
      "5/5 [==============================] - 0s 7ms/step - loss: 0.0014\n",
      "Epoch 57/100\n",
      "5/5 [==============================] - 0s 8ms/step - loss: 4.7225e-04\n",
      "Epoch 58/100\n",
      "5/5 [==============================] - 0s 8ms/step - loss: 0.0013\n",
      "Epoch 59/100\n",
      "5/5 [==============================] - 0s 9ms/step - loss: 0.0019\n",
      "Epoch 60/100\n",
      "5/5 [==============================] - 0s 8ms/step - loss: 9.9840e-04\n",
      "Epoch 61/100\n",
      "5/5 [==============================] - 0s 7ms/step - loss: 0.0011\n",
      "Epoch 62/100\n",
      "5/5 [==============================] - 0s 8ms/step - loss: 5.6163e-04\n",
      "Epoch 63/100\n",
      "5/5 [==============================] - 0s 8ms/step - loss: 8.5773e-04\n",
      "Epoch 64/100\n",
      "5/5 [==============================] - 0s 8ms/step - loss: 0.0015\n",
      "Epoch 65/100\n",
      "5/5 [==============================] - 0s 8ms/step - loss: 6.0492e-04\n",
      "Epoch 66/100\n",
      "5/5 [==============================] - 0s 8ms/step - loss: 6.4380e-04\n",
      "Epoch 67/100\n",
      "5/5 [==============================] - 0s 8ms/step - loss: 3.8959e-04\n",
      "Epoch 68/100\n",
      "5/5 [==============================] - 0s 8ms/step - loss: 9.7023e-04\n",
      "Epoch 69/100\n",
      "5/5 [==============================] - 0s 6ms/step - loss: 8.2356e-04\n",
      "Epoch 70/100\n",
      "5/5 [==============================] - 0s 6ms/step - loss: 6.1503e-04\n",
      "Epoch 71/100\n",
      "5/5 [==============================] - 0s 8ms/step - loss: 6.1568e-04\n",
      "Epoch 72/100\n",
      "5/5 [==============================] - 0s 6ms/step - loss: 0.0011\n",
      "Epoch 73/100\n",
      "5/5 [==============================] - 0s 7ms/step - loss: 2.9727e-04\n",
      "Epoch 74/100\n",
      "5/5 [==============================] - 0s 8ms/step - loss: 0.0023\n",
      "Epoch 75/100\n",
      "5/5 [==============================] - 0s 8ms/step - loss: 0.0013\n",
      "Epoch 76/100\n",
      "5/5 [==============================] - 0s 8ms/step - loss: 5.2165e-04\n",
      "Epoch 77/100\n",
      "5/5 [==============================] - 0s 8ms/step - loss: 9.2519e-04\n",
      "Epoch 78/100\n",
      "5/5 [==============================] - 0s 8ms/step - loss: 7.6860e-04\n",
      "Epoch 79/100\n",
      "5/5 [==============================] - 0s 10ms/step - loss: 5.6143e-04\n",
      "Epoch 80/100\n",
      "5/5 [==============================] - 0s 14ms/step - loss: 0.0013\n",
      "Epoch 81/100\n",
      "5/5 [==============================] - 0s 8ms/step - loss: 0.0012\n",
      "Epoch 82/100\n",
      "5/5 [==============================] - 0s 8ms/step - loss: 0.0013\n",
      "Epoch 83/100\n",
      "5/5 [==============================] - 0s 6ms/step - loss: 0.0018\n",
      "Epoch 84/100\n",
      "5/5 [==============================] - 0s 8ms/step - loss: 9.2620e-04\n",
      "Epoch 85/100\n",
      "5/5 [==============================] - 0s 9ms/step - loss: 0.0018\n",
      "Epoch 86/100\n",
      "5/5 [==============================] - 0s 8ms/step - loss: 6.4736e-04\n",
      "Epoch 87/100\n",
      "5/5 [==============================] - 0s 8ms/step - loss: 3.7224e-04\n",
      "Epoch 88/100\n",
      "5/5 [==============================] - 0s 8ms/step - loss: 0.0013\n",
      "Epoch 89/100\n",
      "5/5 [==============================] - 0s 9ms/step - loss: 0.0011\n",
      "Epoch 90/100\n",
      "5/5 [==============================] - 0s 6ms/step - loss: 6.7767e-04\n",
      "Epoch 91/100\n",
      "5/5 [==============================] - 0s 6ms/step - loss: 0.0015\n",
      "Epoch 92/100\n",
      "5/5 [==============================] - 0s 6ms/step - loss: 0.0013\n",
      "Epoch 93/100\n",
      "5/5 [==============================] - 0s 6ms/step - loss: 0.0010\n",
      "Epoch 94/100\n",
      "5/5 [==============================] - 0s 6ms/step - loss: 4.9600e-04\n",
      "Epoch 95/100\n",
      "5/5 [==============================] - 0s 7ms/step - loss: 4.1675e-04\n",
      "Epoch 96/100\n",
      "5/5 [==============================] - 0s 7ms/step - loss: 0.0012\n",
      "Epoch 97/100\n",
      "5/5 [==============================] - 0s 8ms/step - loss: 4.0962e-04\n",
      "Epoch 98/100\n",
      "5/5 [==============================] - 0s 7ms/step - loss: 6.2845e-04\n",
      "Epoch 99/100\n",
      "5/5 [==============================] - 0s 7ms/step - loss: 5.8939e-04\n",
      "Epoch 100/100\n",
      "5/5 [==============================] - 0s 6ms/step - loss: 7.0773e-04\n"
     ]
    },
    {
     "data": {
      "text/plain": [
       "<keras.callbacks.History at 0x19a99ebe7f0>"
      ]
     },
     "execution_count": 224,
     "metadata": {},
     "output_type": "execute_result"
    }
   ],
   "source": [
    "epochs = 100\n",
    "batch_size = 4\n",
    "model.fit(X_train, y_train, epochs=epochs, batch_size=batch_size, verbose=1)"
   ]
  },
  {
   "cell_type": "code",
   "execution_count": 225,
   "id": "279c94c7",
   "metadata": {},
   "outputs": [],
   "source": [
    "## Evaluate the model on both the training and testing data"
   ]
  },
  {
   "cell_type": "code",
   "execution_count": 226,
   "id": "3a8cd85d",
   "metadata": {},
   "outputs": [
    {
     "name": "stdout",
     "output_type": "stream",
     "text": [
      "1/1 [==============================] - 1s 761ms/step\n",
      "Mean Absolute Percentage Error (MAPE): 0.42%\n",
      "Root Mean Squared Percentage Error (RMSE): 1348.01\n"
     ]
    }
   ],
   "source": [
    "# Make predictions on the test data\n",
    "y_pred = model.predict(X_test)\n",
    "\n",
    "# Inverse transform the predictions to get actual population values\n",
    "y_pred_actual = scaler.inverse_transform(y_pred)\n",
    "y_test_actual = scaler.inverse_transform(y_test)\n",
    "\n",
    "# Calculate and print the Mean Absolute Percentage Error (MAPE) and RMSE\n",
    "mape = np.mean(np.abs((y_test_actual - y_pred_actual) / y_test_actual)) * 100\n",
    "rmse = math.sqrt(np.mean(np.abs((y_test_actual - y_pred_actual)**2)))\n",
    "\n",
    "print(f'Mean Absolute Percentage Error (MAPE): {mape:.2f}%')\n",
    "\n",
    "print(f'Root Mean Squared Percentage Error (RMSE): {rmse:.2f}')"
   ]
  },
  {
   "cell_type": "code",
   "execution_count": 227,
   "id": "80249dc1",
   "metadata": {},
   "outputs": [
    {
     "name": "stdout",
     "output_type": "stream",
     "text": [
      "1/1 [==============================] - 0s 47ms/step\n"
     ]
    }
   ],
   "source": [
    "# Make predictions on the training data\n",
    "y_pred_train = model.predict(X_train)\n",
    "y_pred_train_actual = scaler.inverse_transform(y_pred_train)\n",
    "y_train_actual = scaler.inverse_transform(y_train)"
   ]
  },
  {
   "cell_type": "markdown",
   "id": "ead33fbf",
   "metadata": {},
   "source": [
    "## Plot actual and predicted time series"
   ]
  },
  {
   "cell_type": "markdown",
   "id": "19b68003",
   "metadata": {},
   "source": [
    "### On Training data"
   ]
  },
  {
   "cell_type": "code",
   "execution_count": 211,
   "id": "787f5537",
   "metadata": {},
   "outputs": [
    {
     "data": {
      "image/png": "[encoded data removed]",
      "text/plain": [
       "<Figure size 1200x600 with 1 Axes>"
      ]
     },
     "metadata": {},
     "output_type": "display_data"
    }
   ],
   "source": [
    "x = range(1991, 2022)\n",
    "plt.figure(figsize=(12, 6))\n",
    "\n",
    "plt.plot(x[sequence_length:train_size], y_train_actual, label='Actual (Training)')\n",
    "plt.plot(x[sequence_length:train_size], y_pred_train_actual, label='Predicted (Training)')\n",
    "\n",
    "plt.xlabel('Year')\n",
    "plt.ylabel('Population')\n",
    "plt.title('Actual and Predicted Population Time Series')\n",
    "plt.legend()\n",
    "plt.grid(True)\n",
    "plt.show()"
   ]
  },
  {
   "cell_type": "markdown",
   "id": "e8571a2b",
   "metadata": {},
   "source": [
    "### On Testing data"
   ]
  },
  {
   "cell_type": "code",
   "execution_count": 213,
   "id": "68b1e620",
   "metadata": {},
   "outputs": [
    {
     "data": {
      "image/png": "[encoded data removed]",
      "text/plain": [
       "<Figure size 1200x600 with 1 Axes>"
      ]
     },
     "metadata": {},
     "output_type": "display_data"
    }
   ],
   "source": [
    "plt.figure(figsize=(12, 6))\n",
    "\n",
    "plt.plot(x[train_size+sequence_length:], y_test_actual, label='Actual (Testing)')\n",
    "plt.plot(x[train_size+sequence_length:], y_pred_actual, label='Predicted (Testing)')\n",
    "\n",
    "plt.xlabel('Year')\n",
    "plt.ylabel('Population')\n",
    "plt.title('Actual and Predicted Population Time Series')\n",
    "plt.legend()\n",
    "plt.grid(True)\n",
    "plt.show()"
   ]
  }
 ],
 "metadata": {
  "kernelspec": {
   "display_name": "Python 3 (ipykernel)",
   "language": "python",
   "name": "python3"
  },
  "language_info": {
   "codemirror_mode": {
    "name": "ipython",
    "version": 3
   },
   "file_extension": ".py",
   "mimetype": "text/x-python",
   "name": "python",
   "nbconvert_exporter": "python",
   "pygments_lexer": "ipython3",
   "version": "3.9.13"
  }
 },
 "nbformat": 4,
 "nbformat_minor": 5
}
