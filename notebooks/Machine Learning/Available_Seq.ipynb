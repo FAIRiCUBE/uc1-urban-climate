{
 "cells": [
  {
   "cell_type": "code",
   "execution_count": 1,
   "id": "f5216920",
   "metadata": {},
   "outputs": [
    {
     "name": "stderr",
     "output_type": "stream",
     "text": [
      "C:\\Users\\bbel\\AppData\\Local\\Programs\\Python\\Python39\\lib\\site-packages\\geopandas\\_compat.py:112: UserWarning: The Shapely GEOS version (3.10.1-CAPI-1.16.0) is incompatible with the GEOS version PyGEOS was compiled with (3.10.3-CAPI-1.16.1). Conversions between both will be slow.\n",
      "  warnings.warn(\n"
     ]
    }
   ],
   "source": [
    "import sqlite3\n",
    "import pandas as pd\n",
    "import geopandas as gpd\n",
    "import os\n",
    "import matplotlib.pyplot as plt\n",
    "import numpy \n",
    "city_cube  = 'C_urban_cube_sh.sqlite'"
   ]
  },
  {
   "cell_type": "code",
   "execution_count": 2,
   "id": "85510be3",
   "metadata": {},
   "outputs": [],
   "source": [
    "# get Eurostat number of population data\n",
    "con = sqlite3.connect(city_cube)\n",
    "# read full table\n",
    "df = pd.read_sql_query(\"SELECT * FROM c_urban_cube_eurostat\", con)"
   ]
  },
  {
   "cell_type": "markdown",
   "id": "297ee89c",
   "metadata": {},
   "source": [
    "## Functions"
   ]
  },
  {
   "cell_type": "markdown",
   "id": "e4c15dc1",
   "metadata": {},
   "source": [
    "### The first available year given a city/attribute"
   ]
  },
  {
   "cell_type": "code",
   "execution_count": 3,
   "id": "7bac9b0d",
   "metadata": {},
   "outputs": [],
   "source": [
    "def first_year(df, city, attribute):\n",
    "    line = df[(df['urau_code'] == city) & (df['indic_code'] == attribute)]\n",
    "    if(len(line)==0):\n",
    "        return None\n",
    "    first_year = 1991\n",
    "    col_set = line.columns\n",
    "    col_set = col_set.drop(['index', 'indic_code', 'urau_code'])\n",
    "    for col in col_set:\n",
    "        if  not pd.isnull(line.iloc[0][col]): \n",
    "            first_year = col\n",
    "            break\n",
    "    return first_year"
   ]
  },
  {
   "cell_type": "markdown",
   "id": "741c2443",
   "metadata": {},
   "source": [
    "### Last available year"
   ]
  },
  {
   "cell_type": "code",
   "execution_count": 18,
   "id": "ebe686d1",
   "metadata": {},
   "outputs": [],
   "source": [
    "def last_year(df, city, attribute):\n",
    "    line = df[(df['urau_code'] == city) & (df['indic_code'] == attribute)]\n",
    "    if(len(line)==0):\n",
    "        return None\n",
    "    last_year = 2021\n",
    "    col_set = line.columns[::-1]\n",
    "    col_set = col_set.drop(['index', 'indic_code', 'urau_code'])\n",
    "    for col in col_set:\n",
    "        if  not pd.isnull(line.iloc[0][col]): \n",
    "            last_year = col\n",
    "            break\n",
    "    return last_year"
   ]
  },
  {
   "cell_type": "markdown",
   "id": "d834bd66",
   "metadata": {},
   "source": [
    "### Check if the data is available every 'sequence' year"
   ]
  },
  {
   "cell_type": "code",
   "execution_count": 19,
   "id": "c0d4138f",
   "metadata": {},
   "outputs": [],
   "source": [
    "def isAvailable(df, city, attribute, sequence):\n",
    "    line = df[(df['urau_code'] == city) & (df['indic_code'] == attribute)]\n",
    "    if(len(line)==0):\n",
    "        return False\n",
    "    year = first_year(df, city, attribute)\n",
    "    last = last_year(df, city, attribute)\n",
    "    col_set = df.columns\n",
    "    for col in col_set:\n",
    "        if col == year:\n",
    "            break\n",
    "        col_set = col_set.drop(col)\n",
    "    \n",
    "    for col in col_set[::-1]:\n",
    "        if col == last:\n",
    "            break\n",
    "        col_set = col_set.drop(col)\n",
    "    last = last_year(df, city, attribute)\n",
    "    available = True\n",
    "    itterate = col_set\n",
    "    for i in range(sequence):\n",
    "        itterate = itterate[:-1]\n",
    "    for idx, col in enumerate(itterate):\n",
    "        if pd.isnull(line.iloc[0][col_set[idx+sequence]]):\n",
    "            available = False\n",
    "            break\n",
    "    return available"
   ]
  },
  {
   "cell_type": "markdown",
   "id": "4a3eb087",
   "metadata": {},
   "source": [
    "### Number of available years of a city/attribute"
   ]
  },
  {
   "cell_type": "code",
   "execution_count": 20,
   "id": "0df822b6",
   "metadata": {},
   "outputs": [],
   "source": [
    "def number_years(df, city, attribute):\n",
    "    line = df[(df['urau_code'] == city) & (df['indic_code'] == attribute)]\n",
    "    if(len(line)==0):\n",
    "        return 0\n",
    "    return len(line.columns) - line.isna().sum().sum() - 3"
   ]
  },
  {
   "cell_type": "markdown",
   "id": "e280ffee",
   "metadata": {},
   "source": [
    "## Create an output dataset (city|attribute|number of available years|first available year|booleans on sequences)"
   ]
  },
  {
   "cell_type": "code",
   "execution_count": 28,
   "id": "1d494a70",
   "metadata": {},
   "outputs": [
    {
     "name": "stdout",
     "output_type": "stream",
     "text": [
      "CPU times: total: 1h 53min 17s\n",
      "Wall time: 1h 58min 26s\n"
     ]
    },
    {
     "data": {
      "text/html": [
       "<div>\n",
       "<style scoped>\n",
       "    .dataframe tbody tr th:only-of-type {\n",
       "        vertical-align: middle;\n",
       "    }\n",
       "\n",
       "    .dataframe tbody tr th {\n",
       "        vertical-align: top;\n",
       "    }\n",
       "\n",
       "    .dataframe thead th {\n",
       "        text-align: right;\n",
       "    }\n",
       "</style>\n",
       "<table border=\"1\" class=\"dataframe\">\n",
       "  <thead>\n",
       "    <tr style=\"text-align: right;\">\n",
       "      <th></th>\n",
       "      <th>city</th>\n",
       "      <th>attribute</th>\n",
       "      <th>n_years</th>\n",
       "      <th>first_year</th>\n",
       "      <th>last_year</th>\n",
       "      <th>seq_1</th>\n",
       "      <th>seq_2</th>\n",
       "      <th>seq_3</th>\n",
       "    </tr>\n",
       "  </thead>\n",
       "  <tbody>\n",
       "    <tr>\n",
       "      <th>0</th>\n",
       "      <td>AT001C</td>\n",
       "      <td>EN1002V</td>\n",
       "      <td>1</td>\n",
       "      <td>2004</td>\n",
       "      <td>2004</td>\n",
       "      <td>True</td>\n",
       "      <td>True</td>\n",
       "      <td>True</td>\n",
       "    </tr>\n",
       "    <tr>\n",
       "      <th>1</th>\n",
       "      <td>AT001C</td>\n",
       "      <td>EN1003V</td>\n",
       "      <td>2</td>\n",
       "      <td>2004</td>\n",
       "      <td>2008</td>\n",
       "      <td>False</td>\n",
       "      <td>False</td>\n",
       "      <td>False</td>\n",
       "    </tr>\n",
       "    <tr>\n",
       "      <th>2</th>\n",
       "      <td>AT001C</td>\n",
       "      <td>EN1004V</td>\n",
       "      <td>2</td>\n",
       "      <td>2004</td>\n",
       "      <td>2008</td>\n",
       "      <td>False</td>\n",
       "      <td>False</td>\n",
       "      <td>False</td>\n",
       "    </tr>\n",
       "    <tr>\n",
       "      <th>3</th>\n",
       "      <td>AT001C</td>\n",
       "      <td>EN1005V</td>\n",
       "      <td>2</td>\n",
       "      <td>2004</td>\n",
       "      <td>2008</td>\n",
       "      <td>False</td>\n",
       "      <td>False</td>\n",
       "      <td>False</td>\n",
       "    </tr>\n",
       "    <tr>\n",
       "      <th>4</th>\n",
       "      <td>AT001C</td>\n",
       "      <td>EN2002V</td>\n",
       "      <td>22</td>\n",
       "      <td>1992</td>\n",
       "      <td>2013</td>\n",
       "      <td>True</td>\n",
       "      <td>True</td>\n",
       "      <td>True</td>\n",
       "    </tr>\n",
       "  </tbody>\n",
       "</table>\n",
       "</div>"
      ],
      "text/plain": [
       "     city attribute  n_years first_year last_year  seq_1  seq_2  seq_3\n",
       "0  AT001C   EN1002V        1       2004      2004   True   True   True\n",
       "1  AT001C   EN1003V        2       2004      2008  False  False  False\n",
       "2  AT001C   EN1004V        2       2004      2008  False  False  False\n",
       "3  AT001C   EN1005V        2       2004      2008  False  False  False\n",
       "4  AT001C   EN2002V       22       1992      2013   True   True   True"
      ]
     },
     "execution_count": 28,
     "metadata": {},
     "output_type": "execute_result"
    }
   ],
   "source": [
    "%%time\n",
    "d = {}\n",
    "lcities = []\n",
    "lattributes = []\n",
    "firstyears = []\n",
    "lastyears = []\n",
    "n_years = []\n",
    "for c in df.urau_code.unique():\n",
    "    for a in df.indic_code.unique():\n",
    "        lcities.append(c)\n",
    "        lattributes.append(a)\n",
    "        firstyears.append(first_year(df, c, a))\n",
    "        lastyears.append(last_year(df, c, a))\n",
    "        n_years.append(number_years(df, c, a))\n",
    "d['city'] = lcities\n",
    "d['attribute'] = lattributes\n",
    "d['n_years'] = n_years\n",
    "d['first_year'] = firstyears\n",
    "d['last_year'] = lastyears\n",
    "seq_max = 3\n",
    "for i in range(1, seq_max+1):\n",
    "    lsequence = []\n",
    "    for c in df.urau_code.unique():\n",
    "        for a in df.indic_code.unique():\n",
    "            lsequence.append(isAvailable(df, c, a, i))\n",
    "    d['seq_'+ str(i)] = lsequence\n",
    "\n",
    "df_result = pd.DataFrame(data=d)\n",
    "df_result.to_csv('Available_seq.csv', index=False)\n",
    "df_result.head()"
   ]
  },
  {
   "cell_type": "code",
   "execution_count": 27,
   "id": "1ef974c1",
   "metadata": {},
   "outputs": [
    {
     "data": {
      "text/html": [
       "<div>\n",
       "<style scoped>\n",
       "    .dataframe tbody tr th:only-of-type {\n",
       "        vertical-align: middle;\n",
       "    }\n",
       "\n",
       "    .dataframe tbody tr th {\n",
       "        vertical-align: top;\n",
       "    }\n",
       "\n",
       "    .dataframe thead th {\n",
       "        text-align: right;\n",
       "    }\n",
       "</style>\n",
       "<table border=\"1\" class=\"dataframe\">\n",
       "  <thead>\n",
       "    <tr style=\"text-align: right;\">\n",
       "      <th></th>\n",
       "      <th>city</th>\n",
       "      <th>attribute</th>\n",
       "      <th>n_years</th>\n",
       "      <th>first_year</th>\n",
       "      <th>last_year</th>\n",
       "      <th>seq_1</th>\n",
       "      <th>seq_2</th>\n",
       "      <th>seq_3</th>\n",
       "    </tr>\n",
       "  </thead>\n",
       "  <tbody>\n",
       "    <tr>\n",
       "      <th>10173</th>\n",
       "      <td>DE084C</td>\n",
       "      <td>EN2003V</td>\n",
       "      <td>21</td>\n",
       "      <td>1992</td>\n",
       "      <td>2013</td>\n",
       "      <td>False</td>\n",
       "      <td>False</td>\n",
       "      <td>True</td>\n",
       "    </tr>\n",
       "    <tr>\n",
       "      <th>10176</th>\n",
       "      <td>DE084C</td>\n",
       "      <td>EN2026V</td>\n",
       "      <td>21</td>\n",
       "      <td>1992</td>\n",
       "      <td>2013</td>\n",
       "      <td>False</td>\n",
       "      <td>False</td>\n",
       "      <td>True</td>\n",
       "    </tr>\n",
       "  </tbody>\n",
       "</table>\n",
       "</div>"
      ],
      "text/plain": [
       "         city attribute  n_years first_year last_year  seq_1  seq_2  seq_3\n",
       "10173  DE084C   EN2003V       21       1992      2013  False  False   True\n",
       "10176  DE084C   EN2026V       21       1992      2013  False  False   True"
      ]
     },
     "execution_count": 27,
     "metadata": {},
     "output_type": "execute_result"
    }
   ],
   "source": [
    "df_result[df_result['seq_3']& ~df_result['seq_1'] & ~df_result['seq_2']& (df_result['n_years']>20)]"
   ]
  },
  {
   "cell_type": "code",
   "execution_count": null,
   "id": "cc01b493",
   "metadata": {},
   "outputs": [],
   "source": []
  }
 ],
 "metadata": {
  "kernelspec": {
   "display_name": "Python 3 (ipykernel)",
   "language": "python",
   "name": "python3"
  },
  "language_info": {
   "codemirror_mode": {
    "name": "ipython",
    "version": 3
   },
   "file_extension": ".py",
   "mimetype": "text/x-python",
   "name": "python",
   "nbconvert_exporter": "python",
   "pygments_lexer": "ipython3",
   "version": "3.9.13"
  }
 },
 "nbformat": 4,
 "nbformat_minor": 5
}
