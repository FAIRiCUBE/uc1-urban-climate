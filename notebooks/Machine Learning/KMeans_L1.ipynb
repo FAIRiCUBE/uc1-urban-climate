{
 "cells": [
  {
   "cell_type": "markdown",
   "id": "33fc2c9a-f069-401f-b8bc-5a4608a4c3c7",
   "metadata": {},
   "source": [
    "# Import Libraries"
   ]
  },
  {
   "cell_type": "code",
   "execution_count": 1,
   "id": "4645ad9c-929a-4c65-bc24-70ead3915ece",
   "metadata": {},
   "outputs": [],
   "source": [
    "import numpy as np \n",
    "import pandas as pd \n",
    "import matplotlib.pyplot as plt \n",
    "from sklearn.cluster import KMeans\n",
    "from IPython.core import display as ICD\n",
    "from itertools import combinations"
   ]
  },
  {
   "cell_type": "markdown",
   "id": "0bd2cba2-64bd-474e-998d-4f58e744421f",
   "metadata": {},
   "source": [
    "# Import Data + Preprocessing \n",
    "1. Replace NaN by 0\n",
    "2. Rename first Column"
   ]
  },
  {
   "cell_type": "code",
   "execution_count": 2,
   "id": "8554dca7-1ad1-4db1-b809-96075fb2ddf1",
   "metadata": {},
   "outputs": [],
   "source": [
    "data = 'city_UrbanAtlas_l1_ratios.csv'\n",
    "df = pd.read_csv(data)\n",
    "df = df.fillna(0)\n",
    "df = df.rename(columns={\"Unnamed: 2\": \"No Class\"})"
   ]
  },
  {
   "cell_type": "code",
   "execution_count": 3,
   "id": "06d8c6af-a0da-4090-a8bc-9ff1f48722a5",
   "metadata": {},
   "outputs": [
    {
     "data": {
      "text/html": [
       "<div>\n",
       "<style scoped>\n",
       "    .dataframe tbody tr th:only-of-type {\n",
       "        vertical-align: middle;\n",
       "    }\n",
       "\n",
       "    .dataframe tbody tr th {\n",
       "        vertical-align: top;\n",
       "    }\n",
       "\n",
       "    .dataframe thead th {\n",
       "        text-align: right;\n",
       "    }\n",
       "</style>\n",
       "<table border=\"1\" class=\"dataframe\">\n",
       "  <thead>\n",
       "    <tr style=\"text-align: right;\">\n",
       "      <th></th>\n",
       "      <th>cc_code_short</th>\n",
       "      <th>cc_name</th>\n",
       "      <th>No Class</th>\n",
       "      <th>Agricultural areas</th>\n",
       "      <th>Artificial surfaces</th>\n",
       "      <th>Natural and semi-natural areas</th>\n",
       "      <th>Water</th>\n",
       "      <th>Wetlands</th>\n",
       "    </tr>\n",
       "  </thead>\n",
       "  <tbody>\n",
       "    <tr>\n",
       "      <th>0</th>\n",
       "      <td>AL001</td>\n",
       "      <td>Tirana(FUA name)</td>\n",
       "      <td>0.0</td>\n",
       "      <td>0.142073</td>\n",
       "      <td>0.773865</td>\n",
       "      <td>0.064179</td>\n",
       "      <td>0.013398</td>\n",
       "      <td>0.006484</td>\n",
       "    </tr>\n",
       "    <tr>\n",
       "      <th>1</th>\n",
       "      <td>AL003</td>\n",
       "      <td>Elbasan(FUA name)</td>\n",
       "      <td>0.0</td>\n",
       "      <td>0.072055</td>\n",
       "      <td>0.656564</td>\n",
       "      <td>0.271382</td>\n",
       "      <td>0.000000</td>\n",
       "      <td>0.000000</td>\n",
       "    </tr>\n",
       "    <tr>\n",
       "      <th>2</th>\n",
       "      <td>AL004</td>\n",
       "      <td>ShkodÃ«r(FUA name)</td>\n",
       "      <td>0.0</td>\n",
       "      <td>0.321917</td>\n",
       "      <td>0.605617</td>\n",
       "      <td>0.052717</td>\n",
       "      <td>0.015167</td>\n",
       "      <td>0.004583</td>\n",
       "    </tr>\n",
       "    <tr>\n",
       "      <th>3</th>\n",
       "      <td>AT001</td>\n",
       "      <td>Wien</td>\n",
       "      <td>0.0</td>\n",
       "      <td>0.158471</td>\n",
       "      <td>0.623209</td>\n",
       "      <td>0.182559</td>\n",
       "      <td>0.035760</td>\n",
       "      <td>0.000000</td>\n",
       "    </tr>\n",
       "    <tr>\n",
       "      <th>4</th>\n",
       "      <td>AT002</td>\n",
       "      <td>Graz</td>\n",
       "      <td>0.0</td>\n",
       "      <td>0.145966</td>\n",
       "      <td>0.585422</td>\n",
       "      <td>0.261324</td>\n",
       "      <td>0.007288</td>\n",
       "      <td>0.000000</td>\n",
       "    </tr>\n",
       "  </tbody>\n",
       "</table>\n",
       "</div>"
      ],
      "text/plain": [
       "  cc_code_short             cc_name  No Class  Agricultural areas   \n",
       "0         AL001    Tirana(FUA name)       0.0            0.142073  \\\n",
       "1         AL003   Elbasan(FUA name)       0.0            0.072055   \n",
       "2         AL004  ShkodÃ«r(FUA name)       0.0            0.321917   \n",
       "3         AT001                Wien       0.0            0.158471   \n",
       "4         AT002                Graz       0.0            0.145966   \n",
       "\n",
       "   Artificial surfaces  Natural and semi-natural areas     Water  Wetlands  \n",
       "0             0.773865                        0.064179  0.013398  0.006484  \n",
       "1             0.656564                        0.271382  0.000000  0.000000  \n",
       "2             0.605617                        0.052717  0.015167  0.004583  \n",
       "3             0.623209                        0.182559  0.035760  0.000000  \n",
       "4             0.585422                        0.261324  0.007288  0.000000  "
      ]
     },
     "execution_count": 3,
     "metadata": {},
     "output_type": "execute_result"
    }
   ],
   "source": [
    "df.head()"
   ]
  },
  {
   "cell_type": "markdown",
   "id": "72676ee2-7ede-47b1-b10f-d010bba506bb",
   "metadata": {},
   "source": [
    "# Get Features\n",
    "We have 6 features: 5 classes ratios + non-classified regions"
   ]
  },
  {
   "cell_type": "code",
   "execution_count": 4,
   "id": "30cd4d3e-b252-4b33-b3fa-b9fffd35e9bd",
   "metadata": {},
   "outputs": [
    {
     "data": {
      "text/html": [
       "<div>\n",
       "<style scoped>\n",
       "    .dataframe tbody tr th:only-of-type {\n",
       "        vertical-align: middle;\n",
       "    }\n",
       "\n",
       "    .dataframe tbody tr th {\n",
       "        vertical-align: top;\n",
       "    }\n",
       "\n",
       "    .dataframe thead th {\n",
       "        text-align: right;\n",
       "    }\n",
       "</style>\n",
       "<table border=\"1\" class=\"dataframe\">\n",
       "  <thead>\n",
       "    <tr style=\"text-align: right;\">\n",
       "      <th></th>\n",
       "      <th>No Class</th>\n",
       "      <th>Agricultural areas</th>\n",
       "      <th>Artificial surfaces</th>\n",
       "      <th>Natural and semi-natural areas</th>\n",
       "      <th>Water</th>\n",
       "      <th>Wetlands</th>\n",
       "    </tr>\n",
       "  </thead>\n",
       "  <tbody>\n",
       "    <tr>\n",
       "      <th>0</th>\n",
       "      <td>0.0</td>\n",
       "      <td>0.142073</td>\n",
       "      <td>0.773865</td>\n",
       "      <td>0.064179</td>\n",
       "      <td>0.013398</td>\n",
       "      <td>0.006484</td>\n",
       "    </tr>\n",
       "    <tr>\n",
       "      <th>1</th>\n",
       "      <td>0.0</td>\n",
       "      <td>0.072055</td>\n",
       "      <td>0.656564</td>\n",
       "      <td>0.271382</td>\n",
       "      <td>0.000000</td>\n",
       "      <td>0.000000</td>\n",
       "    </tr>\n",
       "    <tr>\n",
       "      <th>2</th>\n",
       "      <td>0.0</td>\n",
       "      <td>0.321917</td>\n",
       "      <td>0.605617</td>\n",
       "      <td>0.052717</td>\n",
       "      <td>0.015167</td>\n",
       "      <td>0.004583</td>\n",
       "    </tr>\n",
       "    <tr>\n",
       "      <th>3</th>\n",
       "      <td>0.0</td>\n",
       "      <td>0.158471</td>\n",
       "      <td>0.623209</td>\n",
       "      <td>0.182559</td>\n",
       "      <td>0.035760</td>\n",
       "      <td>0.000000</td>\n",
       "    </tr>\n",
       "    <tr>\n",
       "      <th>4</th>\n",
       "      <td>0.0</td>\n",
       "      <td>0.145966</td>\n",
       "      <td>0.585422</td>\n",
       "      <td>0.261324</td>\n",
       "      <td>0.007288</td>\n",
       "      <td>0.000000</td>\n",
       "    </tr>\n",
       "  </tbody>\n",
       "</table>\n",
       "</div>"
      ],
      "text/plain": [
       "   No Class  Agricultural areas  Artificial surfaces   \n",
       "0       0.0            0.142073             0.773865  \\\n",
       "1       0.0            0.072055             0.656564   \n",
       "2       0.0            0.321917             0.605617   \n",
       "3       0.0            0.158471             0.623209   \n",
       "4       0.0            0.145966             0.585422   \n",
       "\n",
       "   Natural and semi-natural areas     Water  Wetlands  \n",
       "0                        0.064179  0.013398  0.006484  \n",
       "1                        0.271382  0.000000  0.000000  \n",
       "2                        0.052717  0.015167  0.004583  \n",
       "3                        0.182559  0.035760  0.000000  \n",
       "4                        0.261324  0.007288  0.000000  "
      ]
     },
     "execution_count": 4,
     "metadata": {},
     "output_type": "execute_result"
    }
   ],
   "source": [
    "X = df.copy()\n",
    "y = df['cc_name']\n",
    "X.drop(['cc_code_short', 'cc_name'], axis=1, inplace=True)\n",
    "X.head()"
   ]
  },
  {
   "cell_type": "markdown",
   "id": "aeff98e1-7827-48ad-ac78-e85aa454cb66",
   "metadata": {},
   "source": [
    "# K-Means call with Elbow method\n",
    "To find the optimal K"
   ]
  },
  {
   "cell_type": "code",
   "execution_count": 5,
   "id": "6e702185-703c-4a6b-bc05-77ed52e68e04",
   "metadata": {},
   "outputs": [
    {
     "data": {
      "image/png": "[encoded data removed]",
      "text/plain": [
       "<Figure size 640x480 with 1 Axes>"
      ]
     },
     "metadata": {},
     "output_type": "display_data"
    }
   ],
   "source": [
    "cs = []\n",
    "max = 15\n",
    "for i in range(1, max):\n",
    "    kmeans = KMeans(n_clusters = i, init = 'k-means++', max_iter = 300, n_init = 10, random_state = 0)\n",
    "    kmeans.fit(X)\n",
    "    cs.append(kmeans.inertia_)\n",
    "plt.plot(range(1, max), cs)\n",
    "plt.title('The Elbow Method')\n",
    "plt.xlabel('Number of clusters')\n",
    "plt.ylabel('Inertia')\n",
    "plt.show()"
   ]
  },
  {
   "cell_type": "markdown",
   "id": "abedd7cb-dde4-4f6e-b4c7-ec40ca2aba34",
   "metadata": {},
   "source": [
    "# Use K = 4\n",
    "According to the above plot, 4 looks a good condidate (the elbow point)"
   ]
  },
  {
   "cell_type": "code",
   "execution_count": 6,
   "id": "e2c0d92c-4841-4b20-b645-ce45a04466cd",
   "metadata": {},
   "outputs": [],
   "source": [
    "k = 4\n",
    "kmeans = KMeans(n_clusters = k, init = 'k-means++', max_iter = 300, n_init = 10, random_state = 0)\n",
    "kmeans.fit(X)\n",
    "df['label'] = kmeans.labels_"
   ]
  },
  {
   "cell_type": "markdown",
   "id": "fb3bdcf3-ee79-4043-a105-7d9114da1e42",
   "metadata": {},
   "source": [
    "# Statistics"
   ]
  },
  {
   "cell_type": "code",
   "execution_count": 7,
   "id": "5733d364-bed0-4994-bdc6-5b6668532fad",
   "metadata": {},
   "outputs": [
    {
     "name": "stdout",
     "output_type": "stream",
     "text": [
      "Inertia:  41.230345209397605\n",
      "Number of clusters:  4\n",
      "Number of elements clustered as  0 -> 275\n",
      "Number of elements clustered as  1 -> 56\n",
      "Number of elements clustered as  2 -> 415\n",
      "Number of elements clustered as  3 -> 296\n"
     ]
    }
   ],
   "source": [
    "print(\"Inertia: \", kmeans.inertia_)\n",
    "print(\"Number of clusters: \", kmeans.n_clusters)\n",
    "u_labels = np.unique(kmeans.labels_)\n",
    "for i in u_labels:\n",
    "    print(\"Number of elements clustered as \", i, \"->\", len(df[df['label'] == i]))"
   ]
  },
  {
   "cell_type": "code",
   "execution_count": null,
   "id": "b2b2a213-d297-4565-a6a9-a904674be1e5",
   "metadata": {},
   "outputs": [],
   "source": [
    "fig, ax = plt.subplots()\n",
    "df['label'].value_counts().plot(ax=ax, kind='bar')"
   ]
  },
  {
   "cell_type": "markdown",
   "id": "ce916f46-64ce-4d8f-84f7-1fab5164fce5",
   "metadata": {},
   "source": [
    "# Overview of every cluster"
   ]
  },
  {
   "cell_type": "code",
   "execution_count": null,
   "id": "b91703f9-b57a-48c2-87ea-e2dba5bd2dc5",
   "metadata": {},
   "outputs": [],
   "source": [
    "for i in u_labels:\n",
    "    ICD.display(df[df['label'] == i])"
   ]
  },
  {
   "cell_type": "markdown",
   "id": "7a5858e6-5b30-4d9d-993a-b3d269a8b8cd",
   "metadata": {},
   "source": [
    "# Plot the clusters \n",
    "For every pair of attributes, plot the 4 clusters"
   ]
  },
  {
   "cell_type": "code",
   "execution_count": null,
   "id": "a9a6c2a5-23eb-4ad8-9114-8a78e141a0c8",
   "metadata": {},
   "outputs": [],
   "source": [
    "features = [*range(2, len(X.columns)+2)]\n",
    "pairs = list(combinations(features, 2))"
   ]
  },
  {
   "cell_type": "code",
   "execution_count": null,
   "id": "8ef1a5c6-f5d6-4cc8-8997-965b65452733",
   "metadata": {},
   "outputs": [],
   "source": [
    "import seaborn as sns\n",
    "columns= df.columns.values.tolist()\n",
    "for j in pairs:\n",
    "    fig, ax = plt.subplots()\n",
    "    ax = sns.scatterplot(x=columns[j[0]],y=columns[j[1]],hue = 'label',data = df,legend='full',\n",
    "                         palette = {0:'red',1:'orange',2:'yellow',3:'green'})\n",
    "    plt.xlabel(columns[j[0]])\n",
    "    plt.ylabel(columns[j[1]])\n",
    "    plt.show()"
   ]
  },
  {
   "cell_type": "markdown",
   "id": "bc1b3424-c960-4de3-8b72-27717f4206e7",
   "metadata": {},
   "source": [
    "# Conclusion \n",
    "The clusters have this possible significations:\n",
    "1. Cluster 0: Cities with more Natural and semi-natural areas.\n",
    "2. Cluster 1: Cities with more No-class classification.\n",
    "3. Cluster 2: Cities with more Artificial surfaces.\n",
    "4. Cluster 3: Cities with more Agricultural areas."
   ]
  },
  {
   "cell_type": "code",
   "execution_count": null,
   "id": "344aa349-d6c4-45c3-95ea-e3c2ac15b39a",
   "metadata": {},
   "outputs": [],
   "source": []
  }
 ],
 "metadata": {
  "kernelspec": {
   "display_name": "fairicube-edc-2022.10-14",
   "language": "python",
   "name": "conda-env-fairicube-edc-2022.10-14-py"
  },
  "language_info": {
   "codemirror_mode": {
    "name": "ipython",
    "version": 3
   },
   "file_extension": ".py",
   "mimetype": "text/x-python",
   "name": "python",
   "nbconvert_exporter": "python",
   "pygments_lexer": "ipython3",
   "version": "3.9.15"
  }
 },
 "nbformat": 4,
 "nbformat_minor": 5
}
