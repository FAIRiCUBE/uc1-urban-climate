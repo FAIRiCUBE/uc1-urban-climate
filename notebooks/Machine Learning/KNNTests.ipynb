{
 "cells": [
  {
   "cell_type": "markdown",
   "id": "db52cc4a",
   "metadata": {},
   "source": [
    "# KNN imputer for population Gap filling\n",
    "This is not a appropriate option for this specific "
   ]
  },
  {
   "cell_type": "code",
   "execution_count": 1,
   "id": "5d52456b",
   "metadata": {},
   "outputs": [],
   "source": [
    "import pandas as pd\n",
    "import matplotlib.pyplot as plt\n",
    "from sklearn.impute import KNNImputer\n",
    "import numpy as np\n",
    "import math"
   ]
  },
  {
   "cell_type": "markdown",
   "id": "f29011c1",
   "metadata": {},
   "source": [
    "## Upload data (only cities with complete data)"
   ]
  },
  {
   "cell_type": "code",
   "execution_count": 2,
   "id": "f293e61f",
   "metadata": {},
   "outputs": [],
   "source": [
    "df = pd.read_csv('CompleteData.csv', header=None, na_values='?')\n",
    "df.drop(df.columns[[0, 1, 2]], axis=1, inplace=True)\n",
    "df = df.tail(-1)"
   ]
  },
  {
   "cell_type": "code",
   "execution_count": 3,
   "id": "f8e95b3d",
   "metadata": {},
   "outputs": [
    {
     "data": {
      "text/html": [
       "<div>\n",
       "<style scoped>\n",
       "    .dataframe tbody tr th:only-of-type {\n",
       "        vertical-align: middle;\n",
       "    }\n",
       "\n",
       "    .dataframe tbody tr th {\n",
       "        vertical-align: top;\n",
       "    }\n",
       "\n",
       "    .dataframe thead th {\n",
       "        text-align: right;\n",
       "    }\n",
       "</style>\n",
       "<table border=\"1\" class=\"dataframe\">\n",
       "  <thead>\n",
       "    <tr style=\"text-align: right;\">\n",
       "      <th></th>\n",
       "      <th>3</th>\n",
       "      <th>4</th>\n",
       "      <th>5</th>\n",
       "      <th>6</th>\n",
       "      <th>7</th>\n",
       "      <th>8</th>\n",
       "      <th>9</th>\n",
       "      <th>10</th>\n",
       "      <th>11</th>\n",
       "      <th>12</th>\n",
       "      <th>...</th>\n",
       "      <th>24</th>\n",
       "      <th>25</th>\n",
       "      <th>26</th>\n",
       "      <th>27</th>\n",
       "      <th>28</th>\n",
       "      <th>29</th>\n",
       "      <th>30</th>\n",
       "      <th>31</th>\n",
       "      <th>32</th>\n",
       "      <th>33</th>\n",
       "    </tr>\n",
       "  </thead>\n",
       "  <tbody>\n",
       "    <tr>\n",
       "      <th>1</th>\n",
       "      <td>9986975.0</td>\n",
       "      <td>10021997.0</td>\n",
       "      <td>10068319.0</td>\n",
       "      <td>10100631.0</td>\n",
       "      <td>10130574.0</td>\n",
       "      <td>10143047.0</td>\n",
       "      <td>10170226.0</td>\n",
       "      <td>10192264.0</td>\n",
       "      <td>10213752.0</td>\n",
       "      <td>10239085.0</td>\n",
       "      <td>...</td>\n",
       "      <td>11094850.0</td>\n",
       "      <td>11161642.0</td>\n",
       "      <td>11203992.0</td>\n",
       "      <td>11258434.0</td>\n",
       "      <td>11307192.0</td>\n",
       "      <td>11351727.0</td>\n",
       "      <td>11398589.0</td>\n",
       "      <td>11455519.0</td>\n",
       "      <td>11522440.0</td>\n",
       "      <td>11554767.0</td>\n",
       "    </tr>\n",
       "    <tr>\n",
       "      <th>2</th>\n",
       "      <td>954045.0</td>\n",
       "      <td>951217.0</td>\n",
       "      <td>950339.0</td>\n",
       "      <td>949070.0</td>\n",
       "      <td>951580.0</td>\n",
       "      <td>948122.0</td>\n",
       "      <td>950597.0</td>\n",
       "      <td>953175.0</td>\n",
       "      <td>954460.0</td>\n",
       "      <td>964405.0</td>\n",
       "      <td>...</td>\n",
       "      <td>1159448.0</td>\n",
       "      <td>1174624.0</td>\n",
       "      <td>1183841.0</td>\n",
       "      <td>1196831.0</td>\n",
       "      <td>1201129.0</td>\n",
       "      <td>1199095.0</td>\n",
       "      <td>1205492.0</td>\n",
       "      <td>1215289.0</td>\n",
       "      <td>1223364.0</td>\n",
       "      <td>1226329.0</td>\n",
       "    </tr>\n",
       "    <tr>\n",
       "      <th>3</th>\n",
       "      <td>467518.0</td>\n",
       "      <td>465783.0</td>\n",
       "      <td>465102.0</td>\n",
       "      <td>462880.0</td>\n",
       "      <td>459072.0</td>\n",
       "      <td>455852.0</td>\n",
       "      <td>453030.0</td>\n",
       "      <td>449745.0</td>\n",
       "      <td>447632.0</td>\n",
       "      <td>446525.0</td>\n",
       "      <td>...</td>\n",
       "      <td>507368.0</td>\n",
       "      <td>512230.0</td>\n",
       "      <td>513915.0</td>\n",
       "      <td>515593.0</td>\n",
       "      <td>517731.0</td>\n",
       "      <td>520859.0</td>\n",
       "      <td>523591.0</td>\n",
       "      <td>526439.0</td>\n",
       "      <td>530014.0</td>\n",
       "      <td>530627.0</td>\n",
       "    </tr>\n",
       "    <tr>\n",
       "      <th>4</th>\n",
       "      <td>230246.0</td>\n",
       "      <td>230232.0</td>\n",
       "      <td>229821.0</td>\n",
       "      <td>228490.0</td>\n",
       "      <td>227483.0</td>\n",
       "      <td>226464.0</td>\n",
       "      <td>225469.0</td>\n",
       "      <td>224545.0</td>\n",
       "      <td>224074.0</td>\n",
       "      <td>224180.0</td>\n",
       "      <td>...</td>\n",
       "      <td>249205.0</td>\n",
       "      <td>249754.0</td>\n",
       "      <td>251984.0</td>\n",
       "      <td>253914.0</td>\n",
       "      <td>257226.0</td>\n",
       "      <td>259462.0</td>\n",
       "      <td>260329.0</td>\n",
       "      <td>262205.0</td>\n",
       "      <td>263687.0</td>\n",
       "      <td>264019.0</td>\n",
       "    </tr>\n",
       "    <tr>\n",
       "      <th>5</th>\n",
       "      <td>206214.0</td>\n",
       "      <td>206903.0</td>\n",
       "      <td>207045.0</td>\n",
       "      <td>206898.0</td>\n",
       "      <td>206491.0</td>\n",
       "      <td>205591.0</td>\n",
       "      <td>204899.0</td>\n",
       "      <td>203853.0</td>\n",
       "      <td>202020.0</td>\n",
       "      <td>200827.0</td>\n",
       "      <td>...</td>\n",
       "      <td>204762.0</td>\n",
       "      <td>204826.0</td>\n",
       "      <td>203640.0</td>\n",
       "      <td>203228.0</td>\n",
       "      <td>202602.0</td>\n",
       "      <td>201884.0</td>\n",
       "      <td>202341.0</td>\n",
       "      <td>202637.0</td>\n",
       "      <td>203314.0</td>\n",
       "      <td>238412.0</td>\n",
       "    </tr>\n",
       "  </tbody>\n",
       "</table>\n",
       "<p>5 rows × 31 columns</p>\n",
       "</div>"
      ],
      "text/plain": [
       "          3           4           5           6           7           8   \\\n",
       "1  9986975.0  10021997.0  10068319.0  10100631.0  10130574.0  10143047.0   \n",
       "2   954045.0    951217.0    950339.0    949070.0    951580.0    948122.0   \n",
       "3   467518.0    465783.0    465102.0    462880.0    459072.0    455852.0   \n",
       "4   230246.0    230232.0    229821.0    228490.0    227483.0    226464.0   \n",
       "5   206214.0    206903.0    207045.0    206898.0    206491.0    205591.0   \n",
       "\n",
       "           9           10          11          12  ...          24  \\\n",
       "1  10170226.0  10192264.0  10213752.0  10239085.0  ...  11094850.0   \n",
       "2    950597.0    953175.0    954460.0    964405.0  ...   1159448.0   \n",
       "3    453030.0    449745.0    447632.0    446525.0  ...    507368.0   \n",
       "4    225469.0    224545.0    224074.0    224180.0  ...    249205.0   \n",
       "5    204899.0    203853.0    202020.0    200827.0  ...    204762.0   \n",
       "\n",
       "           25          26          27          28          29          30  \\\n",
       "1  11161642.0  11203992.0  11258434.0  11307192.0  11351727.0  11398589.0   \n",
       "2   1174624.0   1183841.0   1196831.0   1201129.0   1199095.0   1205492.0   \n",
       "3    512230.0    513915.0    515593.0    517731.0    520859.0    523591.0   \n",
       "4    249754.0    251984.0    253914.0    257226.0    259462.0    260329.0   \n",
       "5    204826.0    203640.0    203228.0    202602.0    201884.0    202341.0   \n",
       "\n",
       "           31          32          33  \n",
       "1  11455519.0  11522440.0  11554767.0  \n",
       "2   1215289.0   1223364.0   1226329.0  \n",
       "3    526439.0    530014.0    530627.0  \n",
       "4    262205.0    263687.0    264019.0  \n",
       "5    202637.0    203314.0    238412.0  \n",
       "\n",
       "[5 rows x 31 columns]"
      ]
     },
     "execution_count": 3,
     "metadata": {},
     "output_type": "execute_result"
    }
   ],
   "source": [
    "df.head()"
   ]
  },
  {
   "cell_type": "markdown",
   "id": "6fb609ee",
   "metadata": {},
   "source": [
    "## Damage a few randomly selected cells"
   ]
  },
  {
   "cell_type": "code",
   "execution_count": 4,
   "id": "cb46b4e8",
   "metadata": {},
   "outputs": [],
   "source": [
    "a = 10\n",
    "b = 10\n",
    "df_damaged = df.copy()\n",
    "rowID = np.random.choice(range(0, len(df_damaged)), size=a, replace=False)\n",
    "columnID = np.random.choice(range(0, len(df_damaged.columns)), size=b, replace=False)\n",
    "for j in columnID:\n",
    "    for i in rowID:\n",
    "        df_damaged.iloc[i,j]= np.nan"
   ]
  },
  {
   "cell_type": "code",
   "execution_count": 5,
   "id": "53ee62b0",
   "metadata": {},
   "outputs": [
    {
     "name": "stdout",
     "output_type": "stream",
     "text": [
      "(Size, Missing): ( 1581 ,  100 )\n"
     ]
    }
   ],
   "source": [
    " print(\"(Size, Missing): (\", df_damaged.size, \", \", df_damaged.isna().sum().sum(), \")\")"
   ]
  },
  {
   "cell_type": "markdown",
   "id": "062e6c0f",
   "metadata": {},
   "source": [
    "## KNN imputer"
   ]
  },
  {
   "cell_type": "code",
   "execution_count": 6,
   "id": "bccfec25",
   "metadata": {},
   "outputs": [],
   "source": [
    "imputer = KNNImputer(n_neighbors=4)\n",
    "imputed = imputer.fit_transform(df_damaged)\n",
    "df_imputed = pd.DataFrame(imputed, columns=df_damaged.columns)"
   ]
  },
  {
   "cell_type": "markdown",
   "id": "67befa0a",
   "metadata": {},
   "source": [
    "## Evaluation"
   ]
  },
  {
   "cell_type": "code",
   "execution_count": 7,
   "id": "6d019c56",
   "metadata": {},
   "outputs": [
    {
     "name": "stdout",
     "output_type": "stream",
     "text": [
      "RMSE:  40857.71993388306\n"
     ]
    }
   ],
   "source": [
    "def error(list1, list2, df, df_imputed):\n",
    "    s = 0\n",
    "    for j in list2:\n",
    "        for i in list1:\n",
    "            diff = df.iloc[i,j] - df_imputed.iloc[i,j]\n",
    "            s = s + (diff**2)\n",
    "    s = s/(len(list1)*len(list2))\n",
    "    return math.sqrt(s)\n",
    "print(\"RMSE: \", error(rowID, columnID, df, df_imputed))"
   ]
  }
 ],
 "metadata": {
  "kernelspec": {
   "display_name": "Python 3 (ipykernel)",
   "language": "python",
   "name": "python3"
  },
  "language_info": {
   "codemirror_mode": {
    "name": "ipython",
    "version": 3
   },
   "file_extension": ".py",
   "mimetype": "text/x-python",
   "name": "python",
   "nbconvert_exporter": "python",
   "pygments_lexer": "ipython3",
   "version": "3.9.13"
  }
 },
 "nbformat": 4,
 "nbformat_minor": 5
}
