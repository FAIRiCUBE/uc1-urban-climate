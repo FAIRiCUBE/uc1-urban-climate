{
 "cells": [
  {
   "cell_type": "code",
   "execution_count": 4,
   "id": "5eb8d56f-e729-4a79-ac66-776a274a0d25",
   "metadata": {},
   "outputs": [
    {
     "ename": "SyntaxError",
     "evalue": "invalid syntax (2760177615.py, line 1)",
     "output_type": "error",
     "traceback": [
      "\u001b[0;36m  Cell \u001b[0;32mIn[4], line 1\u001b[0;36m\u001b[0m\n\u001b[0;31m    import cdstoolbox-remote as ct\u001b[0m\n\u001b[0m                     ^\u001b[0m\n\u001b[0;31mSyntaxError\u001b[0m\u001b[0;31m:\u001b[0m invalid syntax\n"
     ]
    }
   ],
   "source": [
    "import cdstoolbox-remote as ct\n",
    "\n",
    "##https://cds.climate.copernicus.eu/cdsapp#!/dataset/derived-utci-historical?tab=overview\n"
   ]
  },
  {
   "cell_type": "code",
   "execution_count": 2,
   "id": "84d91e3a-50c7-412d-881b-92beebe2c937",
   "metadata": {},
   "outputs": [
    {
     "name": "stdout",
     "output_type": "stream",
     "text": [
      "Defaulting to user installation because normal site-packages is not writeable\n",
      "Collecting cdstoolbox-remote\n",
      "  Downloading cdstoolbox_remote-0.0.1-py3-none-any.whl (3.1 kB)\n",
      "Requirement already satisfied: cdsapi>=0.2.3 in /home/conda/fairicube/509ef1ea91778cd89e0732da937c672a0e4c27fd9e360fadaa9831b15c3fb15c-20230123-091006-736556-1-edc-2022.10-14/lib/python3.9/site-packages (from cdstoolbox-remote) (0.5.1)\n",
      "Requirement already satisfied: requests>=2.5.0 in /home/conda/fairicube/509ef1ea91778cd89e0732da937c672a0e4c27fd9e360fadaa9831b15c3fb15c-20230123-091006-736556-1-edc-2022.10-14/lib/python3.9/site-packages (from cdsapi>=0.2.3->cdstoolbox-remote) (2.28.2)\n",
      "Requirement already satisfied: tqdm in /home/conda/fairicube/509ef1ea91778cd89e0732da937c672a0e4c27fd9e360fadaa9831b15c3fb15c-20230123-091006-736556-1-edc-2022.10-14/lib/python3.9/site-packages (from cdsapi>=0.2.3->cdstoolbox-remote) (4.64.1)\n",
      "Requirement already satisfied: idna<4,>=2.5 in /home/conda/fairicube/509ef1ea91778cd89e0732da937c672a0e4c27fd9e360fadaa9831b15c3fb15c-20230123-091006-736556-1-edc-2022.10-14/lib/python3.9/site-packages (from requests>=2.5.0->cdsapi>=0.2.3->cdstoolbox-remote) (3.4)\n",
      "Requirement already satisfied: urllib3<1.27,>=1.21.1 in /home/conda/fairicube/509ef1ea91778cd89e0732da937c672a0e4c27fd9e360fadaa9831b15c3fb15c-20230123-091006-736556-1-edc-2022.10-14/lib/python3.9/site-packages (from requests>=2.5.0->cdsapi>=0.2.3->cdstoolbox-remote) (1.26.14)\n",
      "Requirement already satisfied: charset-normalizer<4,>=2 in /home/conda/fairicube/509ef1ea91778cd89e0732da937c672a0e4c27fd9e360fadaa9831b15c3fb15c-20230123-091006-736556-1-edc-2022.10-14/lib/python3.9/site-packages (from requests>=2.5.0->cdsapi>=0.2.3->cdstoolbox-remote) (2.1.1)\n",
      "Requirement already satisfied: certifi>=2017.4.17 in /home/conda/fairicube/509ef1ea91778cd89e0732da937c672a0e4c27fd9e360fadaa9831b15c3fb15c-20230123-091006-736556-1-edc-2022.10-14/lib/python3.9/site-packages (from requests>=2.5.0->cdsapi>=0.2.3->cdstoolbox-remote) (2022.12.7)\n",
      "Installing collected packages: cdstoolbox-remote\n",
      "Successfully installed cdstoolbox-remote-0.0.1\n"
     ]
    }
   ],
   "source": [
    "!pip install cdstoolbox-remote"
   ]
  },
  {
   "cell_type": "code",
   "execution_count": 5,
   "id": "8b93470b-42e0-4696-bc74-f34e3d618910",
   "metadata": {},
   "outputs": [
    {
     "ename": "Exception",
     "evalue": "Missing/incomplete configuration file: /home/marvinmosel/.cdsapirc",
     "output_type": "error",
     "traceback": [
      "\u001b[0;31m---------------------------------------------------------------------------\u001b[0m",
      "\u001b[0;31mException\u001b[0m                                 Traceback (most recent call last)",
      "Cell \u001b[0;32mIn[5], line 1\u001b[0m\n\u001b[0;32m----> 1\u001b[0m \u001b[38;5;28;01mimport\u001b[39;00m \u001b[38;5;21;01mcdstoolbox\u001b[39;00m \u001b[38;5;28;01mas\u001b[39;00m \u001b[38;5;21;01mct\u001b[39;00m\n",
      "File \u001b[0;32m~/.local/lib/python3.9/site-packages/cdstoolbox/__init__.py:6\u001b[0m\n\u001b[1;32m      2\u001b[0m \u001b[38;5;28;01mimport\u001b[39;00m \u001b[38;5;21;01mcdsapi\u001b[39;00m\n\u001b[1;32m      3\u001b[0m \u001b[38;5;28;01mimport\u001b[39;00m \u001b[38;5;21;01msys\u001b[39;00m\n\u001b[0;32m----> 6\u001b[0m c \u001b[38;5;241m=\u001b[39m \u001b[43mcdsapi\u001b[49m\u001b[38;5;241;43m.\u001b[39;49m\u001b[43mClient\u001b[49m\u001b[43m(\u001b[49m\u001b[43m)\u001b[49m\n\u001b[1;32m      8\u001b[0m \u001b[38;5;28;01mwith\u001b[39;00m \u001b[38;5;28mopen\u001b[39m(__main__\u001b[38;5;241m.\u001b[39m\u001b[38;5;18m__file__\u001b[39m) \u001b[38;5;28;01mas\u001b[39;00m f:\n\u001b[1;32m      9\u001b[0m    code \u001b[38;5;241m=\u001b[39m f\u001b[38;5;241m.\u001b[39mread()\n",
      "File \u001b[0;32m/home/conda/fairicube/509ef1ea91778cd89e0732da937c672a0e4c27fd9e360fadaa9831b15c3fb15c-20230123-091006-736556-1-edc-2022.10-14/lib/python3.9/site-packages/cdsapi/api.py:301\u001b[0m, in \u001b[0;36mClient.__init__\u001b[0;34m(self, url, key, quiet, debug, verify, timeout, progress, full_stack, delete, retry_max, sleep_max, wait_until_complete, info_callback, warning_callback, error_callback, debug_callback, metadata, forget, session)\u001b[0m\n\u001b[1;32m    298\u001b[0m             verify \u001b[38;5;241m=\u001b[39m \u001b[38;5;28mint\u001b[39m(config\u001b[38;5;241m.\u001b[39mget(\u001b[38;5;124m\"\u001b[39m\u001b[38;5;124mverify\u001b[39m\u001b[38;5;124m\"\u001b[39m, \u001b[38;5;241m1\u001b[39m))\n\u001b[1;32m    300\u001b[0m \u001b[38;5;28;01mif\u001b[39;00m url \u001b[38;5;129;01mis\u001b[39;00m \u001b[38;5;28;01mNone\u001b[39;00m \u001b[38;5;129;01mor\u001b[39;00m key \u001b[38;5;129;01mis\u001b[39;00m \u001b[38;5;28;01mNone\u001b[39;00m \u001b[38;5;129;01mor\u001b[39;00m key \u001b[38;5;129;01mis\u001b[39;00m \u001b[38;5;28;01mNone\u001b[39;00m:\n\u001b[0;32m--> 301\u001b[0m     \u001b[38;5;28;01mraise\u001b[39;00m \u001b[38;5;167;01mException\u001b[39;00m(\u001b[38;5;124m\"\u001b[39m\u001b[38;5;124mMissing/incomplete configuration file: \u001b[39m\u001b[38;5;132;01m%s\u001b[39;00m\u001b[38;5;124m\"\u001b[39m \u001b[38;5;241m%\u001b[39m (dotrc))\n\u001b[1;32m    303\u001b[0m \u001b[38;5;28mself\u001b[39m\u001b[38;5;241m.\u001b[39murl \u001b[38;5;241m=\u001b[39m url\n\u001b[1;32m    304\u001b[0m \u001b[38;5;28mself\u001b[39m\u001b[38;5;241m.\u001b[39mkey \u001b[38;5;241m=\u001b[39m key\n",
      "\u001b[0;31mException\u001b[0m: Missing/incomplete configuration file: /home/marvinmosel/.cdsapirc"
     ]
    }
   ],
   "source": [
    "#https://cds.climate.copernicus.eu/api-how-to\n",
    "\n",
    "import cdstoolbox as ct\n",
    "\n",
    "\n",
    "# Define dictionary of cities to extract data from\n",
    "cities = OrderedDict({\n",
    "    'Timbuktu': {'lat': 16.7666, 'lon': 3.0026},\n",
    "    'Havana': {'lat': 23.1136, 'lon': -82.3666},\n",
    "    'Sydney': {'lat': -33.8688, 'lon': 151.2093},\n",
    "    'Santiago': {'lat': -33.4489, 'lon': -70.6693},\n",
    "    'Reykjavik': {'lat': 64.1466, 'lon': -21.9426},\n",
    "})\n",
    "\n",
    "\n",
    "        \n",
    "data = ct.catalogue.retrieve(\n",
    "    'derived-utci-historical',\n",
    "    {\n",
    "        'version': '1_1',\n",
    "        'year': '2018',\n",
    "        'variable': 'universal_thermal_climate_index',\n",
    "        'product_type': 'consolidated_dataset',\n",
    "        'month': [\n",
    "            '01', '02', '03',\n",
    "            '04', '05', '06',\n",
    "            '07', '08', '09',\n",
    "            '10', '11', '12',\n",
    "        ],\n",
    "        'day': [\n",
    "            '01', '02', '03',\n",
    "            '04', '05', '06',\n",
    "            '07', '08', '09',\n",
    "            '10', '11', '12',\n",
    "            '13', '14', '15',\n",
    "            '16', '17', '18',\n",
    "            '19', '20', '21',\n",
    "            '22', '23', '24',\n",
    "            '25', '26', '27',\n",
    "            '28', '29', '30',\n",
    "            '31',\n",
    "        ],\n",
    "    }\n",
    ")\n",
    "return data"
   ]
  }
 ],
 "metadata": {
  "kernelspec": {
   "display_name": "fairicube-edc-2022.10-14",
   "language": "python",
   "name": "conda-env-fairicube-edc-2022.10-14-py"
  },
  "language_info": {
   "codemirror_mode": {
    "name": "ipython",
    "version": 3
   },
   "file_extension": ".py",
   "mimetype": "text/x-python",
   "name": "python",
   "nbconvert_exporter": "python",
   "pygments_lexer": "ipython3",
   "version": "3.9.15"
  }
 },
 "nbformat": 4,
 "nbformat_minor": 5
}
