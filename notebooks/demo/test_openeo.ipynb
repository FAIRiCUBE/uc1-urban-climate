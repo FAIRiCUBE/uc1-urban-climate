{
 "cells": [
  {
   "cell_type": "code",
   "execution_count": 3,
   "id": "d11af6a2-318e-4b3f-a3e7-5a46e01b780d",
   "metadata": {},
   "outputs": [],
   "source": [
    "import openeo\n",
    "import os\n",
    "\n",
    "connection = openeo.connect('https://jjdxlu8vwl.execute-api.eu-central-1.amazonaws.com/production')"
   ]
  },
  {
   "cell_type": "code",
   "execution_count": 4,
   "id": "ea0d2fe0-76ff-4634-8ece-e27756229b5b",
   "metadata": {
    "tags": []
   },
   "outputs": [
    {
     "data": {
      "text/plain": [
       "<Connection to 'https://jjdxlu8vwl.execute-api.eu-central-1.amazonaws.com/production/' with BasicBearerAuth>"
      ]
     },
     "execution_count": 4,
     "metadata": {},
     "output_type": "execute_result"
    }
   ],
   "source": [
    "connection.authenticate_basic(os.environ.get(\"SH_CLIENT_ID\"), os.environ.get(\"SH_CLIENT_SECRET\"))"
   ]
  },
  {
   "cell_type": "code",
   "execution_count": 8,
   "id": "f89ab70c-45fe-4c5d-9bb9-0a62e8f33579",
   "metadata": {
    "tags": []
   },
   "outputs": [
    {
     "data": {
      "text/plain": [
       "'3f586799-fade-4d35-b'"
      ]
     },
     "execution_count": 8,
     "metadata": {},
     "output_type": "execute_result"
    }
   ],
   "source": [
    "os.environ.get(\"SH_CLIENT_SECRET\")"
   ]
  },
  {
   "cell_type": "code",
   "execution_count": 5,
   "id": "43d5b950-73b2-4362-b340-bbdb07cf5dd9",
   "metadata": {
    "tags": []
   },
   "outputs": [
    {
     "data": {
      "text/plain": [
       "{'default_plan': 'basic',\n",
       " 'info': {'sh_userinfo': {'account': 'd4403346-93d0-4ea6-989b-d7a990989ca6',\n",
       "   'aid': 'd4403346-93d0-4ea6-989b-d7a990989ca6',\n",
       "   'aud': '6b5b6af9-dbf4-4b22-8dde-fa0e5254e9a8',\n",
       "   'd': {'1': {'ra': {'rag': 1}, 't': 13000}},\n",
       "   'did': 1,\n",
       "   'email': 'hub+fic-uc1@eox.at',\n",
       "   'exp': 1699284212,\n",
       "   'jti': '82fba552-3b67-462e-96c7-ebb7638379d9',\n",
       "   'name': 'hub+fic-uc1@eox.at',\n",
       "   'org': 'ebdf909a-d4b6-42e2-aeda-f3e0626af047',\n",
       "   'sid': 'd1f4540c-5074-474e-885a-8d4b6bd1ffd6',\n",
       "   'sub': 'a6e8d88e-0eed-4bd1-bb87-9d1bfbb204ff'}},\n",
       " 'name': 'hub+fic-uc1@eox.at',\n",
       " 'user_id': 'a6e8d88e-0eed-4bd1-bb87-9d1bfbb204ff'}"
      ]
     },
     "execution_count": 5,
     "metadata": {},
     "output_type": "execute_result"
    }
   ],
   "source": [
    "connection.describe_account()"
   ]
  },
  {
   "cell_type": "code",
   "execution_count": 6,
   "id": "c6ecc213-0d89-437f-a9a9-01e6db7cc7fb",
   "metadata": {
    "tags": []
   },
   "outputs": [
    {
     "data": {
      "text/plain": [
       "['SENTINEL2_L2A_MOSAIC_120',\n",
       " 'COPERNICUS_30',\n",
       " 'MAPZEN_DEM',\n",
       " 'SENTINEL1_GRD',\n",
       " 'ALOS_PALSAR2_RICE_PADDY_FIELD_MAP',\n",
       " 'ALOS_PALSAR2_AGRICULTURE',\n",
       " 'ALOS_PALSAR2_L2_1_3M',\n",
       " 'ALOS_PALSAR2_L2_1_10M',\n",
       " 'CAMS_GLC',\n",
       " 'CNR_CHL',\n",
       " 'CNES_LAND_COVER_MAP',\n",
       " 'SENTINEL_5P_CO_T3D_AVERAGE',\n",
       " 'CORINE_LAND_COVER',\n",
       " 'CORINE_LAND_COVER_ACCOUNTING_LAYERS',\n",
       " 'E12C_MOTORWAY',\n",
       " 'E12D_PRIMARY',\n",
       " 'CDS_2M_TEMP_2020',\n",
       " 'ESA_WORLDCOVER_10M_2020_V1',\n",
       " 'GHS_BUILT_S2',\n",
       " 'GLOBAL_LAND_COVER',\n",
       " 'GLOBAL_SURFACE_WATER',\n",
       " 'NASA_HARMONIZED_LANDSAT_SENTINEL',\n",
       " 'DAILY_CUMULATIVE_GAP_FILLED_FRACTIONAL_SNOW_COVER',\n",
       " 'FRACTIONAL_SNOW_COVER',\n",
       " 'PERSISTENT_SNOW_AREA',\n",
       " 'EEA_RIVER_AND_LAKE_ICE_EXTENT_SENTINEL1',\n",
       " 'RIVER_AND_LAKE_ICE_EXTENT_SENTINEL2',\n",
       " 'RIVER_AND_LAKE_ICE_EXTENT_SENTINEL1_SENTINEL2',\n",
       " 'SAR_WET_SNOW_IN_HIGH_MOUNTAINS',\n",
       " 'WET_DRY_SNOW_STATE_CLASSIFICATION',\n",
       " 'ICEYE_GRD_E11',\n",
       " 'ICEYE_GRD_E11A',\n",
       " 'ICEYE_GRD_E13B',\n",
       " 'ICEYE_GRD_E3',\n",
       " 'JAXA_WQ_CHLA_ANOMALY',\n",
       " 'JAXA_WQ_CHLA_AVERAGE',\n",
       " 'JAXA_WQ_TSM_ANOMALY',\n",
       " 'JAXA_WQ_TSM_AVERAGE',\n",
       " 'LANDSAT1-5_MSS_L1',\n",
       " 'LANDSAT4-5_TM_L1',\n",
       " 'LANDSAT4-5_TM_L2',\n",
       " 'LANDSAT7_ETM_L1',\n",
       " 'LANDSAT7_ETM_L2',\n",
       " 'LANDSAT8-9_L1',\n",
       " 'LANDSAT8-9_L2',\n",
       " 'MODIS',\n",
       " 'LTK_NATIONAL_HIGH_RESOLUTION_LAYER',\n",
       " 'POPULATION_DENSITY',\n",
       " 'SENTINEL_5P_CH4_T7D_AVERAGE',\n",
       " 'SENTINEL_5P_NO2_T14D_AVERAGE',\n",
       " 'SEA_ICE_INDEX',\n",
       " 'SEASONAL_TRAJECTORIES',\n",
       " 'SENTINEL1_CARD4L',\n",
       " 'SENTINEL2_L1C_SENTINELHUB',\n",
       " 'SENTINEL2_L1C',\n",
       " 'SENTINEL2_L2A_SENTINELHUB',\n",
       " 'SENTINEL2_L2A',\n",
       " 'SENTINEL3_OLCI_L1B',\n",
       " 'SENTINEL3_SLSTR',\n",
       " 'SENTINEL_5P_L2',\n",
       " 'CNR_TSM',\n",
       " 'VEGETATION_INDICES',\n",
       " 'VEGETATION_PHENOLOGY_AND_PRODUCTIVITY_PARAMETERS_SEASON_1',\n",
       " 'VEGETATION_PHENOLOGY_AND_PRODUCTIVITY_PARAMETERS_SEASON_2',\n",
       " 'EMODNET_VESSEL_DENSITY',\n",
       " 'EMODNET_VESSEL_DENSITY_CARGO',\n",
       " 'EMODNET_VESSEL_DENSITY_OTHER',\n",
       " 'EMODNET_VESSEL_DENSITY_TANKER',\n",
       " 'WATER_BODIES',\n",
       " 'ERA5_WIND_U',\n",
       " 'ERA5_WIND_V',\n",
       " 'PLANETSCOPE',\n",
       " 'PLEIADES',\n",
       " 'SKYSAT',\n",
       " 'SPOT',\n",
       " 'WORLDVIEW']"
      ]
     },
     "execution_count": 6,
     "metadata": {},
     "output_type": "execute_result"
    }
   ],
   "source": [
    "connection.list_collection_ids()"
   ]
  },
  {
   "cell_type": "code",
   "execution_count": 13,
   "id": "36a58973-08b6-49f8-bf24-911001464d44",
   "metadata": {
    "tags": []
   },
   "outputs": [
    {
     "ename": "OpenEoApiError",
     "evalue": "[500] Internal: Server error: float division by zero",
     "output_type": "error",
     "traceback": [
      "\u001b[0;31m---------------------------------------------------------------------------\u001b[0m",
      "\u001b[0;31mOpenEoApiError\u001b[0m                            Traceback (most recent call last)",
      "Cell \u001b[0;32mIn[13], line 5\u001b[0m\n\u001b[1;32m      2\u001b[0m save4 \u001b[38;5;241m=\u001b[39m load3\u001b[38;5;241m.\u001b[39msave_result(\u001b[38;5;28mformat\u001b[39m \u001b[38;5;241m=\u001b[39m \u001b[38;5;124m\"\u001b[39m\u001b[38;5;124mJPEG\u001b[39m\u001b[38;5;124m\"\u001b[39m)\n\u001b[1;32m      4\u001b[0m \u001b[38;5;66;03m# The process can be executed synchronously (see below), as batch job or as web service now\u001b[39;00m\n\u001b[0;32m----> 5\u001b[0m result \u001b[38;5;241m=\u001b[39m \u001b[43mconnection\u001b[49m\u001b[38;5;241;43m.\u001b[39;49m\u001b[43mexecute\u001b[49m\u001b[43m(\u001b[49m\u001b[43msave4\u001b[49m\u001b[43m)\u001b[49m\n",
      "File \u001b[0;32m/home/conda/fairicubeuc1/467086c01351ef630f14ef1c1e2c3607605786e25d92214e8ed7a5ca85b36969-20230703-150612-959289-12-fairicube_env/lib/python3.9/site-packages/openeo/rest/connection.py:1134\u001b[0m, in \u001b[0;36mConnection.execute\u001b[0;34m(self, process_graph)\u001b[0m\n\u001b[1;32m   1126\u001b[0m \u001b[38;5;250m\u001b[39m\u001b[38;5;124;03m\"\"\"\u001b[39;00m\n\u001b[1;32m   1127\u001b[0m \u001b[38;5;124;03mExecute a process graph synchronously and return the result (assumed to be JSON).\u001b[39;00m\n\u001b[1;32m   1128\u001b[0m \n\u001b[0;32m   (...)\u001b[0m\n\u001b[1;32m   1131\u001b[0m \u001b[38;5;124;03m:return: parsed JSON response\u001b[39;00m\n\u001b[1;32m   1132\u001b[0m \u001b[38;5;124;03m\"\"\"\u001b[39;00m\n\u001b[1;32m   1133\u001b[0m req \u001b[38;5;241m=\u001b[39m \u001b[38;5;28mself\u001b[39m\u001b[38;5;241m.\u001b[39m_build_request_with_process_graph(process_graph\u001b[38;5;241m=\u001b[39mprocess_graph)\n\u001b[0;32m-> 1134\u001b[0m \u001b[38;5;28;01mreturn\u001b[39;00m \u001b[38;5;28;43mself\u001b[39;49m\u001b[38;5;241;43m.\u001b[39;49m\u001b[43mpost\u001b[49m\u001b[43m(\u001b[49m\u001b[43mpath\u001b[49m\u001b[38;5;241;43m=\u001b[39;49m\u001b[38;5;124;43m\"\u001b[39;49m\u001b[38;5;124;43m/result\u001b[39;49m\u001b[38;5;124;43m\"\u001b[39;49m\u001b[43m,\u001b[49m\u001b[43m \u001b[49m\u001b[43mjson\u001b[49m\u001b[38;5;241;43m=\u001b[39;49m\u001b[43mreq\u001b[49m\u001b[43m,\u001b[49m\u001b[43m \u001b[49m\u001b[43mexpected_status\u001b[49m\u001b[38;5;241;43m=\u001b[39;49m\u001b[38;5;241;43m200\u001b[39;49m\u001b[43m)\u001b[49m\u001b[38;5;241m.\u001b[39mjson()\n",
      "File \u001b[0;32m/home/conda/fairicubeuc1/467086c01351ef630f14ef1c1e2c3607605786e25d92214e8ed7a5ca85b36969-20230703-150612-959289-12-fairicube_env/lib/python3.9/site-packages/openeo/rest/connection.py:173\u001b[0m, in \u001b[0;36mRestApiConnection.post\u001b[0;34m(self, path, json, **kwargs)\u001b[0m\n\u001b[1;32m    165\u001b[0m \u001b[38;5;28;01mdef\u001b[39;00m \u001b[38;5;21mpost\u001b[39m(\u001b[38;5;28mself\u001b[39m, path, json: \u001b[38;5;28mdict\u001b[39m \u001b[38;5;241m=\u001b[39m \u001b[38;5;28;01mNone\u001b[39;00m, \u001b[38;5;241m*\u001b[39m\u001b[38;5;241m*\u001b[39mkwargs) \u001b[38;5;241m-\u001b[39m\u001b[38;5;241m>\u001b[39m Response:\n\u001b[1;32m    166\u001b[0m \u001b[38;5;250m    \u001b[39m\u001b[38;5;124;03m\"\"\"\u001b[39;00m\n\u001b[1;32m    167\u001b[0m \u001b[38;5;124;03m    Do POST request to REST API.\u001b[39;00m\n\u001b[1;32m    168\u001b[0m \n\u001b[0;32m   (...)\u001b[0m\n\u001b[1;32m    171\u001b[0m \u001b[38;5;124;03m    :return: response: Response\u001b[39;00m\n\u001b[1;32m    172\u001b[0m \u001b[38;5;124;03m    \"\"\"\u001b[39;00m\n\u001b[0;32m--> 173\u001b[0m     \u001b[38;5;28;01mreturn\u001b[39;00m \u001b[38;5;28;43mself\u001b[39;49m\u001b[38;5;241;43m.\u001b[39;49m\u001b[43mrequest\u001b[49m\u001b[43m(\u001b[49m\u001b[38;5;124;43m\"\u001b[39;49m\u001b[38;5;124;43mpost\u001b[39;49m\u001b[38;5;124;43m\"\u001b[39;49m\u001b[43m,\u001b[49m\u001b[43m \u001b[49m\u001b[43mpath\u001b[49m\u001b[38;5;241;43m=\u001b[39;49m\u001b[43mpath\u001b[49m\u001b[43m,\u001b[49m\u001b[43m \u001b[49m\u001b[43mjson\u001b[49m\u001b[38;5;241;43m=\u001b[39;49m\u001b[43mjson\u001b[49m\u001b[43m,\u001b[49m\u001b[43m \u001b[49m\u001b[43mallow_redirects\u001b[49m\u001b[38;5;241;43m=\u001b[39;49m\u001b[38;5;28;43;01mFalse\u001b[39;49;00m\u001b[43m,\u001b[49m\u001b[43m \u001b[49m\u001b[38;5;241;43m*\u001b[39;49m\u001b[38;5;241;43m*\u001b[39;49m\u001b[43mkwargs\u001b[49m\u001b[43m)\u001b[49m\n",
      "File \u001b[0;32m/home/conda/fairicubeuc1/467086c01351ef630f14ef1c1e2c3607605786e25d92214e8ed7a5ca85b36969-20230703-150612-959289-12-fairicube_env/lib/python3.9/site-packages/openeo/rest/connection.py:602\u001b[0m, in \u001b[0;36mConnection.request\u001b[0;34m(self, method, path, headers, auth, check_error, expected_status, **kwargs)\u001b[0m\n\u001b[1;32m    595\u001b[0m     \u001b[38;5;28;01mreturn\u001b[39;00m \u001b[38;5;28msuper\u001b[39m(Connection, \u001b[38;5;28mself\u001b[39m)\u001b[38;5;241m.\u001b[39mrequest(\n\u001b[1;32m    596\u001b[0m         method\u001b[38;5;241m=\u001b[39mmethod, path\u001b[38;5;241m=\u001b[39mpath, headers\u001b[38;5;241m=\u001b[39mheaders, auth\u001b[38;5;241m=\u001b[39mauth,\n\u001b[1;32m    597\u001b[0m         check_error\u001b[38;5;241m=\u001b[39mcheck_error, expected_status\u001b[38;5;241m=\u001b[39mexpected_status, \u001b[38;5;241m*\u001b[39m\u001b[38;5;241m*\u001b[39mkwargs,\n\u001b[1;32m    598\u001b[0m     )\n\u001b[1;32m    600\u001b[0m \u001b[38;5;28;01mtry\u001b[39;00m:\n\u001b[1;32m    601\u001b[0m     \u001b[38;5;66;03m# Initial request attempt\u001b[39;00m\n\u001b[0;32m--> 602\u001b[0m     \u001b[38;5;28;01mreturn\u001b[39;00m \u001b[43m_request\u001b[49m\u001b[43m(\u001b[49m\u001b[43m)\u001b[49m\n\u001b[1;32m    603\u001b[0m \u001b[38;5;28;01mexcept\u001b[39;00m OpenEoApiError \u001b[38;5;28;01mas\u001b[39;00m api_exc:\n\u001b[1;32m    604\u001b[0m     \u001b[38;5;28;01mif\u001b[39;00m api_exc\u001b[38;5;241m.\u001b[39mhttp_status_code \u001b[38;5;241m==\u001b[39m \u001b[38;5;241m403\u001b[39m \u001b[38;5;129;01mand\u001b[39;00m api_exc\u001b[38;5;241m.\u001b[39mcode \u001b[38;5;241m==\u001b[39m \u001b[38;5;124m\"\u001b[39m\u001b[38;5;124mTokenInvalid\u001b[39m\u001b[38;5;124m\"\u001b[39m:\n\u001b[1;32m    605\u001b[0m         \u001b[38;5;66;03m# Auth token expired: can we refresh?\u001b[39;00m\n",
      "File \u001b[0;32m/home/conda/fairicubeuc1/467086c01351ef630f14ef1c1e2c3607605786e25d92214e8ed7a5ca85b36969-20230703-150612-959289-12-fairicube_env/lib/python3.9/site-packages/openeo/rest/connection.py:595\u001b[0m, in \u001b[0;36mConnection.request.<locals>._request\u001b[0;34m()\u001b[0m\n\u001b[1;32m    594\u001b[0m \u001b[38;5;28;01mdef\u001b[39;00m \u001b[38;5;21m_request\u001b[39m():\n\u001b[0;32m--> 595\u001b[0m     \u001b[38;5;28;01mreturn\u001b[39;00m \u001b[38;5;28;43msuper\u001b[39;49m\u001b[43m(\u001b[49m\u001b[43mConnection\u001b[49m\u001b[43m,\u001b[49m\u001b[43m \u001b[49m\u001b[38;5;28;43mself\u001b[39;49m\u001b[43m)\u001b[49m\u001b[38;5;241;43m.\u001b[39;49m\u001b[43mrequest\u001b[49m\u001b[43m(\u001b[49m\n\u001b[1;32m    596\u001b[0m \u001b[43m        \u001b[49m\u001b[43mmethod\u001b[49m\u001b[38;5;241;43m=\u001b[39;49m\u001b[43mmethod\u001b[49m\u001b[43m,\u001b[49m\u001b[43m \u001b[49m\u001b[43mpath\u001b[49m\u001b[38;5;241;43m=\u001b[39;49m\u001b[43mpath\u001b[49m\u001b[43m,\u001b[49m\u001b[43m \u001b[49m\u001b[43mheaders\u001b[49m\u001b[38;5;241;43m=\u001b[39;49m\u001b[43mheaders\u001b[49m\u001b[43m,\u001b[49m\u001b[43m \u001b[49m\u001b[43mauth\u001b[49m\u001b[38;5;241;43m=\u001b[39;49m\u001b[43mauth\u001b[49m\u001b[43m,\u001b[49m\n\u001b[1;32m    597\u001b[0m \u001b[43m        \u001b[49m\u001b[43mcheck_error\u001b[49m\u001b[38;5;241;43m=\u001b[39;49m\u001b[43mcheck_error\u001b[49m\u001b[43m,\u001b[49m\u001b[43m \u001b[49m\u001b[43mexpected_status\u001b[49m\u001b[38;5;241;43m=\u001b[39;49m\u001b[43mexpected_status\u001b[49m\u001b[43m,\u001b[49m\u001b[43m \u001b[49m\u001b[38;5;241;43m*\u001b[39;49m\u001b[38;5;241;43m*\u001b[39;49m\u001b[43mkwargs\u001b[49m\u001b[43m,\u001b[49m\n\u001b[1;32m    598\u001b[0m \u001b[43m    \u001b[49m\u001b[43m)\u001b[49m\n",
      "File \u001b[0;32m/home/conda/fairicubeuc1/467086c01351ef630f14ef1c1e2c3607605786e25d92214e8ed7a5ca85b36969-20230703-150612-959289-12-fairicube_env/lib/python3.9/site-packages/openeo/rest/connection.py:121\u001b[0m, in \u001b[0;36mRestApiConnection.request\u001b[0;34m(self, method, path, headers, auth, check_error, expected_status, **kwargs)\u001b[0m\n\u001b[1;32m    119\u001b[0m expected_status \u001b[38;5;241m=\u001b[39m ensure_list(expected_status) \u001b[38;5;28;01mif\u001b[39;00m expected_status \u001b[38;5;28;01melse\u001b[39;00m []\n\u001b[1;32m    120\u001b[0m \u001b[38;5;28;01mif\u001b[39;00m check_error \u001b[38;5;129;01mand\u001b[39;00m status \u001b[38;5;241m>\u001b[39m\u001b[38;5;241m=\u001b[39m \u001b[38;5;241m400\u001b[39m \u001b[38;5;129;01mand\u001b[39;00m status \u001b[38;5;129;01mnot\u001b[39;00m \u001b[38;5;129;01min\u001b[39;00m expected_status:\n\u001b[0;32m--> 121\u001b[0m     \u001b[38;5;28;43mself\u001b[39;49m\u001b[38;5;241;43m.\u001b[39;49m\u001b[43m_raise_api_error\u001b[49m\u001b[43m(\u001b[49m\u001b[43mresp\u001b[49m\u001b[43m)\u001b[49m\n\u001b[1;32m    122\u001b[0m \u001b[38;5;28;01mif\u001b[39;00m expected_status \u001b[38;5;129;01mand\u001b[39;00m status \u001b[38;5;129;01mnot\u001b[39;00m \u001b[38;5;129;01min\u001b[39;00m expected_status:\n\u001b[1;32m    123\u001b[0m     \u001b[38;5;28;01mraise\u001b[39;00m OpenEoRestError(\u001b[38;5;124m\"\u001b[39m\u001b[38;5;124mGot status code \u001b[39m\u001b[38;5;132;01m{s!r}\u001b[39;00m\u001b[38;5;124m for `\u001b[39m\u001b[38;5;132;01m{m}\u001b[39;00m\u001b[38;5;124m \u001b[39m\u001b[38;5;132;01m{p}\u001b[39;00m\u001b[38;5;124m` (expected \u001b[39m\u001b[38;5;132;01m{e!r}\u001b[39;00m\u001b[38;5;124m)\u001b[39m\u001b[38;5;124m\"\u001b[39m\u001b[38;5;241m.\u001b[39mformat(\n\u001b[1;32m    124\u001b[0m         m\u001b[38;5;241m=\u001b[39mmethod\u001b[38;5;241m.\u001b[39mupper(), p\u001b[38;5;241m=\u001b[39mpath, s\u001b[38;5;241m=\u001b[39mstatus, e\u001b[38;5;241m=\u001b[39mexpected_status)\n\u001b[1;32m    125\u001b[0m     )\n",
      "File \u001b[0;32m/home/conda/fairicubeuc1/467086c01351ef630f14ef1c1e2c3607605786e25d92214e8ed7a5ca85b36969-20230703-150612-959289-12-fairicube_env/lib/python3.9/site-packages/openeo/rest/connection.py:152\u001b[0m, in \u001b[0;36mRestApiConnection._raise_api_error\u001b[0;34m(self, response)\u001b[0m\n\u001b[1;32m    150\u001b[0m     \u001b[38;5;28;01melse\u001b[39;00m:\n\u001b[1;32m    151\u001b[0m         exception \u001b[38;5;241m=\u001b[39m OpenEoApiError(http_status_code\u001b[38;5;241m=\u001b[39mstatus_code, message\u001b[38;5;241m=\u001b[39mtext)\n\u001b[0;32m--> 152\u001b[0m \u001b[38;5;28;01mraise\u001b[39;00m exception\n",
      "\u001b[0;31mOpenEoApiError\u001b[0m: [500] Internal: Server error: float division by zero"
     ]
    }
   ],
   "source": [
    "load3 = connection.load_collection(collection_id = \"CORINE_LAND_COVER\", spatial_extent = {\"west\": 9.499417983692984, \"east\": 10.008531582266272, \"south\": 45.78152722575442, \"north\": 46.12560220280517}, temporal_extent = [\"2017-01-01T00:00:00Z\", \"2018-12-01T00:00:00Z\"], bands = [\"CLC\"])\n",
    "save4 = load3.save_result(format = \"JPEG\")\n",
    "\n",
    "# The process can be executed synchronously (see below), as batch job or as web service now\n",
    "result = connection.execute(save4)"
   ]
  },
  {
   "cell_type": "code",
   "execution_count": 11,
   "id": "957e3b05-9e99-45e4-9244-4fed704ca68a",
   "metadata": {
    "tags": []
   },
   "outputs": [
    {
     "data": {
      "text/plain": [
       "<openeo.rest.datacube.DataCube at 0x7fa552d7fd60>"
      ]
     },
     "execution_count": 11,
     "metadata": {},
     "output_type": "execute_result"
    }
   ],
   "source": [
    "save4"
   ]
  }
 ],
 "metadata": {
  "kernelspec": {
   "display_name": "fairicubeuc1-fairicube_env",
   "language": "python",
   "name": "conda-env-fairicubeuc1-fairicube_env-py"
  },
  "language_info": {
   "codemirror_mode": {
    "name": "ipython",
    "version": 3
   },
   "file_extension": ".py",
   "mimetype": "text/x-python",
   "name": "python",
   "nbconvert_exporter": "python",
   "pygments_lexer": "ipython3",
   "version": "3.9.15"
  }
 },
 "nbformat": 4,
 "nbformat_minor": 5
}
