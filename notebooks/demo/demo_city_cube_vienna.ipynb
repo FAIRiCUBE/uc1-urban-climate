{
 "cells": [
  {
   "cell_type": "markdown",
   "id": "9555d621-9e2b-4d56-89d4-e7037c915293",
   "metadata": {},
   "source": [
    "# Exploring CITY CUBE \n",
    "This notebook explores the city cube. \n",
    "\n"
   ]
  },
  {
   "cell_type": "markdown",
   "id": "106d5d54-ca76-4873-8b84-e8cbc4df1446",
   "metadata": {
    "tags": []
   },
   "source": [
    " (1) reading single city \"dimensions\":"
   ]
  },
  {
   "cell_type": "code",
   "execution_count": 6,
   "id": "3d09be21-387f-41a5-8c63-b2cfbeeeca3e",
   "metadata": {
    "tags": []
   },
   "outputs": [],
   "source": [
    "from fs_s3fs import S3FS\n",
    "import xarray as xr\n",
    "import os\n",
    "import boto3\n",
    "\n",
    "\n",
    "\n",
    "#https://towardsdatascience.com/reading-and-writing-files-from-to-amazon-s3-with-pandas-ccaf90bfe86c\n",
    "\n",
    "AWS_S3_BUCKET = os.getenv(\"AWS_S3_BUCKET\")\n",
    "AWS_ACCESS_KEY_ID = os.getenv(\"AWS_ACCESS_KEY_ID\")\n",
    "AWS_SECRET_ACCESS_KEY = os.getenv(\"AWS_SECRET_ACCESS_KEY\")\n",
    "AWS_SESSION_TOKEN = os.getenv(\"AWS_SESSION_TOKEN\")\n",
    "\n",
    "\n",
    "\n"
   ]
  },
  {
   "cell_type": "markdown",
   "id": "d705f164-6d82-4c3e-9a2a-31102dc4a061",
   "metadata": {},
   "source": [
    "\n"
   ]
  }
 ],
 "metadata": {
  "kernelspec": {
   "display_name": "fairicubeuc1-fairicube_env",
   "language": "python",
   "name": "conda-env-fairicubeuc1-fairicube_env-py"
  },
  "language_info": {
   "codemirror_mode": {
    "name": "ipython",
    "version": 3
   },
   "file_extension": ".py",
   "mimetype": "text/x-python",
   "name": "python",
   "nbconvert_exporter": "python",
   "pygments_lexer": "ipython3",
   "version": "3.9.15"
  }
 },
 "nbformat": 4,
 "nbformat_minor": 5
}
