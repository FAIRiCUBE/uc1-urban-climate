{
 "cells": [
  {
   "cell_type": "markdown",
   "id": "3797d4ae-dbf6-40f8-8c55-0951af02ef1a",
   "metadata": {},
   "source": [
    "# SentinelHub Statistical API\n",
    "\n",
    "## Resources\n",
    "- SentinelHub Documentation (higher level): https://docs.sentinel-hub.com/api/latest/api/statistical/\n",
    "- request builder: https://apps.sentinel-hub.com/requests-builder/\n",
    "- SentinelHub Python documentation, Statistical API <https://sentinelhub-py.readthedocs.io/en/latest/examples/statistical_request.html>\n",
    "\n",
    "## Notes\n",
    "Catalog API and Statistical API require a time argument. When using BYOC data, make sure that `fromSensingTime` and `toSensingTime` are not null, otherwise the Statistical API return empty data."
   ]
  },
  {
   "cell_type": "markdown",
   "id": "3066ede2",
   "metadata": {},
   "source": [
    "## 1. SentinelHub configuration"
   ]
  },
  {
   "cell_type": "code",
   "execution_count": 1,
   "id": "995a9642-c346-47bb-98fc-d0c881b12e7b",
   "metadata": {
    "tags": []
   },
   "outputs": [],
   "source": [
    "# Configure plots for inline use in Jupyter Notebook\n",
    "%matplotlib inline\n",
    "\n",
    "import datetime as dt\n",
    "\n",
    "# Utilities\n",
    "import boto3\n",
    "import dateutil\n",
    "import geopandas as gpd\n",
    "import matplotlib.pyplot as plt\n",
    "import pandas as pd\n",
    "import os\n",
    "import rasterio\n",
    "# Various utilities\n",
    "import json\n",
    "import xarray as xr\n",
    "import shapely.geometry\n",
    "import IPython.display\n",
    "import zarr\n",
    "\n",
    "# Sentinel Hub\n",
    "from sentinelhub import (\n",
    "    CRS,\n",
    "    BBox,\n",
    "    ByocCollection,\n",
    "    ByocCollectionAdditionalData,\n",
    "    ByocCollectionBand,\n",
    "    ByocTile,\n",
    "    DataCollection,\n",
    "    DownloadFailedException,\n",
    "    MimeType,\n",
    "    SentinelHubBYOC,\n",
    "    SentinelHubRequest,\n",
    "    SentinelHubStatistical,\n",
    "    SHConfig,\n",
    "    bbox_to_dimensions,\n",
    "    os_utils,\n",
    ")\n",
    "\n",
    "# The following is not a package. It is a file utils.py which should be in the same folder as this notebook.\n",
    "# from utils import plot_image\n",
    "\n",
    "config = SHConfig()\n",
    "config.instance_id = os.environ.get(\"SH_INSTANCE_ID\")\n",
    "config.sh_client_id = os.environ.get(\"SH_CLIENT_ID\")\n",
    "config.sh_client_secret = os.environ.get(\"SH_CLIENT_SECRET\")\n",
    "config.aws_access_key_id = os.environ.get(\"username\")\n",
    "config.aws_secret_access_key = os.environ.get(\"password\")\n",
    "\n",
    "## helper function\n",
    "def stats_to_df(stats_data):\n",
    "    \"\"\"Transform Statistical API response into a pandas.DataFrame\"\"\"\n",
    "    df_data = []\n",
    "\n",
    "    for single_data in stats_data[\"data\"]:\n",
    "        df_entry = {}\n",
    "        is_valid_entry = True\n",
    "\n",
    "        df_entry[\"interval_from\"] = parse_time(single_data[\"interval\"][\"from\"]).date()\n",
    "        df_entry[\"interval_to\"] = parse_time(single_data[\"interval\"][\"to\"]).date()\n",
    "\n",
    "        for output_name, output_data in single_data[\"outputs\"].items():\n",
    "            for band_name, band_values in output_data[\"bands\"].items():\n",
    "                band_stats = band_values[\"stats\"]\n",
    "                if band_stats[\"sampleCount\"] == band_stats[\"noDataCount\"]:\n",
    "                    is_valid_entry = False\n",
    "                    break\n",
    "\n",
    "                for stat_name, value in band_stats.items():\n",
    "                    col_name = f\"{output_name}_{band_name}_{stat_name}\"\n",
    "                    if stat_name == \"percentiles\":\n",
    "                        for perc, perc_val in value.items():\n",
    "                            perc_col_name = f\"{col_name}_{perc}\"\n",
    "                            df_entry[perc_col_name] = perc_val\n",
    "                    else:\n",
    "                        df_entry[col_name] = value\n",
    "\n",
    "        if is_valid_entry:\n",
    "            df_data.append(df_entry)\n",
    "\n",
    "    return pd.DataFrame(df_data)\n"
   ]
  },
  {
   "cell_type": "markdown",
   "id": "173d98c4",
   "metadata": {},
   "source": [
    "## 2. Define AOI and visualize it"
   ]
  },
  {
   "cell_type": "markdown",
   "id": "4a7a709c-c76d-40a3-b95e-3f089255664e",
   "metadata": {},
   "source": [
    "### Define bounding box"
   ]
  },
  {
   "cell_type": "code",
   "execution_count": 2,
   "id": "0f1c3158-d8e8-468a-90b5-39c1f87e8177",
   "metadata": {
    "tags": []
   },
   "outputs": [
    {
     "name": "stdout",
     "output_type": "stream",
     "text": [
      "Image shape at 60 m resolution: (962, 1111) pixels\n"
     ]
    },
    {
     "data": {
      "application/geo+json": {
       "coordinates": [
        [
         [
          12.541001,
          62.870072
         ],
         [
          12.541001,
          63.444063
         ],
         [
          11.335796,
          63.444063
         ],
         [
          11.335796,
          62.870072
         ],
         [
          12.541001,
          62.870072
         ]
        ]
       ],
       "type": "Polygon"
      },
      "text/plain": [
       "<IPython.display.GeoJSON object>"
      ]
     },
     "metadata": {
      "application/geo+json": {
       "expanded": false,
       "root": "root"
      }
     },
     "output_type": "display_data"
    }
   ],
   "source": [
    "bbox = BBox(bbox=[11.335796, 62.870072, 12.541001, 63.444063], crs=CRS.WGS84)\n",
    "\n",
    "resolution = 60\n",
    "bbox = BBox(bbox=bbox, crs=CRS.WGS84)\n",
    "size = bbox_to_dimensions(bbox, resolution=resolution)\n",
    "print(f\"Image shape at {resolution} m resolution: {size} pixels\")\n",
    "\n",
    "IPython.display.GeoJSON(shapely.geometry.box(*bbox).__geo_interface__)"
   ]
  },
  {
   "cell_type": "markdown",
   "id": "58993230",
   "metadata": {},
   "source": [
    "## 3. Prepare collections\n",
    "### 3.1 BYOC collection\n",
    "- Collection name: UrbanAtlas2018_10m_raster\n",
    "- CollectionId: bc4099db-f686-4e66-99a6-387a11eb2067"
   ]
  },
  {
   "cell_type": "code",
   "execution_count": 7,
   "id": "ceab0674",
   "metadata": {},
   "outputs": [
    {
     "data": {
      "text/plain": [
       "<DataCollection.UrbanAtlas2018_10m_raster: DataCollectionDefinition(\n",
       "  api_id: byoc-78545a11-1e57-4ed0-a3ce-68c2e305216b\n",
       "  catalog_id: byoc-78545a11-1e57-4ed0-a3ce-68c2e305216b\n",
       "  wfs_id: byoc-78545a11-1e57-4ed0-a3ce-68c2e305216b\n",
       "  collection_type: BYOC\n",
       "  collection_id: 78545a11-1e57-4ed0-a3ce-68c2e305216b\n",
       "  is_timeless: True\n",
       "  has_cloud_coverage: False\n",
       ")>"
      ]
     },
     "execution_count": 7,
     "metadata": {},
     "output_type": "execute_result"
    }
   ],
   "source": [
    "collection_id_UA = \"78545a11-1e57-4ed0-a3ce-68c2e305216b\"\n",
    "collection_name_UA = \"UrbanAtlas2018_10m_raster\"\n",
    "data_collection_UA = DataCollection.define_byoc(collection_id_UA, name=collection_name_UA, is_timeless = True)\n",
    "data_collection_UA"
   ]
  },
  {
   "cell_type": "markdown",
   "id": "9e76618d-b91e-4544-8cdf-9b304483836b",
   "metadata": {},
   "source": [
    "CheCheck that `fromSensingTime` and `toSensingTime` are not null"
   ]
  },
  {
   "cell_type": "code",
   "execution_count": 4,
   "id": "1daa0676-a199-4da5-8d1c-ae08d0e419bd",
   "metadata": {},
   "outputs": [
    {
     "data": {
      "text/plain": [
       "{'bands': {'B1': {'bitDepth': 16,\n",
       "   'source': 'B1',\n",
       "   'bandIndex': 1,\n",
       "   'sampleFormat': 'UINT'}},\n",
       " 'maxMetersPerPixel': 6400.0,\n",
       " 'extent': {'type': 'Polygon',\n",
       "  'coordinates': [[[-49.396508783, 26.176870268],\n",
       "    [-49.396508783, 70.57381085],\n",
       "    [67.130764957, 70.57381085],\n",
       "    [67.130764957, 26.176870268],\n",
       "    [-49.396508783, 26.176870268]]]},\n",
       " 'fromSensingTime': '2018-01-01T00:00:00Z',\n",
       " 'toSensingTime': '2018-01-01T00:00:00Z',\n",
       " 'hasSensingTimes': 'YES'}"
      ]
     },
     "execution_count": 4,
     "metadata": {},
     "output_type": "execute_result"
    }
   ],
   "source": [
    "# list band names of the collection\n",
    "byoc = SentinelHubBYOC(config=config)\n",
    "collection = byoc.get_collection(collection_id_UA)\n",
    "collection[\"additionalData\"]"
   ]
  },
  {
   "cell_type": "code",
   "execution_count": 5,
   "id": "76c321f4-8be3-4c33-adc3-53710395a7c3",
   "metadata": {},
   "outputs": [
    {
     "data": {
      "text/plain": [
       "<DataCollection.Population_density: DataCollectionDefinition(\n",
       "  api_id: byoc-b468089b-2627-4787-b984-89c10434f6c6\n",
       "  catalog_id: byoc-b468089b-2627-4787-b984-89c10434f6c6\n",
       "  wfs_id: byoc-b468089b-2627-4787-b984-89c10434f6c6\n",
       "  collection_type: BYOC\n",
       "  collection_id: b468089b-2627-4787-b984-89c10434f6c6\n",
       "  is_timeless: False\n",
       "  has_cloud_coverage: False\n",
       ")>"
      ]
     },
     "execution_count": 5,
     "metadata": {},
     "output_type": "execute_result"
    }
   ],
   "source": [
    "# copy CollectionId from FAIRiCube catalog https://catalog.fairicube.eu/\n",
    "collection_id_popdens = \"b468089b-2627-4787-b984-89c10434f6c6\"\n",
    "collection_name_popdens = \"Population_density\"\n",
    "# define collection\n",
    "data_collection_popdens = DataCollection.define_byoc(collection_id_popdens, name=collection_name_popdens)\n",
    "data_collection_popdens"
   ]
  },
  {
   "cell_type": "markdown",
   "id": "61f822ec-31ec-465e-8ef4-c1afebe249a5",
   "metadata": {},
   "source": [
    "## Compute statistics"
   ]
  },
  {
   "cell_type": "code",
   "execution_count": 12,
   "id": "6758a60a-5b72-4a92-8de4-7712a5d27382",
   "metadata": {},
   "outputs": [
    {
     "data": {
      "text/plain": [
       "{'data': [{'interval': {'from': '2020-05-01T00:00:00Z',\n",
       "    'to': '2020-05-02T00:00:00Z'},\n",
       "   'outputs': {'populationDensity': {'bands': {'B0': {'stats': {'min': 0.0,\n",
       "        'max': 27.0,\n",
       "        'mean': 2.2661188156239094,\n",
       "        'stDev': 3.91440397395676,\n",
       "        'sampleCount': 1068782,\n",
       "        'noDataCount': 0}}}}}}],\n",
       " 'status': 'OK'}"
      ]
     },
     "execution_count": 12,
     "metadata": {},
     "output_type": "execute_result"
    }
   ],
   "source": [
    "evalscript = \"\"\"\n",
    "\n",
    "//VERSION=3\n",
    "function setup() {\n",
    "  return {\n",
    "    input: [{\n",
    "    bands: [\n",
    "    \"B1\",\n",
    "    \"dataMask\"\n",
    "    ]\n",
    "    }],\n",
    "    output: [{ \n",
    "        id: \"UA\",\n",
    "        bands: 1,\n",
    "        sampleType: \"UINT16\" // raster format will be UINT16\n",
    "        },\n",
    "        {\n",
    "        id: \"dataMask\",\n",
    "        bands: 1}]\n",
    "    \n",
    "  };\n",
    "}\n",
    "\n",
    "function evaluatePixel(sample) {\n",
    "  return {\n",
    "    UA: [sample.B1],\n",
    "    dataMask: [sample.dataMask]\n",
    "    };\n",
    "}\n",
    "\"\"\"\n",
    "\n",
    "request = SentinelHubStatistical(\n",
    "    aggregation=SentinelHubStatistical.aggregation(\n",
    "        evalscript=evalscript,\n",
    "        time_interval=(\"2018-01-01\", \"2018-05-01\"),\n",
    "        aggregation_interval=\"P1D\",\n",
    "        size=size\n",
    "    ),\n",
    "    input_data=[SentinelHubStatistical.input_data(DataCollection.UrbanAtlas2018_10m_raster)],\n",
    "    bbox=bbox,\n",
    "    config=config,\n",
    ")\n",
    "\n",
    "data = request.get_data()[0]\n",
    "data"
   ]
  },
  {
   "cell_type": "markdown",
   "id": "d0aabce3-e7cd-489c-a501-914d3630b602",
   "metadata": {},
   "source": [
    "### Compute histograms\n",
    "For other example uses of Statistical API see <https://docs.sentinel-hub.com/api/latest/api/statistical/examples/> "
   ]
  },
  {
   "cell_type": "code",
   "execution_count": 14,
   "id": "38660d0b-c0fb-4049-aeb4-19f184d2a593",
   "metadata": {
    "tags": []
   },
   "outputs": [
    {
     "data": {
      "text/plain": [
       "{'data': [{'interval': {'from': '2020-05-01T00:00:00Z',\n",
       "    'to': '2020-05-02T00:00:00Z'},\n",
       "   'outputs': {'populationDensity': {'bands': {'B0': {'stats': {'min': 0.0,\n",
       "        'max': 27.0,\n",
       "        'mean': 2.2661188156239094,\n",
       "        'stDev': 3.91440397395676,\n",
       "        'sampleCount': 1068782,\n",
       "        'noDataCount': 0},\n",
       "       'histogram': {'bins': [{'lowEdge': 0, 'highEdge': 10, 'count': 1042261},\n",
       "         {'lowEdge': 10, 'highEdge': 20, 'count': 1171},\n",
       "         {'lowEdge': 20, 'highEdge': 30, 'count': 25350}],\n",
       "        'overflowCount': 0,\n",
       "        'underflowCount': 0}}}}}}],\n",
       " 'status': 'OK'}"
      ]
     },
     "execution_count": 14,
     "metadata": {},
     "output_type": "execute_result"
    }
   ],
   "source": [
    "calculations = {\n",
    "    \"default\": {\n",
    "        \"histograms\": {\n",
    "            \"default\": {\n",
    "                \"binWidth\": \"10\",\n",
    "                # \"lowEdge\": \"0\",\n",
    "                # \"highEdge\": \"101\" #histogram interval is [lowEdge, highEdge) that is, highEdge value excluded\n",
    "            }\n",
    "        }\n",
    "    }\n",
    "}\n",
    "    \n",
    "evalscript = \"\"\"\n",
    "\n",
    "//VERSION=3\n",
    "function setup() {\n",
    "  return {\n",
    "    input: [{\n",
    "    bands: [\n",
    "    \"populationDensity\",\n",
    "    \"dataMask\"\n",
    "    ]\n",
    "    }],\n",
    "    output: [{ \n",
    "        id: \"populationDensity\",\n",
    "        bands: 1,\n",
    "        sampleType: \"UINT16\" // raster format will be UINT16\n",
    "        },\n",
    "        {\n",
    "        id: \"dataMask\",\n",
    "        bands: 1}]\n",
    "    \n",
    "  };\n",
    "}\n",
    "\n",
    "function evaluatePixel(sample) {\n",
    "  return {\n",
    "    populationDensity: [sample.populationDensity],\n",
    "    dataMask: [sample.dataMask]\n",
    "    };\n",
    "}\n",
    "\"\"\"\n",
    "\n",
    "request = SentinelHubStatistical(\n",
    "    aggregation=SentinelHubStatistical.aggregation(\n",
    "        evalscript=evalscript,\n",
    "        time_interval=(\"2020-01-01\", \"2020-12-01\"),\n",
    "        aggregation_interval=\"P1D\",\n",
    "        size=size\n",
    "    ),\n",
    "    input_data=[SentinelHubStatistical.input_data(data_collection_popdens)],\n",
    "    bbox=bbox,\n",
    "    calculations=calculations,\n",
    "    config=config,\n",
    ")\n",
    "\n",
    "data = request.get_data()[0]\n",
    "data"
   ]
  }
 ],
 "metadata": {
  "kernelspec": {
   "display_name": "fairicube-edc-2022.10-14",
   "language": "python",
   "name": "conda-env-fairicube-edc-2022.10-14-py"
  },
  "language_info": {
   "codemirror_mode": {
    "name": "ipython",
    "version": 3
   },
   "file_extension": ".py",
   "mimetype": "text/x-python",
   "name": "python",
   "nbconvert_exporter": "python",
   "pygments_lexer": "ipython3",
   "version": "3.9.15"
  }
 },
 "nbformat": 4,
 "nbformat_minor": 5
}
