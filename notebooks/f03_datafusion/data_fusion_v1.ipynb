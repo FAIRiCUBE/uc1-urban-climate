{
 "cells": [
  {
   "cell_type": "markdown",
   "id": "3797d4ae-dbf6-40f8-8c55-0951af02ef1a",
   "metadata": {},
   "source": [
    "# Virtual datacube: process multiple collections in one SentinelHub request\n",
    "## Outline\n",
    "1. SentinelHub configuration\n",
    "2. Define AOI\n",
    "3. Prepare collections\n",
    "   1. BYOC collections\n",
    "   2. FAIRiCube collections\n",
    "3. Request collections (data fusion)\n",
    "\n",
    "## Resources\n",
    "### SentinelHub Documentation (higher level)\n",
    "- What is evalscript: <https://docs.sentinel-hub.com/api/latest/evalscript/v3/>\n",
    "- Evalscript is used for Process API <https://docs.sentinel-hub.com/api/latest/api/process/>\n",
    "- and for Batch process API <https://docs.sentinel-hub.com/api/latest/api/batch/>\n",
    "\n",
    "### SentinelHub Python documentation\n",
    "- Process API <https://sentinelhub-py.readthedocs.io/en/latest/examples/process_request.html>\n",
    "- Data fusion <https://sentinelhub-py.readthedocs.io/en/latest/examples/data_collections.html#Data-fusion>\n",
    "\n",
    "- Collection of custom evalscripts <https://custom-scripts.sentinel-hub.com/>"
   ]
  },
  {
   "cell_type": "markdown",
   "id": "3066ede2",
   "metadata": {},
   "source": [
    "## 1. SentinelHub configuration"
   ]
  },
  {
   "cell_type": "code",
   "execution_count": 1,
   "id": "995a9642-c346-47bb-98fc-d0c881b12e7b",
   "metadata": {
    "tags": []
   },
   "outputs": [],
   "source": [
    "# Configure plots for inline use in Jupyter Notebook\n",
    "%matplotlib inline\n",
    "\n",
    "import datetime as dt\n",
    "\n",
    "# Utilities\n",
    "import boto3\n",
    "import dateutil\n",
    "import geopandas as gpd\n",
    "import matplotlib.pyplot as plt\n",
    "import pandas as pd\n",
    "import os\n",
    "import rasterio\n",
    "# Various utilities\n",
    "import json\n",
    "import xarray as xr\n",
    "import shapely.geometry\n",
    "import IPython.display\n",
    "import zarr\n",
    "\n",
    "# Sentinel Hub\n",
    "from sentinelhub import (\n",
    "    CRS,\n",
    "    BBox,\n",
    "    ByocCollection,\n",
    "    ByocCollectionAdditionalData,\n",
    "    ByocCollectionBand,\n",
    "    ByocTile,\n",
    "    DataCollection,\n",
    "    DownloadFailedException,\n",
    "    MimeType,\n",
    "    SentinelHubBYOC,\n",
    "    SentinelHubRequest,\n",
    "    SHConfig,\n",
    "    bbox_to_dimensions,\n",
    "    os_utils,\n",
    ")\n",
    "\n",
    "# The following is not a package. It is a file utils.py which should be in the same folder as this notebook.\n",
    "from utils import plot_image\n",
    "\n",
    "config = SHConfig()\n",
    "config.instance_id = os.environ.get(\"SH_INSTANCE_ID\")\n",
    "config.sh_client_id = os.environ.get(\"SH_CLIENT_ID\")\n",
    "config.sh_client_secret = os.environ.get(\"SH_CLIENT_SECRET\")\n",
    "config.aws_access_key_id = os.environ.get(\"username\")\n",
    "config.aws_secret_access_key = os.environ.get(\"password\")"
   ]
  },
  {
   "cell_type": "markdown",
   "id": "173d98c4",
   "metadata": {},
   "source": [
    "## 2. Define AOI and visualize it"
   ]
  },
  {
   "cell_type": "code",
   "execution_count": 23,
   "id": "0f1c3158-d8e8-468a-90b5-39c1f87e8177",
   "metadata": {
    "tags": []
   },
   "outputs": [
    {
     "name": "stdout",
     "output_type": "stream",
     "text": [
      "Image shape at 60 m resolution: (1143, 1631) pixels\n"
     ]
    },
    {
     "data": {
      "application/geo+json": {
       "coordinates": [
        [
         [
          6.9,
          49
         ],
         [
          6.9,
          49.9
         ],
         [
          6,
          49.9
         ],
         [
          6,
          49
         ],
         [
          6.9,
          49
         ]
        ]
       ],
       "type": "Polygon"
      },
      "text/plain": [
       "<IPython.display.GeoJSON object>"
      ]
     },
     "metadata": {
      "application/geo+json": {
       "expanded": false,
       "root": "root"
      }
     },
     "output_type": "display_data"
    }
   ],
   "source": [
    "x1 = 6  # degree\n",
    "y1 = 49  # degree\n",
    "x2 = 6.9 # degree\n",
    "y2 = 49.9  # degree\n",
    "\n",
    "bbox_lux = x1, y1, x2, y2\n",
    "\n",
    "resolution = 60\n",
    "lux_bbox = BBox(bbox=bbox_lux, crs=CRS.WGS84)\n",
    "lux_size = bbox_to_dimensions(lux_bbox, resolution=resolution)\n",
    "print(f\"Image shape at {resolution} m resolution: {lux_size} pixels\")\n",
    "\n",
    "IPython.display.GeoJSON(shapely.geometry.box(*bbox_lux).__geo_interface__)"
   ]
  },
  {
   "cell_type": "markdown",
   "id": "58993230",
   "metadata": {},
   "source": [
    "## 3. Prepare collections\n",
    "### 3.1 BYOC collection\n",
    "- Collection name: UrbanAtlas2018_10m_raster\n",
    "- CollectionId: bc4099db-f686-4e66-99a6-387a11eb2067"
   ]
  },
  {
   "cell_type": "code",
   "execution_count": 3,
   "id": "ceab0674",
   "metadata": {},
   "outputs": [
    {
     "data": {
      "text/plain": [
       "<DataCollection.UrbanAtlas2018_10m_raster: DataCollectionDefinition(\n",
       "  api_id: byoc-bc4099db-f686-4e66-99a6-387a11eb2067\n",
       "  catalog_id: byoc-bc4099db-f686-4e66-99a6-387a11eb2067\n",
       "  wfs_id: byoc-bc4099db-f686-4e66-99a6-387a11eb2067\n",
       "  collection_type: BYOC\n",
       "  collection_id: bc4099db-f686-4e66-99a6-387a11eb2067\n",
       "  is_timeless: False\n",
       "  has_cloud_coverage: False\n",
       ")>"
      ]
     },
     "execution_count": 3,
     "metadata": {},
     "output_type": "execute_result"
    }
   ],
   "source": [
    "collection_id_UA = \"bc4099db-f686-4e66-99a6-387a11eb2067\"\n",
    "collection_name_UA = \"UrbanAtlas2018_10m_raster\"\n",
    "data_collection_UA = DataCollection.define_byoc(collection_id_UA, name=collection_name_UA)\n",
    "data_collection_UA"
   ]
  },
  {
   "cell_type": "markdown",
   "id": "44c21099",
   "metadata": {},
   "source": [
    "### 3.2 Collections from FAIRiCube\n",
    "Example with following collections:\n",
    "1. FAIRiCube collection:\n",
    "   - Collection Name: Population_density\n",
    "   - collectionId: \"b468089b-2627-4787-b984-89c10434f6c6\"\n",
    "   - FAIRiCube Catalog: <https://catalog.fairicube.eu/population_density/>\n",
    "2. FAIRiCube Collection:\n",
    "   - Collection name: CORINE Land Cover Accounting Layers\n",
    "   - CollectionId: 4c5441a6-6040-4dc4-a392-c1317bbd1031\n",
    "   - End Point: https://creodias.sentinel-hub.com\n",
    "   - FAIRiCube Catalog: <https://catalog.fairicube.eu/population_density/>\n",
    "In the second example we have to specify the `service_url` parameter, that is, the endpoint. If it is not specified, the function uses the endpoint given in `config`\n",
    "\n",
    "\n",
    "**Problem with CLC_ACC collection: data fusion of collections from different end points does not seem to work!!**"
   ]
  },
  {
   "cell_type": "code",
   "execution_count": 13,
   "id": "84ba0be1",
   "metadata": {},
   "outputs": [
    {
     "data": {
      "text/plain": [
       "<DataCollection.Population_density: DataCollectionDefinition(\n",
       "  api_id: byoc-b468089b-2627-4787-b984-89c10434f6c6\n",
       "  catalog_id: byoc-b468089b-2627-4787-b984-89c10434f6c6\n",
       "  wfs_id: byoc-b468089b-2627-4787-b984-89c10434f6c6\n",
       "  collection_type: BYOC\n",
       "  collection_id: b468089b-2627-4787-b984-89c10434f6c6\n",
       "  is_timeless: False\n",
       "  has_cloud_coverage: False\n",
       ")>"
      ]
     },
     "execution_count": 13,
     "metadata": {},
     "output_type": "execute_result"
    }
   ],
   "source": [
    "# copy CollectionId from FAIRiCube catalog https://catalog.fairicube.eu/\n",
    "collection_id_popdens = \"b468089b-2627-4787-b984-89c10434f6c6\"\n",
    "collection_name_popdens = \"Population_density\"\n",
    "# define collection\n",
    "data_collection_popdens = DataCollection.define_byoc(collection_id_popdens, name=collection_name_popdens)\n",
    "data_collection_popdens"
   ]
  },
  {
   "cell_type": "code",
   "execution_count": 5,
   "id": "2edd675c",
   "metadata": {},
   "outputs": [
    {
     "data": {
      "text/plain": [
       "<DataCollection.CLC_ACC: DataCollectionDefinition(\n",
       "  api_id: byoc-4c5441a6-6040-4dc4-a392-c1317bbd1031\n",
       "  catalog_id: byoc-4c5441a6-6040-4dc4-a392-c1317bbd1031\n",
       "  wfs_id: byoc-4c5441a6-6040-4dc4-a392-c1317bbd1031\n",
       "  service_url: https://creodias.sentinel-hub.com\n",
       "  collection_type: BYOC\n",
       "  collection_id: 4c5441a6-6040-4dc4-a392-c1317bbd1031\n",
       "  is_timeless: False\n",
       "  has_cloud_coverage: False\n",
       ")>"
      ]
     },
     "execution_count": 4,
     "metadata": {},
     "output_type": "execute_result"
    }
   ],
   "source": [
    "# copy CollectionId from FAIRiCube catalog https://catalog.fairicube.eu/\n",
    "collection_id_clc_acc = \"4c5441a6-6040-4dc4-a392-c1317bbd1031\"\n",
    "collection_name_clc_acc=\"CLC_ACC\"\n",
    "end_point = \"https://creodias.sentinel-hub.com\"\n",
    "# define collection\n",
    "data_collection_clc_acc = DataCollection.define_byoc(collection_id_clc_acc, name=collection_name_clc_acc, service_url = end_point)\n",
    "data_collection_clc_acc"
   ]
  },
  {
   "cell_type": "markdown",
   "id": "968ffe72",
   "metadata": {},
   "source": [
    "### 3.3 List collections\n",
    "you can see all the collections defined with the functions `DataCollection.define_byoc` or `DataCollection.define` by using `DataCollection.get_available_collections()`. They are listed with the given name"
   ]
  },
  {
   "cell_type": "code",
   "execution_count": 6,
   "id": "580f43cb",
   "metadata": {},
   "outputs": [
    {
     "name": "stdout",
     "output_type": "stream",
     "text": [
      "DataCollection.SENTINEL2_L1C\n",
      "DataCollection.SENTINEL2_L2A\n",
      "DataCollection.SENTINEL1\n",
      "DataCollection.SENTINEL1_IW\n",
      "DataCollection.SENTINEL1_IW_ASC\n",
      "DataCollection.SENTINEL1_IW_DES\n",
      "DataCollection.SENTINEL1_EW\n",
      "DataCollection.SENTINEL1_EW_ASC\n",
      "DataCollection.SENTINEL1_EW_DES\n",
      "DataCollection.SENTINEL1_EW_SH\n",
      "DataCollection.SENTINEL1_EW_SH_ASC\n",
      "DataCollection.SENTINEL1_EW_SH_DES\n",
      "DataCollection.DEM\n",
      "DataCollection.DEM_MAPZEN\n",
      "DataCollection.DEM_COPERNICUS_30\n",
      "DataCollection.DEM_COPERNICUS_90\n",
      "DataCollection.MODIS\n",
      "DataCollection.LANDSAT_MSS_L1\n",
      "DataCollection.LANDSAT_TM_L1\n",
      "DataCollection.LANDSAT_TM_L2\n",
      "DataCollection.LANDSAT_ETM_L1\n",
      "DataCollection.LANDSAT_ETM_L2\n",
      "DataCollection.LANDSAT_OT_L1\n",
      "DataCollection.LANDSAT_OT_L2\n",
      "DataCollection.SENTINEL5P\n",
      "DataCollection.SENTINEL3_OLCI\n",
      "DataCollection.SENTINEL3_SLSTR\n",
      "DataCollection.UrbanAtlas2018_10m_raster\n",
      "DataCollection.CLC_ACC\n"
     ]
    }
   ],
   "source": [
    "for collection in DataCollection.get_available_collections():\n",
    "    print(collection)\n",
    "# get parameters: for example, get parameters of Sentinel-2-L2A\n",
    "# DataCollection.SENTINEL2_L2A"
   ]
  },
  {
   "cell_type": "code",
   "execution_count": 39,
   "id": "6758a60a-5b72-4a92-8de4-7712a5d27382",
   "metadata": {},
   "outputs": [],
   "source": [
    "# simple evalscript to check if single request works\n",
    "evalscript_test = \"\"\"\n",
    "\n",
    "//VERSION=3\n",
    "function setup() {\n",
    "  return {\n",
    "    input: [\"B1\"],\n",
    "    output: { \n",
    "        bands: 1,\n",
    "        sampleType: \"UINT16\" // raster format will be UINT16\n",
    "        }\n",
    "    \n",
    "  };\n",
    "}\n",
    "\n",
    "function evaluatePixel(sample) {\n",
    "  return [sample.B1];\n",
    "}\n",
    "\"\"\"\n",
    "\n",
    "request = SentinelHubRequest(\n",
    "        evalscript=evalscript_test,\n",
    "        input_data=[\n",
    "            SentinelHubRequest.input_data(\n",
    "                data_collection=DataCollection.UrbanAtlas2018_10m_raster,\n",
    "                # time_interval=(\"2018-01-01\", \"2019-01-01\")\n",
    "                # time_interval=\"2018\"\n",
    "            )\n",
    "        ],\n",
    "        responses=[\n",
    "            SentinelHubRequest.output_response('default', MimeType.PNG)\n",
    "        ],\n",
    "        bbox=lux_bbox,\n",
    "        size=bbox_to_dimensions(lux_bbox, 60),\n",
    "        config=config\n",
    "    )\n",
    "\n",
    "data = request.get_data()[0]"
   ]
  },
  {
   "cell_type": "code",
   "execution_count": 40,
   "id": "8ada4bfe-007b-4d20-ba04-96e6bea9aac8",
   "metadata": {},
   "outputs": [
    {
     "name": "stdout",
     "output_type": "stream",
     "text": [
      "Error: data is empty :(\n"
     ]
    }
   ],
   "source": [
    "import numpy as np\n",
    "# is there anything in the data?\n",
    "if(np.std(data) == 0): \n",
    "    print(\"Error: data is empty :(\")\n",
    "else:\n",
    "    print(\"Success!\")\n",
    "    # plot data\n",
    "    fig, ax = plt.subplots(figsize=(10, 10))\n",
    "\n",
    "    ax.imshow(data)\n",
    "    # ax.set_title(tile_time.date().isoformat(), fontsize=10)\n",
    "\n",
    "    plt.tight_layout()"
   ]
  },
  {
   "cell_type": "markdown",
   "id": "303fe209",
   "metadata": {},
   "source": [
    "## 5. Request collections (data fusion)\n",
    "To join together data from different collections and download only the results, modify the evalscript as following:\n",
    "- add SentinelHubRequest.input_data() for each requested collection, with parameter `identifier`\n",
    "- in the `setup()` function, for each input collection, add the parameter `datasource`, which must be equal to `identifier`\n",
    "- in `evaluatePixel`, the samples argument is now a dictionary of input datasets, where `identifier` is used as key\n",
    "\n",
    "**Problem with CLC_ACC collection: data fusion of collections from different end points does not seem to work!!**"
   ]
  },
  {
   "cell_type": "code",
   "execution_count": 24,
   "id": "9e993d6a-4137-4293-9396-bc99879b268f",
   "metadata": {},
   "outputs": [
    {
     "ename": "NameError",
     "evalue": "name 'image' is not defined",
     "output_type": "error",
     "traceback": [
      "\u001b[0;31m---------------------------------------------------------------------------\u001b[0m",
      "\u001b[0;31mNameError\u001b[0m                                 Traceback (most recent call last)",
      "Cell \u001b[0;32mIn[24], line 54\u001b[0m\n\u001b[1;32m     29\u001b[0m request \u001b[38;5;241m=\u001b[39m SentinelHubRequest(\n\u001b[1;32m     30\u001b[0m     evalscript\u001b[38;5;241m=\u001b[39mevalscript_true_color,\n\u001b[1;32m     31\u001b[0m     input_data\u001b[38;5;241m=\u001b[39m[\n\u001b[0;32m   (...)\u001b[0m\n\u001b[1;32m     51\u001b[0m     config\u001b[38;5;241m=\u001b[39mconfig,\n\u001b[1;32m     52\u001b[0m )\n\u001b[1;32m     53\u001b[0m images \u001b[38;5;241m=\u001b[39m request\u001b[38;5;241m.\u001b[39mget_data()[\u001b[38;5;241m0\u001b[39m]\n\u001b[0;32m---> 54\u001b[0m \u001b[38;5;28mprint\u001b[39m(\u001b[38;5;124mf\u001b[39m\u001b[38;5;124m\"\u001b[39m\u001b[38;5;124mImage type: \u001b[39m\u001b[38;5;132;01m{\u001b[39;00m\u001b[43mimage\u001b[49m\u001b[38;5;241m.\u001b[39mdtype\u001b[38;5;132;01m}\u001b[39;00m\u001b[38;5;124m\"\u001b[39m)\n\u001b[1;32m     56\u001b[0m \u001b[38;5;66;03m# plot function\u001b[39;00m\n\u001b[1;32m     57\u001b[0m \u001b[38;5;66;03m# factor 1/255 to scale between 0-1\u001b[39;00m\n\u001b[1;32m     58\u001b[0m \u001b[38;5;66;03m# factor 3.5 to increase brightness\u001b[39;00m\n\u001b[1;32m     59\u001b[0m plot_image(image, factor\u001b[38;5;241m=\u001b[39m\u001b[38;5;241m3.5\u001b[39m \u001b[38;5;241m/\u001b[39m \u001b[38;5;241m255\u001b[39m, clip_range\u001b[38;5;241m=\u001b[39m(\u001b[38;5;241m0\u001b[39m, \u001b[38;5;241m1\u001b[39m))\n",
      "\u001b[0;31mNameError\u001b[0m: name 'image' is not defined"
     ]
    }
   ],
   "source": [
    "evalscript_true_color = \"\"\"\n",
    "    //VERSION=3\n",
    "\n",
    "    function setup() {\n",
    "        return {\n",
    "            input: [{\n",
    "                datasource: \"pop_dens\",\n",
    "                bands: [\"populationDensity\"]\n",
    "            },\n",
    "            {\n",
    "                datasource: \"UA\",\n",
    "                bands: [\"B1\"]\n",
    "            }],\n",
    "            output: {\n",
    "                bands: 2,\n",
    "                sampleType: \"UINT16\" // raster format will be UINT16\n",
    "            }\n",
    "        };\n",
    "    }\n",
    "\n",
    "    function evaluatePixel(samples, inputData, inputMetadata, customData, outputMetadata) {\n",
    "      //var sample_clc_acc = samples.clc_acc[0]\n",
    "      var sample_pop_dens = samples.pop_dens[0]\n",
    "      var sample_ua = samples.UA[0]\n",
    "      return [sample_pop_dens.populationDensity, sample_ua.B1];\n",
    "    }\n",
    "\"\"\"\n",
    "\n",
    "request = SentinelHubRequest(\n",
    "    evalscript=evalscript_true_color,\n",
    "    input_data=[\n",
    "        # SentinelHubRequest.input_data(\n",
    "        #     data_collection=DataCollection.CLC_ACC,\n",
    "        #     identifier=\"CLC_ACC\",\n",
    "        #     # time_interval=(\"2021-06-12\", \"2021-06-13\"),\n",
    "        # ),\n",
    "        SentinelHubRequest.input_data(\n",
    "            data_collection=DataCollection.UrbanAtlas2018_10m_raster,\n",
    "            identifier=\"UA\",\n",
    "            # time_interval=(\"2021-06-12\", \"2021-06-13\"),\n",
    "        ),\n",
    "        SentinelHubRequest.input_data(\n",
    "            data_collection=DataCollection.Population_density,\n",
    "            identifier=\"pop_dens\",\n",
    "            # time_interval=(\"2021-06-12\", \"2021-06-13\"),\n",
    "        )\n",
    "    ],\n",
    "    responses=[SentinelHubRequest.output_response(\"default\", MimeType.PNG)],\n",
    "    bbox=lux_bbox,\n",
    "    size=lux_size,\n",
    "    config=config,\n",
    ")\n",
    "images = request.get_data()[0]\n",
    "print(f\"Image type: {images.dtype}\")\n",
    "\n",
    "# plot function\n",
    "# factor 1/255 to scale between 0-1\n",
    "# factor 3.5 to increase brightness\n",
    "plot_image(image, factor=3.5 / 255, clip_range=(0, 1))"
   ]
  },
  {
   "cell_type": "markdown",
   "id": "5cfdb831-be13-4a52-9e68-cea0e96bead5",
   "metadata": {},
   "source": [
    "## 6. Query multi-band output"
   ]
  },
  {
   "cell_type": "code",
   "execution_count": 25,
   "id": "e3bb9a28-ce20-475e-bd53-f7220fbeefb5",
   "metadata": {},
   "outputs": [
    {
     "data": {
      "text/plain": [
       "(1631, 1143, 4)"
      ]
     },
     "execution_count": 25,
     "metadata": {},
     "output_type": "execute_result"
    }
   ],
   "source": [
    "# check dimensions of output\n",
    "print(images.shape) # (1631, 1143, 4) means 4 images of size (1631, 1143)\n",
    "# get first image etc\n",
    "image_1 = images[:,:,0]"
   ]
  },
  {
   "cell_type": "code",
   "execution_count": 30,
   "id": "c6d05334-5e79-42e7-8b17-6319edb20612",
   "metadata": {},
   "outputs": [
    {
     "data": {
      "image/png": "[encoded data removed]",
      "text/plain": [
       "<Figure size 1500x1500 with 1 Axes>"
      ]
     },
     "metadata": {},
     "output_type": "display_data"
    }
   ],
   "source": [
    "# plot image\n",
    "plot_image(image_1, factor=3.5 / 255, clip_range=(0, 1))"
   ]
  }
 ],
 "metadata": {
  "kernelspec": {
   "display_name": "fairicube-edc-2022.10-14",
   "language": "python",
   "name": "conda-env-fairicube-edc-2022.10-14-py"
  },
  "language_info": {
   "codemirror_mode": {
    "name": "ipython",
    "version": 3
   },
   "file_extension": ".py",
   "mimetype": "text/x-python",
   "name": "python",
   "nbconvert_exporter": "python",
   "pygments_lexer": "ipython3",
   "version": "3.9.15"
  }
 },
 "nbformat": 4,
 "nbformat_minor": 5
}
