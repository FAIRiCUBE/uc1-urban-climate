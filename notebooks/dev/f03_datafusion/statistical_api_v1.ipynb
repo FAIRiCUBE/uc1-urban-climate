{
 "cells": [
  {
   "cell_type": "markdown",
   "id": "3797d4ae-dbf6-40f8-8c55-0951af02ef1a",
   "metadata": {},
   "source": [
    "# SentinelHub Statistical API\n",
    "\n",
    "## Resources\n",
    "- SentinelHub Documentation (higher level): https://docs.sentinel-hub.com/api/latest/api/statistical/\n",
    "- request builder: https://apps.sentinel-hub.com/requests-builder/\n",
    "- SentinelHub Python documentation, Statistical API <https://sentinelhub-py.readthedocs.io/en/latest/examples/statistical_request.html>\n",
    "\n",
    "## Notes\n",
    "Catalog API and Statistical API require a time argunent. As a result, requests of BYOC collections without `Sensing time` return empty data."
   ]
  },
  {
   "cell_type": "markdown",
   "id": "3066ede2",
   "metadata": {},
   "source": [
    "## 1. SentinelHub configuration"
   ]
  },
  {
   "cell_type": "code",
   "execution_count": 1,
   "id": "995a9642-c346-47bb-98fc-d0c881b12e7b",
   "metadata": {
    "tags": []
   },
   "outputs": [],
   "source": [
    "# Configure plots for inline use in Jupyter Notebook\n",
    "%matplotlib inline\n",
    "\n",
    "import datetime as dt\n",
    "\n",
    "# Utilities\n",
    "import boto3\n",
    "import dateutil\n",
    "import geopandas as gpd\n",
    "import matplotlib.pyplot as plt\n",
    "import pandas as pd\n",
    "import os\n",
    "import rasterio\n",
    "# Various utilities\n",
    "import json\n",
    "import xarray as xr\n",
    "import shapely.geometry\n",
    "import IPython.display\n",
    "import zarr\n",
    "\n",
    "# Sentinel Hub\n",
    "from sentinelhub import (\n",
    "    CRS,\n",
    "    BBox,\n",
    "    ByocCollection,\n",
    "    ByocCollectionAdditionalData,\n",
    "    ByocCollectionBand,\n",
    "    ByocTile,\n",
    "    DataCollection,\n",
    "    DownloadFailedException,\n",
    "    MimeType,\n",
    "    SentinelHubBYOC,\n",
    "    SentinelHubRequest,\n",
    "    SentinelHubStatistical,\n",
    "    SHConfig,\n",
    "    bbox_to_dimensions,\n",
    "    os_utils,\n",
    ")\n",
    "\n",
    "# The following is not a package. It is a file utils.py which should be in the same folder as this notebook.\n",
    "# from utils import plot_image\n",
    "\n",
    "config = SHConfig()\n",
    "config.instance_id = os.environ.get(\"SH_INSTANCE_ID\")\n",
    "config.sh_client_id = os.environ.get(\"SH_CLIENT_ID\")\n",
    "config.sh_client_secret = os.environ.get(\"SH_CLIENT_SECRET\")\n",
    "config.aws_access_key_id = os.environ.get(\"username\")\n",
    "config.aws_secret_access_key = os.environ.get(\"password\")\n",
    "\n",
    "## helper function\n",
    "def stats_to_df(stats_data):\n",
    "    \"\"\"Transform Statistical API response into a pandas.DataFrame\"\"\"\n",
    "    df_data = []\n",
    "\n",
    "    for single_data in stats_data[\"data\"]:\n",
    "        df_entry = {}\n",
    "        is_valid_entry = True\n",
    "\n",
    "        df_entry[\"interval_from\"] = parse_time(single_data[\"interval\"][\"from\"]).date()\n",
    "        df_entry[\"interval_to\"] = parse_time(single_data[\"interval\"][\"to\"]).date()\n",
    "\n",
    "        for output_name, output_data in single_data[\"outputs\"].items():\n",
    "            for band_name, band_values in output_data[\"bands\"].items():\n",
    "                band_stats = band_values[\"stats\"]\n",
    "                if band_stats[\"sampleCount\"] == band_stats[\"noDataCount\"]:\n",
    "                    is_valid_entry = False\n",
    "                    break\n",
    "\n",
    "                for stat_name, value in band_stats.items():\n",
    "                    col_name = f\"{output_name}_{band_name}_{stat_name}\"\n",
    "                    if stat_name == \"percentiles\":\n",
    "                        for perc, perc_val in value.items():\n",
    "                            perc_col_name = f\"{col_name}_{perc}\"\n",
    "                            df_entry[perc_col_name] = perc_val\n",
    "                    else:\n",
    "                        df_entry[col_name] = value\n",
    "\n",
    "        if is_valid_entry:\n",
    "            df_data.append(df_entry)\n",
    "\n",
    "    return pd.DataFrame(df_data)\n"
   ]
  },
  {
   "cell_type": "markdown",
   "id": "173d98c4",
   "metadata": {},
   "source": [
    "## 2. Define AOI and visualize it"
   ]
  },
  {
   "cell_type": "markdown",
   "id": "4a7a709c-c76d-40a3-b95e-3f089255664e",
   "metadata": {},
   "source": [
    "### Define bounding box"
   ]
  },
  {
   "cell_type": "code",
   "execution_count": 2,
   "id": "0f1c3158-d8e8-468a-90b5-39c1f87e8177",
   "metadata": {
    "tags": []
   },
   "outputs": [
    {
     "name": "stdout",
     "output_type": "stream",
     "text": [
      "Image shape at 60 m resolution: (962, 1111) pixels\n"
     ]
    },
    {
     "data": {
      "application/geo+json": {
       "coordinates": [
        [
         [
          12.541001,
          62.870072
         ],
         [
          12.541001,
          63.444063
         ],
         [
          11.335796,
          63.444063
         ],
         [
          11.335796,
          62.870072
         ],
         [
          12.541001,
          62.870072
         ]
        ]
       ],
       "type": "Polygon"
      },
      "text/plain": [
       "<IPython.display.GeoJSON object>"
      ]
     },
     "metadata": {
      "application/geo+json": {
       "expanded": false,
       "root": "root"
      }
     },
     "output_type": "display_data"
    }
   ],
   "source": [
    "x1 = 6  # degree\n",
    "y1 = 49.5  # degree\n",
    "x2 = 6.3 # degree\n",
    "y2 = 49.7  # degree\n",
    "\n",
    "# bbox_lux = x1, y1, x2, y2\n",
    "bbox_lux = BBox(bbox=[11.335796, 62.870072, 12.541001, 63.444063], crs=CRS.WGS84)\n",
    "\n",
    "resolution = 60\n",
    "lux_bbox = BBox(bbox=bbox_lux, crs=CRS.WGS84)\n",
    "lux_size = bbox_to_dimensions(lux_bbox, resolution=resolution)\n",
    "print(f\"Image shape at {resolution} m resolution: {lux_size} pixels\")\n",
    "\n",
    "IPython.display.GeoJSON(shapely.geometry.box(*bbox_lux).__geo_interface__)"
   ]
  },
  {
   "cell_type": "markdown",
   "id": "58993230",
   "metadata": {},
   "source": [
    "## 3. Prepare collections\n",
    "### 3.1 BYOC collection\n",
    "- Collection name: UrbanAtlas2018_10m_raster\n",
    "- CollectionId: bc4099db-f686-4e66-99a6-387a11eb2067"
   ]
  },
  {
   "cell_type": "code",
   "execution_count": 3,
   "id": "ceab0674",
   "metadata": {},
   "outputs": [
    {
     "data": {
      "text/plain": [
       "<DataCollection.UrbanAtlas2018_10m_raster: DataCollectionDefinition(\n",
       "  api_id: byoc-78545a11-1e57-4ed0-a3ce-68c2e305216b\n",
       "  catalog_id: byoc-78545a11-1e57-4ed0-a3ce-68c2e305216b\n",
       "  wfs_id: byoc-78545a11-1e57-4ed0-a3ce-68c2e305216b\n",
       "  collection_type: BYOC\n",
       "  collection_id: 78545a11-1e57-4ed0-a3ce-68c2e305216b\n",
       "  is_timeless: True\n",
       "  has_cloud_coverage: False\n",
       ")>"
      ]
     },
     "execution_count": 3,
     "metadata": {},
     "output_type": "execute_result"
    }
   ],
   "source": [
    "collection_id_UA = \"78545a11-1e57-4ed0-a3ce-68c2e305216b\"\n",
    "collection_name_UA = \"UrbanAtlas2018_10m_raster\"\n",
    "data_collection_UA = DataCollection.define_byoc(collection_id_UA, name=collection_name_UA, is_timeless = True)\n",
    "data_collection_UA"
   ]
  },
  {
   "cell_type": "code",
   "execution_count": 4,
   "id": "1daa0676-a199-4da5-8d1c-ae08d0e419bd",
   "metadata": {},
   "outputs": [
    {
     "data": {
      "text/plain": [
       "{'bands': {'B1': {'bitDepth': 16,\n",
       "   'source': 'B1',\n",
       "   'bandIndex': 1,\n",
       "   'sampleFormat': 'UINT'}},\n",
       " 'maxMetersPerPixel': 6400.0,\n",
       " 'extent': {'type': 'Polygon',\n",
       "  'coordinates': [[[-49.396508783, 26.176870268],\n",
       "    [-49.396508783, 70.57381085],\n",
       "    [67.130764957, 70.57381085],\n",
       "    [67.130764957, 26.176870268],\n",
       "    [-49.396508783, 26.176870268]]]},\n",
       " 'fromSensingTime': '2018-01-01T00:00:00Z',\n",
       " 'toSensingTime': '2018-01-01T00:00:00Z',\n",
       " 'hasSensingTimes': 'YES'}"
      ]
     },
     "execution_count": 4,
     "metadata": {},
     "output_type": "execute_result"
    }
   ],
   "source": [
    "# list band names of the collection\n",
    "byoc = SentinelHubBYOC(config=config)\n",
    "collection = byoc.get_collection(collection_id_UA)\n",
    "collection[\"additionalData\"]"
   ]
  },
  {
   "cell_type": "code",
   "execution_count": 5,
   "id": "76c321f4-8be3-4c33-adc3-53710395a7c3",
   "metadata": {},
   "outputs": [
    {
     "data": {
      "text/plain": [
       "<DataCollection.Population_density: DataCollectionDefinition(\n",
       "  api_id: byoc-b468089b-2627-4787-b984-89c10434f6c6\n",
       "  catalog_id: byoc-b468089b-2627-4787-b984-89c10434f6c6\n",
       "  wfs_id: byoc-b468089b-2627-4787-b984-89c10434f6c6\n",
       "  collection_type: BYOC\n",
       "  collection_id: b468089b-2627-4787-b984-89c10434f6c6\n",
       "  is_timeless: False\n",
       "  has_cloud_coverage: False\n",
       ")>"
      ]
     },
     "execution_count": 5,
     "metadata": {},
     "output_type": "execute_result"
    }
   ],
   "source": [
    "# copy CollectionId from FAIRiCube catalog https://catalog.fairicube.eu/\n",
    "collection_id_popdens = \"b468089b-2627-4787-b984-89c10434f6c6\"\n",
    "collection_name_popdens = \"Population_density\"\n",
    "# define collection\n",
    "data_collection_popdens = DataCollection.define_byoc(collection_id_popdens, name=collection_name_popdens)\n",
    "data_collection_popdens"
   ]
  },
  {
   "cell_type": "code",
   "execution_count": 6,
   "id": "6758a60a-5b72-4a92-8de4-7712a5d27382",
   "metadata": {},
   "outputs": [
    {
     "data": {
      "text/plain": [
       "{'data': [{'interval': {'from': '2018-01-01T00:00:00Z',\n",
       "    'to': '2018-01-02T00:00:00Z'},\n",
       "   'outputs': {'UA': {'bands': {'B0': {'stats': {'min': 8617.0,\n",
       "        'max': 53249.0,\n",
       "        'mean': 31694.024006638025,\n",
       "        'stDev': 3296.151831826919,\n",
       "        'sampleCount': 1068782,\n",
       "        'noDataCount': 962728}}}}}}],\n",
       " 'status': 'OK'}"
      ]
     },
     "execution_count": 6,
     "metadata": {},
     "output_type": "execute_result"
    }
   ],
   "source": [
    "# simple evalscript to check if single request works\n",
    "evalscript_test = \"\"\"\n",
    "\n",
    "//VERSION=3\n",
    "function setup() {\n",
    "  return {\n",
    "    input: [{\n",
    "    bands: [\n",
    "    \"B1\",\n",
    "    \"dataMask\"\n",
    "    ]\n",
    "    }],\n",
    "    output: [{ \n",
    "    id: \"UA\",\n",
    "        bands: 1,\n",
    "        sampleType: \"UINT16\" // raster format will be UINT16\n",
    "        },\n",
    "        {\n",
    "        id: \"dataMask\",\n",
    "        bands: 1}]\n",
    "    \n",
    "  };\n",
    "}\n",
    "\n",
    "function evaluatePixel(sample) {\n",
    "  return {\n",
    "    UA: [sample.B1],\n",
    "    dataMask: [sample.dataMask]\n",
    "    };\n",
    "}\n",
    "\"\"\"\n",
    "\n",
    "request = SentinelHubStatistical(\n",
    "    aggregation=SentinelHubStatistical.aggregation(\n",
    "        evalscript=evalscript_test,\n",
    "        time_interval=(\"2018-01-01\", \"2018-05-01\"),\n",
    "        aggregation_interval=\"P1D\",\n",
    "        size=lux_size\n",
    "    ),\n",
    "    input_data=[SentinelHubStatistical.input_data(DataCollection.UrbanAtlas2018_10m_raster)],\n",
    "    bbox=bbox_lux,\n",
    "    config=config,\n",
    ")\n",
    "\n",
    "data = request.get_data()[0]\n",
    "data"
   ]
  },
  {
   "cell_type": "markdown",
   "id": "fbd7b259-57a5-41a9-b4b7-2a1e2ffbc58c",
   "metadata": {},
   "source": [
    "### Query catalog"
   ]
  },
  {
   "cell_type": "code",
   "execution_count": 7,
   "id": "659b7bbf-cdd7-4ceb-95d9-329fa495b5c2",
   "metadata": {},
   "outputs": [
    {
     "data": {
      "text/plain": [
       "[{'stac_version': '1.0.0',\n",
       "  'stac_extensions': ['https://stac-extensions.github.io/projection/v1.0.0/schema.json'],\n",
       "  'id': 'b260234b-7b92-4c30-b92b-69841bd5f406',\n",
       "  'type': 'Feature',\n",
       "  'geometry': {'type': 'Polygon',\n",
       "   'crs': {'type': 'name',\n",
       "    'properties': {'name': 'urn:ogc:def:crs:OGC::CRS84'}},\n",
       "   'coordinates': [[[9.101425344029629, 61.53030960907723],\n",
       "     [27.464329746195915, 60.46806507295995],\n",
       "     [34.15332651701756, 69.03487939129583],\n",
       "     [8.725506175707775, 70.5697570204103],\n",
       "     [9.101425344029629, 61.53030960907723]]]},\n",
       "  'bbox': [8.725506175707775,\n",
       "   60.46806507295995,\n",
       "   34.15332651701756,\n",
       "   70.5697570204103],\n",
       "  'properties': {'datetime': '2018-01-01T00:00:00Z',\n",
       "   'proj:epsg': 3035,\n",
       "   'proj:bbox': [4273020.0, 4270230.0, 5273020.0, 5270230.0],\n",
       "   'proj:geometry': {'type': 'Polygon',\n",
       "    'crs': {'type': 'name',\n",
       "     'properties': {'name': 'urn:ogc:def:crs:EPSG::3035'}},\n",
       "    'coordinates': [[[4273019.999997908, 4270229.999845818],\n",
       "      [5273020.000042262, 4270229.99984135],\n",
       "      [5273020.000041623, 5270229.999898263],\n",
       "      [4273019.999997887, 5270229.999899021],\n",
       "      [4273019.999997908, 4270229.999845818]]]}},\n",
       "  'assets': {},\n",
       "  'collection': 'byoc-78545a11-1e57-4ed0-a3ce-68c2e305216b',\n",
       "  'links': [{'href': 'https://services.sentinel-hub.com/api/v1/catalog/1.0.0/',\n",
       "    'rel': 'root',\n",
       "    'type': 'application/json'},\n",
       "   {'href': 'https://services.sentinel-hub.com/api/v1/catalog/1.0.0/collections/byoc-78545a11-1e57-4ed0-a3ce-68c2e305216b/items/b260234b-7b92-4c30-b92b-69841bd5f406',\n",
       "    'rel': 'self',\n",
       "    'type': 'application/geo+json'},\n",
       "   {'href': 'https://services.sentinel-hub.com/api/v1/catalog/1.0.0/collections/byoc-78545a11-1e57-4ed0-a3ce-68c2e305216b',\n",
       "    'rel': 'parent',\n",
       "    'type': 'application/json'},\n",
       "   {'href': 'https://services.sentinel-hub.com/api/v1/catalog/1.0.0/collections/byoc-78545a11-1e57-4ed0-a3ce-68c2e305216b',\n",
       "    'rel': 'collection',\n",
       "    'type': 'application/json'}]}]"
      ]
     },
     "execution_count": 7,
     "metadata": {},
     "output_type": "execute_result"
    }
   ],
   "source": [
    "from sentinelhub import SentinelHubCatalog, BBox, Geometry, SHConfig, CRS, DataCollection\n",
    "catalog = catalog = SentinelHubCatalog(config=config)\n",
    "search_iterator = catalog.search(\n",
    "  DataCollection.UrbanAtlas2018_10m_raster,  \n",
    "  geometry=bbox_lux,\n",
    "  time=('2018-01-01', '2018-07-06'),    \n",
    ")\n",
    "\n",
    "results = list(search_iterator)\n",
    "results"
   ]
  }
 ],
 "metadata": {
  "kernelspec": {
   "display_name": "fairicube-edc-2022.10-14",
   "language": "python",
   "name": "conda-env-fairicube-edc-2022.10-14-py"
  },
  "language_info": {
   "codemirror_mode": {
    "name": "ipython",
    "version": 3
   },
   "file_extension": ".py",
   "mimetype": "text/x-python",
   "name": "python",
   "nbconvert_exporter": "python",
   "pygments_lexer": "ipython3",
   "version": "3.9.15"
  }
 },
 "nbformat": 4,
 "nbformat_minor": 5
}
