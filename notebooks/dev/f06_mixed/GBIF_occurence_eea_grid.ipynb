{
 "cells": [
  {
   "cell_type": "markdown",
   "metadata": {},
   "source": [
    "# Reading OccurrenceCubeWERBirds data"
   ]
  },
  {
   "cell_type": "markdown",
   "metadata": {},
   "source": [
    "The following script helps to produce a spatial GRID datasets from a GBIF data collection -which has the EEA-GRID ID as attribute.\n",
    "https://www.gbif.org/\n",
    "\n",
    " The script used the donwloaded occurence CSV file, where the geospatial reference is provided by a text code for the EEA reference grid cell identifiers, e.g. 1kmE5432N4321 or 250mE1025N22000 to prode a raster (tif) and vector grid.\n",
    "\n",
    "\n",
    "\n",
    "\n"
   ]
  },
  {
   "cell_type": "markdown",
   "metadata": {},
   "source": [
    "THE FOLLOWING CSV FILE SHOWS THE OCCURENCE OF BIRDS\n",
    "\n",
    "The source data is a \n",
    "[CSV file](https://github.com/FAIRiCUBE/data-requests/blob/main/encoding-examples/datacube_nl_farmland_birds_1.csv)  with the following columns:\n",
    "Year, EEA Grid Cell, TaxonID, Count, Uncertainty"
   ]
  },
  {
   "cell_type": "code",
   "execution_count": null,
   "metadata": {},
   "outputs": [],
   "source": [
    "## read the csv file:\n",
    "import pandas as pd\n",
    "import re\n",
    "import geopandas as gpd\n",
    "import re\n",
    "from shapely.geometry import Point\n",
    "from shapely.geometry import Polygon\n",
    "import rasterio\n",
    "from rasterio.features import rasterize\n",
    "from rasterio import Affine\n",
    "# URL of the CSV file\n",
    "#url = \"https://github.com/FAIRiCUBE/data-requests/blob/main/encoding-examples/datacube_nl_farmland_birds_1.csv\"\n",
    "csv_url = \"https://raw.githubusercontent.com/FAIRiCUBE/data-requests/main/encoding-examples/datacube_nl_farmland_birds_1.csv\"\n",
    "df=pd.read_csv(csv_url)\n",
    "# add header:\n",
    "df.columns = ['year', 'gridnum_10m', 'species_id','Count','Uncertainty']\n",
    "# Display the first few rows of the DataFrame\n",
    "df\n"
   ]
  },
  {
   "cell_type": "markdown",
   "metadata": {},
   "source": [
    "The next code extract the coordinates form the EEA GRID ID:"
   ]
  },
  {
   "cell_type": "code",
   "execution_count": null,
   "metadata": {},
   "outputs": [],
   "source": [
    "\n",
    "# Extraxt the EAST coordinate\n",
    "def extract_east_number(text):\n",
    "    numbers = re.findall(r'\\d+', text)\n",
    "    if len(numbers) >= 2:\n",
    "        return int(numbers[1])  # Extract the second number\n",
    "    else:\n",
    "        return None\n",
    "\n",
    "# Extraxt the NORTH coordinate\n",
    "def extract_north_number(text):\n",
    "    numbers = re.findall(r'\\d+', text)\n",
    "    if len(numbers) >= 2:\n",
    "        return int(numbers[2])  # Extract the second number\n",
    "    else:\n",
    "        return None\n",
    "\n",
    "# Apply the function to the text_column and create a new column\n",
    "df['east_number'] = df['gridnum_10m'].apply(lambda x: extract_east_number(x))\n",
    "df['north_number'] = df['gridnum_10m'].apply(lambda x: extract_north_number(x))\n",
    "\n",
    "## get final coordinate: - for 10m reslolution:\n",
    "df['east_coordinate_epsg3035_meter'] = df['east_number'] * 10\n",
    "df['north_coordinate_epsg3035_meter'] = df['north_number'] * 10\n",
    "\n"
   ]
  },
  {
   "cell_type": "code",
   "execution_count": null,
   "metadata": {},
   "outputs": [],
   "source": [
    "def create_square_polygon(row):\n",
    "    side_length = 10\n",
    "    # Define the coordinates of the square's vertices\n",
    "    p1 = (row['east_coordinate_epsg3035_meter'], row['north_coordinate_epsg3035_meter'])\n",
    "    p2 = (row['east_coordinate_epsg3035_meter'], row['north_coordinate_epsg3035_meter']+side_length)\n",
    "    p3 = (row['east_coordinate_epsg3035_meter']+side_length, row['north_coordinate_epsg3035_meter']+side_length)\n",
    "    p4 = (row['east_coordinate_epsg3035_meter']+side_length, row['north_coordinate_epsg3035_meter'])\n",
    "\n",
    "    # # Create the square polygon\n",
    "    square = Polygon([p1,p2,p3,p4,p1])\n",
    "    return square\n",
    "\n",
    "# Apply the create_square_polygon function to each row of the GeoDataFrame\n",
    "df['square_polygon'] = df.apply(create_square_polygon, axis=1)\n",
    "    \n",
    "# Convert DataFrame to GeoDataFrame\n",
    "gdf_vector_grid = gpd.GeoDataFrame(df, geometry='square_polygon')\n",
    "\n",
    "# Specify the projection\n",
    "gdf_vector_grid.crs = \"EPSG:3035\""
   ]
  },
  {
   "cell_type": "markdown",
   "metadata": {},
   "source": [
    "The following notebook produced raster files (tif format) in EPSG:3035 projection from the species table:\n",
    "\n",
    "--> please add you outputfile path & grid size:"
   ]
  },
  {
   "cell_type": "code",
   "execution_count": null,
   "metadata": {},
   "outputs": [],
   "source": [
    "\n",
    "# INPUT\n",
    "unique_species_ids = df['species_id'].unique().tolist()\n",
    "# print(unique_species_ids)\n",
    "output_raster_tif_folder = r\"data\"\n",
    "##################################################################\n",
    "\n",
    "# START\n",
    "resolution = 10\n",
    "for selected_species in unique_species_ids:\n",
    "    print(selected_species)\n",
    "\n",
    "    # Export the GeoDataFrame to a shapefile\n",
    "    # Export gdf.to_file(output_shapefile)\n",
    "    # Define the file path for the shapefile\n",
    "    output_shapefile = output_raster_tif_folder + \"\\species_\" + \\\n",
    "        str(selected_species) + \"_vector_\"+str(resolution)+\"m.shp\"\n",
    "    print(output_shapefile)\n",
    "    # Export the GeoDataFrame to a shapefile\n",
    "    gdf_vector_grid[gdf_vector_grid.species_id == selected_species].to_file(\n",
    "        output_shapefile, index=False, geometry='square_polygon')\n",
    "\n",
    "    ## vector to raster:##############################################################\n",
    "    # Define the bounds and resolution of the raster\n",
    "    xmin, ymin, xmax, ymax = gdf_vector_grid.total_bounds  # Get the bounds of the GeoDataFrame\n",
    "    # Define the resolution of the raster (adjust as needed)\n",
    "\n",
    "    # Calculate the number of rows and columns in the raster\n",
    "    rows = int((ymax - ymin) / resolution)\n",
    "    cols = int((xmax - xmin) / resolution)\n",
    "\n",
    "    # Define the transform for the raster\n",
    "    # resolution is the pixel size (assumed to be 10 meters).\n",
    "    # xmin is the x-coordinate of the upper-left corner.\n",
    "    # ymax is the y-coordinate of the upper-left corner.\n",
    "\n",
    "    transform = Affine(resolution, 0, xmin, 0, - resolution, ymax)\n",
    "\n",
    "    output_raster_tif = output_raster_tif_folder + \"\\species_\" + \\\n",
    "        str(selected_species) + \"_raster_\"+str(resolution)+\"m.tif\"\n",
    "    print(output_raster_tif)\n",
    "    gdf_filtered = gdf_vector_grid[gdf_vector_grid.species_id == selected_species]\n",
    "    # Create an empty raster\n",
    "    with rasterio.open(output_raster_tif, 'w', driver='GTiff',\n",
    "                       height=rows, width=cols, count=1, dtype='float64',\n",
    "                       crs=gdf_vector_grid.crs, transform=transform) as dst:\n",
    "        # Rasterize the GeoDataFrame onto the raster using attribute values\n",
    "        rasterized = rasterize(\n",
    "            [(geom, value)\n",
    "             for geom, value in zip(gdf_filtered['square_polygon'], gdf_filtered['species_id'])],\n",
    "            out_shape=(rows, cols),\n",
    "            fill=0,\n",
    "            transform=dst.transform,\n",
    "            all_touched=True,\n",
    "            dtype='float64'\n",
    "        )\n",
    "\n",
    "        # Write the rasterized data to the raster file\n",
    "        dst.write(rasterized, indexes=1)\n",
    "\n",
    "    print(\"Raster file created successfully.\")\n",
    "\n",
    "print(\"done\")"
   ]
  },
  {
   "cell_type": "markdown",
   "metadata": {},
   "source": [
    "Show the results:"
   ]
  },
  {
   "cell_type": "code",
   "execution_count": null,
   "metadata": {},
   "outputs": [],
   "source": [
    "# Load your raster file (replace 'your_raster.tif' with your actual file path)\n",
    "raster_path = output_raster_tif\n",
    "with rasterio.open(raster_path) as src:\n",
    "    raster_array = src.read(1)  # Read the first band (adjust if needed)\n",
    "\n",
    "\n",
    "import matplotlib.pyplot as plt\n",
    "\n",
    "plt.imshow(raster_array, cmap='coolwarm')  # You can choose a colormap (e.g., 'gray')\n",
    "plt.colorbar()  # Add a colorbar if desired\n",
    "plt.title(\"show the last written raster\")\n",
    "plt.show()"
   ]
  }
 ],
 "metadata": {
  "kernelspec": {
   "display_name": "Python 3 (ipykernel)",
   "language": "python",
   "name": "python3"
  },
  "language_info": {
   "codemirror_mode": {
    "name": "ipython",
    "version": 3
   },
   "file_extension": ".py",
   "mimetype": "text/x-python",
   "name": "python",
   "nbconvert_exporter": "python",
   "pygments_lexer": "ipython3",
   "version": "3.9.15"
  }
 },
 "nbformat": 4,
 "nbformat_minor": 2
}
