{
 "cells": [
  {
   "cell_type": "markdown",
   "metadata": {},
   "source": [
    "# Reading OccurrenceCubeWERBirds data"
   ]
  },
  {
   "cell_type": "markdown",
   "metadata": {},
   "source": [
    "The following script helps to produce a spatial GRID datasets from a GBIF data collection -which has the EEA-GRID ID as attribute.\n",
    "https://www.gbif.org/\n",
    "\n",
    " The script used the donwloaded occurence CSV file, where the geospatial reference is provided by a text code for the EEA reference grid cell identifiers, e.g. 1kmE5432N4321 or 250mE1025N22000 to prode a raster (tif) and vector grid.\n",
    "\n",
    "\n",
    "\n",
    "\n"
   ]
  },
  {
   "cell_type": "markdown",
   "metadata": {},
   "source": [
    "THE FOLLOWING CSV FILE SHOWS THE OCCURENCE OF BIRDS\n",
    "\n",
    "The source data is a \n",
    "[CSV file](https://github.com/FAIRiCUBE/data-requests/blob/main/encoding-examples/datacube_nl_farmland_birds_1.csv)  with the following columns:\n",
    "Year, EEA Grid Cell, TaxonID, Count, Uncertainty"
   ]
  },
  {
   "cell_type": "code",
   "execution_count": 21,
   "metadata": {},
   "outputs": [
    {
     "name": "stdout",
     "output_type": "stream",
     "text": [
      "      year        gridnum_10m  species_id  Count  Uncertainty\n",
      "0     2018  10mE401855N329204     2480242      1       5000.0\n",
      "1     2018  10mE401856N328589     2490266      1       5000.0\n",
      "2     2018  10mE401868N329051     2494686      1       5000.0\n",
      "3     2018  10mE401888N328568     2481819      1       5000.0\n",
      "4     2018  10mE401894N329338     2480242      1       5000.0\n",
      "...    ...                ...         ...    ...          ...\n",
      "3982  2018  10mE408294N330390     2481714      1       5000.0\n",
      "3983  2018  10mE408295N330620     7788295      1       5000.0\n",
      "3984  2018  10mE408308N330427     2480242      1       5000.0\n",
      "3985  2018  10mE408311N330554     9809229      1       5000.0\n",
      "3986  2018  10mE408324N330443     8332393      1       5000.0\n",
      "\n",
      "[3987 rows x 5 columns]\n"
     ]
    }
   ],
   "source": [
    "## read the csv file:\n",
    "import pandas as pd\n",
    "# URL of the CSV file\n",
    "#url = \"https://github.com/FAIRiCUBE/data-requests/blob/main/encoding-examples/datacube_nl_farmland_birds_1.csv\"\n",
    "csv_url = \"https://raw.githubusercontent.com/FAIRiCUBE/data-requests/main/encoding-examples/datacube_nl_farmland_birds_1.csv\"\n",
    "df=pd.read_csv(csv_url)\n",
    "# add header:\n",
    "df.columns = ['year', 'gridnum_10m', 'species_id','Count','Uncertainty']\n",
    "# Display the first few rows of the DataFrame\n",
    "print(df)\n"
   ]
  },
  {
   "cell_type": "markdown",
   "metadata": {},
   "source": [
    "The next code extract the coordinates form the EEA GRID ID:"
   ]
  },
  {
   "cell_type": "code",
   "execution_count": 22,
   "metadata": {},
   "outputs": [
    {
     "name": "stdout",
     "output_type": "stream",
     "text": [
      "      year        gridnum_10m  species_id  Count  Uncertainty  east_number  \\\n",
      "0     2018  10mE401855N329204     2480242      1       5000.0       401855   \n",
      "1     2018  10mE401856N328589     2490266      1       5000.0       401856   \n",
      "2     2018  10mE401868N329051     2494686      1       5000.0       401868   \n",
      "3     2018  10mE401888N328568     2481819      1       5000.0       401888   \n",
      "4     2018  10mE401894N329338     2480242      1       5000.0       401894   \n",
      "...    ...                ...         ...    ...          ...          ...   \n",
      "3982  2018  10mE408294N330390     2481714      1       5000.0       408294   \n",
      "3983  2018  10mE408295N330620     7788295      1       5000.0       408295   \n",
      "3984  2018  10mE408308N330427     2480242      1       5000.0       408308   \n",
      "3985  2018  10mE408311N330554     9809229      1       5000.0       408311   \n",
      "3986  2018  10mE408324N330443     8332393      1       5000.0       408324   \n",
      "\n",
      "      north_number  east_coordinate_epsg3035_meter  \\\n",
      "0           329204                         4018550   \n",
      "1           328589                         4018560   \n",
      "2           329051                         4018680   \n",
      "3           328568                         4018880   \n",
      "4           329338                         4018940   \n",
      "...            ...                             ...   \n",
      "3982        330390                         4082940   \n",
      "3983        330620                         4082950   \n",
      "3984        330427                         4083080   \n",
      "3985        330554                         4083110   \n",
      "3986        330443                         4083240   \n",
      "\n",
      "      north_coordinate_epsg3035_meter  \n",
      "0                             3292040  \n",
      "1                             3285890  \n",
      "2                             3290510  \n",
      "3                             3285680  \n",
      "4                             3293380  \n",
      "...                               ...  \n",
      "3982                          3303900  \n",
      "3983                          3306200  \n",
      "3984                          3304270  \n",
      "3985                          3305540  \n",
      "3986                          3304430  \n",
      "\n",
      "[3987 rows x 9 columns]\n"
     ]
    }
   ],
   "source": [
    "\n",
    "# Extraxt the EAST coordinate\n",
    "def extract_east_number(text):\n",
    "    numbers = re.findall(r'\\d+', text)\n",
    "    if len(numbers) >= 2:\n",
    "        return int(numbers[1])  # Extract the second number\n",
    "    else:\n",
    "        return None\n",
    "\n",
    "# Extraxt the NORTH coordinate\n",
    "def extract_north_number(text):\n",
    "    numbers = re.findall(r'\\d+', text)\n",
    "    if len(numbers) >= 2:\n",
    "        return int(numbers[2])  # Extract the second number\n",
    "    else:\n",
    "        return None\n",
    "\n",
    "# Apply the function to the text_column and create a new column\n",
    "df['east_number'] = df['gridnum_10m'].apply(lambda x: extract_east_number(x))\n",
    "df['north_number'] = df['gridnum_10m'].apply(lambda x: extract_north_number(x))\n",
    "\n",
    "## get final coordinate: - for 10m reslolution:\n",
    "df['east_coordinate_epsg3035_meter'] = df['east_number'] * 10\n",
    "df['north_coordinate_epsg3035_meter'] = df['north_number'] * 10\n",
    "\n",
    "\n",
    "print (df)\n",
    "\n"
   ]
  },
  {
   "cell_type": "markdown",
   "metadata": {},
   "source": [
    "The following notebook produced raster files (tif format) in EPSG:3035 projection from the species table:\n",
    "\n",
    "--> please add you outputfile path & grid size:"
   ]
  },
  {
   "cell_type": "code",
   "execution_count": 24,
   "metadata": {},
   "outputs": [],
   "source": [
    "# add outputfolder:\n",
    "output_raster_tif_folder = r\"N:\\C2205_FAIRiCUBE\\f02_data\\d100_species_distribution\\data\"\n",
    "\n",
    "# add size of the grid:\n",
    "grid_size = 10 ## add. the cell size in meter\n"
   ]
  },
  {
   "cell_type": "code",
   "execution_count": 72,
   "metadata": {},
   "outputs": [
    {
     "name": "stdout",
     "output_type": "stream",
     "text": [
      "[2480242, 2490266, 2494686, 2481819, 2481714, 9515886, 9809229, 9616058, 9701857, 2481685, 8077224, 8332393, 2492943, 5231198, 7788295, 2490774, 8250742, 2495708, 7634625, 2474156, 2481792, 2493220, 2491534, 2482513, 2497266]\n",
      "2480242\n"
     ]
    },
    {
     "name": "stderr",
     "output_type": "stream",
     "text": [
      "C:\\Users\\ManuelLöhnertz\\AppData\\Local\\Temp\\ipykernel_40640\\2767848509.py:117: UserWarning: Column names longer than 10 characters will be truncated when saved to ESRI Shapefile.\n",
      "  gdf_vector_grid_export.to_file(output_shapefile, index=False, geometry='square_polygon')\n"
     ]
    },
    {
     "name": "stdout",
     "output_type": "stream",
     "text": [
      "Raster file created successfully.\n",
      "2490266\n"
     ]
    },
    {
     "name": "stderr",
     "output_type": "stream",
     "text": [
      "C:\\Users\\ManuelLöhnertz\\AppData\\Local\\Temp\\ipykernel_40640\\2767848509.py:117: UserWarning: Column names longer than 10 characters will be truncated when saved to ESRI Shapefile.\n",
      "  gdf_vector_grid_export.to_file(output_shapefile, index=False, geometry='square_polygon')\n"
     ]
    },
    {
     "name": "stdout",
     "output_type": "stream",
     "text": [
      "Raster file created successfully.\n",
      "2494686\n"
     ]
    },
    {
     "name": "stderr",
     "output_type": "stream",
     "text": [
      "C:\\Users\\ManuelLöhnertz\\AppData\\Local\\Temp\\ipykernel_40640\\2767848509.py:117: UserWarning: Column names longer than 10 characters will be truncated when saved to ESRI Shapefile.\n",
      "  gdf_vector_grid_export.to_file(output_shapefile, index=False, geometry='square_polygon')\n"
     ]
    },
    {
     "name": "stdout",
     "output_type": "stream",
     "text": [
      "Raster file created successfully.\n",
      "2481819\n"
     ]
    },
    {
     "name": "stderr",
     "output_type": "stream",
     "text": [
      "C:\\Users\\ManuelLöhnertz\\AppData\\Local\\Temp\\ipykernel_40640\\2767848509.py:117: UserWarning: Column names longer than 10 characters will be truncated when saved to ESRI Shapefile.\n",
      "  gdf_vector_grid_export.to_file(output_shapefile, index=False, geometry='square_polygon')\n"
     ]
    },
    {
     "name": "stdout",
     "output_type": "stream",
     "text": [
      "Raster file created successfully.\n",
      "2481714\n"
     ]
    },
    {
     "name": "stderr",
     "output_type": "stream",
     "text": [
      "C:\\Users\\ManuelLöhnertz\\AppData\\Local\\Temp\\ipykernel_40640\\2767848509.py:117: UserWarning: Column names longer than 10 characters will be truncated when saved to ESRI Shapefile.\n",
      "  gdf_vector_grid_export.to_file(output_shapefile, index=False, geometry='square_polygon')\n"
     ]
    },
    {
     "name": "stdout",
     "output_type": "stream",
     "text": [
      "Raster file created successfully.\n",
      "9515886\n"
     ]
    },
    {
     "name": "stderr",
     "output_type": "stream",
     "text": [
      "C:\\Users\\ManuelLöhnertz\\AppData\\Local\\Temp\\ipykernel_40640\\2767848509.py:117: UserWarning: Column names longer than 10 characters will be truncated when saved to ESRI Shapefile.\n",
      "  gdf_vector_grid_export.to_file(output_shapefile, index=False, geometry='square_polygon')\n"
     ]
    },
    {
     "name": "stdout",
     "output_type": "stream",
     "text": [
      "Raster file created successfully.\n",
      "9809229\n"
     ]
    },
    {
     "name": "stderr",
     "output_type": "stream",
     "text": [
      "C:\\Users\\ManuelLöhnertz\\AppData\\Local\\Temp\\ipykernel_40640\\2767848509.py:117: UserWarning: Column names longer than 10 characters will be truncated when saved to ESRI Shapefile.\n",
      "  gdf_vector_grid_export.to_file(output_shapefile, index=False, geometry='square_polygon')\n"
     ]
    },
    {
     "name": "stdout",
     "output_type": "stream",
     "text": [
      "Raster file created successfully.\n",
      "9616058\n"
     ]
    },
    {
     "name": "stderr",
     "output_type": "stream",
     "text": [
      "C:\\Users\\ManuelLöhnertz\\AppData\\Local\\Temp\\ipykernel_40640\\2767848509.py:117: UserWarning: Column names longer than 10 characters will be truncated when saved to ESRI Shapefile.\n",
      "  gdf_vector_grid_export.to_file(output_shapefile, index=False, geometry='square_polygon')\n"
     ]
    },
    {
     "name": "stdout",
     "output_type": "stream",
     "text": [
      "Raster file created successfully.\n",
      "9701857\n"
     ]
    },
    {
     "name": "stderr",
     "output_type": "stream",
     "text": [
      "C:\\Users\\ManuelLöhnertz\\AppData\\Local\\Temp\\ipykernel_40640\\2767848509.py:117: UserWarning: Column names longer than 10 characters will be truncated when saved to ESRI Shapefile.\n",
      "  gdf_vector_grid_export.to_file(output_shapefile, index=False, geometry='square_polygon')\n"
     ]
    },
    {
     "name": "stdout",
     "output_type": "stream",
     "text": [
      "Raster file created successfully.\n",
      "2481685\n"
     ]
    },
    {
     "name": "stderr",
     "output_type": "stream",
     "text": [
      "C:\\Users\\ManuelLöhnertz\\AppData\\Local\\Temp\\ipykernel_40640\\2767848509.py:117: UserWarning: Column names longer than 10 characters will be truncated when saved to ESRI Shapefile.\n",
      "  gdf_vector_grid_export.to_file(output_shapefile, index=False, geometry='square_polygon')\n"
     ]
    },
    {
     "name": "stdout",
     "output_type": "stream",
     "text": [
      "Raster file created successfully.\n",
      "8077224\n"
     ]
    },
    {
     "name": "stderr",
     "output_type": "stream",
     "text": [
      "C:\\Users\\ManuelLöhnertz\\AppData\\Local\\Temp\\ipykernel_40640\\2767848509.py:117: UserWarning: Column names longer than 10 characters will be truncated when saved to ESRI Shapefile.\n",
      "  gdf_vector_grid_export.to_file(output_shapefile, index=False, geometry='square_polygon')\n"
     ]
    },
    {
     "name": "stdout",
     "output_type": "stream",
     "text": [
      "Raster file created successfully.\n",
      "8332393\n"
     ]
    },
    {
     "name": "stderr",
     "output_type": "stream",
     "text": [
      "C:\\Users\\ManuelLöhnertz\\AppData\\Local\\Temp\\ipykernel_40640\\2767848509.py:117: UserWarning: Column names longer than 10 characters will be truncated when saved to ESRI Shapefile.\n",
      "  gdf_vector_grid_export.to_file(output_shapefile, index=False, geometry='square_polygon')\n"
     ]
    },
    {
     "name": "stdout",
     "output_type": "stream",
     "text": [
      "Raster file created successfully.\n",
      "2492943\n"
     ]
    },
    {
     "name": "stderr",
     "output_type": "stream",
     "text": [
      "C:\\Users\\ManuelLöhnertz\\AppData\\Local\\Temp\\ipykernel_40640\\2767848509.py:117: UserWarning: Column names longer than 10 characters will be truncated when saved to ESRI Shapefile.\n",
      "  gdf_vector_grid_export.to_file(output_shapefile, index=False, geometry='square_polygon')\n"
     ]
    },
    {
     "name": "stdout",
     "output_type": "stream",
     "text": [
      "Raster file created successfully.\n",
      "5231198\n"
     ]
    },
    {
     "name": "stderr",
     "output_type": "stream",
     "text": [
      "C:\\Users\\ManuelLöhnertz\\AppData\\Local\\Temp\\ipykernel_40640\\2767848509.py:117: UserWarning: Column names longer than 10 characters will be truncated when saved to ESRI Shapefile.\n",
      "  gdf_vector_grid_export.to_file(output_shapefile, index=False, geometry='square_polygon')\n"
     ]
    },
    {
     "name": "stdout",
     "output_type": "stream",
     "text": [
      "Raster file created successfully.\n",
      "7788295\n"
     ]
    },
    {
     "name": "stderr",
     "output_type": "stream",
     "text": [
      "C:\\Users\\ManuelLöhnertz\\AppData\\Local\\Temp\\ipykernel_40640\\2767848509.py:117: UserWarning: Column names longer than 10 characters will be truncated when saved to ESRI Shapefile.\n",
      "  gdf_vector_grid_export.to_file(output_shapefile, index=False, geometry='square_polygon')\n"
     ]
    },
    {
     "name": "stdout",
     "output_type": "stream",
     "text": [
      "Raster file created successfully.\n",
      "2490774\n"
     ]
    },
    {
     "name": "stderr",
     "output_type": "stream",
     "text": [
      "C:\\Users\\ManuelLöhnertz\\AppData\\Local\\Temp\\ipykernel_40640\\2767848509.py:117: UserWarning: Column names longer than 10 characters will be truncated when saved to ESRI Shapefile.\n",
      "  gdf_vector_grid_export.to_file(output_shapefile, index=False, geometry='square_polygon')\n"
     ]
    },
    {
     "name": "stdout",
     "output_type": "stream",
     "text": [
      "Raster file created successfully.\n",
      "8250742\n"
     ]
    },
    {
     "name": "stderr",
     "output_type": "stream",
     "text": [
      "C:\\Users\\ManuelLöhnertz\\AppData\\Local\\Temp\\ipykernel_40640\\2767848509.py:117: UserWarning: Column names longer than 10 characters will be truncated when saved to ESRI Shapefile.\n",
      "  gdf_vector_grid_export.to_file(output_shapefile, index=False, geometry='square_polygon')\n"
     ]
    },
    {
     "name": "stdout",
     "output_type": "stream",
     "text": [
      "Raster file created successfully.\n",
      "2495708\n"
     ]
    },
    {
     "name": "stderr",
     "output_type": "stream",
     "text": [
      "C:\\Users\\ManuelLöhnertz\\AppData\\Local\\Temp\\ipykernel_40640\\2767848509.py:117: UserWarning: Column names longer than 10 characters will be truncated when saved to ESRI Shapefile.\n",
      "  gdf_vector_grid_export.to_file(output_shapefile, index=False, geometry='square_polygon')\n"
     ]
    },
    {
     "name": "stdout",
     "output_type": "stream",
     "text": [
      "Raster file created successfully.\n",
      "7634625\n"
     ]
    },
    {
     "name": "stderr",
     "output_type": "stream",
     "text": [
      "C:\\Users\\ManuelLöhnertz\\AppData\\Local\\Temp\\ipykernel_40640\\2767848509.py:117: UserWarning: Column names longer than 10 characters will be truncated when saved to ESRI Shapefile.\n",
      "  gdf_vector_grid_export.to_file(output_shapefile, index=False, geometry='square_polygon')\n"
     ]
    },
    {
     "name": "stdout",
     "output_type": "stream",
     "text": [
      "Raster file created successfully.\n",
      "2474156\n"
     ]
    },
    {
     "name": "stderr",
     "output_type": "stream",
     "text": [
      "C:\\Users\\ManuelLöhnertz\\AppData\\Local\\Temp\\ipykernel_40640\\2767848509.py:117: UserWarning: Column names longer than 10 characters will be truncated when saved to ESRI Shapefile.\n",
      "  gdf_vector_grid_export.to_file(output_shapefile, index=False, geometry='square_polygon')\n"
     ]
    },
    {
     "name": "stdout",
     "output_type": "stream",
     "text": [
      "Raster file created successfully.\n",
      "2481792\n"
     ]
    },
    {
     "name": "stderr",
     "output_type": "stream",
     "text": [
      "C:\\Users\\ManuelLöhnertz\\AppData\\Local\\Temp\\ipykernel_40640\\2767848509.py:117: UserWarning: Column names longer than 10 characters will be truncated when saved to ESRI Shapefile.\n",
      "  gdf_vector_grid_export.to_file(output_shapefile, index=False, geometry='square_polygon')\n"
     ]
    },
    {
     "name": "stdout",
     "output_type": "stream",
     "text": [
      "Raster file created successfully.\n",
      "2493220\n"
     ]
    },
    {
     "name": "stderr",
     "output_type": "stream",
     "text": [
      "C:\\Users\\ManuelLöhnertz\\AppData\\Local\\Temp\\ipykernel_40640\\2767848509.py:117: UserWarning: Column names longer than 10 characters will be truncated when saved to ESRI Shapefile.\n",
      "  gdf_vector_grid_export.to_file(output_shapefile, index=False, geometry='square_polygon')\n"
     ]
    },
    {
     "name": "stdout",
     "output_type": "stream",
     "text": [
      "Raster file created successfully.\n",
      "2491534\n"
     ]
    },
    {
     "name": "stderr",
     "output_type": "stream",
     "text": [
      "C:\\Users\\ManuelLöhnertz\\AppData\\Local\\Temp\\ipykernel_40640\\2767848509.py:117: UserWarning: Column names longer than 10 characters will be truncated when saved to ESRI Shapefile.\n",
      "  gdf_vector_grid_export.to_file(output_shapefile, index=False, geometry='square_polygon')\n"
     ]
    },
    {
     "name": "stdout",
     "output_type": "stream",
     "text": [
      "Raster file created successfully.\n",
      "2482513\n"
     ]
    },
    {
     "name": "stderr",
     "output_type": "stream",
     "text": [
      "C:\\Users\\ManuelLöhnertz\\AppData\\Local\\Temp\\ipykernel_40640\\2767848509.py:117: UserWarning: Column names longer than 10 characters will be truncated when saved to ESRI Shapefile.\n",
      "  gdf_vector_grid_export.to_file(output_shapefile, index=False, geometry='square_polygon')\n"
     ]
    },
    {
     "name": "stdout",
     "output_type": "stream",
     "text": [
      "Raster file created successfully.\n",
      "2497266\n"
     ]
    },
    {
     "name": "stderr",
     "output_type": "stream",
     "text": [
      "C:\\Users\\ManuelLöhnertz\\AppData\\Local\\Temp\\ipykernel_40640\\2767848509.py:117: UserWarning: Column names longer than 10 characters will be truncated when saved to ESRI Shapefile.\n",
      "  gdf_vector_grid_export.to_file(output_shapefile, index=False, geometry='square_polygon')\n"
     ]
    },
    {
     "name": "stdout",
     "output_type": "stream",
     "text": [
      "Raster file created successfully.\n",
      "done\n"
     ]
    }
   ],
   "source": [
    "\n",
    "# geometry:\n",
    "import geopandas as gpd\n",
    "from shapely.geometry import Point\n",
    "from shapely.geometry import Polygon\n",
    "from shapely.wkt import loads\n",
    "import geodatasets\n",
    "import matplotlib.pyplot as plt\n",
    "import rasterio\n",
    "from rasterio import features\n",
    "from rasterio.features import rasterize\n",
    "from rasterio.transform import from_bounds\n",
    "from rasterio import Affine\n",
    "\n",
    "################################################################## INPUT\n",
    "selected_species = 2494686  ## for testing we only select one species\n",
    "side_length = grid_size\n",
    "\n",
    "df=pd.read_csv(csv_url)\n",
    "df.columns = ['year', 'gridnum_10m', 'species_id','Count','Uncertainty']\n",
    "unique_species_ids = df['species_id'].unique().tolist()\n",
    "print(unique_species_ids)\n",
    "\n",
    "##################################################################\n",
    "\n",
    "## START\n",
    "\n",
    "\n",
    "\n",
    "for selected_species in unique_species_ids:\n",
    "    print (selected_species)\n",
    "\n",
    "\n",
    "    df=pd.read_csv(csv_url)\n",
    "    # add header:\n",
    "    df.columns = ['year', 'gridnum_10m', 'species_id','Count','Uncertainty']\n",
    "   \n",
    "\n",
    "\n",
    "    ## select species:\n",
    "    filtered_df = df[df['species_id'] ==  selected_species]\n",
    "    df =  filtered_df\n",
    "\n",
    "\n",
    "    # Extraxt the EAST coordinate\n",
    "    def extract_east_number(text):\n",
    "        numbers = re.findall(r'\\d+', text)\n",
    "        if len(numbers) >= 2:\n",
    "            return int(numbers[1])  # Extract the second number\n",
    "        else:\n",
    "            return None\n",
    "\n",
    "    # Extraxt the NORTH coordinate\n",
    "    def extract_north_number(text):\n",
    "        numbers = re.findall(r'\\d+', text)\n",
    "        if len(numbers) >= 2:\n",
    "            return int(numbers[2])  # Extract the second number\n",
    "        else:\n",
    "            return None\n",
    "\n",
    "    # Apply the function to the text_column and create a new column\n",
    "    df['east_number'] = df['gridnum_10m'].apply(lambda x: extract_east_number(x))\n",
    "    df['north_number'] = df['gridnum_10m'].apply(lambda x: extract_north_number(x))\n",
    "\n",
    "    ## get final coordinate: - for 10m reslolution:\n",
    "    df['east_coordinate_epsg3035_meter'] = df['east_number'] * 10\n",
    "    df['north_coordinate_epsg3035_meter'] = df['north_number'] * 10\n",
    "\n",
    "\n",
    "    #print (df)\n",
    "    ## geometry to df:\n",
    "    # Create geometry column using latitude and longitude\n",
    "\n",
    "    geometry = [Point(xy) for xy in zip(df['east_coordinate_epsg3035_meter'], df['north_coordinate_epsg3035_meter'])]\n",
    "\n",
    "\n",
    "    # Convert DataFrame to GeoDataFrame\n",
    "    gdf = gpd.GeoDataFrame(df, geometry=geometry)\n",
    "\n",
    "\n",
    "    ## build square polygon from point: from lower left starting:\n",
    "\n",
    "    def create_square_polygon(row, side_length):\n",
    "        # Define the coordinates of the square's vertices\n",
    "        north_point = Point(row['geometry'].x, row['geometry'].y + side_length)\n",
    "        west_point = Point(row['geometry'].x + side_length, row['geometry'].y)\n",
    "        northwest_point = Point(row['geometry'].x + side_length, row['geometry'].y + side_length)\n",
    "\n",
    "        # Create the square polygon\n",
    "        square = Polygon([row['geometry'], north_point, northwest_point, west_point, row['geometry']])\n",
    "        \n",
    "        return square\n",
    "\n",
    "     ## size of the GRIDCELL\n",
    "\n",
    "    # Apply the create_square_polygon function to each row of the GeoDataFrame\n",
    "    gdf['square_polygon'] = gdf.apply(create_square_polygon, args=(side_length,), axis=1)\n",
    "\n",
    "\n",
    "    # Convert DataFrame to GeoDataFrame\n",
    "    gdf_vector_grid = gpd.GeoDataFrame(gdf, geometry='square_polygon')\n",
    "\n",
    "    # Specify the projection\n",
    "    gdf_vector_grid.crs = \"EPSG:3035\" \n",
    "\n",
    "\n",
    "\n",
    "    ## map the data:\n",
    "    #gdf_vector_grid.explore()\n",
    "\n",
    "    # Export the GeoDataFrame to a shapefile\n",
    "    # Export gdf.to_file(output_shapefile)\n",
    "    # Define the file path for the shapefile\n",
    "    output_shapefile = output_raster_tif_folder + \"\\species_\"+ str(selected_species) +\"_vector_\"+str(side_length)+\"m.shp\"\n",
    "    # Export the GeoDataFrame to a shapefile\n",
    "    #print (output_shapefile)\n",
    "    gdf_vector_grid_export = gdf_vector_grid.drop(columns=['geometry'])  ## remove one geometry to be able to write shp\n",
    "    gdf_vector_grid_export.to_file(output_shapefile, index=False, geometry='square_polygon')\n",
    "\n",
    "    ## vector to raster:##############################################################\n",
    "    # Assuming you have a GeoDataFrame named 'gdf' with geometry column containing polygons\n",
    "\n",
    "    gdf = gdf_vector_grid\n",
    "\n",
    "\n",
    "    #gdf = gpd.read_file(output_shapefile)\n",
    "    # Define the bounds and resolution of the raster\n",
    "    xmin, ymin, xmax, ymax = gdf.total_bounds  # Get the bounds of the GeoDataFrame\n",
    "    resolution = side_length  # Define the resolution of the raster (adjust as needed)\n",
    "\n",
    "    # Calculate the number of rows and columns in the raster\n",
    "    rows = int((ymax - ymin) / resolution)\n",
    "    cols = int((xmax - xmin) / resolution)\n",
    "\n",
    "    # Define the transform for the raster\n",
    "    #resolution is the pixel size (assumed to be 10 meters).\n",
    "    #xmin is the x-coordinate of the upper-left corner.\n",
    "    #ymax is the y-coordinate of the upper-left corner.\n",
    "\n",
    "    #transform = Affine(resolution, 0, xmin, 0, - resolution, ymax)\n",
    "\n",
    "   \n",
    "    transform = Affine(resolution, 0, xmin, 0, - resolution, ymax)  # shifting the raster 10m to the south\n",
    "\n",
    "    output_raster_tif = output_raster_tif_folder + \"\\species_\"+ str(selected_species) +\"_raster_\"+str(side_length)+\"m.tif\"\n",
    "\n",
    "\n",
    "    # Create an empty raster\n",
    "    with rasterio.open(output_raster_tif, 'w', driver='GTiff', \n",
    "                    height=rows, width=cols, count=1, dtype='float64', \n",
    "                    crs=gdf.crs, transform=transform) as dst:\n",
    "        # Rasterize the GeoDataFrame onto the raster using attribute values\n",
    "        rasterized = rasterize(\n",
    "            [(geom, value) for geom, value in zip(gdf['geometry'], gdf['species_id'])],\n",
    "            out_shape=(rows, cols),\n",
    "            fill=0,\n",
    "            transform=dst.transform,\n",
    "            all_touched=True,\n",
    "            dtype='float64'\n",
    "        )\n",
    "        \n",
    "        # Write the rasterized data to the raster file\n",
    "        dst.write(rasterized, indexes=1)\n",
    "\n",
    "    print(\"Raster file created successfully.\")\n",
    "\n",
    "print (\"done\")"
   ]
  },
  {
   "cell_type": "code",
   "execution_count": 78,
   "metadata": {},
   "outputs": [],
   "source": [
    "from osgeo import gdal  # shifting with gdasl\n",
    "shift_y = 10\n",
    "input_ds = gdal.Open(r\"N:\\C2205_FAIRiCUBE\\f02_data\\d100_species_distribution\\data\\species_2490266_raster_10m.tif\", gdal.GA_ReadOnly)\n",
    "geo_transform = input_ds.GetGeoTransform()\n",
    "new_geo_transform = list(geo_transform)\n",
    "new_geo_transform[3] += shift_y\n",
    "# Create a new dataset with the modified GeoTransform\n",
    "driver = input_ds.GetDriver()\n",
    "\n",
    "input_ds.SetGeoTransform(new_geo_transform)\n",
    "\n",
    "\n",
    "output_ds = driver.CreateCopy(r\"N:\\C2205_FAIRiCUBE\\f02_data\\d100_species_distribution\\data\\species_2490266_raster_10m_gdal.tif\", input_ds)\n"
   ]
  },
  {
   "cell_type": "code",
   "execution_count": 104,
   "metadata": {},
   "outputs": [
    {
     "name": "stdout",
     "output_type": "stream",
     "text": [
      "[2480242, 2490266, 2494686, 2481819, 2481714, 9515886, 9809229, 9616058, 9701857, 2481685, 8077224, 8332393, 2492943, 5231198, 7788295, 2490774, 8250742, 2495708, 7634625, 2474156, 2481792, 2493220, 2491534, 2482513, 2497266]\n",
      "2480242\n"
     ]
    },
    {
     "name": "stderr",
     "output_type": "stream",
     "text": [
      "C:\\Users\\ManuelLöhnertz\\AppData\\Local\\Temp\\ipykernel_40640\\731143490.py:122: UserWarning: Column names longer than 10 characters will be truncated when saved to ESRI Shapefile.\n",
      "  gdf_vector_grid_export.to_file(output_shapefile, index=False, geometry='square_polygon')\n"
     ]
    },
    {
     "name": "stdout",
     "output_type": "stream",
     "text": [
      "gdal:\n",
      "N:\\C2205_FAIRiCUBE\\f02_data\\d100_species_distribution\\data\\species_2480242_raster_10m.tif\n",
      "N:/C2205_FAIRiCUBE/f02_data/d100_species_distribution/data/species_2480242_raster_10m.tif\n"
     ]
    },
    {
     "ename": "AttributeError",
     "evalue": "'NoneType' object has no attribute 'GetGeoTransform'",
     "output_type": "error",
     "traceback": [
      "\u001b[1;31m---------------------------------------------------------------------------\u001b[0m",
      "\u001b[1;31mAttributeError\u001b[0m                            Traceback (most recent call last)",
      "Cell \u001b[1;32mIn[104], line 184\u001b[0m\n\u001b[0;32m    180\u001b[0m input_ds \u001b[38;5;241m=\u001b[39m gdal\u001b[38;5;241m.\u001b[39mOpen(gdal_input, gdal\u001b[38;5;241m.\u001b[39mGA_ReadOnly)\n\u001b[0;32m    182\u001b[0m \u001b[38;5;66;03m#input_ds = gdal.Open(r\"N:\\C2205_FAIRiCUBE\\f02_data\\d100_species_distribution\\data\\species_2480242_raster_10m.tif\", gdal.GA_ReadOnly)\u001b[39;00m\n\u001b[0;32m    183\u001b[0m \u001b[38;5;66;03m#input_ds = gdal.Open(input_x,  gdal.GA_ReadOnly)\u001b[39;00m\n\u001b[1;32m--> 184\u001b[0m geo_transform \u001b[38;5;241m=\u001b[39m \u001b[43minput_ds\u001b[49m\u001b[38;5;241;43m.\u001b[39;49m\u001b[43mGetGeoTransform\u001b[49m()\n\u001b[0;32m    185\u001b[0m new_geo_transform \u001b[38;5;241m=\u001b[39m \u001b[38;5;28mlist\u001b[39m(geo_transform)\n\u001b[0;32m    186\u001b[0m new_geo_transform[\u001b[38;5;241m3\u001b[39m] \u001b[38;5;241m+\u001b[39m\u001b[38;5;241m=\u001b[39m shift_y\n",
      "\u001b[1;31mAttributeError\u001b[0m: 'NoneType' object has no attribute 'GetGeoTransform'"
     ]
    }
   ],
   "source": [
    "### test with shift:\n",
    "\n",
    "# geometry:\n",
    "import geopandas as gpd\n",
    "from shapely.geometry import Point\n",
    "from shapely.geometry import Polygon\n",
    "from shapely.wkt import loads\n",
    "import geodatasets\n",
    "import matplotlib.pyplot as plt\n",
    "import rasterio\n",
    "from rasterio import features\n",
    "from rasterio.features import rasterize\n",
    "from rasterio.transform import from_bounds\n",
    "from rasterio import Affine\n",
    "\n",
    "\n",
    "from osgeo import gdal  # shifting with gdasl\n",
    "\n",
    "################################################################## INPUT\n",
    "selected_species = 2494686  ## for testing we only select one species\n",
    "side_length = grid_size\n",
    "\n",
    "df=pd.read_csv(csv_url)\n",
    "df.columns = ['year', 'gridnum_10m', 'species_id','Count','Uncertainty']\n",
    "unique_species_ids = df['species_id'].unique().tolist()\n",
    "print(unique_species_ids)\n",
    "\n",
    "##################################################################\n",
    "\n",
    "## START\n",
    "\n",
    "\n",
    "\n",
    "for selected_species in unique_species_ids:\n",
    "    print (selected_species)\n",
    "\n",
    "\n",
    "    df=pd.read_csv(csv_url)\n",
    "    # add header:\n",
    "    df.columns = ['year', 'gridnum_10m', 'species_id','Count','Uncertainty']\n",
    "   \n",
    "\n",
    "\n",
    "    ## select species:\n",
    "    filtered_df = df[df['species_id'] ==  selected_species]\n",
    "    df =  filtered_df\n",
    "\n",
    "\n",
    "    # Extraxt the EAST coordinate\n",
    "    def extract_east_number(text):\n",
    "        numbers = re.findall(r'\\d+', text)\n",
    "        if len(numbers) >= 2:\n",
    "            return int(numbers[1])  # Extract the second number\n",
    "        else:\n",
    "            return None\n",
    "\n",
    "    # Extraxt the NORTH coordinate\n",
    "    def extract_north_number(text):\n",
    "        numbers = re.findall(r'\\d+', text)\n",
    "        if len(numbers) >= 2:\n",
    "            return int(numbers[2])  # Extract the second number\n",
    "        else:\n",
    "            return None\n",
    "\n",
    "    # Apply the function to the text_column and create a new column\n",
    "    df['east_number'] = df['gridnum_10m'].apply(lambda x: extract_east_number(x))\n",
    "    df['north_number'] = df['gridnum_10m'].apply(lambda x: extract_north_number(x))\n",
    "\n",
    "    ## get final coordinate: - for 10m reslolution:\n",
    "    df['east_coordinate_epsg3035_meter'] = df['east_number'] * 10\n",
    "    df['north_coordinate_epsg3035_meter'] = df['north_number'] * 10\n",
    "\n",
    "\n",
    "    #print (df)\n",
    "    ## geometry to df:\n",
    "    # Create geometry column using latitude and longitude\n",
    "\n",
    "    geometry = [Point(xy) for xy in zip(df['east_coordinate_epsg3035_meter'], df['north_coordinate_epsg3035_meter'])]\n",
    "\n",
    "\n",
    "    # Convert DataFrame to GeoDataFrame\n",
    "    gdf = gpd.GeoDataFrame(df, geometry=geometry)\n",
    "\n",
    "\n",
    "    ## build square polygon from point: from lower left starting:\n",
    "\n",
    "    def create_square_polygon(row, side_length):\n",
    "        # Define the coordinates of the square's vertices\n",
    "        north_point = Point(row['geometry'].x, row['geometry'].y + side_length)\n",
    "        west_point = Point(row['geometry'].x + side_length, row['geometry'].y)\n",
    "        northwest_point = Point(row['geometry'].x + side_length, row['geometry'].y + side_length)\n",
    "\n",
    "        # Create the square polygon\n",
    "        square = Polygon([row['geometry'], north_point, northwest_point, west_point, row['geometry']])\n",
    "        \n",
    "        return square\n",
    "\n",
    "     ## size of the GRIDCELL\n",
    "\n",
    "    # Apply the create_square_polygon function to each row of the GeoDataFrame\n",
    "    gdf['square_polygon'] = gdf.apply(create_square_polygon, args=(side_length,), axis=1)\n",
    "\n",
    "\n",
    "    # Convert DataFrame to GeoDataFrame\n",
    "    gdf_vector_grid = gpd.GeoDataFrame(gdf, geometry='square_polygon')\n",
    "\n",
    "    # Specify the projection\n",
    "    gdf_vector_grid.crs = \"EPSG:3035\" \n",
    "\n",
    "\n",
    "\n",
    "    ## map the data:\n",
    "    #gdf_vector_grid.explore()\n",
    "\n",
    "    # Export the GeoDataFrame to a shapefile\n",
    "    # Export gdf.to_file(output_shapefile)\n",
    "    # Define the file path for the shapefile\n",
    "    output_shapefile = output_raster_tif_folder + \"\\species_\"+ str(selected_species) +\"_vector_\"+str(side_length)+\"m.shp\"\n",
    "    # Export the GeoDataFrame to a shapefile\n",
    "    #print (output_shapefile)\n",
    "    gdf_vector_grid_export = gdf_vector_grid.drop(columns=['geometry'])  ## remove one geometry to be able to write shp\n",
    "    gdf_vector_grid_export.to_file(output_shapefile, index=False, geometry='square_polygon')\n",
    "\n",
    "    ## vector to raster:##############################################################\n",
    "    # Assuming you have a GeoDataFrame named 'gdf' with geometry column containing polygons\n",
    "\n",
    "    gdf = gdf_vector_grid\n",
    "\n",
    "\n",
    "    #gdf = gpd.read_file(output_shapefile)\n",
    "    # Define the bounds and resolution of the raster\n",
    "    xmin, ymin, xmax, ymax = gdf.total_bounds  # Get the bounds of the GeoDataFrame\n",
    "    resolution = side_length  # Define the resolution of the raster (adjust as needed)\n",
    "\n",
    "    # Calculate the number of rows and columns in the raster\n",
    "    rows = int((ymax - ymin) / resolution)\n",
    "    cols = int((xmax - xmin) / resolution)\n",
    "\n",
    "    # Define the transform for the raster\n",
    "    #resolution is the pixel size (assumed to be 10 meters).\n",
    "    #xmin is the x-coordinate of the upper-left corner.\n",
    "    #ymax is the y-coordinate of the upper-left corner.\n",
    "\n",
    "    #transform = Affine(resolution, 0, xmin, 0, - resolution, ymax)\n",
    "\n",
    "   \n",
    "    transform = Affine(resolution, 0, xmin, 0, - resolution, ymax)  # shifting the raster 10m to the south\n",
    "\n",
    "    output_raster_tif = output_raster_tif_folder + \"\\species_\"+ str(selected_species) +\"_raster_\"+str(side_length)+\"m.tif\"\n",
    "\n",
    "\n",
    "    # Create an empty raster\n",
    "    with rasterio.open(output_raster_tif, 'w', driver='GTiff', \n",
    "                    height=rows, width=cols, count=1, dtype='float64', \n",
    "                    crs=gdf.crs, transform=transform) as dst:\n",
    "        # Rasterize the GeoDataFrame onto the raster using attribute values\n",
    "        rasterized = rasterize(\n",
    "            [(geom, value) for geom, value in zip(gdf['geometry'], gdf['species_id'])],\n",
    "            out_shape=(rows, cols),\n",
    "            fill=0,\n",
    "            transform=dst.transform,\n",
    "            all_touched=True,\n",
    "            dtype='float64'\n",
    "        )\n",
    "        \n",
    "        # Write the rasterized data to the raster file\n",
    "        dst.write(rasterized, indexes=1)\n",
    "    \t\n",
    "\n",
    "        \n",
    "        shift_y = 10\n",
    "        print (\"gdal:\")\n",
    "        print (output_raster_tif)\n",
    "\n",
    "        #input_x = \"r\"+'\"'+output_raster_tif+'\"'\n",
    "        #print (input_x)\n",
    "\n",
    "        gdal_input =   \"N:/C2205_FAIRiCUBE/f02_data/d100_species_distribution/data/\"+   \"species_\"+ str(selected_species) +\"_raster_\"+str(side_length)+\"m.tif\"\n",
    "        print (gdal_input)\n",
    "        input_ds = gdal.Open(gdal_input, gdal.GA_ReadOnly)\n",
    "\n",
    "        #input_ds = gdal.Open(r\"N:\\C2205_FAIRiCUBE\\f02_data\\d100_species_distribution\\data\\species_2480242_raster_10m.tif\", gdal.GA_ReadOnly)\n",
    "        #input_ds = gdal.Open(input_x,  gdal.GA_ReadOnly)\n",
    "        geo_transform = input_ds.GetGeoTransform()\n",
    "        new_geo_transform = list(geo_transform)\n",
    "        new_geo_transform[3] += shift_y\n",
    "        # Create a new dataset with the modified GeoTransform\n",
    "        driver = input_ds.GetDriver()\n",
    "\n",
    "        input_ds.SetGeoTransform(new_geo_transform)\n",
    "\n",
    "        output_raster_tif_gdal = output_raster_tif_folder + \"\\species_\"+ str(selected_species) +\"_raster_\"+str(side_length)+\"m_gdal.tif\"\n",
    "        output_ds = driver.CreateCopy(output_raster_tif_gdal, input_ds)\n",
    "\n",
    "\n",
    "\n",
    "    print(\"Raster file created successfully.\")\n",
    "\n",
    "print (\"done\")"
   ]
  },
  {
   "cell_type": "code",
   "execution_count": 86,
   "metadata": {},
   "outputs": [
    {
     "data": {
      "text/plain": [
       "array([[0., 0., 0., ..., 0., 0., 0.],\n",
       "       [0., 0., 0., ..., 0., 0., 0.],\n",
       "       [0., 0., 0., ..., 0., 0., 0.],\n",
       "       ...,\n",
       "       [0., 0., 0., ..., 0., 0., 0.],\n",
       "       [0., 0., 0., ..., 0., 0., 0.],\n",
       "       [0., 0., 0., ..., 0., 0., 0.]])"
      ]
     },
     "execution_count": 86,
     "metadata": {},
     "output_type": "execute_result"
    }
   ],
   "source": [
    "rasterized\n"
   ]
  },
  {
   "cell_type": "code",
   "execution_count": 43,
   "metadata": {},
   "outputs": [
    {
     "name": "stdout",
     "output_type": "stream",
     "text": [
      "Raster shifted one pixel south and saved as 'shifted_raster.tif'\n"
     ]
    }
   ],
   "source": []
  },
  {
   "cell_type": "markdown",
   "metadata": {},
   "source": [
    "Show the results:"
   ]
  },
  {
   "cell_type": "code",
   "execution_count": 40,
   "metadata": {},
   "outputs": [
    {
     "data": {
      "image/png": "[encoded data removed]",
      "text/plain": [
       "<Figure size 640x480 with 2 Axes>"
      ]
     },
     "metadata": {},
     "output_type": "display_data"
    }
   ],
   "source": [
    "# Load your raster file (replace 'your_raster.tif' with your actual file path)\n",
    "raster_path = output_raster_tif\n",
    "with rasterio.open(raster_path) as src:\n",
    "    raster_array = src.read(1)  # Read the first band (adjust if needed)\n",
    "\n",
    "\n",
    "\n",
    "\n",
    "plt.imshow(raster_array, cmap='coolwarm')  # You can choose a colormap (e.g., 'gray')\n",
    "plt.colorbar()  # Add a colorbar if desired\n",
    "plt.title(\"show the last written raster\")\n",
    "plt.show()"
   ]
  },
  {
   "cell_type": "markdown",
   "metadata": {},
   "source": [
    "Problem:\n",
    "\n",
    "![alternatvie text](\"C:\\Users\\ManuelLöhnertz\\projects\\uc1-urban-climate\\notebooks\\dev\\f06_mixed\\info_image_gridcell_problematic_1.JPG\")\n",
    "\n",
    "\n",
    "<img src=\"C:\\Users\\ManuelLöhnertz\\projects\\uc1-urban-climate\\notebooks\\dev\\f06_mixed\\info_image_gridcell_problematic_1.JPG\" alt=\"Alternative text\" />\n",
    "\n",
    "![drought_sat_images](\"info_image_gridcell_problematic_1.JPG\")\n"
   ]
  }
 ],
 "metadata": {
  "kernelspec": {
   "display_name": "Python 3 (ipykernel)",
   "language": "python",
   "name": "python3"
  },
  "language_info": {
   "codemirror_mode": {
    "name": "ipython",
    "version": 3
   },
   "file_extension": ".py",
   "mimetype": "text/x-python",
   "name": "python",
   "nbconvert_exporter": "python",
   "pygments_lexer": "ipython3",
   "version": "3.10.9"
  }
 },
 "nbformat": 4,
 "nbformat_minor": 2
}
