{
 "cells": [
  {
   "cell_type": "markdown",
   "metadata": {},
   "source": [
    "# 1) Prodcue distance raster from point data"
   ]
  },
  {
   "cell_type": "markdown",
   "metadata": {},
   "source": [
    "## 1.1 points inside 100m grid"
   ]
  },
  {
   "cell_type": "code",
   "execution_count": 1,
   "metadata": {},
   "outputs": [
    {
     "name": "stderr",
     "output_type": "stream",
     "text": [
      "c:\\ProgramData\\anaconda3\\lib\\site-packages\\IPython\\core\\interactiveshell.py:3400: FutureWarning: The `op` parameter is deprecated and will be removed in a future release. Please use the `predicate` parameter instead.\n",
      "  if await self.run_code(code, result, async_=asy):\n",
      "C:\\Users\\ManuelLöhnertz\\AppData\\Local\\Temp\\ipykernel_51260\\103005694.py:20: UserWarning: Column names longer than 10 characters will be truncated when saved to ESRI Shapefile.\n",
      "  selected_polygons.to_file(output_grid_cell_with_points_inside , overwrite=True)\n"
     ]
    },
    {
     "name": "stdout",
     "output_type": "stream",
     "text": [
      "        EAST     NORTH                         GRID100mID  \\\n",
      "4465 -9300.0  340500.0  EPSG31256_GRID_100m_E-9300N340500   \n",
      "5622 -8800.0  341200.0  EPSG31256_GRID_100m_E-8800N341200   \n",
      "7918 -7800.0  340800.0  EPSG31256_GRID_100m_E-7800N340800   \n",
      "8841 -7400.0  341100.0  EPSG31256_GRID_100m_E-7400N341100   \n",
      "8993 -7300.0  333300.0  EPSG31256_GRID_100m_E-7300N333300   \n",
      "\n",
      "                                               geometry  index_right  BEZIRK  \\\n",
      "4465  POLYGON ((-9300.000 340500.000, -9300.000 3406...          488    14.0   \n",
      "5622  POLYGON ((-8800.000 341200.000, -8800.000 3413...          454    14.0   \n",
      "7918  POLYGON ((-7800.000 340800.000, -7800.000 3409...          906    14.0   \n",
      "8841  POLYGON ((-7400.000 341100.000, -7400.000 3412...          445    14.0   \n",
      "8993  POLYGON ((-7300.000 333300.000, -7300.000 3334...          891    23.0   \n",
      "\n",
      "                   STRASSE      BEZUG   ONR   BIS  ...  \\\n",
      "4465        Mühlbergstraße  gegenüber    44  None  ...   \n",
      "5622           Hauptstraße      neben    91  None  ...   \n",
      "7918                  None       None  None  None  ...   \n",
      "8841        Friedhofstraße        vor    19  None  ...   \n",
      "8993  Breitenfurter Straße        vor  556A  None  ...   \n",
      "\n",
      "                                           FRAKTION_T  \\\n",
      "4465  Leichtverpackungen, Altglas, Altpapier, Biomüll   \n",
      "5622                                          Biomüll   \n",
      "7918                                             None   \n",
      "8841                                          Biomüll   \n",
      "8993                               Biomüll, Altpapier   \n",
      "\n",
      "                                               URL_TEXT  SE_SDO_ROW  \\\n",
      "4465  http://www.wien.gv.at/umwelt/ma48/beratung/mue...  10715103.0   \n",
      "5622  http://www.wien.gv.at/umwelt/ma48/beratung/mue...  10714962.0   \n",
      "7918                                               None   1246544.0   \n",
      "8841  http://www.wien.gv.at/umwelt/ma48/beratung/mue...  10714909.0   \n",
      "8993  http://www.wien.gv.at/umwelt/ma48/beratung/mue...  10717238.0   \n",
      "\n",
      "      SE_ANNO_CA           ADRESSE     OBJEKT            OEFFNUNGSZ  \\\n",
      "4465        None              None       None                  None   \n",
      "5622        None              None       None                  None   \n",
      "7918        None  Wientalstraße 51  Mistplatz  Mo-Sa 7:00-18:00 Uhr   \n",
      "8841        None              None       None                  None   \n",
      "8993        None              None       None                  None   \n",
      "\n",
      "                                               WEBLINK1  \\\n",
      "4465                                               None   \n",
      "5622                                               None   \n",
      "7918  https://www.wien.gv.at/umwelt/ma48/entsorgung/...   \n",
      "8841                                               None   \n",
      "8993                                               None   \n",
      "\n",
      "                                       layer  \\\n",
      "4465  Altstoffsammelstellen_BIO_points_31256   \n",
      "5622  Altstoffsammelstellen_BIO_points_31256   \n",
      "7918                       Mistplaetze_31256   \n",
      "8841  Altstoffsammelstellen_BIO_points_31256   \n",
      "8993  Altstoffsammelstellen_BIO_points_31256   \n",
      "\n",
      "                                                   path  \n",
      "4465  N:/C2205_FAIRiCUBE/f02_data/d050_data_WIEN/sam...  \n",
      "5622  N:/C2205_FAIRiCUBE/f02_data/d050_data_WIEN/sam...  \n",
      "7918  N:/C2205_FAIRiCUBE/f02_data/d050_data_WIEN/mis...  \n",
      "8841  N:/C2205_FAIRiCUBE/f02_data/d050_data_WIEN/sam...  \n",
      "8993  N:/C2205_FAIRiCUBE/f02_data/d050_data_WIEN/sam...  \n",
      "\n",
      "[5 rows x 26 columns]\n",
      "done\n"
     ]
    }
   ],
   "source": [
    "\n",
    "## point to overlay with gridcell\n",
    "\n",
    "\n",
    "import geopandas as gpd\n",
    "\n",
    "# Load the polygon and point layers\n",
    "polygons = gpd.read_file(r\"N:\\C2205_FAIRiCUBE\\f02_data\\d050_data_WIEN\\reference_units\\GRID\\grid31256\\fishnet_100m_31256.shp\")\n",
    "points =   gpd.read_file(r'N:\\C2205_FAIRiCUBE\\f02_data\\d050_data_WIEN\\sammelstellen\\Altstoffsammelstellen_BIO_und_Mistplaetze_points_31256.shp')\n",
    "\n",
    "output_grid_cell_with_points_inside = r'N:\\C2205_FAIRiCUBE\\f02_data\\d050_data_WIEN\\Vienna_gridded_data_collection\\100m_GRID\\Bio_sammel_mistplaetze_100m.shp'\n",
    "\n",
    "\n",
    "# Perform spatial join to find polygons covered by points\n",
    "selected_polygons = gpd.sjoin(polygons, points, how=\"inner\", op=\"contains\")\n",
    "\n",
    "# Display or manipulate the selected polygons as needed\n",
    "print(selected_polygons.head())\n",
    "\n",
    "# Save the selected polygons to a new shapefile if necessary\n",
    "selected_polygons.to_file(output_grid_cell_with_points_inside , overwrite=True)\n",
    "\n",
    "print (\"done\")\n"
   ]
  },
  {
   "cell_type": "markdown",
   "metadata": {},
   "source": [
    "# 1.2 raster from the resulting grids"
   ]
  },
  {
   "cell_type": "code",
   "execution_count": 7,
   "metadata": {},
   "outputs": [
    {
     "name": "stdout",
     "output_type": "stream",
     "text": [
      "done\n"
     ]
    }
   ],
   "source": [
    "##\n",
    "\n",
    "## raster to vector using vector attriubte (working perfectly):\n",
    "\n",
    "import geopandas as gpd\n",
    "import rasterio\n",
    "from rasterio.features import rasterize\n",
    "from rasterio.transform import from_bounds\n",
    "\n",
    "# Load the polygon layer\n",
    "polygons = gpd.read_file(r'N:\\C2205_FAIRiCUBE\\f02_data\\d050_data_WIEN\\Vienna_gridded_data_collection\\100m_GRID\\Bio_sammel_mistplaetze_100m.shp')\n",
    "\n",
    "output_raster = r'N:\\C2205_FAIRiCUBE\\f02_data\\d050_data_WIEN\\Vienna_gridded_data_collection\\100m_GRID\\Bio_sammel_mistplaetze_100m.tif'\n",
    "\n",
    "\n",
    "# Define the attribute to use for raster values\n",
    "attribute_to_rasterize = 'raster_att'\n",
    "\n",
    "# Define raster properties\n",
    "xmin, ymin, xmax, ymax = polygons.total_bounds\n",
    "pixel_size = 100  # Adjust as needed\n",
    "\n",
    "\n",
    "width = int((xmax - xmin) / pixel_size)\n",
    "height = int((ymax - ymin) / pixel_size)\n",
    "transform = from_bounds(xmin, ymin, xmax, ymax, width, height)\n",
    "\n",
    "# Create an empty array to hold rasterized values\n",
    "raster_array = rasterize(\n",
    "    [(geom, value) for geom, value in zip(polygons.geometry, polygons[attribute_to_rasterize])],\n",
    "    out_shape=(height, width),\n",
    "    transform=transform,\n",
    "    fill=0,\n",
    "    all_touched=False,  # or True\n",
    "    dtype=rasterio.uint8\n",
    ")\n",
    "\n",
    "# Write the raster to a GeoTIFF file\n",
    "with rasterio.open(output_raster, \"w\", driver=\"GTiff\", \n",
    "                   height=raster_array.shape[0], \n",
    "                   width=raster_array.shape[1], \n",
    "                   count=1, \n",
    "                   dtype=raster_array.dtype, \n",
    "                   crs=polygons.crs, \n",
    "                   transform=transform) as dst:\n",
    "    dst.write(raster_array, 1)\n",
    "\n",
    "\n",
    "print (\"done\")"
   ]
  },
  {
   "cell_type": "markdown",
   "metadata": {},
   "source": [
    "# 2) Calculation the distance of every raster cell to the nearest raster cell with value (1 = location of biotonne)"
   ]
  },
  {
   "cell_type": "code",
   "execution_count": 10,
   "metadata": {},
   "outputs": [
    {
     "data": {
      "text/plain": [
       "CompletedProcess(args=['python', 'C:\\\\ProgramData\\\\anaconda3\\\\Scripts\\\\gdal_proximity.py', 'N:\\\\C2205_FAIRiCUBE\\\\f02_data\\\\d050_data_WIEN\\\\Vienna_gridded_data_collection\\\\100m_GRID\\\\Bio_sammel_mistplaetze_100m.tif', 'N:\\\\C2205_FAIRiCUBE\\\\f02_data\\\\d050_data_WIEN\\\\Vienna_gridded_data_collection\\\\100m_GRID\\\\Bio_sammel_mistplaetze_100m_distance_raster_1.tif'], returncode=0)"
      ]
     },
     "execution_count": 10,
     "metadata": {},
     "output_type": "execute_result"
    }
   ],
   "source": [
    "## calc. \n",
    "# The gdal_proximity.py script generates a raster proximity map indicating the distance from the center of each pixel \n",
    "# to the center of the nearest pixel identified as a target pixel. \n",
    "# Target pixels are those in the source raster for which the raster pixel value is in the set of target pixel values.\n",
    "# https://gdal.org/programs/gdal_proximity.html\n",
    "\n",
    "import subprocess\n",
    "\n",
    "# Full path to gdal_proximity.py\n",
    "gdal_proximity_path = r\"C:\\ProgramData\\anaconda3\\Scripts\\gdal_proximity.py\"\n",
    "\n",
    "# Input and output filenames\n",
    "input_raster =  r'N:\\C2205_FAIRiCUBE\\f02_data\\d050_data_WIEN\\Vienna_gridded_data_collection\\100m_GRID\\Bio_sammel_mistplaetze_100m.tif'\n",
    "output_raster =  r'N:\\C2205_FAIRiCUBE\\f02_data\\d050_data_WIEN\\Vienna_gridded_data_collection\\100m_GRID\\Bio_sammel_mistplaetze_100m_distance_raster_1.tif'\n",
    "\n",
    "\n",
    "# Command to run gdal_proximity.py\n",
    "cmd = [\"python\", gdal_proximity_path, input_raster, output_raster]\n",
    "\n",
    "# Run the command\n",
    "subprocess.run(cmd)\n",
    "\n",
    "print (\"done\")\n"
   ]
  }
 ],
 "metadata": {
  "kernelspec": {
   "display_name": "base",
   "language": "python",
   "name": "python3"
  },
  "language_info": {
   "codemirror_mode": {
    "name": "ipython",
    "version": 3
   },
   "file_extension": ".py",
   "mimetype": "text/x-python",
   "name": "python",
   "nbconvert_exporter": "python",
   "pygments_lexer": "ipython3",
   "version": "3.10.9"
  }
 },
 "nbformat": 4,
 "nbformat_minor": 2
}
