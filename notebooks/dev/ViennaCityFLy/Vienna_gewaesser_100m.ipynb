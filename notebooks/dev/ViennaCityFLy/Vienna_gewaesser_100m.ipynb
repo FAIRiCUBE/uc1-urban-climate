{
 "cells": [
  {
   "cell_type": "markdown",
   "metadata": {},
   "source": [
    "# Vienna water areas\n",
    "\n",
    "the row vector datasets :\n",
    "\n",
    "FMZK – Wertebereich Attribut GEWAESSER\n",
    "\n",
    "\n",
    "- 1 Donau\n",
    "- 2 Donaukanal\n",
    "- 3 Alte Donau\n",
    "- 4 Neue Donau\n",
    "- 5 Hafengewässer\n",
    "- 6 Wienfluss\n",
    "- 7 Liesing\n",
    "- 8 Marchfeldkanal\n",
    "- 9 Sonstiges Fließgewässer\n",
    "- 10 Stehendes Gewässer \n",
    "\n",
    "\n",
    "\n",
    "were already mergen in QGIS and stored as a 10m raster file in 31256 projection:\n",
    "\"N:\\C2205_FAIRiCUBE\\f02_data\\d050_data_WIEN\\Mehrzweckkarte\\FMZK_WIEN_GP\\fmzk_gewaesser_poly_shp31256.shp\"\n"
   ]
  },
  {
   "cell_type": "markdown",
   "metadata": {},
   "source": [
    "## Option 1 - using UNION of vector datasets: \n",
    "\n",
    "\n"
   ]
  },
  {
   "cell_type": "code",
   "execution_count": 11,
   "metadata": {},
   "outputs": [
    {
     "name": "stdout",
     "output_type": "stream",
     "text": [
      "datasets found\n",
      "done\n"
     ]
    }
   ],
   "source": [
    "## reading files....\n",
    "\n",
    "# geometry:\n",
    "import geopandas as gpd\n",
    "import os\n",
    "##input:\n",
    "in_water_vector_datasest = r\"N:\\C2205_FAIRiCUBE\\f02_data\\d050_data_WIEN\\Mehrzweckkarte\\FMZK_WIEN_GP\\fmzk_gewaesser_poly_shp31256.shp\"\n",
    "## reference poly: 100x100m:\n",
    "reference_polygon = r\"N:\\C2205_FAIRiCUBE\\f02_data\\d050_data_WIEN\\reference_units\\GRID\\grid31256\\fishnet_100m_31256.shp\"\n",
    "\n",
    "## processing:\n",
    "union_shp = os.path.splitext(in_water_vector_datasest)[0]+\"_union.shp\"\n",
    "#print (union_shp)\n",
    "\n",
    "\n",
    "## out:\n",
    "out_water_100m_vector =         r\"N:\\C2205_FAIRiCUBE\\f02_data\\d050_data_WIEN\\Vienna_gridded_data_collection\\100m_GRID\\Wien_water_areas_by_grid100m.shp\"\n",
    "out_water_100m_vector_indicator=r\"N:\\C2205_FAIRiCUBE\\f02_data\\d050_data_WIEN\\Vienna_gridded_data_collection\\100m_GRID\\Wien_water_areas_by_grid100m_indicator.shp\"\n",
    "\n",
    "\n",
    "print (\"datasets found\")\n",
    "\n",
    "\n",
    "# 1. transformation of land use vector dataset to the 100m Vienna GRID:\n",
    "# 1 Load GRID\n",
    "shp_100m_GRID = gpd.read_file(reference_polygon)\n",
    "# 2 LOAD \"land uise\"\n",
    "shp = gpd.read_file(in_water_vector_datasest)\n",
    "\n",
    "# Perform spatial union\n",
    "union_result = gpd.overlay(shp_100m_GRID, shp, how='union')\n",
    "union_result.to_file(union_shp)\n",
    "# Save the result to a new shapefile\n",
    "\n",
    "\n",
    "print (\"done\")\n",
    "\n",
    "\n",
    "\n",
    "\n"
   ]
  },
  {
   "cell_type": "markdown",
   "metadata": {},
   "source": [
    "## Option 2 - using 10m raster as input\n",
    "\n",
    "\n",
    "This approach is faster:\n",
    "1. feature (poly) to 10m raster uisng majorty in QGI\n",
    "2. Use the resulting 10m pixel for as input for OPTION 2 approach:"
   ]
  },
  {
   "cell_type": "code",
   "execution_count": 12,
   "metadata": {},
   "outputs": [
    {
     "data": {
      "text/plain": [
       "'N:\\\\C2205_FAIRiCUBE\\x0c02_data\\\\d050_data_WIEN\\\\Vienna_gridded_data_collection\\x08m_GRID\\x0bienna_gewaesser_from_fmzk_31256_10m.tif'"
      ]
     },
     "execution_count": 12,
     "metadata": {},
     "output_type": "execute_result"
    }
   ],
   "source": [
    "## location of 10m raster:\n",
    "\n",
    "\"N:\\C2205_FAIRiCUBE\\f02_data\\d050_data_WIEN\\Vienna_gridded_data_collection\\10m_GRID\\vienna_gewaesser_from_fmzk_31256_10m.tif\"\n",
    "\"N:\\C2205_FAIRiCUBE\\f02_data\\d050_data_WIEN\\Vienna_gridded_data_collection\\10m_GRID\\vienna_gewaesser_mask1_from_fmzk_31256_10m.tif\"\n"
   ]
  },
  {
   "cell_type": "code",
   "execution_count": 18,
   "metadata": {},
   "outputs": [
    {
     "name": "stdout",
     "output_type": "stream",
     "text": [
      "      EAST     NORTH                          GRID100mID  \\\n",
      "0 -11200.0  331000.0  EPSG31256_GRID_100m_E-11200N331000   \n",
      "1 -11200.0  331100.0  EPSG31256_GRID_100m_E-11200N331100   \n",
      "2 -11200.0  331200.0  EPSG31256_GRID_100m_E-11200N331200   \n",
      "3 -11200.0  331300.0  EPSG31256_GRID_100m_E-11200N331300   \n",
      "4 -11200.0  331400.0  EPSG31256_GRID_100m_E-11200N331400   \n",
      "\n",
      "                                            geometry  \n",
      "0  POLYGON ((-11200.000 331000.000, -11200.000 33...  \n",
      "1  POLYGON ((-11200.000 331100.000, -11200.000 33...  \n",
      "2  POLYGON ((-11200.000 331200.000, -11200.000 33...  \n",
      "3  POLYGON ((-11200.000 331300.000, -11200.000 33...  \n",
      "4  POLYGON ((-11200.000 331400.000, -11200.000 33...  \n",
      "      EAST     NORTH                          GRID100mID  \\\n",
      "0 -11200.0  331000.0  EPSG31256_GRID_100m_E-11200N331000   \n",
      "1 -11200.0  331100.0  EPSG31256_GRID_100m_E-11200N331100   \n",
      "2 -11200.0  331200.0  EPSG31256_GRID_100m_E-11200N331200   \n",
      "3 -11200.0  331300.0  EPSG31256_GRID_100m_E-11200N331300   \n",
      "4 -11200.0  331400.0  EPSG31256_GRID_100m_E-11200N331400   \n",
      "\n",
      "                                            geometry  min  max  mean  sum  \n",
      "0  POLYGON ((-11200.000 331000.000, -11200.000 33...  NaN  NaN   NaN  NaN  \n",
      "1  POLYGON ((-11200.000 331100.000, -11200.000 33...  NaN  NaN   NaN  NaN  \n",
      "2  POLYGON ((-11200.000 331200.000, -11200.000 33...  NaN  NaN   NaN  NaN  \n",
      "3  POLYGON ((-11200.000 331300.000, -11200.000 33...  NaN  NaN   NaN  NaN  \n",
      "4  POLYGON ((-11200.000 331400.000, -11200.000 33...  NaN  NaN   NaN  NaN  \n",
      "done\n"
     ]
    }
   ],
   "source": [
    "\n",
    "## zonal statistics: output = vector dataset\n",
    "import geopandas as gpd\n",
    "from rasterstats import zonal_stats\n",
    "\n",
    "input_10m_raster = r\"N:\\C2205_FAIRiCUBE\\f02_data\\d050_data_WIEN\\Vienna_gridded_data_collection\\10m_GRID\\vienna_gewaesser_mask1_from_fmzk_31256_10m.tif\"\n",
    "\n",
    "zones  = reference_polygon\n",
    "values = input_10m_raster\n",
    "gdf = gpd.read_file(zones)\n",
    "print(gdf.head())\n",
    "\n",
    "stats = gpd.GeoDataFrame(zonal_stats(gdf, values, stats=[\"min\", \"max\", \"mean\",'sum']))\n",
    "gdf = gdf.join(stats)\n",
    "\n",
    "print(gdf.head())\n",
    "\n",
    "\n",
    "\n",
    "#gdf.to_file(out_water_100m_vector)\n",
    "print (\"done\")"
   ]
  },
  {
   "cell_type": "markdown",
   "metadata": {},
   "source": [
    "# reclassify data frame (all water pixeld to valuea 1)"
   ]
  },
  {
   "cell_type": "code",
   "execution_count": 19,
   "metadata": {},
   "outputs": [],
   "source": [
    "gdf.to_file(out_water_100m_vector)"
   ]
  },
  {
   "cell_type": "markdown",
   "metadata": {},
   "source": [
    "# Export vector data to raster:"
   ]
  },
  {
   "cell_type": "code",
   "execution_count": 21,
   "metadata": {},
   "outputs": [
    {
     "name": "stdout",
     "output_type": "stream",
     "text": [
      "done\n"
     ]
    }
   ],
   "source": [
    "##\n",
    "\n",
    "## raster to vector using vector attriubte (working perfectly):\n",
    "\n",
    "import geopandas as gpd\n",
    "import rasterio\n",
    "from rasterio.features import rasterize\n",
    "from rasterio.transform import from_bounds\n",
    "\n",
    "# Load the polygon layer\n",
    "polygons = gpd.read_file(out_water_100m_vector)\n",
    "\n",
    "output_raster = r\"N:\\C2205_FAIRiCUBE\\f02_data\\d050_data_WIEN\\Vienna_gridded_data_collection\\100m_GRID\\r07_Wien_water_areas_by_grid100m_indicator.tif\"  \n",
    "\n",
    "\n",
    "# Define the attribute to use for raster values\n",
    "attribute_to_rasterize = 'sum'\n",
    "\n",
    "# Define raster properties\n",
    "#xmin, ymin, xmax, ymax = polygons.total_bounds\n",
    "\n",
    "xmin=\t-11200\n",
    "ymin=\t331000\n",
    "xmax=\t18800\n",
    "ymax=\t354000\n",
    "\n",
    "projection ='epsg:31256'\n",
    "\n",
    "\n",
    "pixel_size = 100  # Adjust as needed\n",
    "\n",
    "\n",
    "width = int((xmax - xmin) / pixel_size)\n",
    "height = int((ymax - ymin) / pixel_size)\n",
    "transform = from_bounds(xmin, ymin, xmax, ymax, width, height)\n",
    "\n",
    "# Create an empty array to hold rasterized values\n",
    "raster_array = rasterize(\n",
    "    [(geom, value) for geom, value in zip(polygons.geometry, polygons[attribute_to_rasterize])],\n",
    "    out_shape=(height, width),\n",
    "    transform=transform,\n",
    "    fill=0,\n",
    "    all_touched=False,  # or True\n",
    "    dtype=rasterio.float32\n",
    ")\n",
    "\n",
    "# Write the raster to a GeoTIFF file\n",
    "with rasterio.open(output_raster, \"w\", driver=\"GTiff\", \n",
    "                   height=raster_array.shape[0], \n",
    "                   width=raster_array.shape[1], \n",
    "                   count=1, \n",
    "                   dtype=raster_array.dtype, \n",
    "                   crs=polygons.crs, \n",
    "                   transform=transform\n",
    "                   ) as dst:\n",
    "    dst.write(raster_array, 1)\n",
    "\n",
    "\n",
    "print (\"done\")"
   ]
  },
  {
   "cell_type": "markdown",
   "metadata": {},
   "source": [
    "## "
   ]
  }
 ],
 "metadata": {
  "kernelspec": {
   "display_name": "Python 3 (ipykernel)",
   "language": "python",
   "name": "python3"
  },
  "language_info": {
   "codemirror_mode": {
    "name": "ipython",
    "version": 3
   },
   "file_extension": ".py",
   "mimetype": "text/x-python",
   "name": "python",
   "nbconvert_exporter": "python",
   "pygments_lexer": "ipython3",
   "version": "3.9.16"
  }
 },
 "nbformat": 4,
 "nbformat_minor": 2
}
