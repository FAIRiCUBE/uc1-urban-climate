{
 "cells": [
  {
   "cell_type": "markdown",
   "id": "55ad824b-261b-46bf-a122-15c6374bc8c9",
   "metadata": {},
   "source": [
    "## Testing ingested data:"
   ]
  },
  {
   "cell_type": "code",
   "execution_count": 1,
   "id": "7f3f7891-91bb-4f34-bda5-4baa51f943e5",
   "metadata": {
    "tags": []
   },
   "outputs": [],
   "source": [
    "%matplotlib inline\n",
    "# Various utilities\n",
    "import shapely.geometry\n",
    "import IPython.display\n",
    "import os\n",
    "\n",
    "from src import utils\n",
    "# Sentinel Hub\n",
    "from sentinelhub import (\n",
    "    CRS,\n",
    "    BBox,\n",
    "    ByocCollection,\n",
    "    ByocCollectionAdditionalData,\n",
    "    ByocCollectionBand,\n",
    "    ByocTile,\n",
    "    DataCollection,\n",
    "    DownloadFailedException,\n",
    "    MimeType,\n",
    "    SentinelHubBYOC,\n",
    "    SentinelHubRequest,\n",
    "    SHConfig,\n",
    "    bbox_to_dimensions,\n",
    "    os_utils,\n",
    ")\n",
    "\n",
    "config = SHConfig()\n",
    "config.instance_id = os.environ.get(\"SH_INSTANCE_ID\")\n",
    "config.sh_client_id = os.environ.get(\"SH_CLIENT_ID\")\n",
    "config.sh_client_secret = os.environ.get(\"SH_CLIENT_SECRET\")\n",
    "config.aws_access_key_id = os.environ.get(\"username\")\n",
    "config.aws_secret_access_key = os.environ.get(\"password\")\n",
    "byoc = SentinelHubBYOC(config=config)"
   ]
  },
  {
   "cell_type": "code",
   "execution_count": 2,
   "id": "0f62decd-fec5-4564-bc68-433c4f9a92ab",
   "metadata": {
    "tags": []
   },
   "outputs": [
    {
     "name": "stdout",
     "output_type": "stream",
     "text": [
      "Collection name: TreeCoverDensity2018_10m_raster\n",
      "Collection id:  3947b646-383c-4e91-aade-2f039bd6ba4b\n",
      "-------------------\n",
      "Collection name: UrbanAtlas2012_10m_raster\n",
      "Collection id:  47ea75a0-875f-4ee9-ae78-b02be89d43d7\n",
      "-------------------\n",
      "Collection name: environmental_zones_1km\n",
      "Collection id:  5b45916e-6704-4581-824f-4d713198731b\n",
      "-------------------\n",
      "Collection name: UrbanAtlas2018_10m_raster\n",
      "Collection id:  78545a11-1e57-4ed0-a3ce-68c2e305216b\n",
      "-------------------\n",
      "Collection name: urban_audit_2021_city\n",
      "Collection id:  7b4d761f-893b-43be-a4d6-4f37375318d3\n",
      "-------------------\n",
      "Collection name: urban_audit_2021_fua\n",
      "Collection id:  c12e7be5-9f5e-441c-930f-2f274218e6d3\n",
      "-------------------\n",
      "Collection name: ImperviousnessDensity2018_10m_raster\n",
      "Collection id:  c57f7668-2717-4529-93cc-5372bc96ebbe\n",
      "-------------------\n",
      "Collection name: nuts3_2021\n",
      "Collection id:  d0a3f8c5-bf65-4bf2-9a3d-37a1d7101874\n",
      "-------------------\n",
      "Collection name: Halle_UA_height\n",
      "Collection id:  dfad0a7e-9d3a-46e2-9fb6-7940f85b8929\n",
      "-------------------\n",
      "Collection name: urban_audit_2021_city\n",
      "Collection id:  f14a4561-3d47-4a7b-914b-420c5c78bd1e\n",
      "-------------------\n"
     ]
    }
   ],
   "source": [
    "# list all collections\n",
    "utils.list_byoc_collections()"
   ]
  },
  {
   "cell_type": "code",
   "execution_count": 3,
   "id": "c0d6ca1c-e9a9-4f91-aec4-1afff224391e",
   "metadata": {
    "tags": []
   },
   "outputs": [
    {
     "ename": "ValueError",
     "evalue": "Data collection name 'urban_audit_2021_city' is already taken by another data collection",
     "output_type": "error",
     "traceback": [
      "\u001b[0;31m---------------------------------------------------------------------------\u001b[0m",
      "\u001b[0;31mValueError\u001b[0m                                Traceback (most recent call last)",
      "Cell \u001b[0;32mIn[3], line 6\u001b[0m\n\u001b[1;32m      4\u001b[0m DataCollection_list \u001b[38;5;241m=\u001b[39m []\n\u001b[1;32m      5\u001b[0m \u001b[38;5;28;01mfor\u001b[39;00m collection \u001b[38;5;129;01min\u001b[39;00m my_collections:\n\u001b[0;32m----> 6\u001b[0m     DataCollection_list\u001b[38;5;241m.\u001b[39mappend(\u001b[43mDataCollection\u001b[49m\u001b[38;5;241;43m.\u001b[39;49m\u001b[43mdefine_byoc\u001b[49m\u001b[43m(\u001b[49m\u001b[43mcollection\u001b[49m\u001b[43m[\u001b[49m\u001b[38;5;124;43m\"\u001b[39;49m\u001b[38;5;124;43mid\u001b[39;49m\u001b[38;5;124;43m\"\u001b[39;49m\u001b[43m]\u001b[49m\u001b[43m,\u001b[49m\u001b[43m \u001b[49m\u001b[43mname\u001b[49m\u001b[38;5;241;43m=\u001b[39;49m\u001b[43mcollection\u001b[49m\u001b[43m[\u001b[49m\u001b[38;5;124;43m\"\u001b[39;49m\u001b[38;5;124;43mname\u001b[39;49m\u001b[38;5;124;43m\"\u001b[39;49m\u001b[43m]\u001b[49m\u001b[43m)\u001b[49m)\n",
      "File \u001b[0;32m/home/conda/fairicubeuc1/467086c01351ef630f14ef1c1e2c3607605786e25d92214e8ed7a5ca85b36969-20230703-150612-959289-12-fairicube_env/lib/python3.9/site-packages/sentinelhub/data_collections.py:524\u001b[0m, in \u001b[0;36mDataCollection.define_byoc\u001b[0;34m(cls, collection_id, **params)\u001b[0m\n\u001b[1;32m    522\u001b[0m params[\u001b[38;5;124m\"\u001b[39m\u001b[38;5;124mcollection_type\u001b[39m\u001b[38;5;124m\"\u001b[39m] \u001b[38;5;241m=\u001b[39m params\u001b[38;5;241m.\u001b[39mget(\u001b[38;5;124m\"\u001b[39m\u001b[38;5;124mcollection_type\u001b[39m\u001b[38;5;124m\"\u001b[39m, _CollectionType\u001b[38;5;241m.\u001b[39mBYOC)\n\u001b[1;32m    523\u001b[0m params[\u001b[38;5;124m\"\u001b[39m\u001b[38;5;124mcollection_id\u001b[39m\u001b[38;5;124m\"\u001b[39m] \u001b[38;5;241m=\u001b[39m collection_id\n\u001b[0;32m--> 524\u001b[0m \u001b[38;5;28;01mreturn\u001b[39;00m \u001b[38;5;28;43mcls\u001b[39;49m\u001b[38;5;241;43m.\u001b[39;49m\u001b[43mdefine\u001b[49m\u001b[43m(\u001b[49m\u001b[38;5;241;43m*\u001b[39;49m\u001b[38;5;241;43m*\u001b[39;49m\u001b[43mparams\u001b[49m\u001b[43m)\u001b[49m\n",
      "File \u001b[0;32m/home/conda/fairicubeuc1/467086c01351ef630f14ef1c1e2c3607605786e25d92214e8ed7a5ca85b36969-20230703-150612-959289-12-fairicube_env/lib/python3.9/site-packages/sentinelhub/data_collections.py:468\u001b[0m, in \u001b[0;36mDataCollection.define\u001b[0;34m(cls, name, api_id, catalog_id, wfs_id, service_url, collection_type, sensor_type, processing_level, swath_mode, polarization, resolution, orbit_direction, timeliness, bands, metabands, collection_id, is_timeless, has_cloud_coverage, dem_instance)\u001b[0m\n\u001b[1;32m    418\u001b[0m \u001b[38;5;250m\u001b[39m\u001b[38;5;124;03m\"\"\"Define a new data collection\u001b[39;00m\n\u001b[1;32m    419\u001b[0m \n\u001b[1;32m    420\u001b[0m \u001b[38;5;124;03mNote that all parameters, except `name` are optional. If a data collection definition won't be used for a\u001b[39;00m\n\u001b[0;32m   (...)\u001b[0m\n\u001b[1;32m    445\u001b[0m \u001b[38;5;124;03m:return: A new data collection\u001b[39;00m\n\u001b[1;32m    446\u001b[0m \u001b[38;5;124;03m\"\"\"\u001b[39;00m\n\u001b[1;32m    447\u001b[0m definition \u001b[38;5;241m=\u001b[39m DataCollectionDefinition(\n\u001b[1;32m    448\u001b[0m     api_id\u001b[38;5;241m=\u001b[39mapi_id,\n\u001b[1;32m    449\u001b[0m     catalog_id\u001b[38;5;241m=\u001b[39mcatalog_id,\n\u001b[0;32m   (...)\u001b[0m\n\u001b[1;32m    466\u001b[0m     _name\u001b[38;5;241m=\u001b[39mname,\n\u001b[1;32m    467\u001b[0m )\n\u001b[0;32m--> 468\u001b[0m \u001b[38;5;28;43mcls\u001b[39;49m\u001b[38;5;241;43m.\u001b[39;49m\u001b[43m_try_add_data_collection\u001b[49m\u001b[43m(\u001b[49m\u001b[43mname\u001b[49m\u001b[43m,\u001b[49m\u001b[43m \u001b[49m\u001b[43mdefinition\u001b[49m\u001b[43m)\u001b[49m\n\u001b[1;32m    469\u001b[0m \u001b[38;5;28;01mreturn\u001b[39;00m \u001b[38;5;28mcls\u001b[39m(definition)\n",
      "File \u001b[0;32m/home/conda/fairicubeuc1/467086c01351ef630f14ef1c1e2c3607605786e25d92214e8ed7a5ca85b36969-20230703-150612-959289-12-fairicube_env/lib/python3.9/site-packages/sentinelhub/data_collections.py:502\u001b[0m, in \u001b[0;36mDataCollection._try_add_data_collection\u001b[0;34m(cls, name, definition)\u001b[0m\n\u001b[1;32m    499\u001b[0m     \u001b[38;5;28;01mreturn\u001b[39;00m\n\u001b[1;32m    501\u001b[0m \u001b[38;5;28;01mif\u001b[39;00m is_name_defined:\n\u001b[0;32m--> 502\u001b[0m     \u001b[38;5;28;01mraise\u001b[39;00m \u001b[38;5;167;01mValueError\u001b[39;00m(\u001b[38;5;124mf\u001b[39m\u001b[38;5;124m\"\u001b[39m\u001b[38;5;124mData collection name \u001b[39m\u001b[38;5;124m'\u001b[39m\u001b[38;5;132;01m{\u001b[39;00mname\u001b[38;5;132;01m}\u001b[39;00m\u001b[38;5;124m'\u001b[39m\u001b[38;5;124m is already taken by another data collection\u001b[39m\u001b[38;5;124m\"\u001b[39m)\n\u001b[1;32m    504\u001b[0m existing_collection \u001b[38;5;241m=\u001b[39m \u001b[38;5;28mcls\u001b[39m\u001b[38;5;241m.\u001b[39m_value2member_map_[definition]\n\u001b[1;32m    505\u001b[0m \u001b[38;5;28;01mraise\u001b[39;00m \u001b[38;5;167;01mValueError\u001b[39;00m(\n\u001b[1;32m    506\u001b[0m     \u001b[38;5;124mf\u001b[39m\u001b[38;5;124m\"\u001b[39m\u001b[38;5;124mData collection definition is already taken by \u001b[39m\u001b[38;5;132;01m{\u001b[39;00mexisting_collection\u001b[38;5;132;01m}\u001b[39;00m\u001b[38;5;124m. Two different \u001b[39m\u001b[38;5;124m\"\u001b[39m\n\u001b[1;32m    507\u001b[0m     \u001b[38;5;124m\"\u001b[39m\u001b[38;5;124mDataCollection enums cannot have the same definition.\u001b[39m\u001b[38;5;124m\"\u001b[39m\n\u001b[1;32m    508\u001b[0m )\n",
      "\u001b[0;31mValueError\u001b[0m: Data collection name 'urban_audit_2021_city' is already taken by another data collection"
     ]
    }
   ],
   "source": [
    "# make DataCollections to be used in the SentinelHub request\n",
    "collections_iterator = byoc.iter_collections()\n",
    "my_collections = list(collections_iterator)\n",
    "DataCollection_list = []\n",
    "for collection in my_collections:\n",
    "    DataCollection_list.append(DataCollection.define_byoc(collection[\"id\"], name=collection[\"name\"]))"
   ]
  },
  {
   "cell_type": "code",
   "execution_count": 4,
   "id": "477f524d-5d3a-4fcb-94ee-ea6a1e69045d",
   "metadata": {
    "tags": []
   },
   "outputs": [
    {
     "name": "stdout",
     "output_type": "stream",
     "text": [
      "DataCollection.SENTINEL2_L1C\n",
      "DataCollection.SENTINEL2_L2A\n",
      "DataCollection.SENTINEL1\n",
      "DataCollection.SENTINEL1_IW\n",
      "DataCollection.SENTINEL1_IW_ASC\n",
      "DataCollection.SENTINEL1_IW_DES\n",
      "DataCollection.SENTINEL1_EW\n",
      "DataCollection.SENTINEL1_EW_ASC\n",
      "DataCollection.SENTINEL1_EW_DES\n",
      "DataCollection.SENTINEL1_EW_SH\n",
      "DataCollection.SENTINEL1_EW_SH_ASC\n",
      "DataCollection.SENTINEL1_EW_SH_DES\n",
      "DataCollection.DEM\n",
      "DataCollection.DEM_MAPZEN\n",
      "DataCollection.DEM_COPERNICUS_30\n",
      "DataCollection.DEM_COPERNICUS_90\n",
      "DataCollection.MODIS\n",
      "DataCollection.LANDSAT_MSS_L1\n",
      "DataCollection.LANDSAT_TM_L1\n",
      "DataCollection.LANDSAT_TM_L2\n",
      "DataCollection.LANDSAT_ETM_L1\n",
      "DataCollection.LANDSAT_ETM_L2\n",
      "DataCollection.LANDSAT_OT_L1\n",
      "DataCollection.LANDSAT_OT_L2\n",
      "DataCollection.SENTINEL5P\n",
      "DataCollection.SENTINEL3_OLCI\n",
      "DataCollection.SENTINEL3_SLSTR\n",
      "DataCollection.TreeCoverDensity2018_10m_raster\n",
      "DataCollection.UrbanAtlas2012_10m_raster\n",
      "DataCollection.environmental_zones_1km\n",
      "DataCollection.UrbanAtlas2018_10m_raster\n",
      "DataCollection.urban_audit_2021_city\n",
      "DataCollection.urban_audit_2021_fua\n",
      "DataCollection.ImperviousnessDensity2018_10m_raster\n",
      "DataCollection.nuts3_2021\n",
      "DataCollection.Halle_UA_height\n"
     ]
    }
   ],
   "source": [
    "for collection in DataCollection.get_available_collections():\n",
    "    print(collection)"
   ]
  },
  {
   "cell_type": "code",
   "execution_count": 5,
   "id": "37f46521-1103-41f9-a28d-f09951827346",
   "metadata": {
    "tags": []
   },
   "outputs": [
    {
     "data": {
      "text/plain": [
       "<DataCollection.environmental_zones_1km: DataCollectionDefinition(\n",
       "  api_id: byoc-5b45916e-6704-4581-824f-4d713198731b\n",
       "  catalog_id: byoc-5b45916e-6704-4581-824f-4d713198731b\n",
       "  wfs_id: byoc-5b45916e-6704-4581-824f-4d713198731b\n",
       "  collection_type: BYOC\n",
       "  collection_id: 5b45916e-6704-4581-824f-4d713198731b\n",
       "  is_timeless: False\n",
       "  has_cloud_coverage: False\n",
       ")>"
      ]
     },
     "execution_count": 5,
     "metadata": {},
     "output_type": "execute_result"
    }
   ],
   "source": [
    "DataCollection.environmental_zones_1km"
   ]
  },
  {
   "cell_type": "code",
   "execution_count": 6,
   "id": "ad127ff8-6cd7-4e82-b557-60ff6382f760",
   "metadata": {
    "tags": []
   },
   "outputs": [
    {
     "name": "stdout",
     "output_type": "stream",
     "text": [
      "Image shape at 100 m resolution: (686, 978) pixels\n"
     ]
    },
    {
     "data": {
      "application/geo+json": {
       "coordinates": [
        [
         [
          6.9,
          49
         ],
         [
          6.9,
          49.9
         ],
         [
          6,
          49.9
         ],
         [
          6,
          49
         ],
         [
          6.9,
          49
         ]
        ]
       ],
       "type": "Polygon"
      },
      "text/plain": [
       "<IPython.display.GeoJSON object>"
      ]
     },
     "metadata": {
      "application/geo+json": {
       "expanded": false,
       "root": "root"
      }
     },
     "output_type": "display_data"
    }
   ],
   "source": [
    "## plotting test box of you data\n",
    "x1 = 18# degree\n",
    "y1 = 41.60  # degree\n",
    "x2 = 20.34 # degree\n",
    "y2 = 40  # degree\n",
    "\n",
    "x1 = 6  # degree\n",
    "y1 = 49  # degree\n",
    "x2 = 6.9 # degree\n",
    "y2 = 49.9  # degree\n",
    "\n",
    "bbox = x1, y1, x2, y2\n",
    "aoi = BBox([x1, y1, x2, y2], crs=CRS.WGS84)\n",
    "#spatial_res = 0.00018   # = 20.038 meters in degree\n",
    "resolution = 100\n",
    "\n",
    "bbox_size = bbox_to_dimensions(aoi, resolution=resolution)\n",
    "print(f\"Image shape at {resolution} m resolution: {bbox_size} pixels\")\n",
    "\n",
    "IPython.display.GeoJSON(shapely.geometry.box(*bbox).__geo_interface__)"
   ]
  },
  {
   "cell_type": "code",
   "execution_count": 8,
   "id": "2bac9783-abb5-4d8b-a440-70555e8276af",
   "metadata": {
    "tags": []
   },
   "outputs": [
    {
     "data": {
      "image/png": "[encoded data removed]",
      "text/plain": [
       "<Figure size 1500x1500 with 1 Axes>"
      ]
     },
     "metadata": {},
     "output_type": "display_data"
    }
   ],
   "source": [
    "#https://sentinelhub-py.readthedocs.io/en/latest/examples/byoc_request.html\n",
    "#https://eurodatacube.com/notebooks/contributions/LPIS_LULC-Slo.ipynb\n",
    "\n",
    "\n",
    "\n",
    "evalscript_test = \"\"\"\n",
    "\n",
    "//VERSION=3\n",
    "function setup() {\n",
    "  return {\n",
    "    input: [\"B01\"],\n",
    "    output: { \n",
    "        bands: 1,\n",
    "        sampleType: \"UINT16\" // raster format will be UINT16\n",
    "        }\n",
    "    \n",
    "  };\n",
    "}\n",
    "\n",
    "function evaluatePixel(sample) {\n",
    "  return [sample.B01];\n",
    "}\n",
    "\"\"\"\n",
    "\n",
    "request = SentinelHubRequest(\n",
    "        evalscript=evalscript_test,\n",
    "        input_data=[\n",
    "            SentinelHubRequest.input_data(\n",
    "                data_collection=DataCollection.environmental_zones_1km,\n",
    "            )\n",
    "        ],\n",
    "        responses=[\n",
    "            SentinelHubRequest.output_response('default', MimeType.TIFF)\n",
    "        ],\n",
    "        bbox=aoi,\n",
    "        size=bbox_to_dimensions(aoi, 100),\n",
    "        config=config\n",
    "    )\n",
    "data = request.get_data()[0]\n",
    "utils.plot_image(data)"
   ]
  },
  {
   "cell_type": "code",
   "execution_count": 57,
   "id": "15109d53-6699-4a49-9cac-10a73b5c5b82",
   "metadata": {},
   "outputs": [
    {
     "name": "stdout",
     "output_type": "stream",
     "text": [
      "[ 0  5 11 12 13]\n"
     ]
    }
   ],
   "source": [
    "import numpy as np\n",
    "print(np.unique(data))"
   ]
  },
  {
   "cell_type": "code",
   "execution_count": 56,
   "id": "77affa9b-88d8-4997-a687-c1263dfe8c2d",
   "metadata": {},
   "outputs": [
    {
     "data": {
      "text/plain": [
       "array([[ 0,  0,  0, ...,  5,  5,  5],\n",
       "       [ 0,  0,  0, ...,  5,  5,  5],\n",
       "       [ 0,  0,  0, ...,  5,  5,  5],\n",
       "       ...,\n",
       "       [13, 13, 13, ..., 11, 11, 11],\n",
       "       [13, 13, 13, ..., 11, 11, 11],\n",
       "       [13, 13, 13, ..., 11, 11, 11]], dtype=uint16)"
      ]
     },
     "execution_count": 56,
     "metadata": {},
     "output_type": "execute_result"
    }
   ],
   "source": [
    "data"
   ]
  }
 ],
 "metadata": {
  "kernelspec": {
   "display_name": "fairicubeuc1-fairicube_env",
   "language": "python",
   "name": "conda-env-fairicubeuc1-fairicube_env-py"
  },
  "language_info": {
   "codemirror_mode": {
    "name": "ipython",
    "version": 3
   },
   "file_extension": ".py",
   "mimetype": "text/x-python",
   "name": "python",
   "nbconvert_exporter": "python",
   "pygments_lexer": "ipython3",
   "version": "3.9.15"
  }
 },
 "nbformat": 4,
 "nbformat_minor": 5
}
