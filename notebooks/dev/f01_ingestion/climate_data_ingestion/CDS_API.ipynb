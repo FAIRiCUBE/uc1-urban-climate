{
 "cells": [
  {
   "cell_type": "markdown",
   "id": "81965347-82fd-4b2b-b1a8-ce09a59b8862",
   "metadata": {},
   "source": [
    "# Download data from Climate Data Store (CDS)\n",
    "\n",
    "CDS provides free-to-use historical data and forecasts about EU climate variables.\n",
    "\n",
    "## Getting started\n",
    "\n",
    "1. Self-register to the CDS website https://cds.climate.copernicus.eu/cdsapp#!/home\n",
    "2. Follow these instructions to set up the API client: https://cds.climate.copernicus.eu/api-how-to#use-the-cds-api-client-for-data-access\n",
    "    1. Create a file .cdsapirc in your home directory\n",
    "    2. Copy `url` and `key` in the .cdsapirc file\n",
    "    3. Install the cdsapi Python library `pip install cdsapi` (make sure to select the right conda environment)"
   ]
  },
  {
   "cell_type": "code",
   "execution_count": 1,
   "id": "9c6ad1df-e178-48d9-b221-377520f2fcb3",
   "metadata": {},
   "outputs": [],
   "source": [
    "import cdsapi\n",
    "c = cdsapi.Client()\n",
    "output_folder = \"./../../../s3/data/d003_climate/\""
   ]
  },
  {
   "cell_type": "markdown",
   "id": "338f85d2-003e-48c2-a3be-37b1eaf6d157",
   "metadata": {},
   "source": [
    "## Download raw data\n",
    "\n",
    "Adapt the `retrieve` statement to download the desired data. You can also use the CDS Form to craft the request and then copy&paste the request.\n",
    "You can also review the status of your requests in your profile page in the CDS website."
   ]
  },
  {
   "cell_type": "code",
   "execution_count": null,
   "id": "9f620c05-b596-451d-8756-3b734b00ef89",
   "metadata": {},
   "outputs": [],
   "source": [
    "c.retrieve(\n",
    "    'reanalysis-cerra-single-levels',\n",
    "    {\n",
    "        'format': 'netcdf',\n",
    "        'day': '31',\n",
    "        'month': '08',\n",
    "        'year': '1984',\n",
    "        'product_type': 'analysis',\n",
    "        'data_type': 'ensemble_members',\n",
    "        'level_type': 'surface_or_atmosphere',\n",
    "        'variable': '10m_wind_direction',\n",
    "        'time': '00:00',\n",
    "    },\n",
    "    output_folder+'download.nc')"
   ]
  },
  {
   "cell_type": "markdown",
   "id": "e08fb356-70cb-40df-a1fd-b70f934f7723",
   "metadata": {},
   "source": [
    "## Send processing workflow and download processed data\n",
    "It is also possible to process data on the CDS server side and download the result. To do so, one has to write the processing routine in Python in a separate file (here called `CDS_API_workflow.py`) and send a `workflow` request along with the input parameters. After the processing has terminated, the resulting data can be downloaded as .nc file."
   ]
  },
  {
   "cell_type": "code",
   "execution_count": null,
   "id": "a6211b28-15ab-4fba-b493-889fa8ce4c4d",
   "metadata": {},
   "outputs": [],
   "source": [
    "# get city coordinates\n",
    "lonlat_list =[[\"NL005C\", 4.640960, 52.113299], [\"NL006C\", 5.384670, 52.173656], [\"NL007C\", 5.921886, 52.189884]]"
   ]
  },
  {
   "cell_type": "code",
   "execution_count": null,
   "id": "e689b754-e6ba-4a83-b6b4-4eac1c8fd198",
   "metadata": {},
   "outputs": [],
   "source": [
    "# open the script where the processing function is defined\n",
    "with open(\"CDS_API_workflow.py\") as f:\n",
    "    code = f.read()\n",
    "res = c.workflow(code, \n",
    "                 lonlat=lonlat_list, day_or_night=\"night\", #keyword arguments passed to the function\n",
    "                 workflow_name=\"get_daily_utci_stats\") # workflow_name must be equal to the name of the function defined in the script\n",
    "c.download(res, targets=[output_folder + \"output.nc\"])"
   ]
  },
  {
   "cell_type": "markdown",
   "id": "63de7179-0c34-492b-b90e-a28df57dbf82",
   "metadata": {},
   "source": [
    "## Read the downloaded .nc file with xarray"
   ]
  },
  {
   "cell_type": "code",
   "execution_count": null,
   "id": "410d18ca-cc58-4a93-aaff-e2d3c0cff4db",
   "metadata": {},
   "outputs": [],
   "source": [
    "import xarray as xr\n",
    "climate_path = output_folder + \"output.nc\"\n",
    "ds_disk = xr.open_dataset(climate_path)\n",
    "print(ds_disk)"
   ]
  },
  {
   "cell_type": "code",
   "execution_count": null,
   "id": "69f43884-1cbf-4918-9960-9e547bf2c59a",
   "metadata": {},
   "outputs": [],
   "source": [
    "print(ds_disk.coords)"
   ]
  },
  {
   "cell_type": "code",
   "execution_count": null,
   "id": "a5bedebd-ca9f-4839-93a0-617a544fdd67",
   "metadata": {},
   "outputs": [],
   "source": [
    "print(ds_disk.dims)"
   ]
  },
  {
   "cell_type": "code",
   "execution_count": null,
   "id": "8079580d-9eb4-443a-8e56-701b703cbd85",
   "metadata": {},
   "outputs": [],
   "source": [
    "ds_disk.sel(statistic=\"max\", city_lonlat=\"NL005C\").utci.plot()"
   ]
  },
  {
   "cell_type": "markdown",
   "id": "135ba287-4423-47f1-a060-af21573dca0d",
   "metadata": {},
   "source": [
    "## Convert to dataframe"
   ]
  },
  {
   "cell_type": "code",
   "execution_count": null,
   "id": "e144ce6e-5d22-4400-b157-339fc580dc05",
   "metadata": {},
   "outputs": [],
   "source": [
    "df = ds_disk.to_dataframe()[\"utci\"]\n",
    "df"
   ]
  }
 ],
 "metadata": {
  "kernelspec": {
   "display_name": "fairicube-edc-2022.10-14",
   "language": "python",
   "name": "conda-env-fairicube-edc-2022.10-14-py"
  },
  "language_info": {
   "codemirror_mode": {
    "name": "ipython",
    "version": 3
   },
   "file_extension": ".py",
   "mimetype": "text/x-python",
   "name": "python",
   "nbconvert_exporter": "python",
   "pygments_lexer": "ipython3",
   "version": "3.9.15"
  }
 },
 "nbformat": 4,
 "nbformat_minor": 5
}
