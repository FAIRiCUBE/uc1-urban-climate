{
 "cells": [
  {
   "cell_type": "markdown",
   "id": "81965347-82fd-4b2b-b1a8-ce09a59b8862",
   "metadata": {},
   "source": [
    "# Get city statistics from climate data downloaded from CDS\n",
    "Workflow to get day- and nighttime utci statistics"
   ]
  },
  {
   "cell_type": "code",
   "execution_count": null,
   "id": "9c6ad1df-e178-48d9-b221-377520f2fcb3",
   "metadata": {},
   "outputs": [],
   "source": [
    "import sqlite3\n",
    "import pandas as pd\n",
    "import xarray as xr\n",
    "from src import utils\n",
    "import time\n",
    "input_folder = \"../../../data/\"\n"
   ]
  },
  {
   "cell_type": "markdown",
   "id": "4207e870",
   "metadata": {},
   "source": [
    "## Download hourly data"
   ]
  },
  {
   "cell_type": "code",
   "execution_count": null,
   "id": "242d2516",
   "metadata": {},
   "outputs": [],
   "source": [
    "year = '1992'\n"
   ]
  },
  {
   "cell_type": "code",
   "execution_count": null,
   "id": "60947cff",
   "metadata": {},
   "outputs": [],
   "source": [
    "\n",
    "import cdsapi\n",
    "c = cdsapi.Client()\n",
    "args = {\n",
    "    \"months\": ['01', '02', '03',\n",
    "            '04', '05', '06',\n",
    "            '07', '08', '09',\n",
    "            '10', '11', '12',],\n",
    "    \"days\":   ['01', '02', '03',\n",
    "            '04', '05', '06',\n",
    "            '07', '08', '09',\n",
    "            '10', '11', '12',\n",
    "            '13', '14', '15',\n",
    "            '16', '17', '18',\n",
    "            '19', '20', '21',\n",
    "            '22', '23', '24',\n",
    "            '25', '26', '27',\n",
    "            '28', '29', '30',\n",
    "            '31'],\n",
    "    }\n",
    "print(year)\n",
    "c.retrieve(\n",
    "        'derived-utci-historical', \n",
    "    {\n",
    "        'version': '1_1',\n",
    "        'format': 'zip',\n",
    "        'day': args[\"days\"],\n",
    "        'month': args[\"months\"],\n",
    "        'year': year,\n",
    "        'product_type': 'consolidated_dataset',\n",
    "        'variable': 'universal_thermal_climate_index',\n",
    "    },\n",
    "    input_folder+f'utci_hourly_{year}.zip')\n"
   ]
  },
  {
   "cell_type": "code",
   "execution_count": null,
   "id": "f49ffcd5",
   "metadata": {},
   "outputs": [],
   "source": [
    "\n",
    "output_folder = utils.unzip_to_folder(input_folder, f'utci_hourly_{year}')"
   ]
  },
  {
   "cell_type": "markdown",
   "id": "e08fb356-70cb-40df-a1fd-b70f934f7723",
   "metadata": {},
   "source": [
    "## Get city coordinates"
   ]
  },
  {
   "cell_type": "code",
   "execution_count": null,
   "id": "664daf5c-3d12-444e-9ce4-f215b0ce11e3",
   "metadata": {},
   "outputs": [],
   "source": [
    "%time\n",
    "# path to databases\n",
    "city_geom  = input_folder+'/city_pts_urban_audit2021.sqlite'\n",
    "con = sqlite3.connect(city_geom)\n",
    "# read full table\n",
    "city_all = pd.read_sql_query(\"SELECT _wgs84x, _wgs84y, city_code FROM urau_lb_2021_3035_cities_center_points_4\", con)\n",
    "con.close()\n",
    "# get city coordinates\n",
    "# lonlat_list =[[\"NL005C\", 4.640960, 52.113299], [\"NL006C\", 5.384670, 52.173656], [\"NL007C\", 5.921886, 52.189884]]\n",
    "lon_list = city_all[\"_wgs84x\"].values.tolist()\n",
    "lat_list = city_all[\"_wgs84y\"].values.tolist()\n",
    "city_list = city_all[\"city_code\"].values.tolist()\n",
    "target_lon = xr.DataArray(lon_list, dims=\"city\", coords={\"city\": city_list})\n",
    "target_lat = xr.DataArray(lat_list, dims=\"city\", coords={\"city\": city_list})"
   ]
  },
  {
   "cell_type": "markdown",
   "id": "63de7179-0c34-492b-b90e-a28df57dbf82",
   "metadata": {},
   "source": [
    "## Read the downloaded .nc file with xarray"
   ]
  },
  {
   "cell_type": "code",
   "execution_count": null,
   "id": "410d18ca-cc58-4a93-aaff-e2d3c0cff4db",
   "metadata": {},
   "outputs": [],
   "source": [
    "climate_path = input_folder+\"utci_hourly_1992/ECMWF_utci*_v1.1_con.nc\"\n",
    "data = xr.open_mfdataset(climate_path, engine=\"netcdf4\", parallel=True)"
   ]
  },
  {
   "cell_type": "code",
   "execution_count": null,
   "id": "f255badd",
   "metadata": {},
   "outputs": [],
   "source": [
    "data"
   ]
  },
  {
   "cell_type": "markdown",
   "id": "c5be07f6",
   "metadata": {},
   "source": [
    "## Compute statistics"
   ]
  },
  {
   "cell_type": "code",
   "execution_count": null,
   "id": "69f43884-1cbf-4918-9960-9e547bf2c59a",
   "metadata": {},
   "outputs": [],
   "source": [
    "data_cities = data[\"utci\"].sel(lon=target_lon, lat=target_lat, method=\"ffill\")\n",
    "data_cities_daytime = data_cities.resample(time=\"12H\", base = 7)\n",
    "utci_mean = data_cities_daytime.mean()\n",
    "utci_min = data_cities_daytime.min()\n",
    "utci_max = data_cities_daytime.max()\n"
   ]
  },
  {
   "cell_type": "code",
   "execution_count": null,
   "id": "62d2afa7",
   "metadata": {},
   "outputs": [],
   "source": [
    "data_cities"
   ]
  },
  {
   "cell_type": "code",
   "execution_count": null,
   "id": "5ee87d8b",
   "metadata": {},
   "outputs": [],
   "source": [
    "\n",
    "stats = xr.merge([utci_mean.rename(\"utci_mean\"), utci_min.rename(\"utci_min\"), utci_max.rename(\"utci_max\")])\n",
    "stats"
   ]
  },
  {
   "cell_type": "code",
   "execution_count": null,
   "id": "9a77c540",
   "metadata": {},
   "outputs": [],
   "source": [
    "stats"
   ]
  },
  {
   "cell_type": "code",
   "execution_count": null,
   "id": "f73fc2b6",
   "metadata": {},
   "outputs": [],
   "source": [
    "from dask.distributed import Client\n",
    "client = Client()  # Connect to distributed cluster and override default"
   ]
  },
  {
   "cell_type": "code",
   "execution_count": null,
   "id": "ad5bd4f0",
   "metadata": {},
   "outputs": [],
   "source": [
    "client"
   ]
  },
  {
   "cell_type": "markdown",
   "id": "08bfa251",
   "metadata": {},
   "source": [
    "## Convert to GeoDataFrame"
   ]
  },
  {
   "cell_type": "code",
   "execution_count": null,
   "id": "59aeffa8",
   "metadata": {},
   "outputs": [],
   "source": [
    "stats_df = stats.to_dataframe()\n",
    "stats_df"
   ]
  },
  {
   "cell_type": "code",
   "execution_count": null,
   "id": "64353f87",
   "metadata": {},
   "outputs": [],
   "source": [
    "stats_df = stats_df.reset_index()\n",
    "stats_df"
   ]
  },
  {
   "cell_type": "code",
   "execution_count": null,
   "id": "58a00b61",
   "metadata": {},
   "outputs": [],
   "source": [
    "import geopandas as gpd\n",
    "gdf = gpd.GeoDataFrame(\n",
    "    stats_df[[\"city\", \"time\", \"utci_mean\", \"utci_min\", \"utci_max\"]], geometry=gpd.points_from_xy(stats_df.lon,stats_df.lat), crs=\"EPSG:4326\")"
   ]
  },
  {
   "cell_type": "code",
   "execution_count": null,
   "id": "fd3f90e8",
   "metadata": {},
   "outputs": [],
   "source": [
    "gdf.to_file(f\"stats_{year}.shp\", driver=\"GeoJSON\")"
   ]
  },
  {
   "cell_type": "markdown",
   "id": "65434d15",
   "metadata": {},
   "source": [
    "## Save to database"
   ]
  },
  {
   "cell_type": "code",
   "execution_count": null,
   "metadata": {},
   "outputs": [],
   "source": [
    "collections = {\n",
    "        \"c_city_utci\":\n",
    "        {\n",
    "            \"crs\": 4326,\n",
    "            \"properties\":\n",
    "            {\n",
    "                \"id\": \"integer\",\n",
    "                \"timestamp\": \"timestamp\",\n",
    "                \"utci_mean\": \"float\",\n",
    "                \"utci_min\": \"float\",\n",
    "                \"utci_max\": \"float\",\n",
    "                \"urau_code\": \"text\",\n",
    "            }\n",
    "        }\n",
    "    }"
   ]
  },
  {
   "cell_type": "code",
   "execution_count": null,
   "id": "189eeb41",
   "metadata": {},
   "outputs": [],
   "source": [
    "import shutil\n",
    "del data\n",
    "del data_cities\n",
    "del data_cities_daytime\n",
    "client.close()\n"
   ]
  },
  {
   "cell_type": "code",
   "execution_count": null,
   "id": "3f258216",
   "metadata": {},
   "outputs": [],
   "source": [
    "del data_cities\n",
    "del data_cities_daytime"
   ]
  },
  {
   "cell_type": "markdown",
   "id": "668f2306",
   "metadata": {},
   "source": [
    "## Delete original data to save space"
   ]
  },
  {
   "cell_type": "code",
   "execution_count": null,
   "id": "37481a01",
   "metadata": {},
   "outputs": [],
   "source": [
    "\n",
    "# shutil.rmtree(input_folder+f\"utci_hourly_{year}\", ignore_errors=False, onerror=None)"
   ]
  }
 ],
 "metadata": {
  "kernelspec": {
   "display_name": "fairicube_env",
   "language": "python",
   "name": "python3"
  },
  "language_info": {
   "codemirror_mode": {
    "name": "ipython",
    "version": 3
   },
   "file_extension": ".py",
   "mimetype": "text/x-python",
   "name": "python",
   "nbconvert_exporter": "python",
   "pygments_lexer": "ipython3",
   "version": "3.9.15"
  }
 },
 "nbformat": 4,
 "nbformat_minor": 5
}
