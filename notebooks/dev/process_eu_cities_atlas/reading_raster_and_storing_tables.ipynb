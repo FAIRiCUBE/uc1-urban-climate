{
 "cells": [
  {
   "cell_type": "markdown",
   "id": "e94a5901-4e2c-4b1a-98e9-1bf1b091105d",
   "metadata": {},
   "source": [
    "# Ingest raster data into database\n",
    "This notebook shows a technique to ingest gridded data into a database"
   ]
  },
  {
   "cell_type": "code",
   "execution_count": null,
   "id": "3446a6c1-12e5-4f8c-bbc3-3b1d1f5731d6",
   "metadata": {},
   "outputs": [],
   "source": [
    "# Utilities\n",
    "import geopandas as gpd\n",
    "import pandas as pd\n",
    "import geopandas as gpd\n",
    "import numpy as np\n",
    "import pandas as pd\n",
    "import rasterio as rio"
   ]
  },
  {
   "cell_type": "code",
   "execution_count": null,
   "id": "33bfa14a-8f31-4b15-958b-277928c2b87c",
   "metadata": {},
   "outputs": [],
   "source": [
    "### read raster\n",
    "raster_2band = \"path/to/raster/LU001C/LU001C.tiff\"\n",
    "\n",
    "with rio.Env():\n",
    "    with rio.open(raster_2band) as src:\n",
    "        crs = src.crs\n",
    "\n",
    "        # create 1D coordinate arrays (coordinates of the pixel center)\n",
    "        xmin, ymax = np.around(src.xy(0.00, 0.00), 9)  # src.xy(0, 0)\n",
    "        xmax, ymin = np.around(src.xy(src.height - 1, src.width - 1), 9)\n",
    "        x = np.linspace(xmin, xmax, src.width)\n",
    "        y = np.linspace(\n",
    "            ymax, ymin, src.height\n",
    "        )  # max -> min so coords are top -> bottom\n",
    "\n",
    "        # create 2D arrays\n",
    "        xs, ys = np.meshgrid(x, y)\n",
    "        b1 = src.read(1)\n",
    "        b2 = src.read(2)\n",
    "\n",
    "        # Apply NoData mask\n",
    "        mask = src.read_masks(1) > 0\n",
    "        xs, ys, b1, b2 = xs[mask], ys[mask], b1[mask], b2[mask]\n",
    "\n",
    "data = {\n",
    "    \"X\": pd.Series(xs.ravel()),\n",
    "    \"Y\": pd.Series(ys.ravel()),\n",
    "    \"city_code\": pd.Series(b1.ravel()),\n",
    "    \"urban_atlas_2018\": pd.Series(b2.ravel()),\n",
    "}\n",
    "\n",
    "df = pd.DataFrame(data=data)\n",
    "geometry = gpd.points_from_xy(df.X, df.Y)\n",
    "gdf = gpd.GeoDataFrame(df, crs=crs, geometry=geometry)\n",
    "\n",
    "print(gdf.head())\n",
    "\n",
    "print(\"------------\")\n",
    "\n",
    "### combine different dimensions:\n",
    "combine_table_cube_urban = (\n",
    "    df.groupby([\"city_code\", \"urban_atlas_2018\"])\n",
    "    .size()\n",
    "    .reset_index()\n",
    "    .rename(columns={0: \"count\"})\n",
    ")\n",
    "\n",
    "### write data to table\n",
    "ouptut_table = \"path/to/tables/urban_cube_v2.csv\"\n",
    "combine_table_cube_urban.to_csv(ouptut_table, index=False)"
   ]
  },
  {
   "cell_type": "code",
   "execution_count": null,
   "id": "c6ea65f7",
   "metadata": {},
   "outputs": [],
   "source": [
    "# Save to sqlite database\n",
    "import sqlite3\n",
    "conn = sqlite3.connect(\"path/to/urban_cube.sqlite\")\n",
    "combine_table_cube_urban.to_sql(\"urban_cube\", conn, if_exists=\"replace\", index=False)"
   ]
  }
 ],
 "metadata": {
  "kernelspec": {
   "display_name": "fairicube-edc-2022.10-14",
   "language": "python",
   "name": "conda-env-fairicube-edc-2022.10-14-py"
  },
  "language_info": {
   "codemirror_mode": {
    "name": "ipython",
    "version": 3
   },
   "file_extension": ".py",
   "mimetype": "text/x-python",
   "name": "python",
   "nbconvert_exporter": "python",
   "pygments_lexer": "ipython3",
   "version": "3.9.15"
  }
 },
 "nbformat": 4,
 "nbformat_minor": 5
}
