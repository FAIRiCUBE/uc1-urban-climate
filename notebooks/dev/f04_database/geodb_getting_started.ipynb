{
 "cells": [
  {
   "cell_type": "markdown",
   "id": "04674ce7-71eb-44a8-8fe9-821c0af9010d",
   "metadata": {},
   "source": [
    "# Access GeoDB\n",
    "\n",
    "documentation: https://xcube-geodb.readthedocs.io/en/latest/notebooks/geodb_manage_collections.html#Manage-Collections-in-your-GeoDB"
   ]
  },
  {
   "cell_type": "code",
   "execution_count": 2,
   "id": "6afbb780-7918-41dd-9dc6-89f6ecee91a5",
   "metadata": {},
   "outputs": [
    {
     "data": {
      "text/plain": [
       "'geodb_63799e41-2ff0-4273-868b-8dd83afdba4b'"
      ]
     },
     "execution_count": 2,
     "metadata": {},
     "output_type": "execute_result"
    }
   ],
   "source": [
    "from xcube_geodb.core.geodb import GeoDBClient\n",
    "geodb = GeoDBClient()\n",
    "geodb.whoami"
   ]
  },
  {
   "cell_type": "code",
   "execution_count": 8,
   "id": "80bcea27-6a2d-4c90-82f1-c5298b9f92d5",
   "metadata": {},
   "outputs": [
    {
     "data": {
      "text/html": [
       "<div>\n",
       "<style scoped>\n",
       "    .dataframe tbody tr th:only-of-type {\n",
       "        vertical-align: middle;\n",
       "    }\n",
       "\n",
       "    .dataframe tbody tr th {\n",
       "        vertical-align: top;\n",
       "    }\n",
       "\n",
       "    .dataframe thead th {\n",
       "        text-align: right;\n",
       "    }\n",
       "</style>\n",
       "<table border=\"1\" class=\"dataframe\">\n",
       "  <thead>\n",
       "    <tr style=\"text-align: right;\">\n",
       "      <th></th>\n",
       "      <th>owner</th>\n",
       "      <th>database</th>\n",
       "      <th>collection</th>\n",
       "    </tr>\n",
       "  </thead>\n",
       "  <tbody>\n",
       "    <tr>\n",
       "      <th>0</th>\n",
       "      <td>geodb_49a05d04-5d72-4c0f-9065-6e6827fd1871</td>\n",
       "      <td>anja</td>\n",
       "      <td>E1</td>\n",
       "    </tr>\n",
       "    <tr>\n",
       "      <th>1</th>\n",
       "      <td>geodb_49a05d04-5d72-4c0f-9065-6e6827fd1871</td>\n",
       "      <td>anja</td>\n",
       "      <td>E10a1</td>\n",
       "    </tr>\n",
       "    <tr>\n",
       "      <th>2</th>\n",
       "      <td>geodb_49a05d04-5d72-4c0f-9065-6e6827fd1871</td>\n",
       "      <td>anja</td>\n",
       "      <td>E10a2</td>\n",
       "    </tr>\n",
       "    <tr>\n",
       "      <th>3</th>\n",
       "      <td>geodb_49a05d04-5d72-4c0f-9065-6e6827fd1871</td>\n",
       "      <td>anja</td>\n",
       "      <td>E11</td>\n",
       "    </tr>\n",
       "    <tr>\n",
       "      <th>4</th>\n",
       "      <td>geodb_49a05d04-5d72-4c0f-9065-6e6827fd1871</td>\n",
       "      <td>anja</td>\n",
       "      <td>E1a</td>\n",
       "    </tr>\n",
       "    <tr>\n",
       "      <th>...</th>\n",
       "      <td>...</td>\n",
       "      <td>...</td>\n",
       "      <td>...</td>\n",
       "    </tr>\n",
       "    <tr>\n",
       "      <th>914</th>\n",
       "      <td>geodb_b34bfae7-9265-4a3e-b921-06549d3c6035</td>\n",
       "      <td>stac_test</td>\n",
       "      <td>ge_train_tier_2_labels</td>\n",
       "    </tr>\n",
       "    <tr>\n",
       "      <th>915</th>\n",
       "      <td>geodb_b34bfae7-9265-4a3e-b921-06549d3c6035</td>\n",
       "      <td>stac_test</td>\n",
       "      <td>ge_train_tier_2_source</td>\n",
       "    </tr>\n",
       "    <tr>\n",
       "      <th>916</th>\n",
       "      <td>geodb_b34bfae7-9265-4a3e-b921-06549d3c6035</td>\n",
       "      <td>stac_test</td>\n",
       "      <td>ties_ai_challenge_test</td>\n",
       "    </tr>\n",
       "    <tr>\n",
       "      <th>917</th>\n",
       "      <td>geodb_d2c4722a-cc19-4ec1-b575-0cdb6876d4a7</td>\n",
       "      <td>test_duplicate</td>\n",
       "      <td>test</td>\n",
       "    </tr>\n",
       "    <tr>\n",
       "      <th>918</th>\n",
       "      <td>None</td>\n",
       "      <td>None</td>\n",
       "      <td>None</td>\n",
       "    </tr>\n",
       "  </tbody>\n",
       "</table>\n",
       "<p>919 rows × 3 columns</p>\n",
       "</div>"
      ],
      "text/plain": [
       "                                          owner        database  \\\n",
       "0    geodb_49a05d04-5d72-4c0f-9065-6e6827fd1871            anja   \n",
       "1    geodb_49a05d04-5d72-4c0f-9065-6e6827fd1871            anja   \n",
       "2    geodb_49a05d04-5d72-4c0f-9065-6e6827fd1871            anja   \n",
       "3    geodb_49a05d04-5d72-4c0f-9065-6e6827fd1871            anja   \n",
       "4    geodb_49a05d04-5d72-4c0f-9065-6e6827fd1871            anja   \n",
       "..                                          ...             ...   \n",
       "914  geodb_b34bfae7-9265-4a3e-b921-06549d3c6035       stac_test   \n",
       "915  geodb_b34bfae7-9265-4a3e-b921-06549d3c6035       stac_test   \n",
       "916  geodb_b34bfae7-9265-4a3e-b921-06549d3c6035       stac_test   \n",
       "917  geodb_d2c4722a-cc19-4ec1-b575-0cdb6876d4a7  test_duplicate   \n",
       "918                                        None            None   \n",
       "\n",
       "                 collection  \n",
       "0                        E1  \n",
       "1                     E10a1  \n",
       "2                     E10a2  \n",
       "3                       E11  \n",
       "4                       E1a  \n",
       "..                      ...  \n",
       "914  ge_train_tier_2_labels  \n",
       "915  ge_train_tier_2_source  \n",
       "916  ties_ai_challenge_test  \n",
       "917                    test  \n",
       "918                    None  \n",
       "\n",
       "[919 rows x 3 columns]"
      ]
     },
     "execution_count": 8,
     "metadata": {},
     "output_type": "execute_result"
    }
   ],
   "source": [
    "# Lets get already existing collections\n",
    "ds = geodb.get_my_collections()\n",
    "ds"
   ]
  },
  {
   "cell_type": "code",
   "execution_count": 9,
   "id": "61b0a4b9-e2f0-472c-ab23-540025328fc4",
   "metadata": {},
   "outputs": [
    {
     "data": {
      "text/html": [
       "<div>\n",
       "<style scoped>\n",
       "    .dataframe tbody tr th:only-of-type {\n",
       "        vertical-align: middle;\n",
       "    }\n",
       "\n",
       "    .dataframe tbody tr th {\n",
       "        vertical-align: top;\n",
       "    }\n",
       "\n",
       "    .dataframe thead th {\n",
       "        text-align: right;\n",
       "    }\n",
       "</style>\n",
       "<table border=\"1\" class=\"dataframe\">\n",
       "  <thead>\n",
       "    <tr style=\"text-align: right;\">\n",
       "      <th></th>\n",
       "      <th>owner</th>\n",
       "      <th>database</th>\n",
       "      <th>collection</th>\n",
       "    </tr>\n",
       "  </thead>\n",
       "  <tbody>\n",
       "    <tr>\n",
       "      <th>861</th>\n",
       "      <td>geodb_63799e41-2ff0-4273-868b-8dd83afdba4b</td>\n",
       "      <td>geodb_63799e41-2ff0-4273-868b-8dd83afdba4b</td>\n",
       "      <td>fairicube_uc1_test</td>\n",
       "    </tr>\n",
       "  </tbody>\n",
       "</table>\n",
       "</div>"
      ],
      "text/plain": [
       "                                          owner  \\\n",
       "861  geodb_63799e41-2ff0-4273-868b-8dd83afdba4b   \n",
       "\n",
       "                                       database          collection  \n",
       "861  geodb_63799e41-2ff0-4273-868b-8dd83afdba4b  fairicube_uc1_test  "
      ]
     },
     "execution_count": 9,
     "metadata": {},
     "output_type": "execute_result"
    }
   ],
   "source": [
    "ds[ds.owner==geodb.whoami]"
   ]
  },
  {
   "cell_type": "code",
   "execution_count": 7,
   "id": "0f58b6ef-91a1-4e27-be0b-e7d927d8798b",
   "metadata": {},
   "outputs": [
    {
     "data": {
      "application/json": {
       "collections": {
        "geodb_63799e41-2ff0-4273-868b-8dd83afdba4b_fairicube_uc1_test": {
         "crs": 3794,
         "properties": {
          "D_OD": "date",
          "RABA_ID": "float",
          "RABA_PID": "float"
         }
        }
       }
      },
      "text/plain": [
       "<xcube_geodb.core.message.Message at 0x7f63c8449280>"
      ]
     },
     "execution_count": 7,
     "metadata": {},
     "output_type": "execute_result"
    }
   ],
   "source": [
    "# Have a look at fiona feature schema\n",
    "collections = {\n",
    "        \"fairicube_uc1_test\":\n",
    "        {\n",
    "            \"crs\": 3794,\n",
    "            \"properties\":\n",
    "            {\n",
    "                \"RABA_PID\": \"float\",\n",
    "                \"RABA_ID\": \"float\",\n",
    "                \"D_OD\": \"date\"\n",
    "            }\n",
    "        }\n",
    "    }\n",
    "\n",
    "\n",
    "geodb.create_collections(collections, clear=True)"
   ]
  }
 ],
 "metadata": {
  "kernelspec": {
   "display_name": "fairicube-edc-2022.10-14",
   "language": "python",
   "name": "conda-env-fairicube-edc-2022.10-14-py"
  },
  "language_info": {
   "codemirror_mode": {
    "name": "ipython",
    "version": 3
   },
   "file_extension": ".py",
   "mimetype": "text/x-python",
   "name": "python",
   "nbconvert_exporter": "python",
   "pygments_lexer": "ipython3",
   "version": "3.9.15"
  }
 },
 "nbformat": 4,
 "nbformat_minor": 5
}
