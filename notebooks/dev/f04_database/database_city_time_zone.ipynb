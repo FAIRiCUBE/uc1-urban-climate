{
 "cells": [
  {
   "cell_type": "markdown",
   "metadata": {},
   "source": [
    "## Database: CITY TIME Zones\n",
    "This tool calculated the time zones for the different cities -important for climate data"
   ]
  },
  {
   "cell_type": "markdown",
   "metadata": {},
   "source": []
  },
  {
   "cell_type": "markdown",
   "metadata": {},
   "source": [
    "#----------------------------------------#"
   ]
  },
  {
   "cell_type": "markdown",
   "metadata": {},
   "source": [
    "## DATABASE connection:"
   ]
  },
  {
   "cell_type": "code",
   "execution_count": 1,
   "metadata": {},
   "outputs": [
    {
     "name": "stdout",
     "output_type": "stream",
     "text": [
      " import data\n",
      "Engine started..\n"
     ]
    }
   ],
   "source": [
    "import numpy as np\n",
    "import pandas as pd\n",
    "import xarray as x\n",
    "from configparser import ConfigParser\n",
    "import sqlalchemy as sa # conection to the database\n",
    "\n",
    "from sqlalchemy import create_engine, text\n",
    "from datetime import datetime, timedelta\n",
    "\n",
    "\n",
    "\n",
    "print (\" import data\")\n",
    "### SET conection to MS-sql server:\n",
    "################################################## SET postgre-sql connection:\n",
    "\n",
    "################################################## read database keys:\n",
    "def config(filename, section='postgresql'):\n",
    "    # create a parser\n",
    "    parser = ConfigParser()\n",
    "    # read config file\n",
    "    parser.read(filename)\n",
    "\n",
    "    # get section, default to postgresql\n",
    "    db = {}\n",
    "    if parser.has_section(section):\n",
    "        params = parser.items(section)\n",
    "        for param in params:\n",
    "            db[param[0]] = param[1]\n",
    "    else:\n",
    "        raise Exception(\n",
    "            'Section {0} not found in the {1} file'.format(section, filename))\n",
    "\n",
    "    return db\n",
    "\n",
    "keys = config(filename='database.ini')\n",
    "\n",
    "POSTGRESQL_SERVER_NAME=keys['host']\n",
    "PORT=                  keys['port']\n",
    "Database_name =        keys['database']\n",
    "USER =                 keys['user']\n",
    "PSW =                  keys['password']\n",
    "##################################################\n",
    "\n",
    "engine_postgresql = sa.create_engine('postgresql://'+USER+':'+PSW+ '@'+POSTGRESQL_SERVER_NAME+':'+str(PORT)+ '/' + Database_name)\n",
    "#print (engine_postgresql)\n",
    "print (\"Engine started..\")"
   ]
  },
  {
   "cell_type": "code",
   "execution_count": 2,
   "metadata": {},
   "outputs": [
    {
     "ename": "IndentationError",
     "evalue": "unindent does not match any outer indentation level (<tokenize>, line 9)",
     "output_type": "error",
     "traceback": [
      "\u001b[1;36m  File \u001b[1;32m<tokenize>:9\u001b[1;36m\u001b[0m\n\u001b[1;33m    WHEN cntr_code in\u001b[0m\n\u001b[1;37m    ^\u001b[0m\n\u001b[1;31mIndentationError\u001b[0m\u001b[1;31m:\u001b[0m unindent does not match any outer indentation level\n"
     ]
    }
   ],
   "source": [
    "####update timezone -- to be updated!!!!!\n",
    "\n",
    "UPDATE lut.l_city_urau2021 \n",
    "\n",
    "SET time_zone =\n",
    "\n",
    "CASE WHEN cntr_code in \n",
    "\t\t('AT','BE','CH','CY','CZ','DE','DK','ES','FR','HR','HU','IT','LU','MT','NL','NO','PL','SE','SI','SK') THEN 'Central European Time (UTC+1)' \n",
    "\tWHEN cntr_code in \n",
    "\t\t('BG','EE','EL','FI','LT','LV','RO') THEN 'Eastern European Time (UTC+2)' \t\n",
    "\tWHEN cntr_code in \n",
    "\t\t('IE','IS','PT','UK') THEN 'Greenwich Mean Time(UTC)' \tEND\n",
    "\n",
    "\t\n",
    "UPDATE lut.l_city_urau2021 \t\n",
    "SET time_zone_offset=\n",
    "CASE WHEN cntr_code in \n",
    "\t\t('AT','BE','CH','CY','CZ','DE','DK','ES','FR','HR','HU','IT','LU','MT','NL','NO','PL','SE','SI','SK') THEN  1 \n",
    "\tWHEN cntr_code in \n",
    "\t\t('BG','EE','EL','FI','LT','LV','RO') THEN 2\t\n",
    "\tWHEN cntr_code in \n",
    "\t\t('IE','IS','PT','UK') THEN 0\t\tEND \n"
   ]
  }
 ],
 "metadata": {
  "kernelspec": {
   "display_name": "Python 3 (ipykernel)",
   "language": "python",
   "name": "python3"
  }
 },
 "nbformat": 4,
 "nbformat_minor": 2
}
