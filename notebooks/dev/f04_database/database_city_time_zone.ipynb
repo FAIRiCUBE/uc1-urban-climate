{
 "cells": [
  {
   "cell_type": "markdown",
   "metadata": {},
   "source": [
    "## Database: CITY TIME Zones\n",
    "This tool calculates the time zones for the different cities"
   ]
  },
  {
   "cell_type": "markdown",
   "metadata": {},
   "source": [
    "#----------------------------------------#"
   ]
  },
  {
   "cell_type": "markdown",
   "metadata": {},
   "source": [
    "## DATABASE connection:"
   ]
  },
  {
   "cell_type": "code",
   "execution_count": null,
   "metadata": {},
   "outputs": [],
   "source": [
    "from src.db_connect import create_engine\n",
    "\n",
    "################################################## SET postgre-sql connection:\n",
    "engine_postgresql = create_engine('path/to/database.ini')\n",
    "print (\"Engine started..\")"
   ]
  },
  {
   "cell_type": "code",
   "execution_count": null,
   "metadata": {},
   "outputs": [
    {
     "name": "stdout",
     "output_type": "stream",
     "text": [
      "Update urban/audit reference city list (729 cities) with time zones:\n",
      "      \n",
      "\n",
      "UPDATE lut.l_city_urau2021test\n",
      "\n",
      "SET\n",
      "time_zone =\n",
      "\n",
      "CASE WHEN cntr_code in \n",
      "\t\t('AT','BE','CH','CY','CZ','DE','DK','ES','FR','HR','HU','IT','LU','MT','NL','NO','PL','SE','SI','SK') THEN 'Central European Time (UTC+1)' \n",
      "\tWHEN cntr_code in \n",
      "\t\t('BG','EE','EL','FI','LT','LV','RO') THEN 'Eastern European Time (UTC+2)' \t\n",
      "\tWHEN cntr_code in \n",
      "\t\t('IE','IS','PT','UK') THEN 'Greenwich Mean Time(UTC)' \tEND,\n",
      "\n",
      "\t\n",
      " \t\n",
      "time_zone_offset=\n",
      "CASE WHEN cntr_code in \n",
      "\t\t('AT','BE','CH','CY','CZ','DE','DK','ES','FR','HR','HU','IT','LU','MT','NL','NO','PL','SE','SI','SK') THEN  1 \n",
      "\tWHEN cntr_code in \n",
      "\t\t('BG','EE','EL','FI','LT','LV','RO') THEN 2\t\n",
      "\tWHEN cntr_code in \n",
      "\t\t('IE','IS','PT','UK') THEN 0 END ;\n",
      "\n",
      "\t\t    \n",
      "time zone update done!\n"
     ]
    }
   ],
   "source": [
    "####update timezone -- to be updated!!!!!\n",
    "\n",
    "\n",
    "\n",
    "print (\"Update urban/audit reference city list (729 cities) with time zones:\")\n",
    "\n",
    "\n",
    "query = (\"\"\"      \n",
    "\n",
    "UPDATE lut.l_city_urau2021test\n",
    "SET time_zone =\n",
    "CASE WHEN cntr_code in \n",
    "\t\t('AT','BE','CH','CY','CZ','DE','DK','ES','FR','HR','HU','IT','LU','MT','NL','NO','PL','SE','SI','SK') THEN 'Central European Time (UTC+1)' \n",
    "\tWHEN cntr_code in \n",
    "\t\t('BG','EE','EL','FI','LT','LV','RO') THEN 'Eastern European Time (UTC+2)' \t\n",
    "\tWHEN cntr_code in \n",
    "\t\t('IE','IS','PT','UK') THEN 'Greenwich Mean Time(UTC)' END,\n",
    "time_zone_offset=\n",
    "CASE WHEN cntr_code in \n",
    "\t\t('AT','BE','CH','CY','CZ','DE','DK','ES','FR','HR','HU','IT','LU','MT','NL','NO','PL','SE','SI','SK') THEN  1 \n",
    "\tWHEN cntr_code in \n",
    "\t\t('BG','EE','EL','FI','LT','LV','RO') THEN 2\t\n",
    "\tWHEN cntr_code in \n",
    "\t\t('IE','IS','PT','UK') THEN 0 END\n",
    "\t\t    \"\"\")\n",
    "\n",
    "print (query)\n",
    "connection = engine_postgresql.raw_connection()\n",
    "cursor = connection.cursor()\n",
    "cursor.execute(query)\n",
    "connection.commit()\n",
    "print (\"time zone update done!\")"
   ]
  }
 ],
 "metadata": {
  "kernelspec": {
   "display_name": "Python 3 (ipykernel)",
   "language": "python",
   "name": "python3"
  },
  "language_info": {
   "codemirror_mode": {
    "name": "ipython",
    "version": 3
   },
   "file_extension": ".py",
   "mimetype": "text/x-python",
   "name": "python",
   "nbconvert_exporter": "python",
   "pygments_lexer": "ipython3",
   "version": "3.10.9"
  }
 },
 "nbformat": 4,
 "nbformat_minor": 2
}
