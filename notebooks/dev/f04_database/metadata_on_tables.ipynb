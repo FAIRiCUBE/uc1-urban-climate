{
 "cells": [
  {
   "cell_type": "markdown",
   "metadata": {},
   "source": [
    "### Metadata on tables \n",
    "\n",
    "set up of tables / column description "
   ]
  },
  {
   "cell_type": "markdown",
   "metadata": {},
   "source": [
    "## 1) connection to database"
   ]
  },
  {
   "cell_type": "code",
   "execution_count": 1,
   "metadata": {},
   "outputs": [
    {
     "name": "stdout",
     "output_type": "stream",
     "text": [
      " import data\n",
      "Engine started..\n"
     ]
    }
   ],
   "source": [
    "import numpy as np\n",
    "import pandas as pd\n",
    "import xarray as x\n",
    "from configparser import ConfigParser\n",
    "import sqlalchemy as sa # conection to the database\n",
    "\n",
    "from sqlalchemy import create_engine, text\n",
    "from datetime import datetime, timedelta\n",
    "\n",
    "\n",
    "\n",
    "print (\" import data\")\n",
    "### SET conection to MS-sql server:\n",
    "################################################## SET postgre-sql connection:\n",
    "\n",
    "################################################## read database keys:\n",
    "def config(filename, section='postgresql'):\n",
    "    # create a parser\n",
    "    parser = ConfigParser()\n",
    "    # read config file\n",
    "    parser.read(filename)\n",
    "\n",
    "    # get section, default to postgresql\n",
    "    db = {}\n",
    "    if parser.has_section(section):\n",
    "        params = parser.items(section)\n",
    "        for param in params:\n",
    "            db[param[0]] = param[1]\n",
    "    else:\n",
    "        raise Exception(\n",
    "            'Section {0} not found in the {1} file'.format(section, filename))\n",
    "\n",
    "    return db\n",
    "\n",
    "keys = config(filename='database.ini')\n",
    "\n",
    "POSTGRESQL_SERVER_NAME=keys['host']\n",
    "PORT=                  keys['port']\n",
    "Database_name =        keys['database']\n",
    "USER =                 keys['user']\n",
    "PSW =                  keys['password']\n",
    "##################################################\n",
    "\n",
    "engine_postgresql = sa.create_engine('postgresql://'+USER+':'+PSW+ '@'+POSTGRESQL_SERVER_NAME+':'+str(PORT)+ '/' + Database_name)\n",
    "#print (engine_postgresql)\n",
    "print (\"Engine started..\")"
   ]
  },
  {
   "cell_type": "markdown",
   "metadata": {},
   "source": [
    "## 2) add table description"
   ]
  },
  {
   "cell_type": "code",
   "execution_count": 4,
   "metadata": {},
   "outputs": [
    {
     "name": "stdout",
     "output_type": "stream",
     "text": [
      "drop table if exists\n",
      "add emnpt table\n"
     ]
    }
   ],
   "source": [
    "## (\n",
    "\n",
    "schema = \"luxembourg_species\"\n",
    "name_of_table = \"luxembourg_species\"\n",
    "name_of_description_table =name_of_table+\"_description\"\n",
    "\n",
    "## remove existing table:\n",
    "\n",
    "query_drop = (\"DROP TABLE IF EXISTS \"+schema+\".\"+name_of_description_table+\";\")       \n",
    "connection = engine_postgresql.raw_connection()\n",
    "cursor = connection.cursor()\n",
    "cursor.execute(query_drop)\n",
    "connection.commit()\n",
    "print (\"drop table if exists\")\n",
    "\n",
    "## add empty descripiotn table:...........................................\n",
    "query_drop = (\"CREATE TABLE \"+schema+\".\"+name_of_description_table+\n",
    "\n",
    "    '''\n",
    "    (\n",
    "    table_name TEXT,\n",
    "    column_name TEXT,\n",
    "    column_type TEXT,\n",
    "    column_description TEXT\n",
    "    );'''\n",
    ")      \n",
    "connection = engine_postgresql.raw_connection()\n",
    "cursor = connection.cursor()\n",
    "cursor.execute(query_drop)\n",
    "connection.commit()\n",
    "print (\"add emnpt table\")\n",
    "\n",
    "\n",
    "\n",
    "## add  descripiotn table:...........................................\n",
    "\n",
    "## use https://chatgpt.com/ to buid the query:\n",
    "\n",
    "query_drop = (\"INSERT INTO  \"+schema+\".\"+name_of_description_table+ 'table_name, column_name, column_type, column_description) VALUES'\n",
    "    '''\n",
    "    (\n",
    "('neophytes_list_gbif', 'species', 'text', 'Species name'),\n",
    "('neophytes_list_gbif', 'family', 'text', 'Family name'),\n",
    "('neophytes_list_gbif', 'risk_assessment_after_iseia2', 'text', 'Risk assessment after ISEIA (Invasive Species Environmental Impact Assessment)'),\n",
    "('neophytes_list_gbif', 'risk_assessment_after_harmonia_3', 'text', 'Risk assessment after Harmonia+ (Invasive Species Impact Assessment)'),\n",
    "('neophytes_list_gbif', '1st record_in_lu4', 'date', 'First record in Luxembourg'),\n",
    "('neophytes_list_gbif', 'listed_in_luxembourg', 'boolean', 'Indicates if the species is listed in Luxembourg'),\n",
    "('neophytes_list_gbif', 'listed_on_the_list_of_eu_concern5', 'boolean', 'Indicates if the species is listed on the list of EU concern'),\n",
    "('neophytes_list_gbif', 'species_name', 'text', 'Full species name'),\n",
    "('neophytes_list_gbif', 'gbif_key', 'integer', 'Shows the id of the row'),\n",
    "('neophytes_list_gbif', 'species_name_lower', 'text', 'Species name in lowercase');\n",
    "    );'''\n",
    ")      \n",
    "connection = engine_postgresql.raw_connection()\n",
    "cursor = connection.cursor()\n",
    "cursor.execute(query_drop)\n",
    "connection.commit()\n",
    "print (\"add emnpt table\")\n",
    "\n",
    "\n"
   ]
  }
 ],
 "metadata": {
  "kernelspec": {
   "display_name": "base",
   "language": "python",
   "name": "python3"
  },
  "language_info": {
   "codemirror_mode": {
    "name": "ipython",
    "version": 3
   },
   "file_extension": ".py",
   "mimetype": "text/x-python",
   "name": "python",
   "nbconvert_exporter": "python",
   "pygments_lexer": "ipython3",
   "version": "3.10.9"
  }
 },
 "nbformat": 4,
 "nbformat_minor": 2
}
