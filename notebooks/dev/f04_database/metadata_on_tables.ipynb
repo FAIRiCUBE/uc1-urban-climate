{
 "cells": [
  {
   "cell_type": "markdown",
   "metadata": {},
   "source": [
    "### Metadata on tables \n",
    "\n",
    "set up of tables / column description "
   ]
  },
  {
   "cell_type": "markdown",
   "metadata": {},
   "source": [
    "## 1) connection to database"
   ]
  },
  {
   "cell_type": "code",
   "execution_count": null,
   "metadata": {},
   "outputs": [
    {
     "name": "stdout",
     "output_type": "stream",
     "text": [
      " import data\n",
      "Engine started..\n"
     ]
    }
   ],
   "source": [
    "from src.db_connect import create_engine\n",
    "\n",
    "################################################## SET postgre-sql connection:\n",
    "engine_postgresql = create_engine('path/to/database.ini')\n",
    "print (\"Engine started..\")"
   ]
  },
  {
   "cell_type": "markdown",
   "metadata": {},
   "source": [
    "## 2) add table description"
   ]
  },
  {
   "cell_type": "code",
   "execution_count": null,
   "metadata": {},
   "outputs": [
    {
     "name": "stdout",
     "output_type": "stream",
     "text": [
      "drop table if exists\n",
      "add emnpt table\n"
     ]
    }
   ],
   "source": [
    "schema = \"luxembourg_species\"\n",
    "name_of_table = \"luxembourg_species\"\n",
    "name_of_description_table =name_of_table+\"_description\"\n",
    "\n",
    "## remove existing table:\n",
    "\n",
    "query_drop = (\"DROP TABLE IF EXISTS \"+schema+\".\"+name_of_description_table+\";\")       \n",
    "connection = engine_postgresql.raw_connection()\n",
    "cursor = connection.cursor()\n",
    "cursor.execute(query_drop)\n",
    "connection.commit()\n",
    "print (\"drop table if exists\")\n",
    "\n",
    "## add empty descripiotn table:...........................................\n",
    "query_drop = (\"CREATE TABLE \"+schema+\".\"+name_of_description_table+\n",
    "\n",
    "    '''\n",
    "    (\n",
    "    table_name TEXT,\n",
    "    column_name TEXT,\n",
    "    column_type TEXT,\n",
    "    column_description TEXT\n",
    "    );'''\n",
    ")      \n",
    "connection = engine_postgresql.raw_connection()\n",
    "cursor = connection.cursor()\n",
    "cursor.execute(query_drop)\n",
    "connection.commit()\n",
    "print (\"add emnpty table\")\n",
    "\n",
    "## add  descripiotn table:...........................................\n",
    "\n",
    "## use https://chatgpt.com/ to buid the query:\n",
    "\n",
    "query_drop = (\"INSERT INTO  \"+schema+\".\"+name_of_description_table+ 'table_name, column_name, column_type, column_description) VALUES'\n",
    "    '''\n",
    "    (\n",
    "('neophytes_list_gbif', 'species', 'text', 'Species name'),\n",
    "('neophytes_list_gbif', 'family', 'text', 'Family name'),\n",
    "('neophytes_list_gbif', 'risk_assessment_after_iseia2', 'text', 'Risk assessment after ISEIA (Invasive Species Environmental Impact Assessment)'),\n",
    "('neophytes_list_gbif', 'risk_assessment_after_harmonia_3', 'text', 'Risk assessment after Harmonia+ (Invasive Species Impact Assessment)'),\n",
    "('neophytes_list_gbif', '1st record_in_lu4', 'date', 'First record in Luxembourg'),\n",
    "('neophytes_list_gbif', 'listed_in_luxembourg', 'boolean', 'Indicates if the species is listed in Luxembourg'),\n",
    "('neophytes_list_gbif', 'listed_on_the_list_of_eu_concern5', 'boolean', 'Indicates if the species is listed on the list of EU concern'),\n",
    "('neophytes_list_gbif', 'species_name', 'text', 'Full species name'),\n",
    "('neophytes_list_gbif', 'gbif_key', 'integer', 'Shows the id of the row'),\n",
    "('neophytes_list_gbif', 'species_name_lower', 'text', 'Species name in lowercase');\n",
    "    );'''\n",
    ")      \n",
    "connection = engine_postgresql.raw_connection()\n",
    "cursor = connection.cursor()\n",
    "cursor.execute(query_drop)\n",
    "connection.commit()\n",
    "print (\"add emnpt table\")"
   ]
  }
 ],
 "metadata": {
  "kernelspec": {
   "display_name": "base",
   "language": "python",
   "name": "python3"
  },
  "language_info": {
   "codemirror_mode": {
    "name": "ipython",
    "version": 3
   },
   "file_extension": ".py",
   "mimetype": "text/x-python",
   "name": "python",
   "nbconvert_exporter": "python",
   "pygments_lexer": "ipython3",
   "version": "3.10.9"
  }
 },
 "nbformat": 4,
 "nbformat_minor": 2
}
