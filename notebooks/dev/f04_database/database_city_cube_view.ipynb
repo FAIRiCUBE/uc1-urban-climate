{
 "cells": [
  {
   "cell_type": "markdown",
   "metadata": {},
   "source": [
    "## Database: CITY VIEW"
   ]
  },
  {
   "cell_type": "markdown",
   "metadata": {},
   "source": [
    "#----------------------------------------#"
   ]
  },
  {
   "cell_type": "markdown",
   "metadata": {},
   "source": [
    "## DATABASE connection:"
   ]
  },
  {
   "cell_type": "code",
   "execution_count": 22,
   "metadata": {},
   "outputs": [
    {
     "name": "stdout",
     "output_type": "stream",
     "text": [
      " import data\n",
      "Engine started..\n"
     ]
    }
   ],
   "source": [
    "import numpy as np\n",
    "import pandas as pd\n",
    "import xarray as x\n",
    "from configparser import ConfigParser\n",
    "import sqlalchemy as sa # conection to the database\n",
    "\n",
    "from sqlalchemy import create_engine, text\n",
    "from datetime import datetime, timedelta\n",
    "\n",
    "\n",
    "\n",
    "print (\" import data\")\n",
    "### SET conection to MS-sql server:\n",
    "################################################## SET postgre-sql connection:\n",
    "\n",
    "################################################## read database keys:\n",
    "def config(filename, section='postgresql'):\n",
    "    # create a parser\n",
    "    parser = ConfigParser()\n",
    "    # read config file\n",
    "    parser.read(filename)\n",
    "\n",
    "    # get section, default to postgresql\n",
    "    db = {}\n",
    "    if parser.has_section(section):\n",
    "        params = parser.items(section)\n",
    "        for param in params:\n",
    "            db[param[0]] = param[1]\n",
    "    else:\n",
    "        raise Exception(\n",
    "            'Section {0} not found in the {1} file'.format(section, filename))\n",
    "\n",
    "    return db\n",
    "\n",
    "keys = config(filename='database.ini')\n",
    "\n",
    "POSTGRESQL_SERVER_NAME=keys['host']\n",
    "PORT=                  keys['port']\n",
    "Database_name =        keys['database']\n",
    "USER =                 keys['user']\n",
    "PSW =                  keys['password']\n",
    "##################################################\n",
    "\n",
    "engine_postgresql = sa.create_engine('postgresql://'+USER+':'+PSW+ '@'+POSTGRESQL_SERVER_NAME+':'+str(PORT)+ '/' + Database_name)\n",
    "#print (engine_postgresql)\n",
    "print (\"Engine started..\")"
   ]
  },
  {
   "cell_type": "markdown",
   "metadata": {},
   "source": [
    "#### (1.1)  VIEW I"
   ]
  },
  {
   "cell_type": "code",
   "execution_count": 25,
   "metadata": {},
   "outputs": [
    {
     "name": "stdout",
     "output_type": "stream",
     "text": [
      "VIEW 1 produced!! \n"
     ]
    }
   ],
   "source": [
    "#### (1.1)  VIEW !\n",
    "\n",
    "\n",
    "################ OUTPUT VIEW name:\n",
    "schema = \"cube\"\n",
    "name_of_view = \"test_view_lux\"\n",
    "\n",
    "\n",
    "\n",
    "### calc_indicator EC1020I and Export to a new table inside the database:\n",
    "query = (\"\"\"      \n",
    "\n",
    "  CREATE OR REPLACE VIEW \"\"\"+ schema +\".\"+ name_of_view + \"\"\"\n",
    " AS\n",
    "\n",
    "SELECT \n",
    "                0 as env_zone_code,\n",
    "                cu_city_eurostat.index, \n",
    "                cu_city_eurostat.urau_code, \n",
    "                cu_city_eurostat.estat_code, \n",
    "                cu_city_eurostat.city_code, \n",
    "                cu_city_eurostat.city_code_version, \n",
    "                cu_city_eurostat.parameter, \n",
    "                cu_city_eurostat.lineage, \n",
    "                cu_city_eurostat.datasource, \n",
    "                cu_city_eurostat.year, \n",
    "                cu_city_eurostat.parameter_value, \n",
    "\n",
    "                city_working_lat_lon_list.lat,\n",
    "                city_working_lat_lon_list.lon,\n",
    "                city_working_lat_lon_list.iso2,\n",
    "                l_city_urau2021.urau_name,\n",
    "                l_city_urau2021.nuts3_2021 AS area_sqm\n",
    "\n",
    "                FROM cube.cu_city_eurostat\n",
    "                LEFT JOIN lut.city_working_lat_lon_list  ON cu_city_eurostat.city_code = city_working_lat_lon_list.city_code\n",
    "                LEFT JOIN lut.l_city_urau2021            ON cu_city_eurostat.city_code = city_working_lat_lon_list.urau_code\n",
    "                        \n",
    "                WHERE cube.cu_city_eurostat.city_code ~~ 'LU0%'::text\n",
    "\n",
    "\n",
    "                union\n",
    "\n",
    "\n",
    "                SELECT\n",
    "                        cu_city_env_zones.env_zone_code,\n",
    "                        99 as index,\n",
    "                        cu_city_env_zones.urau_code, \n",
    "                        '' as estat_code, \n",
    "                        cu_city_env_zones.city_code, \n",
    "                        cu_city_env_zones.city_code_version, \n",
    "                        cu_city_env_zones.parameter, \n",
    "                        cu_city_env_zones.lineage, \n",
    "                        cu_city_env_zones.datasource, \n",
    "                        'nix' as year,\n",
    "                        cu_city_env_zones.parameter_value, \n",
    "\n",
    "                        city_working_lat_lon_list.lat,\n",
    "                        city_working_lat_lon_list.lon,\n",
    "                        city_working_lat_lon_list.iso2,\n",
    "                        l_city_urau2021.urau_name,\n",
    "                        l_city_urau2021.nuts3_2021 AS area_sqm\n",
    "\n",
    "\n",
    "                        FROM cube.cu_city_env_zones\n",
    "                        LEFT JOIN lut.city_working_lat_lon_list  ON cu_city_env_zones.city_code = city_working_lat_lon_list.city_code\n",
    "                        LEFT JOIN lut.l_city_urau2021            ON cu_city_env_zones.city_code = city_working_lat_lon_list.urau_code\n",
    "                        \n",
    "                WHERE cube.cu_city_env_zones.city_code ~~ 'LU0%'::text;\n",
    "\n",
    "  \n",
    "\n",
    "\n",
    "\n",
    "\n",
    "         \"\"\")\n",
    "#print (query)\n",
    "connection = engine_postgresql.raw_connection()\n",
    "cursor = connection.cursor()\n",
    "cursor.execute(query)\n",
    "connection.commit()\n",
    "\n",
    "print (\"VIEW 1 produced!! \")\n"
   ]
  }
 ],
 "metadata": {
  "kernelspec": {
   "display_name": "Python 3 (ipykernel)",
   "language": "python",
   "name": "python3"
  },
  "language_info": {
   "codemirror_mode": {
    "name": "ipython",
    "version": 3
   },
   "file_extension": ".py",
   "mimetype": "text/x-python",
   "name": "python",
   "nbconvert_exporter": "python",
   "pygments_lexer": "ipython3",
   "version": "3.10.9"
  }
 },
 "nbformat": 4,
 "nbformat_minor": 2
}
