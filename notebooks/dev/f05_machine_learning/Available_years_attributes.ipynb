{
 "cells": [
  {
   "cell_type": "markdown",
   "id": "be68e9f7",
   "metadata": {},
   "source": [
    "# Available years per attribute/city"
   ]
  },
  {
   "cell_type": "code",
   "execution_count": 1,
   "id": "96c6b251",
   "metadata": {},
   "outputs": [
    {
     "name": "stderr",
     "output_type": "stream",
     "text": [
      "C:\\Users\\bbel\\AppData\\Local\\Programs\\Python\\Python39\\lib\\site-packages\\geopandas\\_compat.py:112: UserWarning: The Shapely GEOS version (3.10.1-CAPI-1.16.0) is incompatible with the GEOS version PyGEOS was compiled with (3.10.3-CAPI-1.16.1). Conversions between both will be slow.\n",
      "  warnings.warn(\n"
     ]
    }
   ],
   "source": [
    "import sqlite3\n",
    "import pandas as pd\n",
    "import geopandas as gpd\n",
    "import os\n",
    "import matplotlib.pyplot as plt\n",
    "import numpy \n",
    "city_cube  = 'C_urban_cube_sh.sqlite'"
   ]
  },
  {
   "cell_type": "code",
   "execution_count": 2,
   "id": "19d1ebce",
   "metadata": {},
   "outputs": [],
   "source": [
    "# get Eurostat number of population data\n",
    "con = sqlite3.connect(city_cube)\n",
    "# read full table\n",
    "population_all = pd.read_sql_query(\"SELECT * FROM c_urban_cube_eurostat\", con)"
   ]
  },
  {
   "cell_type": "markdown",
   "id": "3359ed65",
   "metadata": {},
   "source": [
    "## Available data per year"
   ]
  },
  {
   "cell_type": "code",
   "execution_count": 3,
   "id": "f41e33ff",
   "metadata": {},
   "outputs": [
    {
     "data": {
      "text/plain": [
       "<BarContainer object of 31 artists>"
      ]
     },
     "execution_count": 3,
     "metadata": {},
     "output_type": "execute_result"
    },
    {
     "data": {
      "image/png": "[encoded data removed]",
      "text/plain": [
       "<Figure size 640x480 with 1 Axes>"
      ]
     },
     "metadata": {},
     "output_type": "display_data"
    }
   ],
   "source": [
    "l1 = []\n",
    "j = 0\n",
    "for i in population_all.columns:\n",
    "    if(j>2):\n",
    "        l1.append(population_all[i].isna().sum().sum()/len(population_all))\n",
    "    j = j + 1\n",
    "a = range(1991, 2022)\n",
    "plt.bar(a, l1, align='center', width=1, edgecolor='black')"
   ]
  },
  {
   "cell_type": "markdown",
   "id": "33bab576",
   "metadata": {},
   "source": [
    "## Create data of available years"
   ]
  },
  {
   "cell_type": "code",
   "execution_count": 4,
   "id": "1717fe2f",
   "metadata": {},
   "outputs": [
    {
     "name": "stdout",
     "output_type": "stream",
     "text": [
      "CPU times: total: 4min 52s\n",
      "Wall time: 4min 55s\n"
     ]
    },
    {
     "data": {
      "text/html": [
       "<div>\n",
       "<style scoped>\n",
       "    .dataframe tbody tr th:only-of-type {\n",
       "        vertical-align: middle;\n",
       "    }\n",
       "\n",
       "    .dataframe tbody tr th {\n",
       "        vertical-align: top;\n",
       "    }\n",
       "\n",
       "    .dataframe thead th {\n",
       "        text-align: right;\n",
       "    }\n",
       "</style>\n",
       "<table border=\"1\" class=\"dataframe\">\n",
       "  <thead>\n",
       "    <tr style=\"text-align: right;\">\n",
       "      <th></th>\n",
       "      <th>city</th>\n",
       "      <th>EN1002V</th>\n",
       "      <th>EN1003V</th>\n",
       "      <th>EN1004V</th>\n",
       "      <th>EN1005V</th>\n",
       "      <th>EN2002V</th>\n",
       "      <th>EN2003V</th>\n",
       "      <th>EN2005V</th>\n",
       "      <th>EN2025V</th>\n",
       "      <th>EN2026V</th>\n",
       "      <th>...</th>\n",
       "      <th>TT1008V</th>\n",
       "      <th>TT1010V</th>\n",
       "      <th>TT1012V</th>\n",
       "      <th>TT1079V</th>\n",
       "      <th>TT1019V</th>\n",
       "      <th>TT1020V</th>\n",
       "      <th>TT1060V</th>\n",
       "      <th>TT1064V</th>\n",
       "      <th>TT1065V</th>\n",
       "      <th>TT1080V</th>\n",
       "    </tr>\n",
       "  </thead>\n",
       "  <tbody>\n",
       "    <tr>\n",
       "      <th>0</th>\n",
       "      <td>AT001C</td>\n",
       "      <td>1</td>\n",
       "      <td>2</td>\n",
       "      <td>2</td>\n",
       "      <td>2</td>\n",
       "      <td>22</td>\n",
       "      <td>23</td>\n",
       "      <td>12</td>\n",
       "      <td>22</td>\n",
       "      <td>23</td>\n",
       "      <td>...</td>\n",
       "      <td>2</td>\n",
       "      <td>0</td>\n",
       "      <td>0</td>\n",
       "      <td>2</td>\n",
       "      <td>0</td>\n",
       "      <td>0</td>\n",
       "      <td>8</td>\n",
       "      <td>1</td>\n",
       "      <td>1</td>\n",
       "      <td>6</td>\n",
       "    </tr>\n",
       "    <tr>\n",
       "      <th>1</th>\n",
       "      <td>AT002C</td>\n",
       "      <td>2</td>\n",
       "      <td>3</td>\n",
       "      <td>3</td>\n",
       "      <td>3</td>\n",
       "      <td>22</td>\n",
       "      <td>23</td>\n",
       "      <td>13</td>\n",
       "      <td>22</td>\n",
       "      <td>23</td>\n",
       "      <td>...</td>\n",
       "      <td>3</td>\n",
       "      <td>1</td>\n",
       "      <td>1</td>\n",
       "      <td>2</td>\n",
       "      <td>0</td>\n",
       "      <td>0</td>\n",
       "      <td>8</td>\n",
       "      <td>0</td>\n",
       "      <td>0</td>\n",
       "      <td>6</td>\n",
       "    </tr>\n",
       "    <tr>\n",
       "      <th>2</th>\n",
       "      <td>AT003C</td>\n",
       "      <td>2</td>\n",
       "      <td>3</td>\n",
       "      <td>3</td>\n",
       "      <td>3</td>\n",
       "      <td>23</td>\n",
       "      <td>23</td>\n",
       "      <td>14</td>\n",
       "      <td>23</td>\n",
       "      <td>23</td>\n",
       "      <td>...</td>\n",
       "      <td>2</td>\n",
       "      <td>0</td>\n",
       "      <td>0</td>\n",
       "      <td>2</td>\n",
       "      <td>0</td>\n",
       "      <td>0</td>\n",
       "      <td>8</td>\n",
       "      <td>0</td>\n",
       "      <td>0</td>\n",
       "      <td>3</td>\n",
       "    </tr>\n",
       "    <tr>\n",
       "      <th>3</th>\n",
       "      <td>AT004C</td>\n",
       "      <td>2</td>\n",
       "      <td>3</td>\n",
       "      <td>3</td>\n",
       "      <td>3</td>\n",
       "      <td>23</td>\n",
       "      <td>23</td>\n",
       "      <td>12</td>\n",
       "      <td>23</td>\n",
       "      <td>23</td>\n",
       "      <td>...</td>\n",
       "      <td>0</td>\n",
       "      <td>0</td>\n",
       "      <td>0</td>\n",
       "      <td>2</td>\n",
       "      <td>0</td>\n",
       "      <td>0</td>\n",
       "      <td>8</td>\n",
       "      <td>0</td>\n",
       "      <td>0</td>\n",
       "      <td>5</td>\n",
       "    </tr>\n",
       "    <tr>\n",
       "      <th>4</th>\n",
       "      <td>AT005C</td>\n",
       "      <td>2</td>\n",
       "      <td>3</td>\n",
       "      <td>3</td>\n",
       "      <td>3</td>\n",
       "      <td>21</td>\n",
       "      <td>6</td>\n",
       "      <td>0</td>\n",
       "      <td>21</td>\n",
       "      <td>6</td>\n",
       "      <td>...</td>\n",
       "      <td>0</td>\n",
       "      <td>0</td>\n",
       "      <td>0</td>\n",
       "      <td>2</td>\n",
       "      <td>0</td>\n",
       "      <td>0</td>\n",
       "      <td>8</td>\n",
       "      <td>0</td>\n",
       "      <td>0</td>\n",
       "      <td>5</td>\n",
       "    </tr>\n",
       "  </tbody>\n",
       "</table>\n",
       "<p>5 rows × 83 columns</p>\n",
       "</div>"
      ],
      "text/plain": [
       "     city  EN1002V  EN1003V  EN1004V  EN1005V  EN2002V  EN2003V  EN2005V  \\\n",
       "0  AT001C        1        2        2        2       22       23       12   \n",
       "1  AT002C        2        3        3        3       22       23       13   \n",
       "2  AT003C        2        3        3        3       23       23       14   \n",
       "3  AT004C        2        3        3        3       23       23       12   \n",
       "4  AT005C        2        3        3        3       21        6        0   \n",
       "\n",
       "   EN2025V  EN2026V  ...  TT1008V  TT1010V  TT1012V  TT1079V  TT1019V  \\\n",
       "0       22       23  ...        2        0        0        2        0   \n",
       "1       22       23  ...        3        1        1        2        0   \n",
       "2       23       23  ...        2        0        0        2        0   \n",
       "3       23       23  ...        0        0        0        2        0   \n",
       "4       21        6  ...        0        0        0        2        0   \n",
       "\n",
       "   TT1020V  TT1060V  TT1064V  TT1065V  TT1080V  \n",
       "0        0        8        1        1        6  \n",
       "1        0        8        0        0        6  \n",
       "2        0        8        0        0        3  \n",
       "3        0        8        0        0        5  \n",
       "4        0        8        0        0        5  \n",
       "\n",
       "[5 rows x 83 columns]"
      ]
     },
     "execution_count": 4,
     "metadata": {},
     "output_type": "execute_result"
    }
   ],
   "source": [
    "%%time\n",
    "d = {}\n",
    "d[\"city\"] = population_all.urau_code.unique()\n",
    "for i in population_all.indic_code.unique():\n",
    "    n = []\n",
    "    for j in population_all.urau_code.unique():\n",
    "        sub = population_all[population_all['urau_code'] == j]\n",
    "        if (len(sub[sub['indic_code'] == i]) == 0):\n",
    "            n.append(0)\n",
    "        else:\n",
    "            n.append(len(sub.columns) - sub[sub['indic_code'] == i].isna().sum().sum() - 3)\n",
    "    d[i] = n\n",
    "df = pd.DataFrame(data=d)\n",
    "df.head()"
   ]
  },
  {
   "cell_type": "code",
   "execution_count": 10,
   "id": "6027d6f8",
   "metadata": {},
   "outputs": [],
   "source": [
    "df['SUM'] = df.sum(axis=1, numeric_only=True)\n",
    "df.to_csv('Available_Data_Year.csv', index=False)"
   ]
  },
  {
   "cell_type": "markdown",
   "id": "f4868fa6",
   "metadata": {},
   "source": [
    "## Plot available data for each city/attribute"
   ]
  },
  {
   "cell_type": "code",
   "execution_count": 9,
   "id": "53061c0c",
   "metadata": {},
   "outputs": [
    {
     "data": {
      "text/plain": [
       "<Figure size 640x480 with 0 Axes>"
      ]
     },
     "metadata": {},
     "output_type": "display_data"
    }
   ],
   "source": [
    "x = range(len(df.iloc[0])-1)\n",
    "for i in range(len(df)):\n",
    "    row = df.iloc[i]\n",
    "    row = pd.to_numeric(row, errors='coerce')\n",
    "    row = row.drop('SUM')\n",
    "    plt.bar(x, row)\n",
    "    plt.xlabel(\"Atributes\")\n",
    "    plt.ylabel(\"Number of avaulable years\")\n",
    "    plt.title(df.iloc[i]['city'])\n",
    "    plt.axhline(y = 31, color = 'r', linestyle = '-')\n",
    "    plt.savefig(\"Plots/CityAvailability\" + df.iloc[i]['city'] + \".png\")\n",
    "    plt.clf()"
   ]
  },
  {
   "cell_type": "code",
   "execution_count": null,
   "id": "1d3036b6",
   "metadata": {},
   "outputs": [],
   "source": []
  }
 ],
 "metadata": {
  "kernelspec": {
   "display_name": "Python 3 (ipykernel)",
   "language": "python",
   "name": "python3"
  },
  "language_info": {
   "codemirror_mode": {
    "name": "ipython",
    "version": 3
   },
   "file_extension": ".py",
   "mimetype": "text/x-python",
   "name": "python",
   "nbconvert_exporter": "python",
   "pygments_lexer": "ipython3",
   "version": "3.9.13"
  }
 },
 "nbformat": 4,
 "nbformat_minor": 5
}
