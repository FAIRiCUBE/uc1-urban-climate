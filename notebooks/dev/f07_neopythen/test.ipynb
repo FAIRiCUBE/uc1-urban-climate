{
 "cells": [
  {
   "cell_type": "code",
   "execution_count": 2,
   "metadata": {},
   "outputs": [
    {
     "ename": "TypeError",
     "evalue": "in method 'wrapper_GDALWarpDestName', argument 4 of type 'GDALWarpAppOptions *'",
     "output_type": "error",
     "traceback": [
      "\u001b[1;31m---------------------------------------------------------------------------\u001b[0m",
      "\u001b[1;31mTypeError\u001b[0m                                 Traceback (most recent call last)",
      "Cell \u001b[1;32mIn[2], line 22\u001b[0m\n\u001b[0;32m      9\u001b[0m warp_options \u001b[38;5;241m=\u001b[39m gdal\u001b[38;5;241m.\u001b[39mWarpOptions(\n\u001b[0;32m     10\u001b[0m     srcSRS\u001b[38;5;241m=\u001b[39m\u001b[38;5;124m\"\u001b[39m\u001b[38;5;124mEPSG:2169\u001b[39m\u001b[38;5;124m\"\u001b[39m,  \u001b[38;5;66;03m# Source CRS\u001b[39;00m\n\u001b[0;32m     11\u001b[0m     dstSRS\u001b[38;5;241m=\u001b[39m\u001b[38;5;124m\"\u001b[39m\u001b[38;5;124mEPSG:2169\u001b[39m\u001b[38;5;124m\"\u001b[39m,  \u001b[38;5;66;03m# Target CRS\u001b[39;00m\n\u001b[1;32m   (...)\u001b[0m\n\u001b[0;32m     18\u001b[0m     ]\n\u001b[0;32m     19\u001b[0m )\n\u001b[0;32m     21\u001b[0m \u001b[38;5;66;03m# Perform the warp operation\u001b[39;00m\n\u001b[1;32m---> 22\u001b[0m \u001b[43mgdal\u001b[49m\u001b[38;5;241;43m.\u001b[39;49m\u001b[43mWarp\u001b[49m\u001b[43m(\u001b[49m\u001b[43mdestNameOrDestDS\u001b[49m\u001b[38;5;241;43m=\u001b[39;49m\u001b[43moutput_file\u001b[49m\u001b[43m,\u001b[49m\u001b[43m \u001b[49m\u001b[43msrcDSOrSrcDSTab\u001b[49m\u001b[38;5;241;43m=\u001b[39;49m\u001b[43minput_file\u001b[49m\u001b[43m,\u001b[49m\u001b[43m \u001b[49m\u001b[43moptions\u001b[49m\u001b[38;5;241;43m=\u001b[39;49m\u001b[43mwarp_options\u001b[49m\u001b[43m)\u001b[49m\n",
      "File \u001b[1;32mc:\\Users\\ManuelLöhnertz\\.conda\\envs\\geospatial2\\lib\\site-packages\\osgeo\\gdal.py:788\u001b[0m, in \u001b[0;36mWarp\u001b[1;34m(destNameOrDestDS, srcDSOrSrcDSTab, **kwargs)\u001b[0m\n\u001b[0;32m    785\u001b[0m     srcDSTab \u001b[38;5;241m=\u001b[39m [srcDSOrSrcDSTab]\n\u001b[0;32m    787\u001b[0m \u001b[38;5;28;01mif\u001b[39;00m \u001b[38;5;28misinstance\u001b[39m(destNameOrDestDS, \u001b[38;5;28mstr\u001b[39m):\n\u001b[1;32m--> 788\u001b[0m     \u001b[38;5;28;01mreturn\u001b[39;00m \u001b[43mwrapper_GDALWarpDestName\u001b[49m\u001b[43m(\u001b[49m\u001b[43mdestNameOrDestDS\u001b[49m\u001b[43m,\u001b[49m\u001b[43m \u001b[49m\u001b[43msrcDSTab\u001b[49m\u001b[43m,\u001b[49m\u001b[43m \u001b[49m\u001b[43mopts\u001b[49m\u001b[43m,\u001b[49m\u001b[43m \u001b[49m\u001b[43mcallback\u001b[49m\u001b[43m,\u001b[49m\u001b[43m \u001b[49m\u001b[43mcallback_data\u001b[49m\u001b[43m)\u001b[49m\n\u001b[0;32m    789\u001b[0m \u001b[38;5;28;01melse\u001b[39;00m:\n\u001b[0;32m    790\u001b[0m     \u001b[38;5;28;01mreturn\u001b[39;00m wrapper_GDALWarpDestDS(destNameOrDestDS, srcDSTab, opts, callback, callback_data)\n",
      "File \u001b[1;32mc:\\Users\\ManuelLöhnertz\\.conda\\envs\\geospatial2\\lib\\site-packages\\osgeo\\gdal.py:4815\u001b[0m, in \u001b[0;36mwrapper_GDALWarpDestName\u001b[1;34m(*args)\u001b[0m\n\u001b[0;32m   4813\u001b[0m \u001b[38;5;28;01mdef\u001b[39;00m \u001b[38;5;21mwrapper_GDALWarpDestName\u001b[39m(\u001b[38;5;241m*\u001b[39margs) \u001b[38;5;241m-\u001b[39m\u001b[38;5;241m>\u001b[39m \u001b[38;5;124m\"\u001b[39m\u001b[38;5;124mGDALDatasetShadow *\u001b[39m\u001b[38;5;124m\"\u001b[39m:\n\u001b[0;32m   4814\u001b[0m \u001b[38;5;250m    \u001b[39m\u001b[38;5;124mr\u001b[39m\u001b[38;5;124;03m\"\"\"wrapper_GDALWarpDestName(char const * dest, int object_list_count, GDALWarpAppOptions warpAppOptions, GDALProgressFunc callback=0, void * callback_data=None) -> Dataset\"\"\"\u001b[39;00m\n\u001b[1;32m-> 4815\u001b[0m     \u001b[38;5;28;01mreturn\u001b[39;00m \u001b[43m_gdal\u001b[49m\u001b[38;5;241;43m.\u001b[39;49m\u001b[43mwrapper_GDALWarpDestName\u001b[49m\u001b[43m(\u001b[49m\u001b[38;5;241;43m*\u001b[39;49m\u001b[43margs\u001b[49m\u001b[43m)\u001b[49m\n",
      "\u001b[1;31mTypeError\u001b[0m: in method 'wrapper_GDALWarpDestName', argument 4 of type 'GDALWarpAppOptions *'"
     ]
    }
   ],
   "source": [
    "## not working:\n",
    "from osgeo import gdal\n",
    "\n",
    "# Input and output file paths\n",
    "input_file = \"N:/C2205_FAIRiCUBE/f02_data/d060_data_LUXEMBOURG/f01_Lux_neopyhtes/f02_luxembourg_data/test/hazard_map/final_buffer_distance.tif\"\n",
    "output_file = \"C:/Users/ManuelLöhnertz/AppData/Local/Temp/processing_PozwJp/76a3e206b5c54faaa83f46f01e6811a2/OUTPUT2.tif\"\n",
    "\n",
    "# Define warp options\n",
    "warp_options = gdal.WarpOptions(\n",
    "    srcSRS=\"EPSG:2169\",  # Source CRS\n",
    "    dstSRS=\"EPSG:2169\",  # Target CRS\n",
    "    resampleAlg=\"near\",  # Resampling method (nearest neighbor)\n",
    "    format=\"GTiff\",  # Output format\n",
    "    creationOptions=[\n",
    "        \"COMPRESS=DEFLATE\",  # Compression type\n",
    "        \"PREDICTOR=2\",       # Predictor for better compression\n",
    "        \"ZLEVEL=9\"           # Compression level\n",
    "    ]\n",
    ")\n",
    "\n",
    "# Perform the warp operation\n",
    "gdal.Warp(destNameOrDestDS=output_file, srcDSOrSrcDSTab=input_file, options=warp_options)"
   ]
  }
 ],
 "metadata": {
  "kernelspec": {
   "display_name": "geospatial2",
   "language": "python",
   "name": "python3"
  },
  "language_info": {
   "codemirror_mode": {
    "name": "ipython",
    "version": 3
   },
   "file_extension": ".py",
   "mimetype": "text/x-python",
   "name": "python",
   "nbconvert_exporter": "python",
   "pygments_lexer": "ipython3",
   "version": "3.9.16"
  }
 },
 "nbformat": 4,
 "nbformat_minor": 2
}
