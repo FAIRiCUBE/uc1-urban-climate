{
 "cells": [
  {
   "cell_type": "code",
   "execution_count": 1,
   "metadata": {},
   "outputs": [],
   "source": [
    "## not working:\n",
    "from osgeo import gdal\n",
    "\n",
    "# Input and output file paths\n",
    "input_file = \"N:/C2205_FAIRiCUBE/f02_data/d060_data_LUXEMBOURG/f01_Lux_neopyhtes/f02_luxembourg_data/test/hazard_map/final_buffer_distance.tif\"\n",
    "output_file = \"C:/Users/ManuelLöhnertz/AppData/Local/Temp/processing_PozwJp/76a3e206b5c54faaa83f46f01e6811a2/OUTPUT2.tif\"\n",
    "\n",
    "\n",
    "luref_projection_epsg2169 =\"+proj=lcc +lat_1=49.8333339 +lat_2=51.16666723333333 +lat_0=49.0 +lon_0=6.166666666666667 +x_0=80000 +y_0=100000 +ellps=GRS80 +units=m +no_defs\"\n",
    "\n",
    "# Define warp options\n",
    "warp_options = gdal.WarpOptions(\n",
    "    srcSRS=luref_projection_epsg2169,  # Source CRS\n",
    "    dstSRS=luref_projection_epsg2169,  # Target CRS\n",
    "    resampleAlg=\"nearest\",  # Resampling method (nearest neighbor)\n",
    "    format=\"GTiff\"  # Output format\n",
    "    )\n",
    "\n",
    "# Perform the warp operation\n",
    "gdal.Warp(destNameOrDestDS=output_file, srcDSOrSrcDSTab=input_file, options=warp_options)"
   ]
  },
  {
   "cell_type": "code",
   "execution_count": 2,
   "metadata": {},
   "outputs": [
    {
     "name": "stdout",
     "output_type": "stream",
     "text": [
      "EPSG:2169 is not recognized.\n"
     ]
    }
   ],
   "source": [
    "from osgeo import osr\n",
    "\n",
    "# Check EPSG:2169\n",
    "crs = osr.SpatialReference()\n",
    "if crs.ImportFromEPSG(2169) == 0:\n",
    "    print(\"EPSG:2169 is recognized.\")\n",
    "else:\n",
    "    print(\"EPSG:2169 is not recognized.\")"
   ]
  },
  {
   "cell_type": "code",
   "execution_count": 4,
   "metadata": {},
   "outputs": [
    {
     "name": "stdout",
     "output_type": "stream",
     "text": [
      "CRS: PROJCS[\"unknown\",GEOGCS[\"unknown\",DATUM[\"Unknown_based_on_GRS80_ellipsoid\",SPHEROID[\"GRS 1980\",6378137,298.257222101004,AUTHORITY[\"EPSG\",\"7019\"]]],PRIMEM[\"Greenwich\",0],UNIT[\"degree\",0.0174532925199433,AUTHORITY[\"EPSG\",\"9122\"]]],PROJECTION[\"Lambert_Conformal_Conic_2SP\"],PARAMETER[\"latitude_of_origin\",49],PARAMETER[\"central_meridian\",6.16666666666667],PARAMETER[\"standard_parallel_1\",49.8333339],PARAMETER[\"standard_parallel_2\",51.1666672333333],PARAMETER[\"false_easting\",80000],PARAMETER[\"false_northing\",100000],UNIT[\"metre\",1,AUTHORITY[\"EPSG\",\"9001\"]],AXIS[\"Easting\",EAST],AXIS[\"Northing\",NORTH]]\n"
     ]
    }
   ],
   "source": [
    "import rasterio\n",
    "\n",
    "\n",
    "# Open the raster file\n",
    "with rasterio.open(output_file) as src:\n",
    "    crs = src.crs  # Access the CRS\n",
    "\n",
    "# Print the CRS\n",
    "print(\"CRS:\", crs)"
   ]
  }
 ],
 "metadata": {
  "kernelspec": {
   "display_name": "geospatial2",
   "language": "python",
   "name": "python3"
  },
  "language_info": {
   "codemirror_mode": {
    "name": "ipython",
    "version": 3
   },
   "file_extension": ".py",
   "mimetype": "text/x-python",
   "name": "python",
   "nbconvert_exporter": "python",
   "pygments_lexer": "ipython3",
   "version": "3.9.16"
  }
 },
 "nbformat": 4,
 "nbformat_minor": 2
}
