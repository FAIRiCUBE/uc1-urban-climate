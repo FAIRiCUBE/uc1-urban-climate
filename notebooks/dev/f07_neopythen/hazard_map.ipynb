{
 "cells": [
  {
   "cell_type": "markdown",
   "metadata": {},
   "source": [
    "# Hazard map"
   ]
  },
  {
   "cell_type": "code",
   "execution_count": 19,
   "metadata": {},
   "outputs": [],
   "source": [
    "#### version 2\n",
    "\n",
    "import rasterio\n",
    "import numpy as np\n",
    "\n",
    "# Function to apply a buffer to a raster and write the buffer distance as the value\n",
    "def buffer_raster(input_raster, output_raster, buffer_distance):\n",
    "    # Open the raster file\n",
    "    with rasterio.open(input_raster) as src:\n",
    "        # Read the raster data\n",
    "        data = src.read(1)  # Read the first band (usually the data you want)\n",
    "        \n",
    "        # Get raster metadata\n",
    "        profile = src.profile\n",
    "        \n",
    "        # Get pixel size (assuming square cells)\n",
    "        pixel_size = abs(profile['transform'][0])  # cell size in map units (e.g., meters)\n",
    "        \n",
    "        # Buffer distance in pixels\n",
    "        buffer_pixels = int(buffer_distance / pixel_size)\n",
    "        \n",
    "        # Create a kernel (a square window) to apply around each pixel\n",
    "        kernel_size = 2 * buffer_pixels + 1\n",
    "        kernel = np.ones((kernel_size, kernel_size), dtype=np.uint8)\n",
    "        \n",
    "        # Create an output array for the buffered raster\n",
    "        buffered_data = np.zeros_like(data, dtype=np.float32)\n",
    "        \n",
    "        # Apply the kernel as a convolution (simple box filter)\n",
    "        for i in range(buffer_pixels, data.shape[0] - buffer_pixels):\n",
    "            for j in range(buffer_pixels, data.shape[1] - buffer_pixels):\n",
    "                # Define the region of interest (ROI) around the current pixel\n",
    "                roi = data[i-buffer_pixels:i+buffer_pixels+1, j-buffer_pixels:j+buffer_pixels+1]\n",
    "                \n",
    "                # If any of the ROI values are non-zero (indicating presence), set the pixel as the buffer distance\n",
    "                if np.any(roi > 0):  # Adjust this condition for more complex buffering\n",
    "                    buffered_data[i, j] = buffer_distance  # Assign the buffer distance as the pixel value\n",
    "        \n",
    "        # Write the buffered raster to an output file\n",
    "        profile.update(dtype=rasterio.float32, count=1)\n",
    "        with rasterio.open(output_raster, 'w', **profile) as dst:\n",
    "            dst.write(buffered_data, 1)  # Write the first band of the buffered raster\n",
    "\n",
    "# Example usage\n",
    "\n",
    "\n",
    "\n"
   ]
  },
  {
   "cell_type": "code",
   "execution_count": 23,
   "metadata": {},
   "outputs": [],
   "source": [
    "\n",
    "buffer_list = (10,20,30,40,50,60,70,80,90,100,200)\n",
    "\n",
    "base_folder = 'N:/C2205_FAIRiCUBE/f02_data/d060_data_LUXEMBOURG/f01_Lux_neopyhtes/f02_luxembourg_data/test/hazard_map'\n",
    "distribution_raster = \"N:/C2205_FAIRiCUBE/f02_data/d060_data_LUXEMBOURG/f01_Lux_neopyhtes/f02_luxembourg_data/f05_distribution/f02_distribution_model_luxembourg/heracleum_mantegazzianum_RandomForest_model_v2.tif\"\n",
    "\n",
    "for buf in buffer_list:\n",
    "    \n",
    "    input_raster = distribution_raster  \n",
    "    buffer_distance = buf  \n",
    "    output_raster = base_folder +\"/\"+ 'single'+\"/\"+'tmp_buffer_'+str(buffer_distance)+\"_heracl.tif\"\n",
    "    buffer_raster(input_raster, output_raster, buffer_distance)\n",
    "\n",
    "\n"
   ]
  },
  {
   "cell_type": "code",
   "execution_count": 24,
   "metadata": {},
   "outputs": [
    {
     "name": "stdout",
     "output_type": "stream",
     "text": [
      "Raster List:\n",
      "N:\\C2205_FAIRiCUBE\\f02_data\\d060_data_LUXEMBOURG\\f01_Lux_neopyhtes\\f02_luxembourg_data\\test\\hazard_map\\single\\tmp_buffer_100_heracl.tif\n",
      "N:\\C2205_FAIRiCUBE\\f02_data\\d060_data_LUXEMBOURG\\f01_Lux_neopyhtes\\f02_luxembourg_data\\test\\hazard_map\\single\\tmp_buffer_10_heracl.tif\n",
      "N:\\C2205_FAIRiCUBE\\f02_data\\d060_data_LUXEMBOURG\\f01_Lux_neopyhtes\\f02_luxembourg_data\\test\\hazard_map\\single\\tmp_buffer_200_heracl.tif\n",
      "N:\\C2205_FAIRiCUBE\\f02_data\\d060_data_LUXEMBOURG\\f01_Lux_neopyhtes\\f02_luxembourg_data\\test\\hazard_map\\single\\tmp_buffer_20_heracl.tif\n",
      "N:\\C2205_FAIRiCUBE\\f02_data\\d060_data_LUXEMBOURG\\f01_Lux_neopyhtes\\f02_luxembourg_data\\test\\hazard_map\\single\\tmp_buffer_30_heracl.tif\n",
      "N:\\C2205_FAIRiCUBE\\f02_data\\d060_data_LUXEMBOURG\\f01_Lux_neopyhtes\\f02_luxembourg_data\\test\\hazard_map\\single\\tmp_buffer_40_heracl.tif\n",
      "N:\\C2205_FAIRiCUBE\\f02_data\\d060_data_LUXEMBOURG\\f01_Lux_neopyhtes\\f02_luxembourg_data\\test\\hazard_map\\single\\tmp_buffer_50_heracl.tif\n",
      "N:\\C2205_FAIRiCUBE\\f02_data\\d060_data_LUXEMBOURG\\f01_Lux_neopyhtes\\f02_luxembourg_data\\test\\hazard_map\\single\\tmp_buffer_60_heracl.tif\n",
      "N:\\C2205_FAIRiCUBE\\f02_data\\d060_data_LUXEMBOURG\\f01_Lux_neopyhtes\\f02_luxembourg_data\\test\\hazard_map\\single\\tmp_buffer_70_heracl.tif\n",
      "N:\\C2205_FAIRiCUBE\\f02_data\\d060_data_LUXEMBOURG\\f01_Lux_neopyhtes\\f02_luxembourg_data\\test\\hazard_map\\single\\tmp_buffer_80_heracl.tif\n",
      "N:\\C2205_FAIRiCUBE\\f02_data\\d060_data_LUXEMBOURG\\f01_Lux_neopyhtes\\f02_luxembourg_data\\test\\hazard_map\\single\\tmp_buffer_90_heracl.tif\n"
     ]
    }
   ],
   "source": [
    "# read and set up raster list\n",
    "import glob\n",
    "import os\n",
    "\n",
    "# Define the folder path\n",
    "folder_path = r\"N:\\C2205_FAIRiCUBE\\f02_data\\d060_data_LUXEMBOURG\\f01_Lux_neopyhtes\\f02_luxembourg_data\\test\\hazard_map\\single\"\n",
    "\n",
    "# Create a list of all .tif files in the folder\n",
    "raster_list = glob.glob(os.path.join(folder_path, \"*.tif\"))\n",
    "\n",
    "# Print the list of rasters\n",
    "print(\"Raster List:\")\n",
    "for raster in raster_list:\n",
    "    print(raster)"
   ]
  },
  {
   "cell_type": "code",
   "execution_count": 25,
   "metadata": {},
   "outputs": [],
   "source": [
    "import rasterio\n",
    "import numpy as np\n",
    "\n",
    "def overlay_rasters(raster_list, output_raster):\n",
    "    \"\"\"\n",
    "    Overlay multiple buffer rasters and generate a final raster where each pixel contains the lowest buffer distance.\n",
    "    \n",
    "    Args:\n",
    "        raster_list (list): List of file paths to input raster files.\n",
    "        output_raster (str): File path to save the resulting raster.\n",
    "    \"\"\"\n",
    "    # Open the first raster to use as a template\n",
    "    with rasterio.open(raster_list[0]) as src:\n",
    "        profile = src.profile\n",
    "        profile.update(dtype=rasterio.float32)  # Ensure the output is float32\n",
    "        # Read the first raster data\n",
    "        combined_data = src.read(1).astype(np.float32)\n",
    "    \n",
    "    # Initialize the combined raster with high values (to find the minimum distance)\n",
    "    combined_data[combined_data > 0] = np.inf  # Set initial non-zero buffer values to infinity\n",
    "    \n",
    "    # Iterate over each raster in the list\n",
    "    for raster_path in raster_list:\n",
    "        with rasterio.open(raster_path) as src:\n",
    "            # Read current raster data\n",
    "            data = src.read(1).astype(np.float32)\n",
    "            # Combine using minimum values (ignoring zero background)\n",
    "            combined_data = np.minimum(combined_data, np.where(data > 0, data, np.inf))\n",
    "    \n",
    "    # Replace infinity with zero for non-buffered areas\n",
    "    combined_data[np.isinf(combined_data)] = 0\n",
    "    \n",
    "    # Write the resulting raster to disk\n",
    "    with rasterio.open(output_raster, 'w', **profile) as dst:\n",
    "        dst.write(combined_data, 1)\n",
    "\n",
    "# Example Usage\n",
    "raster_list = raster_list\n",
    "\n",
    "output_raster = base_folder +\"/\"+\"final_buffer_distance.tif\"\n",
    "\n",
    "overlay_rasters(raster_list, output_raster)\n",
    "\n",
    "\n",
    "\n"
   ]
  },
  {
   "cell_type": "markdown",
   "metadata": {},
   "source": [
    "## overlay buffer raster with poi raster"
   ]
  },
  {
   "cell_type": "code",
   "execution_count": 26,
   "metadata": {},
   "outputs": [
    {
     "ename": "ValueError",
     "evalue": "Rasters must have the same dimensions for overlaying.",
     "output_type": "error",
     "traceback": [
      "\u001b[1;31m---------------------------------------------------------------------------\u001b[0m",
      "\u001b[1;31mValueError\u001b[0m                                Traceback (most recent call last)",
      "Cell \u001b[1;32mIn[26], line 20\u001b[0m\n\u001b[0;32m     18\u001b[0m \u001b[38;5;66;03m# Ensure the rasters have the same shape\u001b[39;00m\n\u001b[0;32m     19\u001b[0m \u001b[38;5;28;01mif\u001b[39;00m buffer_data\u001b[38;5;241m.\u001b[39mshape \u001b[38;5;241m!=\u001b[39m hospital_data\u001b[38;5;241m.\u001b[39mshape:\n\u001b[1;32m---> 20\u001b[0m     \u001b[38;5;28;01mraise\u001b[39;00m \u001b[38;5;167;01mValueError\u001b[39;00m(\u001b[38;5;124m\"\u001b[39m\u001b[38;5;124mRasters must have the same dimensions for overlaying.\u001b[39m\u001b[38;5;124m\"\u001b[39m)\n\u001b[0;32m     22\u001b[0m \u001b[38;5;66;03m# Overlay operation: if hospital pixel is 1, use 1, otherwise use buffer raster value\u001b[39;00m\n\u001b[0;32m     23\u001b[0m final_raster_data \u001b[38;5;241m=\u001b[39m np\u001b[38;5;241m.\u001b[39mwhere(hospital_data \u001b[38;5;241m==\u001b[39m \u001b[38;5;241m1\u001b[39m, \u001b[38;5;241m1\u001b[39m, buffer_data)\n",
      "\u001b[1;31mValueError\u001b[0m: Rasters must have the same dimensions for overlaying."
     ]
    }
   ],
   "source": [
    "import rasterio\n",
    "import numpy as np\n",
    "\n",
    "# Define file paths\n",
    "buffer_raster_path = output_raster\n",
    "hospital_raster_path = r'N:\\C2205_FAIRiCUBE\\f02_data\\d060_data_LUXEMBOURG\\f01_Lux_neopyhtes\\f02_luxembourg_data\\f02_raster_10m_collection\\aoi_osm_2024_10m_b4.tif'\n",
    "output_raster_path = base_folder +\"/\"+\"final_buffer_distance_pois.tif\"\n",
    "\n",
    "# Open buffer raster\n",
    "with rasterio.open(buffer_raster_path) as buffer_src:\n",
    "    buffer_data = buffer_src.read(1)  # Read the first band\n",
    "    buffer_meta = buffer_src.meta  # Get metadata\n",
    "\n",
    "# Open hospital raster\n",
    "with rasterio.open(hospital_raster_path) as hospital_src:\n",
    "    hospital_data = hospital_src.read(1)  # Read the first band\n",
    "\n",
    "# Ensure the rasters have the same shape\n",
    "if buffer_data.shape != hospital_data.shape:\n",
    "    raise ValueError(\"Rasters must have the same dimensions for overlaying.\")\n",
    "\n",
    "# Overlay operation: if hospital pixel is 1, use 1, otherwise use buffer raster value\n",
    "final_raster_data = np.where(hospital_data == 1, 1, buffer_data)\n",
    "\n",
    "# Update metadata for the output raster\n",
    "buffer_meta.update(dtype=rasterio.float32, compress=\"lzw\")\n",
    "\n",
    "# Write the result to a new file\n",
    "with rasterio.open(output_raster_path, \"w\", **buffer_meta) as dest:\n",
    "    dest.write(final_raster_data, 1)\n",
    "\n",
    "print(f\"Overlay raster saved to {output_raster_path}\")\n"
   ]
  }
 ],
 "metadata": {
  "kernelspec": {
   "display_name": "geospatial2",
   "language": "python",
   "name": "python3"
  },
  "language_info": {
   "codemirror_mode": {
    "name": "ipython",
    "version": 3
   },
   "file_extension": ".py",
   "mimetype": "text/x-python",
   "name": "python",
   "nbconvert_exporter": "python",
   "pygments_lexer": "ipython3",
   "version": "3.9.16"
  }
 },
 "nbformat": 4,
 "nbformat_minor": 2
}
