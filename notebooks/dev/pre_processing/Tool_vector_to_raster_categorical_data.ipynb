{
 "cells": [
  {
   "cell_type": "markdown",
   "metadata": {},
   "source": [
    "# Convert polygons with categorical values to gridded binary layers\n",
    "Given a shapefile with polygons and a category field, ouutput a COG file with a binary mask for each category.\n",
    "Steps:\n",
    "1. Transfer categorical values from the vector dataset to the vector grid covering the study area.\n",
    "2. export vector grid to GeoTiff\n",
    "3. convert GeoTiff to COG"
   ]
  },
  {
   "cell_type": "code",
   "execution_count": 99,
   "metadata": {},
   "outputs": [],
   "source": [
    "grid_path = 'N:/C2205_FAIRiCUBE/f02_data/d060_data_LUXEMBOURG/f01_Lux_neopyhtes/f02_luxembourg_data/f00_fishnet/fishnet_10m_2169.shp'\n",
    "aoi_path = 'N:/C2205_FAIRiCUBE/f02_data/d060_data_LUXEMBOURG/f01_Lux_neopyhtes/f02_luxembourg_data/f06_POIs/AOIs_OSM_2169.gpkg'\n",
    "poi_path = 'N:/C2205_FAIRiCUBE/f02_data/d060_data_LUXEMBOURG/f01_Lux_neopyhtes/f02_luxembourg_data/f06_POIs/POIs_OSM_2169.gpkg'\n",
    "output_path = 'N:/C2205_FAIRiCUBE/f02_data/d060_data_LUXEMBOURG/f01_Lux_neopyhtes/f02_luxembourg_data/f02_raster_10m_collection/aoi_osm_2024_10m_b4.tif'\n"
   ]
  },
  {
   "cell_type": "code",
   "execution_count": 141,
   "metadata": {},
   "outputs": [],
   "source": [
    "import geopandas as gpd\n",
    "gdf_aoi = gpd.read_file(aoi_path)\n",
    "gdf_poi = gpd.read_file(poi_path)\n",
    "grid = gpd.read_file(grid_path)\n",
    "union_aoi = gpd.overlay(grid, gdf_aoi, how='union')[['id', 'aoi_name', 'geometry']]\n",
    "union_poi = gpd.sjoin(grid, gdf_poi, how='inner', predicate='contains')[['id', 'poi_name', 'geometry']]"
   ]
  },
  {
   "cell_type": "code",
   "execution_count": 146,
   "metadata": {},
   "outputs": [],
   "source": [
    "import pandas as pd\n",
    "union_gdf = gpd.GeoDataFrame(pd.concat([union_aoi, union_poi], ignore_index=True), crs=union_aoi.crs)"
   ]
  },
  {
   "cell_type": "code",
   "execution_count": 148,
   "metadata": {},
   "outputs": [],
   "source": [
    "import rasterio\n",
    "from rasterio.features import rasterize\n",
    "from rasterio.transform import from_bounds\n",
    "from shapely import union\n",
    "\n",
    "# parameters\n",
    "xmin = 72850.0\n",
    "ymin = 69590.0\n",
    "xmax = 82570.0\n",
    "ymax = 80030.0\n",
    "\n",
    "projection ='epsg:2169'\n",
    "\n",
    "pixel_size = 10\n",
    "\n",
    "width = int((xmax - xmin) / pixel_size)\n",
    "height = int((ymax - ymin) / pixel_size)\n",
    "transform = from_bounds(xmin, ymin, xmax, ymax, width, height)\n",
    "n_categories = 4\n",
    "raster_cube = []\n",
    "# function\n",
    "for cat in range(1, n_categories+1):\n",
    "    cells = union_gdf[(union_gdf.aoi_name == cat) | (union_gdf.poi_name == cat)]\n",
    "    # Create an empty array to hold rasterized values\n",
    "    raster_array = rasterize(\n",
    "        [(geom, 1) for geom in cells.geometry],\n",
    "        out_shape=(height, width),\n",
    "        transform=transform,\n",
    "        fill=0,\n",
    "        all_touched=True,  # or True\n",
    "        dtype=rasterio.uint8\n",
    "    )\n",
    "    raster_cube.append(raster_array)\n",
    "\n"
   ]
  },
  {
   "cell_type": "code",
   "execution_count": 150,
   "metadata": {},
   "outputs": [],
   "source": [
    "import numpy as np\n",
    "raster_cube_np = np.array(raster_cube)\n",
    "with rasterio.open(output_path,\n",
    "                    \"w\", driver=\"GTiff\", \n",
    "            height=raster_array.shape[0], \n",
    "            width=raster_array.shape[1], \n",
    "            count=4, \n",
    "            dtype=raster_array.dtype, \n",
    "            crs=cells.crs, \n",
    "            transform=transform\n",
    "            ) as dst:\n",
    "    dst.write(raster_cube_np[0,:,:].astype(rasterio.uint8),1)\n",
    "    dst.write(raster_cube_np[1,:,:].astype(rasterio.uint8),2)\n",
    "    dst.write(raster_cube_np[2,:,:].astype(rasterio.uint8),3)\n",
    "    dst.write(raster_cube_np[3,:,:].astype(rasterio.uint8),4)"
   ]
  },
  {
   "cell_type": "markdown",
   "metadata": {},
   "source": [
    "In OSGEO console, run:\n",
    "````\n",
    "gdal_translate -a_srs EPSG:2169 -a_nodata 99.0 -of COG N:/C2205_FAIRiCUBE/f02_data/d060_data_LUXEMBOURG/f01_Lux_neopyhtes/f02_luxembourg_data/f02_raster_10m_collection/aoi_osm_2024_10m_b4.tif N:/C2205_FAIRiCUBE/f02_data/d060_data_LUXEMBOURG/f01_Lux_neopyhtes/f02_luxembourg_data/f02_raster_10m_collection/aoi_osm_2024_10m_b4_cog.tif\n",
    "```"
   ]
  }
 ],
 "metadata": {
  "kernelspec": {
   "display_name": "Python 3",
   "language": "python",
   "name": "python3"
  },
  "language_info": {
   "codemirror_mode": {
    "name": "ipython",
    "version": 3
   },
   "file_extension": ".py",
   "mimetype": "text/x-python",
   "name": "python",
   "nbconvert_exporter": "python",
   "pygments_lexer": "ipython3",
   "version": "3.9.15"
  }
 },
 "nbformat": 4,
 "nbformat_minor": 2
}
