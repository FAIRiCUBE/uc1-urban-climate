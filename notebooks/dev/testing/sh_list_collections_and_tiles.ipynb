{
 "cells": [
  {
   "cell_type": "code",
   "execution_count": 1,
   "id": "7e482090-bdcd-4adc-a59d-22950678bdad",
   "metadata": {},
   "outputs": [],
   "source": [
    "# Configure plots for inline use in Jupyter Notebook\n",
    "%matplotlib inline\n",
    "\n",
    "import datetime as dt\n",
    "\n",
    "# Utilities\n",
    "import boto3\n",
    "import dateutil\n",
    "import geopandas as gpd\n",
    "import matplotlib.pyplot as plt\n",
    "import pandas as pd\n",
    "\n",
    "# Sentinel Hub\n",
    "from sentinelhub import (\n",
    "    CRS,\n",
    "    BBox,\n",
    "    ByocCollection,\n",
    "    ByocCollectionAdditionalData,\n",
    "    ByocCollectionBand,\n",
    "    ByocTile,\n",
    "    DataCollection,\n",
    "    DownloadFailedException,\n",
    "    MimeType,\n",
    "    SentinelHubBYOC,\n",
    "    SentinelHubRequest,\n",
    "    SHConfig,\n",
    "    bbox_to_dimensions,\n",
    ")"
   ]
  },
  {
   "cell_type": "code",
   "execution_count": 2,
   "id": "911ea9cf-0acf-4e9f-b83b-e3577afb94af",
   "metadata": {},
   "outputs": [],
   "source": [
    "# set credentials for Sentinel Hub and AWS\n",
    "import os\n",
    "config = SHConfig()\n",
    "config.instance_id = os.environ.get(\"SH_INSTANCE_ID\")\n",
    "config.sh_client_id = os.environ.get(\"SH_CLIENT_ID\")\n",
    "config.sh_client_secret = os.environ.get(\"SH_CLIENT_SECRET\")\n",
    "config.aws_access_key_id = os.environ.get(\"username\")\n",
    "config.aws_secret_access_key = os.environ.get(\"password\")\n",
    "\n",
    "# Initialize SentinelHubBYOC class\n",
    "byoc = SentinelHubBYOC(config=config)"
   ]
  },
  {
   "cell_type": "code",
   "execution_count": 6,
   "id": "25b8b715-0958-4b64-a239-972eecb05fb8",
   "metadata": {},
   "outputs": [
    {
     "name": "stdout",
     "output_type": "stream",
     "text": [
      "Collection name: urban_audit_2021_city\n",
      "Collection id:  20774d38-7b2e-43e9-b574-66fa2954da1c\n",
      "-------------------\n",
      "Collection name: UrbanAtlas2018_10m_raster_demo\n",
      "Collection id:  55c49191-4afa-4384-956e-e9b746f259f3\n",
      "-------------------\n",
      "Collection name: nuts3_2021\n",
      "Collection id:  81a17892-38ff-470a-ae46-b64313acd7b3\n",
      "-------------------\n",
      "Collection name: UrbanAtlas2012_10m_raster\n",
      "Collection id:  9b562d1d-7865-4a86-b7b5-1a8d75b44f1d\n",
      "-------------------\n",
      "Collection name: UrbanAtlas2012_10m_raster\n",
      "Collection id:  9f55dbb0-7d68-4c7b-8755-9d62d6e00981\n",
      "-------------------\n",
      "Collection name: urban_audit_2021_fua\n",
      "Collection id:  b17f90da-1308-439e-b675-6e3a87f883de\n",
      "-------------------\n",
      "Collection name: UrbanAtlas2012_10m_raster\n",
      "Collection id:  c3911665-7887-4a64-a0d5-c918b0472a39\n",
      "-------------------\n",
      "Collection name: nuts3_2021\n",
      "Collection id:  ed7c0bf4-e85f-498c-ad18-f3e83fb89a6f\n",
      "-------------------\n"
     ]
    }
   ],
   "source": [
    "# list collections and tiles\n",
    "# from: https://sentinelhub-py.readthedocs.io/en/latest/examples/byoc_request.html\n",
    "collections_iterator = byoc.iter_collections()\n",
    "my_collections = list(collections_iterator)\n",
    "\n",
    "for collection in my_collections:\n",
    "    print(\"Collection name:\", collection[\"name\"])\n",
    "    print(\"Collection id: \", collection[\"id\"])\n",
    "    # tiles = list(byoc.iter_tiles(collection))\n",
    "    # for tile in tiles:\n",
    "    #     print(\"Tile status: \", tile['status'])\n",
    "    #     print(\"Tile created: \", tile['created'])\n",
    "    #     print(\"Tile path: \", tile['path'])\n",
    "    #     if(tile['status'] == \"FAILED\"):\n",
    "    #         print(\"Ingestion failed error: \", tile['additionalData'])\n",
    "    print(\"-------------------\")"
   ]
  },
  {
   "cell_type": "code",
   "execution_count": 4,
   "id": "8d6534db-07d3-4434-9942-c11a2166b00e",
   "metadata": {},
   "outputs": [],
   "source": [
    "# #xx error hello world\n",
    "# for collection in my_collections:   \n",
    "#    byoc.delete_collection(collection)\n",
    "# print (\"end\")"
   ]
  },
  {
   "cell_type": "code",
   "execution_count": 5,
   "id": "139bb971-c9d4-4188-89f8-590f0cebe9c5",
   "metadata": {},
   "outputs": [
    {
     "data": {
      "text/plain": [
       "''"
      ]
     },
     "execution_count": 5,
     "metadata": {},
     "output_type": "execute_result"
    }
   ],
   "source": [
    "# delete collection\n",
    "# print(my_collections[2])\n",
    "byoc.delete_collection(my_collections[1])"
   ]
  }
 ],
 "metadata": {
  "kernelspec": {
   "display_name": "fairicube-edc-2022.10-14",
   "language": "python",
   "name": "conda-env-fairicube-edc-2022.10-14-py"
  },
  "language_info": {
   "codemirror_mode": {
    "name": "ipython",
    "version": 3
   },
   "file_extension": ".py",
   "mimetype": "text/x-python",
   "name": "python",
   "nbconvert_exporter": "python",
   "pygments_lexer": "ipython3",
   "version": "3.9.15"
  }
 },
 "nbformat": 4,
 "nbformat_minor": 5
}
