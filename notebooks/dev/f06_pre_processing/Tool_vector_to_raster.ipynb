{
 "cells": [
  {
   "cell_type": "markdown",
   "metadata": {},
   "source": [
    "# Vector to raster tool collection"
   ]
  },
  {
   "cell_type": "markdown",
   "metadata": {},
   "source": [
    "The following script helps to produce raster files from vector (polygon, lines, points) to raster files\n",
    "\n",
    "\n"
   ]
  },
  {
   "cell_type": "markdown",
   "metadata": {},
   "source": [
    "read the lib"
   ]
  },
  {
   "cell_type": "code",
   "execution_count": 3,
   "metadata": {},
   "outputs": [],
   "source": [
    "# geometry:\n",
    "import geopandas as gpd\n",
    "import re\n",
    "from shapely.geometry import Point\n",
    "from shapely.geometry import Polygon\n",
    "from shapely.wkt import loads\n",
    "import geodatasets\n",
    "import matplotlib.pyplot as plt\n",
    "import rasterio\n",
    "from rasterio import features\n",
    "from rasterio.features import rasterize\n",
    "from rasterio.transform import from_bounds\n",
    "from rasterio import Affine"
   ]
  },
  {
   "cell_type": "code",
   "execution_count": null,
   "metadata": {},
   "outputs": [],
   "source": [
    "INFO:\n",
    "\n",
    "\n"
   ]
  },
  {
   "cell_type": "markdown",
   "metadata": {},
   "source": [
    "# (1) Vector-polygons to raster using rasterio"
   ]
  },
  {
   "cell_type": "code",
   "execution_count": 10,
   "metadata": {},
   "outputs": [
    {
     "name": "stdout",
     "output_type": "stream",
     "text": [
      "Vector data successfully converted to raster (GeoTIFF) without a template raster.\n"
     ]
    }
   ],
   "source": [
    "import geopandas as gpd\n",
    "import rasterio\n",
    "from rasterio.features import rasterize\n",
    "from rasterio.transform import from_bounds\n",
    "\n",
    "# Load the vector data (geopackage or shapefile)\n",
    "\n",
    "\n",
    "################################################################## INPUT\n",
    "\n",
    "input_vector_polygon = \"N:/C2205_FAIRiCUBE/f02_data/tmp/test_vector_raster/vienna_polygon.shp\"\n",
    "resolution = 100 # pixel size in m\n",
    "output_raster_tif = \"N:/C2205_FAIRiCUBE/f02_data/tmp/test_vector_raster/vienna_polygon_100m_epsg3035_\"+str(resolution)+\".tif\"#\n",
    "\n",
    "attribute_name = 'BEZNR'\n",
    "\n",
    "##################################################################\n",
    "\n",
    "\n",
    "vector_file = input_vector_polygon\n",
    "df = gpd.read_file(vector_file)\n",
    "\n",
    "# Define the desired output raster shape (e.g., 1000x1000 pixels)\n",
    "shape = 1000, 1000\n",
    "\n",
    "# Generate an affine transform from the bounds of the vector data\n",
    "transform = from_bounds(*df['geometry'].total_bounds, *shape)\n",
    "\n",
    "# Rasterize the vector data\n",
    "rasterize_rivernet = rasterize(\n",
    "    #[(shape, 1) for shape in df['geometry']],\n",
    "    [(geom, value) for geom, value in zip(df['geometry'], df[attribute_name])],\n",
    "    out_shape=shape,\n",
    "    transform=transform,\n",
    "    fill=0,\n",
    "    all_touched=True,\n",
    "    dtype=rasterio.uint8\n",
    ")\n",
    "\n",
    "# Save the rasterized result as a GeoTIFF\n",
    "with rasterio.open(\n",
    "    output_raster_tif,\n",
    "    'w',\n",
    "    driver='GTiff',\n",
    "    dtype=rasterio.uint8,\n",
    "    count=1,\n",
    "    width=shape[0],\n",
    "    height=shape[1],\n",
    "    transform=transform\n",
    ") as dst:\n",
    "    dst.write(rasterize_rivernet, indexes=1)\n",
    "\n",
    "print(\"Vector data successfully converted to raster (GeoTIFF) without a template raster.\")\n"
   ]
  },
  {
   "cell_type": "markdown",
   "metadata": {},
   "source": [
    "# TESTING\n",
    "\n",
    "https://gist.github.com/perrygeo/721040f8545272832a42\n",
    "The current GDAL algorithms allow for two methods, both binary: the default centroid method and the all-touched method.\n",
    "\n",
    "This is a third alternative which provides the percentage of coverage of each cell from 0 to 100 which can be thought of as pixel weights for many spatial analyses."
   ]
  },
  {
   "cell_type": "code",
   "execution_count": 16,
   "metadata": {},
   "outputs": [
    {
     "name": "stdout",
     "output_type": "stream",
     "text": [
      "done\n"
     ]
    },
    {
     "name": "stderr",
     "output_type": "stream",
     "text": [
      "C:\\Users\\ManuelLöhnertz\\AppData\\Local\\Temp\\ipykernel_22876\\3542578645.py:68: FionaDeprecationWarning: Collection.__next__() is buggy and will be removed in Fiona 2.0. Switch to `next(iter(collection))`.\n",
      "  geom = shape(next(src)['geometry'])  # take first feature's shapely geometry\n",
      "C:\\Users\\ManuelLöhnertz\\AppData\\Roaming\\Python\\Python310\\site-packages\\rasterio\\__init__.py:331: NotGeoreferencedWarning: Dataset has no geotransform, gcps, or rpcs. The identity matrix will be returned.\n",
      "  dataset = writer(\n"
     ]
    }
   ],
   "source": [
    "#https://gist.github.com/perrygeo/721040f8545272832a42\n",
    "\n",
    "import rasterio\n",
    "import fiona\n",
    "import numpy as np\n",
    "from rasterio import features\n",
    "from affine import Affine\n",
    "from shapely.geometry import shape, box\n",
    "\n",
    "\n",
    "\n",
    "################################################################## INPUT\n",
    "\n",
    "input_vector_polygon = \"N:/C2205_FAIRiCUBE/f02_data/tmp/test_vector_raster/vienna_polygon.shp\"\n",
    "resolution = 100 # pixel size in m\n",
    "output_raster_tif = \"N:/C2205_FAIRiCUBE/f02_data/tmp/test_vector_raster/vienna_polygon_100m_epsg3035_\"+str(resolution)+\"percent.tif\"#\n",
    "\n",
    "attribute_name = 'BEZNR'\n",
    "\n",
    "##################################################################\n",
    "\n",
    "\n",
    "def _rasterize_geom(geom, shape, affinetrans, all_touched):\n",
    "    indata = [(geom, 1)]\n",
    "    rv_array = features.rasterize(\n",
    "        indata,\n",
    "        out_shape=shape,\n",
    "        transform=affinetrans,\n",
    "        fill=0,\n",
    "        all_touched=all_touched)\n",
    "    return rv_array\n",
    "\n",
    "\n",
    "def rasterize_pctcover(geom, atrans, shape):\n",
    "    alltouched = _rasterize_geom(geom, shape, atrans, all_touched=True)\n",
    "    exterior = _rasterize_geom(geom.exterior, shape, atrans, all_touched=True)\n",
    "\n",
    "    # Create percent cover grid as the difference between them\n",
    "    # at this point all cells are known 100% coverage,\n",
    "    # we'll update this array for exterior points\n",
    "    pctcover = (alltouched - exterior) * 100\n",
    "\n",
    "    # loop through indicies of all exterior cells\n",
    "    for r, c in zip(*np.where(exterior == 1)):\n",
    "\n",
    "        # Find cell bounds, from rasterio DatasetReader.window_bounds\n",
    "        window = ((r, r+1), (c, c+1))\n",
    "        ((row_min, row_max), (col_min, col_max)) = window\n",
    "        x_min, y_min = (col_min, row_max) * atrans\n",
    "        x_max, y_max = (col_max, row_min) * atrans\n",
    "        bounds = (x_min, y_min, x_max, y_max)\n",
    "\n",
    "        # Construct shapely geometry of cell\n",
    "        cell = box(*bounds)\n",
    "\n",
    "        # Intersect with original shape\n",
    "        cell_overlap = cell.intersection(geom)\n",
    "\n",
    "        # update pctcover with percentage based on area proportion\n",
    "        coverage = cell_overlap.area / cell.area\n",
    "        pctcover[r, c] = int(coverage * 100)\n",
    "\n",
    "    return pctcover\n",
    "\n",
    "\n",
    "if __name__ == \"__main__\":\n",
    "    with fiona.open(input_vector_polygon) as src:\n",
    "        geom = shape(next(src)['geometry'])  # take first feature's shapely geometry\n",
    "\n",
    "    scale = 100\n",
    "    atrans = Affine(1.0 / scale, 0.0, 0.0, 0.0, -1.0 / scale, 5.0)\n",
    "    shape = (5 * scale, 5 * scale)\n",
    "    profile = {\n",
    "        'affine': atrans,\n",
    "        'height': shape[0],\n",
    "        'width': shape[1],\n",
    "        'count': 1,\n",
    "        'crs': {},\n",
    "        'driver': 'GTiff',\n",
    "        'dtype': 'uint8',\n",
    "        'nodata': None,\n",
    "        'tiled': False}\n",
    "\n",
    "    pctcover = rasterize_pctcover(geom, atrans=atrans, shape=shape)\n",
    "    with rasterio.open(output_raster_tif, 'w', **profile) as dst:\n",
    "        dst.write(pctcover, 1)\n",
    "\n",
    "\n",
    "print (\"done\")"
   ]
  },
  {
   "cell_type": "markdown",
   "metadata": {},
   "source": [
    "# (2) shp to raster using gdal"
   ]
  },
  {
   "cell_type": "code",
   "execution_count": 27,
   "metadata": {},
   "outputs": [
    {
     "data": {
      "text/plain": [
       "0"
      ]
     },
     "execution_count": 27,
     "metadata": {},
     "output_type": "execute_result"
    }
   ],
   "source": [
    "from osgeo import gdal, ogr\n",
    "\n",
    "# Define pixel_size and NoData value of new raster\n",
    "pixel_size = 100\n",
    "NoData_value = -9999\n",
    "# Filename of input OGR file\n",
    "vector_fn  = \"N:/C2205_FAIRiCUBE/f02_data/tmp/test_vector_raster/vienna_polygon.shp\"#\n",
    "# Define the desired output raster shape (e.g., 1000x1000 pixels)\n",
    "raster_fn = \"N:/C2205_FAIRiCUBE/f02_data/tmp/test_vector_raster/vienna_polygon_100m_epsg3035\" +str(shape[0])+\"gdal.tif\"\n",
    "\n",
    "\n",
    "\n",
    "# Open the data source and read in the extent\n",
    "source_ds = ogr.Open(vector_fn)\n",
    "source_layer = source_ds.GetLayer()\n",
    "x_min, x_max, y_min, y_max = source_layer.GetExtent()\n",
    "\n",
    "# Create the destination data source\n",
    "x_res = int((x_max - x_min) / pixel_size)\n",
    "y_res = int((y_max - y_min) / pixel_size)\n",
    "target_ds = gdal.GetDriverByName('GTiff').Create(raster_fn, x_res, y_res, 1, gdal.GDT_Byte)\n",
    "target_ds.SetGeoTransform((x_min, pixel_size, 0, y_max, 0, -pixel_size))\n",
    "band = target_ds.GetRasterBand(1)\n",
    "band.SetNoDataValue(NoData_value)\n",
    "\n",
    "# Rasterize\n",
    "gdal.RasterizeLayer(target_ds, [1], source_layer, burn_values=[0])\n",
    "\n",
    "print ()"
   ]
  },
  {
   "cell_type": "markdown",
   "metadata": {},
   "source": [
    "# (4) gdal script for reprojection the raster file"
   ]
  },
  {
   "cell_type": "code",
   "execution_count": null,
   "metadata": {},
   "outputs": [],
   "source": [
    "from osgeo import gdal  # shifting with gdasl\n",
    "\n",
    "input_ds = gdal.Open(r\"N:\\C2205_FAIRiCUBE\\f02_data\\d100_species_distribution\\data\\species_2490266_raster_10m.tif\", gdal.GA_ReadOnly)"
   ]
  },
  {
   "cell_type": "markdown",
   "metadata": {},
   "source": [
    "# (5) gdal script for shifting the raster to the correct loaction:\n"
   ]
  },
  {
   "cell_type": "code",
   "execution_count": null,
   "metadata": {},
   "outputs": [],
   "source": [
    "from osgeo import gdal  # shifting with gdasl\n",
    "shift_y = 10\n",
    "input_ds = gdal.Open(r\"N:\\C2205_FAIRiCUBE\\f02_data\\d100_species_distribution\\data\\species_2490266_raster_10m.tif\", gdal.GA_ReadOnly)\n",
    "geo_transform = input_ds.GetGeoTransform()\n",
    "new_geo_transform = list(geo_transform)\n",
    "new_geo_transform[3] += shift_y\n",
    "# Create a new dataset with the modified GeoTransform\n",
    "driver = input_ds.GetDriver()\n",
    "\n",
    "input_ds.SetGeoTransform(new_geo_transform)\n",
    "\n",
    "\n",
    "output_ds = driver.CreateCopy(r\"N:\\C2205_FAIRiCUBE\\f02_data\\d100_species_distribution\\data\\species_2490266_raster_10m_gdal.tif\", input_ds)\n"
   ]
  },
  {
   "cell_type": "code",
   "execution_count": null,
   "metadata": {},
   "outputs": [],
   "source": []
  },
  {
   "cell_type": "markdown",
   "metadata": {},
   "source": [
    "Show the results:"
   ]
  },
  {
   "cell_type": "code",
   "execution_count": null,
   "metadata": {},
   "outputs": [],
   "source": [
    "# Load your raster file (replace 'your_raster.tif' with your actual file path)\n",
    "raster_path = output_raster_tif\n",
    "with rasterio.open(raster_path) as src:\n",
    "    raster_array = src.read(1)  # Read the first band (adjust if needed)\n",
    "\n",
    "\n",
    "\n",
    "\n",
    "plt.imshow(raster_array, cmap='coolwarm')  # You can choose a colormap (e.g., 'gray')\n",
    "plt.colorbar()  # Add a colorbar if desired\n",
    "plt.title(\"show the last written raster\")\n",
    "plt.show()"
   ]
  }
 ],
 "metadata": {
  "kernelspec": {
   "display_name": "Python 3 (ipykernel)",
   "language": "python",
   "name": "python3"
  },
  "language_info": {
   "codemirror_mode": {
    "name": "ipython",
    "version": 3
   },
   "file_extension": ".py",
   "mimetype": "text/x-python",
   "name": "python",
   "nbconvert_exporter": "python",
   "pygments_lexer": "ipython3",
   "version": "3.10.9"
  }
 },
 "nbformat": 4,
 "nbformat_minor": 2
}
