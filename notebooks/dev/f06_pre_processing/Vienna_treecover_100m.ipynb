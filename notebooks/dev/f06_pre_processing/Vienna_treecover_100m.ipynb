{
 "cells": [
  {
   "cell_type": "markdown",
   "metadata": {},
   "source": [
    "# Vienna HRL Tree cover 2018 ---"
   ]
  },
  {
   "cell_type": "code",
   "execution_count": 3,
   "metadata": {},
   "outputs": [],
   "source": [
    "## imp raster allready re-projected:\n",
    "\n",
    "treecover2018_10m_raster = r\"N:\\C2205_FAIRiCUBE\\f02_data\\d050_data_WIEN\\Vienna_gridded_data_collection\\10m_GRID\\vienna_treecover_2018_10m.tif\"\n",
    "\n",
    "\n",
    "## reference poly: 100x100m:\n",
    "reference_polygon = r\"N:\\C2205_FAIRiCUBE\\f02_data\\d050_data_WIEN\\reference_units\\GRID\\grid31256\\fishnet_100m_31256.shp\"\n",
    "\n",
    "## output:\n",
    "out_treecover2018_100m_vector =r\"N:\\C2205_FAIRiCUBE\\f02_data\\d050_data_WIEN\\Vienna_gridded_data_collection\\100m_GRID\\Wien_treecover18_by_grid100m.shp\"\n"
   ]
  },
  {
   "cell_type": "markdown",
   "metadata": {},
   "source": [
    "## zonal statistics and calc. of normal. index"
   ]
  },
  {
   "cell_type": "code",
   "execution_count": 4,
   "metadata": {},
   "outputs": [
    {
     "name": "stdout",
     "output_type": "stream",
     "text": [
      "      EAST     NORTH                          GRID100mID  \\\n",
      "0 -11200.0  331000.0  EPSG31256_GRID_100m_E-11200N331000   \n",
      "1 -11200.0  331100.0  EPSG31256_GRID_100m_E-11200N331100   \n",
      "2 -11200.0  331200.0  EPSG31256_GRID_100m_E-11200N331200   \n",
      "3 -11200.0  331300.0  EPSG31256_GRID_100m_E-11200N331300   \n",
      "4 -11200.0  331400.0  EPSG31256_GRID_100m_E-11200N331400   \n",
      "\n",
      "                                            geometry  \n",
      "0  POLYGON ((-11200.000 331000.000, -11200.000 33...  \n",
      "1  POLYGON ((-11200.000 331100.000, -11200.000 33...  \n",
      "2  POLYGON ((-11200.000 331200.000, -11200.000 33...  \n",
      "3  POLYGON ((-11200.000 331300.000, -11200.000 33...  \n",
      "4  POLYGON ((-11200.000 331400.000, -11200.000 33...  \n"
     ]
    },
    {
     "name": "stderr",
     "output_type": "stream",
     "text": [
      "C:\\Users\\ManuelLöhnertz\\AppData\\Roaming\\Python\\Python310\\site-packages\\rasterstats\\io.py:328: NodataWarning: Setting nodata to -999; specify nodata explicitly\n",
      "  warnings.warn(\n"
     ]
    }
   ],
   "source": [
    "\n",
    "## zonal statistics: output = vector dataset\n",
    "import geopandas as gpd\n",
    "from rasterstats import zonal_stats\n",
    "\n",
    "zones = reference_polygon\n",
    "values = treecover2018_10m_raster\n",
    "gdf = gpd.read_file(zones)\n",
    "print(gdf.head())\n",
    "\n",
    "stats = gpd.GeoDataFrame(zonal_stats(gdf, values, stats=[\"min\", \"max\", \"mean\",'sum']))\n",
    "gdf = gdf.join(stats)\n",
    "\n",
    "print(gdf.head())\n",
    "\n",
    "\n",
    "# apply normalization techniques by Column 1  (0-100)\n",
    "column = 'sum'\n",
    "gdf['tc18_indi'] = (gdf[column] - gdf[column].min()) / (gdf[column].max() - gdf[column].min())\t *100\n",
    "\n",
    "# view normalized data \n",
    "display(gdf) \n",
    "\n",
    "\n",
    "gdf.to_file(out_treecover2018_100m_vector)\n",
    "print (\"done\")"
   ]
  },
  {
   "cell_type": "markdown",
   "metadata": {},
   "source": [
    "## produce a 100m tif from gridded vector dataset:"
   ]
  },
  {
   "cell_type": "code",
   "execution_count": null,
   "metadata": {},
   "outputs": [
    {
     "name": "stdout",
     "output_type": "stream",
     "text": [
      "done\n"
     ]
    }
   ],
   "source": [
    "##\n",
    "\n",
    "## raster to vector using vector attriubte (working perfectly):\n",
    "\n",
    "import geopandas as gpd\n",
    "import rasterio\n",
    "from rasterio.features import rasterize\n",
    "from rasterio.transform import from_bounds\n",
    "\n",
    "# Load the polygon layer\n",
    "polygons = gpd.read_file(out_treecover2018_100m_vector)\n",
    "\n",
    "output_raster = r\"N:\\C2205_FAIRiCUBE\\f02_data\\d050_data_WIEN\\Vienna_gridded_data_collection\\100m_GRID\\r05_treecover2018_indicator0100.tif\"\n",
    "\n",
    "\n",
    "# Define the attribute to use for raster values\n",
    "attribute_to_rasterize = 'tc18_indi'\n",
    "\n",
    "# Define raster properties\n",
    "#xmin, ymin, xmax, ymax = polygons.total_bounds\n",
    "\n",
    "xmin=\t-11200\n",
    "ymin=\t331000\n",
    "xmax=\t18800\n",
    "ymax=\t354000\n",
    "\n",
    "projection ='epsg:31256'\n",
    "\n",
    "\n",
    "pixel_size = 100  # Adjust as needed\n",
    "\n",
    "\n",
    "width = int((xmax - xmin) / pixel_size)\n",
    "height = int((ymax - ymin) / pixel_size)\n",
    "transform = from_bounds(xmin, ymin, xmax, ymax, width, height)\n",
    "\n",
    "# Create an empty array to hold rasterized values\n",
    "raster_array = rasterize(\n",
    "    [(geom, value) for geom, value in zip(polygons.geometry, polygons[attribute_to_rasterize])],\n",
    "    out_shape=(height, width),\n",
    "    transform=transform,\n",
    "    fill=0,\n",
    "    all_touched=False,  # or True\n",
    "    dtype=rasterio.float32\n",
    ")\n",
    "\n",
    "# Write the raster to a GeoTIFF file\n",
    "with rasterio.open(output_raster, \"w\", driver=\"GTiff\", \n",
    "                   height=raster_array.shape[0], \n",
    "                   width=raster_array.shape[1], \n",
    "                   count=1, \n",
    "                   dtype=raster_array.dtype, \n",
    "                   crs=polygons.crs, \n",
    "                   transform=transform\n",
    "                   ) as dst:\n",
    "    dst.write(raster_array, 1)\n",
    "\n",
    "\n",
    "print (\"done\")"
   ]
  },
  {
   "cell_type": "markdown",
   "metadata": {},
   "source": [
    "## "
   ]
  }
 ],
 "metadata": {
  "kernelspec": {
   "display_name": "Python 3 (ipykernel)",
   "language": "python",
   "name": "python3"
  },
  "language_info": {
   "codemirror_mode": {
    "name": "ipython",
    "version": 3
   },
   "file_extension": ".py",
   "mimetype": "text/x-python",
   "name": "python",
   "nbconvert_exporter": "python",
   "pygments_lexer": "ipython3",
   "version": "3.10.9"
  }
 },
 "nbformat": 4,
 "nbformat_minor": 2
}
