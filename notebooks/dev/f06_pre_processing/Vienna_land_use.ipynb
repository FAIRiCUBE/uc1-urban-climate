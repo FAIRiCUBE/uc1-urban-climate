{
 "cells": [
  {
   "cell_type": "markdown",
   "metadata": {},
   "source": [
    "# Vienna Land Use"
   ]
  },
  {
   "cell_type": "markdown",
   "metadata": {},
   "source": [
    "The .."
   ]
  },
  {
   "cell_type": "markdown",
   "metadata": {},
   "source": [
    "#  (1) Land Use resampling for 100m"
   ]
  },
  {
   "cell_type": "code",
   "execution_count": 2,
   "metadata": {},
   "outputs": [
    {
     "name": "stderr",
     "output_type": "stream",
     "text": [
      "C:\\Users\\ManuelLöhnertz\\AppData\\Roaming\\Python\\Python310\\site-packages\\shapely\\set_operations.py:76: RuntimeWarning: divide by zero encountered in difference\n",
      "  return lib.difference(a, b, **kwargs)\n",
      "C:\\Users\\ManuelLöhnertz\\AppData\\Roaming\\Python\\Python310\\site-packages\\shapely\\set_operations.py:76: RuntimeWarning: invalid value encountered in difference\n",
      "  return lib.difference(a, b, **kwargs)\n",
      "C:\\Users\\ManuelLöhnertz\\AppData\\Local\\Temp\\ipykernel_26936\\3323111743.py:12: UserWarning: `keep_geom_type=True` in overlay resulted in 8 dropped geometries of different geometry types than df1 has. Set `keep_geom_type=False` to retain all geometries\n",
      "  union_result = gpd.overlay(shp_100m_GRID, shp, how='union')\n"
     ]
    },
    {
     "name": "stdout",
     "output_type": "stream",
     "text": [
      "done\n"
     ]
    }
   ],
   "source": [
    "# 1. transformation of land use vector dataset to the 100m Vienna GRID:\n",
    "\n",
    "# geometry:\n",
    "import geopandas as gpd\n",
    "\n",
    "# 1 Load GRID\n",
    "shp_100m_GRID = gpd.read_file(r\"N:\\C2205_FAIRiCUBE\\f02_data\\d050_data_WIEN\\reference_units\\GRID\\grid31256\\fishnet_100m_31256.shp\")\n",
    "# 2 LOAD \"land uise\"\n",
    "shp = gpd.read_file(r\"N:\\C2205_FAIRiCUBE\\f02_data\\d050_data_WIEN\\landnutzung\\REALNUT2020OGD_31256.shp\")\n",
    "\n",
    "# Perform spatial union\n",
    "union_result = gpd.overlay(shp_100m_GRID, shp, how='union')\n",
    "\n",
    "# Save the result to a new shapefile\n",
    "union_result.to_file(r\"N:\\C2205_FAIRiCUBE\\f02_data\\d050_data_WIEN\\Vienna_gridded_data_collection\\100m_GRID\\Real_land_use2020_100m.shp\")\n",
    "\n",
    "print (\"done\")\n",
    "\n",
    "\n"
   ]
  },
  {
   "cell_type": "markdown",
   "metadata": {},
   "source": [
    "The following script calc. the area of land use class inside every 100x100m cell. Then the land use with the larrgest area will be selected and exported to  new vector grid file:"
   ]
  },
  {
   "cell_type": "code",
   "execution_count": 42,
   "metadata": {},
   "outputs": [
    {
     "name": "stdout",
     "output_type": "stream",
     "text": [
      "                                GRID100mID  NUTZ_MAX\n",
      "151935  EPSG31256_GRID_100m_E-10000N331000       NaN\n",
      "151936  EPSG31256_GRID_100m_E-10000N331100       NaN\n",
      "151937  EPSG31256_GRID_100m_E-10000N331200       NaN\n",
      "151938  EPSG31256_GRID_100m_E-10000N331300       NaN\n",
      "151939  EPSG31256_GRID_100m_E-10000N331400       NaN\n",
      "done\n"
     ]
    }
   ],
   "source": [
    "##Real_land_use2020_100m_test_group_by3\n",
    "# 1 Load GRID\n",
    "shp_100m_GRID = gpd.read_file(r\"N:\\C2205_FAIRiCUBE\\f02_data\\d050_data_WIEN\\Vienna_gridded_data_collection\\100m_GRID\\Real_land_use2020_100m.shp\")\n",
    "out_dem_vector =r\"N:\\C2205_FAIRiCUBE\\f02_data\\d050_data_WIEN\\Vienna_gridded_data_collection\\100m_GRID\\Real_land_use2020_100m_max_land_use_in_cell.shp\"\n",
    "\n",
    "gdf = shp_100m_GRID\n",
    "#print(gdf.head())\n",
    "\n",
    "\n",
    "# Calculate the area for each geometry in the GeoDataFrame\n",
    "gdf['area'] = gdf.geometry.area\n",
    "\n",
    "# Print the first few rows to check the calculated areas\n",
    "#print(gdf[['geometry', 'area']].head())\n",
    "\n",
    "\n",
    "# Group by the attribute field and calculate aggregate statistics\n",
    "grouped_stats = gdf.groupby(['GRID100mID','NUTZUNG_CO'])['area'].sum()\n",
    "\n",
    "\n",
    "# Group by 'GRID100mID' and find the index of the row with the maximum area for each group\n",
    "idx = gdf.groupby('GRID100mID')['area'].idxmax()\n",
    "# Use the index to select the corresponding 'land_use' value\n",
    "max_land_use = gdf.loc[idx, ['GRID100mID', 'NUTZUNG_CO']]\n",
    "max_land_use = max_land_use.rename(columns={'NUTZUNG_CO': 'NUTZ_MAX'})\n",
    "print(max_land_use.head())\n",
    "merged_gdf = gdf.merge(max_land_use, on='GRID100mID', how='left')\n",
    "\n",
    "#print(merged_gdf.head())\n",
    "\n",
    "# Dissolve the geometries based on the attribute field\n",
    "dissolved_gdf = merged_gdf.dissolve(by=['GRID100mID','NUTZ_MAX'])\n",
    "\n",
    "\n",
    "\n",
    "dissolved_gdf.to_file(out_dem_vector)\n",
    "print (\"done\")\n",
    "\n"
   ]
  },
  {
   "cell_type": "markdown",
   "metadata": {},
   "source": [
    "#  (2) Land Use resampling for 10m"
   ]
  },
  {
   "cell_type": "code",
   "execution_count": 2,
   "metadata": {},
   "outputs": [],
   "source": [
    "# 1. transformation of land use vector dataset to the 100m Vienna GRID:\n",
    "\n",
    "# geometry:\n",
    "import geopandas as gpd\n",
    "\n",
    "# 1 Load GRID\n",
    "shp_100m_GRID = gpd.read_file(r\"N:\\C2205_FAIRiCUBE\\f02_data\\d050_data_WIEN\\reference_units\\GRID\\grid31256\\fishnet_10m_31256.shp\")\n",
    "# 2 LOAD \"land uise\"\n",
    "shp = gpd.read_file(r\"N:\\C2205_FAIRiCUBE\\f02_data\\d050_data_WIEN\\landnutzung\\REALNUT2020OGD_31256.shp\")\n",
    "\n",
    "# Perform spatial union\n",
    "union_result = gpd.overlay(shp_100m_GRID, shp, how='union')\n",
    "\n",
    "# Save the result to a new shapefile\n",
    "union_result.to_file(r\"N:\\C2205_FAIRiCUBE\\f02_data\\d050_data_WIEN\\Vienna_gridded_data_collection\\10m_GRID\\Real_land_use2020_10m.shp\")\n",
    "\n",
    "print (\"done\")\n",
    "\n",
    "\n"
   ]
  },
  {
   "cell_type": "code",
   "execution_count": null,
   "metadata": {},
   "outputs": [],
   "source": [
    "##Real_land_use2020_100m_test_group_by3\n",
    "# 1 Load GRID\n",
    "shp_GRID = gpd.read_file(r\"N:\\C2205_FAIRiCUBE\\f02_data\\d050_data_WIEN\\Vienna_gridded_data_collection\\10m_GRID\\Real_land_use2020_10m.shp\")\n",
    "out_dem_vector =         r\"N:\\C2205_FAIRiCUBE\\f02_data\\d050_data_WIEN\\Vienna_gridded_data_collection\\10m_GRID\\Real_land_use2020_10m_max_land_use_in_cell.shp\"\n",
    "\n",
    "gdf = shp_GRID\n",
    "#print(gdf.head())\n",
    "\n",
    "\n",
    "# Calculate the area for each geometry in the GeoDataFrame\n",
    "gdf['area'] = gdf.geometry.area\n",
    "\n",
    "# Print the first few rows to check the calculated areas\n",
    "#print(gdf[['geometry', 'area']].head())\n",
    "\n",
    "\n",
    "# Group by the attribute field and calculate aggregate statistics\n",
    "grouped_stats = gdf.groupby(['GRID10mID','NUTZUNG_CO'])['area'].sum()\n",
    "\n",
    "\n",
    "# Group by 'GRID10mID' and find the index of the row with the maximum area for each group\n",
    "idx = gdf.groupby('GRID10mID')['area'].idxmax()\n",
    "# Use the index to select the corresponding 'land_use' value\n",
    "max_land_use = gdf.loc[idx, ['GRID10mID', 'NUTZUNG_CO']]\n",
    "max_land_use = max_land_use.rename(columns={'NUTZUNG_CO': 'NUTZ_MAX'})\n",
    "print(max_land_use.head())\n",
    "merged_gdf = gdf.merge(max_land_use, on='GRID10mID', how='left')\n",
    "\n",
    "#print(merged_gdf.head())\n",
    "\n",
    "# Dissolve the geometries based on the attribute field\n",
    "dissolved_gdf = merged_gdf.dissolve(by=['GRID10mID','NUTZ_MAX'])\n",
    "\n",
    "\n",
    "\n",
    "dissolved_gdf.to_file(out_dem_vector)\n",
    "print (\"done\")\n",
    "\n"
   ]
  }
 ],
 "metadata": {
  "kernelspec": {
   "display_name": "Python 3 (ipykernel)",
   "language": "python",
   "name": "python3"
  },
  "language_info": {
   "codemirror_mode": {
    "name": "ipython",
    "version": 3
   },
   "file_extension": ".py",
   "mimetype": "text/x-python",
   "name": "python",
   "nbconvert_exporter": "python",
   "pygments_lexer": "ipython3",
   "version": "3.9.16"
  }
 },
 "nbformat": 4,
 "nbformat_minor": 2
}
