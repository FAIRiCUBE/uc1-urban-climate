{
 "cells": [
  {
   "cell_type": "markdown",
   "metadata": {},
   "source": [
    "# Luxembourg sealing degree"
   ]
  },
  {
   "cell_type": "code",
   "execution_count": 8,
   "metadata": {},
   "outputs": [],
   "source": [
    "## imp raster allready re-projected:\n",
    "input_raster = r\"N:\\C2205_FAIRiCUBE\\f02_data\\d060_data_LUXEMBOURG\\f01_Lux_neopyhtes\\f02_luxembourg_data\\f01_raw_data\\land_cover\\land_cover_2021_20cm_aoi.tif\"\n",
    "out_raster = r\"N:\\C2205_FAIRiCUBE\\f02_data\\d060_data_LUXEMBOURG\\f01_Lux_neopyhtes\\f02_luxembourg_data\\f01_raw_data\\land_cover\\land_cover_2021_20cm_res.tif\"\n",
    "\n",
    "\n",
    "## reference poly: 10x10m:\n",
    "reference_polygon = r\"N:\\C2205_FAIRiCUBE\\f02_data\\d060_data_LUXEMBOURG\\f01_Lux_neopyhtes\\f02_luxembourg_data\\f00_fishnet\\fishnet_10m_2169.shp\"\n",
    "\n",
    "## output:\n",
    "out_10m_vector =r\"N:\\C2205_FAIRiCUBE\\f02_data\\d060_data_LUXEMBOURG\\f01_Lux_neopyhtes\\f02_luxembourg_data\\f01_raw_data\\land_cover\\landcover_2021.shp\"\n"
   ]
  },
  {
   "cell_type": "markdown",
   "metadata": {},
   "source": [
    "## zonal statistics and calc. of normal. index"
   ]
  },
  {
   "cell_type": "code",
   "execution_count": 40,
   "metadata": {},
   "outputs": [
    {
     "name": "stdout",
     "output_type": "stream",
     "text": [
      "Number of bands in the input raster: 1\n",
      "Shape of the raster data: (52200, 48580)\n"
     ]
    },
    {
     "ename": "MemoryError",
     "evalue": "Unable to allocate 18.9 GiB for an array with shape (52200, 48580) and data type object",
     "output_type": "error",
     "traceback": [
      "\u001b[1;31m---------------------------------------------------------------------------\u001b[0m",
      "\u001b[1;31mMemoryError\u001b[0m                               Traceback (most recent call last)",
      "Cell \u001b[1;32mIn[40], line 33\u001b[0m\n\u001b[0;32m     30\u001b[0m \u001b[38;5;28mprint\u001b[39m(\u001b[38;5;124mf\u001b[39m\u001b[38;5;124m\"\u001b[39m\u001b[38;5;124mShape of the raster data: \u001b[39m\u001b[38;5;132;01m{\u001b[39;00mraster_data\u001b[38;5;241m.\u001b[39mshape\u001b[38;5;132;01m}\u001b[39;00m\u001b[38;5;124m\"\u001b[39m)\n\u001b[0;32m     32\u001b[0m \u001b[38;5;66;03m# Apply the reclassification function to each pixel value\u001b[39;00m\n\u001b[1;32m---> 33\u001b[0m reclassified_data \u001b[38;5;241m=\u001b[39m \u001b[43mnp\u001b[49m\u001b[38;5;241;43m.\u001b[39;49m\u001b[43mvectorize\u001b[49m\u001b[43m(\u001b[49m\u001b[43mreclassify\u001b[49m\u001b[43m)\u001b[49m\u001b[43m(\u001b[49m\u001b[43mraster_data\u001b[49m\u001b[43m)\u001b[49m\n\u001b[0;32m     35\u001b[0m \u001b[38;5;66;03m# Copy the metadata of the source file\u001b[39;00m\n\u001b[0;32m     36\u001b[0m metadata \u001b[38;5;241m=\u001b[39m src\u001b[38;5;241m.\u001b[39mmeta\u001b[38;5;241m.\u001b[39mcopy()\n",
      "File \u001b[1;32mc:\\Users\\ManuelLöhnertz\\.conda\\envs\\geospatial2\\lib\\site-packages\\numpy\\lib\\function_base.py:2329\u001b[0m, in \u001b[0;36mvectorize.__call__\u001b[1;34m(self, *args, **kwargs)\u001b[0m\n\u001b[0;32m   2326\u001b[0m     vargs \u001b[38;5;241m=\u001b[39m [args[_i] \u001b[38;5;28;01mfor\u001b[39;00m _i \u001b[38;5;129;01min\u001b[39;00m inds]\n\u001b[0;32m   2327\u001b[0m     vargs\u001b[38;5;241m.\u001b[39mextend([kwargs[_n] \u001b[38;5;28;01mfor\u001b[39;00m _n \u001b[38;5;129;01min\u001b[39;00m names])\n\u001b[1;32m-> 2329\u001b[0m \u001b[38;5;28;01mreturn\u001b[39;00m \u001b[38;5;28;43mself\u001b[39;49m\u001b[38;5;241;43m.\u001b[39;49m\u001b[43m_vectorize_call\u001b[49m\u001b[43m(\u001b[49m\u001b[43mfunc\u001b[49m\u001b[38;5;241;43m=\u001b[39;49m\u001b[43mfunc\u001b[49m\u001b[43m,\u001b[49m\u001b[43m \u001b[49m\u001b[43margs\u001b[49m\u001b[38;5;241;43m=\u001b[39;49m\u001b[43mvargs\u001b[49m\u001b[43m)\u001b[49m\n",
      "File \u001b[1;32mc:\\Users\\ManuelLöhnertz\\.conda\\envs\\geospatial2\\lib\\site-packages\\numpy\\lib\\function_base.py:2410\u001b[0m, in \u001b[0;36mvectorize._vectorize_call\u001b[1;34m(self, func, args)\u001b[0m\n\u001b[0;32m   2407\u001b[0m ufunc, otypes \u001b[38;5;241m=\u001b[39m \u001b[38;5;28mself\u001b[39m\u001b[38;5;241m.\u001b[39m_get_ufunc_and_otypes(func\u001b[38;5;241m=\u001b[39mfunc, args\u001b[38;5;241m=\u001b[39margs)\n\u001b[0;32m   2409\u001b[0m \u001b[38;5;66;03m# Convert args to object arrays first\u001b[39;00m\n\u001b[1;32m-> 2410\u001b[0m inputs \u001b[38;5;241m=\u001b[39m [asanyarray(a, dtype\u001b[38;5;241m=\u001b[39m\u001b[38;5;28mobject\u001b[39m) \u001b[38;5;28;01mfor\u001b[39;00m a \u001b[38;5;129;01min\u001b[39;00m args]\n\u001b[0;32m   2412\u001b[0m outputs \u001b[38;5;241m=\u001b[39m ufunc(\u001b[38;5;241m*\u001b[39minputs)\n\u001b[0;32m   2414\u001b[0m \u001b[38;5;28;01mif\u001b[39;00m ufunc\u001b[38;5;241m.\u001b[39mnout \u001b[38;5;241m==\u001b[39m \u001b[38;5;241m1\u001b[39m:\n",
      "File \u001b[1;32mc:\\Users\\ManuelLöhnertz\\.conda\\envs\\geospatial2\\lib\\site-packages\\numpy\\lib\\function_base.py:2410\u001b[0m, in \u001b[0;36m<listcomp>\u001b[1;34m(.0)\u001b[0m\n\u001b[0;32m   2407\u001b[0m ufunc, otypes \u001b[38;5;241m=\u001b[39m \u001b[38;5;28mself\u001b[39m\u001b[38;5;241m.\u001b[39m_get_ufunc_and_otypes(func\u001b[38;5;241m=\u001b[39mfunc, args\u001b[38;5;241m=\u001b[39margs)\n\u001b[0;32m   2409\u001b[0m \u001b[38;5;66;03m# Convert args to object arrays first\u001b[39;00m\n\u001b[1;32m-> 2410\u001b[0m inputs \u001b[38;5;241m=\u001b[39m [\u001b[43masanyarray\u001b[49m\u001b[43m(\u001b[49m\u001b[43ma\u001b[49m\u001b[43m,\u001b[49m\u001b[43m \u001b[49m\u001b[43mdtype\u001b[49m\u001b[38;5;241;43m=\u001b[39;49m\u001b[38;5;28;43mobject\u001b[39;49m\u001b[43m)\u001b[49m \u001b[38;5;28;01mfor\u001b[39;00m a \u001b[38;5;129;01min\u001b[39;00m args]\n\u001b[0;32m   2412\u001b[0m outputs \u001b[38;5;241m=\u001b[39m ufunc(\u001b[38;5;241m*\u001b[39minputs)\n\u001b[0;32m   2414\u001b[0m \u001b[38;5;28;01mif\u001b[39;00m ufunc\u001b[38;5;241m.\u001b[39mnout \u001b[38;5;241m==\u001b[39m \u001b[38;5;241m1\u001b[39m:\n",
      "\u001b[1;31mMemoryError\u001b[0m: Unable to allocate 18.9 GiB for an array with shape (52200, 48580) and data type object"
     ]
    }
   ],
   "source": [
    "import rasterio\n",
    "import numpy as np\n",
    "\n",
    "# Define the reclassification rules\n",
    "# This is a simple example where values are reclassified:\n",
    "def reclassify(value):\n",
    "    if value == 0:\n",
    "        return 0\n",
    "    elif 1 <= value <= 20:\n",
    "        return 1\n",
    "    elif 21 <= value <= 255:\n",
    "        return 0\n",
    "    else:\n",
    "        return value  # No change for other values\n",
    "\n",
    "\n",
    "input_file =  r\"N:\\C2205_FAIRiCUBE\\f02_data\\d060_data_LUXEMBOURG\\f01_Lux_neopyhtes\\f02_luxembourg_data\\f01_raw_data\\land_cover\\land_cover_2021.tif\"\n",
    "output_file = r\"N:\\C2205_FAIRiCUBE\\f02_data\\d060_data_LUXEMBOURG\\f01_Lux_neopyhtes\\f02_luxembourg_data\\f01_raw_data\\land_cover\\land_cover_2021_20cm_reclassify.tif\"\n",
    "\n",
    "# Open the raster file\n",
    "with rasterio.open(input_file) as src:\n",
    "    # Check the number of bands\n",
    "    band_count = src.count\n",
    "   \n",
    "    print(f\"Number of bands in the input raster: {band_count}\")\n",
    "    \n",
    "    # Read the first band (assuming the raster has at least one band)\n",
    "    if band_count >= 1:\n",
    "        raster_data = src.read(1)  # Read the first band\n",
    "        print(f\"Shape of the raster data: {raster_data.shape}\")\n",
    "        \n",
    "        # Apply the reclassification function to each pixel value\n",
    "        reclassified_data = np.vectorize(reclassify)(raster_data)\n",
    "        \n",
    "        # Copy the metadata of the source file\n",
    "        metadata = src.meta.copy()\n",
    "        \n",
    "        # Write the reclassified data to a new file\n",
    "        with rasterio.open(output_file, 'w', **metadata) as dst:\n",
    "            dst.write(reclassified_data, 1)  # Write to the first band\n",
    "\n",
    "        print(f\"Reclassified raster saved as {output_file}\")\n",
    "    else:\n",
    "        print(\"The input raster has no bands.\")"
   ]
  },
  {
   "cell_type": "code",
   "execution_count": 41,
   "metadata": {},
   "outputs": [
    {
     "name": "stdout",
     "output_type": "stream",
     "text": [
      "Current nodata value: 0.0\n",
      "Reclassified raster saved as N:\\C2205_FAIRiCUBE\\f02_data\\d060_data_LUXEMBOURG\\f01_Lux_neopyhtes\\f02_luxembourg_data\\f01_raw_data\\land_cover\\land_cover_2021_20cm_reclassify.tif\n"
     ]
    }
   ],
   "source": [
    "import rasterio\n",
    "import numpy as np\n",
    "\n",
    "# Define the reclassification rules\n",
    "def reclassify(value, nodata):\n",
    "    if value == nodata:\n",
    "        return 0\n",
    "    elif 0 <= value <= 100:\n",
    "        return 1\n",
    "    elif 101 <= value <= 200:\n",
    "        return 2\n",
    "    elif 201 <= value <= 255:\n",
    "        return 3\n",
    "    else:\n",
    "        return value  # No change for other values\n",
    "\n",
    "# File paths\n",
    "input_file =  r\"N:\\C2205_FAIRiCUBE\\f02_data\\d060_data_LUXEMBOURG\\f01_Lux_neopyhtes\\f02_luxembourg_data\\f01_raw_data\\land_cover\\land_cover_2021.tif\"\n",
    "output_file = r\"N:\\C2205_FAIRiCUBE\\f02_data\\d060_data_LUXEMBOURG\\f01_Lux_neopyhtes\\f02_luxembourg_data\\f01_raw_data\\land_cover\\land_cover_2021_20cm_reclassify.tif\"\n",
    "\n",
    "# New nodata value\n",
    "new_nodata_value = 0  # or whatever value you want to use as the new nodata value\n",
    "\n",
    "# Open the raster file\n",
    "with rasterio.open(input_file) as src:\n",
    "    # Get the current nodata value\n",
    "    current_nodata_value = src.nodata\n",
    "    print(f\"Current nodata value: {current_nodata_value}\")\n",
    "    \n",
    "    # Copy the metadata and update the nodata value\n",
    "    metadata = src.meta.copy()\n",
    "    metadata.update(nodata=new_nodata_value)\n",
    "    \n",
    "    # Define the block size (adjust based on your memory capacity)\n",
    "    block_size = 1024\n",
    "    \n",
    "    # Calculate the number of blocks in both dimensions\n",
    "    num_blocks_x = (src.width + block_size - 1) // block_size\n",
    "    num_blocks_y = (src.height + block_size - 1) // block_size\n",
    "    \n",
    "    # Create an output dataset\n",
    "    with rasterio.open(output_file, 'w', **metadata) as dst:\n",
    "        # Process each block\n",
    "        for i in range(num_blocks_y):\n",
    "            for j in range(num_blocks_x):\n",
    "                # Define the window to read\n",
    "                window = rasterio.windows.Window(\n",
    "                    j * block_size, i * block_size,\n",
    "                    min(block_size, src.width - j * block_size),\n",
    "                    min(block_size, src.height - i * block_size)\n",
    "                )\n",
    "                \n",
    "                # Read the data within the window\n",
    "                raster_data = src.read(1, window=window)\n",
    "                \n",
    "                # Apply the reclassification function to each pixel value\n",
    "                reclassified_data = np.vectorize(reclassify)(raster_data, current_nodata_value)\n",
    "                \n",
    "                # Write the reclassified data to the output dataset\n",
    "                dst.write(reclassified_data, window=window, indexes=1)\n",
    "\n",
    "print(f\"Reclassified raster saved as {output_file}\")\n"
   ]
  },
  {
   "cell_type": "code",
   "execution_count": 42,
   "metadata": {},
   "outputs": [
    {
     "name": "stdout",
     "output_type": "stream",
     "text": [
      "Original resolution: (0.2000000000000003, 0.2)\n",
      "Original width: 48580, Original height: 52200\n",
      "New width: 971, New height: 1044\n",
      "Aggregated raster saved as N:\\C2205_FAIRiCUBE\\f02_data\\d060_data_LUXEMBOURG\\f01_Lux_neopyhtes\\f02_luxembourg_data\\f01_raw_data\\land_cover\\land_cover_2021_20cm_reclassify_10m.tif\n"
     ]
    }
   ],
   "source": [
    "\n",
    "import rasterio\n",
    "import numpy as np\n",
    "from rasterio.windows import Window\n",
    "\n",
    "\n",
    "input_file =output_file\n",
    "output_file = input_file[:-4]+'_10m.tif'\n",
    "\n",
    "# Desired new resolution\n",
    "new_resolution = 10\n",
    "\n",
    "# Open the raster file\n",
    "with rasterio.open(input_file) as src:\n",
    "    # Read the original raster data\n",
    "    raster_data = src.read(1)\n",
    "    original_transform = src.transform\n",
    "    original_resolution = src.res\n",
    "    original_width = src.width\n",
    "    original_height = src.height\n",
    "    \n",
    "    print(f\"Original resolution: {original_resolution}\")\n",
    "    print(f\"Original width: {original_width}, Original height: {original_height}\")\n",
    "    \n",
    "    # Calculate the new width and height\n",
    "    new_width = int(original_width * original_resolution[0] / new_resolution)\n",
    "    new_height = int(original_height * original_resolution[1] / new_resolution)\n",
    "    \n",
    "    print(f\"New width: {new_width}, New height: {new_height}\")\n",
    "\n",
    "    # Initialize the new raster data with zeros\n",
    "    new_raster_data = np.zeros((new_height, new_width), dtype=raster_data.dtype)\n",
    "    \n",
    "    # Aggregate the data\n",
    "    for i in range(new_height):\n",
    "        for j in range(new_width):\n",
    "            # Calculate the window to read\n",
    "            window = Window(j * new_resolution // original_resolution[0],\n",
    "                            i * new_resolution // original_resolution[1],\n",
    "                            new_resolution // original_resolution[0],\n",
    "                            new_resolution // original_resolution[1])\n",
    "            window_data = src.read(1, window=window)\n",
    "            \n",
    "            # Sum the window data and assign to the new raster data\n",
    "            new_raster_data[i, j] = np.sum(window_data)\n",
    "    \n",
    "    # Update the metadata\n",
    "    new_transform = rasterio.transform.from_origin(\n",
    "        original_transform.c,\n",
    "        original_transform.f,\n",
    "        new_resolution,\n",
    "        new_resolution\n",
    "    )\n",
    "    new_meta = src.meta.copy()\n",
    "    new_meta.update({\n",
    "        \"height\": new_height,\n",
    "        \"width\": new_width,\n",
    "        \"transform\": new_transform\n",
    "    })\n",
    "    \n",
    "    # Write the new raster data to a file\n",
    "    with rasterio.open(output_file, 'w', **new_meta) as dst:\n",
    "        dst.write(new_raster_data, 1)\n",
    "\n",
    "print(f\"Aggregated raster saved as {output_file}\")\n"
   ]
  },
  {
   "cell_type": "code",
   "execution_count": null,
   "metadata": {},
   "outputs": [],
   "source": []
  },
  {
   "cell_type": "markdown",
   "metadata": {},
   "source": [
    "## "
   ]
  }
 ],
 "metadata": {
  "kernelspec": {
   "display_name": "Python 3 (ipykernel)",
   "language": "python",
   "name": "python3"
  },
  "language_info": {
   "codemirror_mode": {
    "name": "ipython",
    "version": 3
   },
   "file_extension": ".py",
   "mimetype": "text/x-python",
   "name": "python",
   "nbconvert_exporter": "python",
   "pygments_lexer": "ipython3",
   "version": "3.9.16"
  }
 },
 "nbformat": 4,
 "nbformat_minor": 2
}
