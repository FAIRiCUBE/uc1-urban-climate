{
 "cells": [
  {
   "cell_type": "markdown",
   "metadata": {},
   "source": [
    "# Vienna DEM"
   ]
  },
  {
   "cell_type": "code",
   "execution_count": 1,
   "metadata": {},
   "outputs": [],
   "source": [
    "\n",
    "DEM_10m_raster = r'N:\\C2205_FAIRiCUBE\\f02_data\\d050_data_WIEN\\dem\\dem_at_10m\\DEM_10m_WIEN_31256.tif'\n",
    "\n"
   ]
  },
  {
   "cell_type": "code",
   "execution_count": 11,
   "metadata": {},
   "outputs": [
    {
     "name": "stdout",
     "output_type": "stream",
     "text": [
      "end\n"
     ]
    }
   ],
   "source": [
    "# should be updated... \n",
    "import rasterio\n",
    "\n",
    "\n",
    "DEM_10m_raster = r'N:\\C2205_FAIRiCUBE\\f02_data\\d050_data_WIEN\\dem\\dem_at_10m\\DEM_10m_WIEN_31256.tif'\n",
    "reference_polygon = r\"N:\\C2205_FAIRiCUBE\\f02_data\\d050_data_WIEN\\reference_units\\GRID\\grid31256\\fishnet_100m_31256.shp\"\n",
    "\n",
    "\n",
    "# Open raster file\n",
    "\n",
    "## done by QGIS:\n",
    "\n",
    "out_dem_vector =r\"N:\\C2205_FAIRiCUBE\\f02_data\\d050_data_WIEN\\Vienna_gridded_data_collection\\100m_GRID\\Wien_DEM_by_grid100m.shp\"\n",
    "\n",
    "\n",
    "print (\"end\")\n"
   ]
  },
  {
   "cell_type": "markdown",
   "metadata": {},
   "source": [
    "produce a 100m tif from gridded vector dataset:"
   ]
  },
  {
   "cell_type": "code",
   "execution_count": 15,
   "metadata": {},
   "outputs": [
    {
     "name": "stdout",
     "output_type": "stream",
     "text": [
      "done\n"
     ]
    }
   ],
   "source": [
    "##\n",
    "\n",
    "## raster to vector using vector attriubte (working perfectly):\n",
    "\n",
    "import geopandas as gpd\n",
    "import rasterio\n",
    "from rasterio.features import rasterize\n",
    "from rasterio.transform import from_bounds\n",
    "\n",
    "# Load the polygon layer\n",
    "polygons = gpd.read_file(r\"N:\\C2205_FAIRiCUBE\\f02_data\\d050_data_WIEN\\Vienna_gridded_data_collection\\100m_GRID\\Wien_DEM_by_grid100m.shp\")\n",
    "\n",
    "output_raster = r\"N:\\C2205_FAIRiCUBE\\f02_data\\d050_data_WIEN\\Vienna_gridded_data_collection\\100m_GRID\\Wien_DEM_by_grid100m_MEAN.tif\"\n",
    "\n",
    "\n",
    "# Define the attribute to use for raster values\n",
    "attribute_to_rasterize = '_mean'\n",
    "\n",
    "# Define raster properties\n",
    "#xmin, ymin, xmax, ymax = polygons.total_bounds\n",
    "\n",
    "xmin=\t-11200\n",
    "ymin=\t331000\n",
    "xmax=\t18800\n",
    "ymax=\t354000\n",
    "\n",
    "projection ='epsg:31256'\n",
    "\n",
    "\n",
    "pixel_size = 100  # Adjust as needed\n",
    "\n",
    "\n",
    "width = int((xmax - xmin) / pixel_size)\n",
    "height = int((ymax - ymin) / pixel_size)\n",
    "transform = from_bounds(xmin, ymin, xmax, ymax, width, height)\n",
    "\n",
    "# Create an empty array to hold rasterized values\n",
    "raster_array = rasterize(\n",
    "    [(geom, value) for geom, value in zip(polygons.geometry, polygons[attribute_to_rasterize])],\n",
    "    out_shape=(height, width),\n",
    "    transform=transform,\n",
    "    fill=0,\n",
    "    all_touched=False,  # or True\n",
    "    dtype=rasterio.float32\n",
    ")\n",
    "\n",
    "# Write the raster to a GeoTIFF file\n",
    "with rasterio.open(output_raster, \"w\", driver=\"GTiff\", \n",
    "                   height=raster_array.shape[0], \n",
    "                   width=raster_array.shape[1], \n",
    "                   count=1, \n",
    "                   dtype=raster_array.dtype, \n",
    "                   crs=polygons.crs, \n",
    "                   transform=transform\n",
    "                   ) as dst:\n",
    "    dst.write(raster_array, 1)\n",
    "\n",
    "\n",
    "print (\"done\")"
   ]
  },
  {
   "cell_type": "markdown",
   "metadata": {},
   "source": [
    "Resulting 100m raster:\n",
    "![dem](images/example_100m_mean_dem.JPG)\n",
    "\n",
    "\n"
   ]
  },
  {
   "cell_type": "markdown",
   "metadata": {},
   "source": [
    "Calculate the dem statistics"
   ]
  }
 ],
 "metadata": {
  "kernelspec": {
   "display_name": "Python 3 (ipykernel)",
   "language": "python",
   "name": "python3"
  },
  "language_info": {
   "codemirror_mode": {
    "name": "ipython",
    "version": 3
   },
   "file_extension": ".py",
   "mimetype": "text/x-python",
   "name": "python",
   "nbconvert_exporter": "python",
   "pygments_lexer": "ipython3",
   "version": "3.10.9"
  }
 },
 "nbformat": 4,
 "nbformat_minor": 2
}
