{
 "cells": [
  {
   "cell_type": "markdown",
   "metadata": {},
   "source": [
    "# Unions of two vector files for Vienna in EPSG 31256 projection"
   ]
  },
  {
   "cell_type": "markdown",
   "metadata": {},
   "source": [
    "The following script helps to produce transfer vector information into the 100m Vienna GRID\n",
    "\n",
    "\n"
   ]
  },
  {
   "cell_type": "markdown",
   "metadata": {},
   "source": [
    "# 1) The next script transformed the \"Bezirke\" into 100 m cells - every 100m gets the covering \"Bezirke\" Name"
   ]
  },
  {
   "cell_type": "code",
   "execution_count": 2,
   "metadata": {},
   "outputs": [
    {
     "name": "stdout",
     "output_type": "stream",
     "text": [
      "done\n"
     ]
    }
   ],
   "source": [
    "# geometry:\n",
    "import geopandas as gpd\n",
    "\n",
    "# 1 Load GRID\n",
    "shp_100m_GRID = gpd.read_file(r\"N:\\C2205_FAIRiCUBE\\f02_data\\d050_data_WIEN\\reference_units\\GRID\\grid31256\\fishnet_100m_31256.shp\")\n",
    "# 2 LOAD \"Bezirke\"\n",
    "shp = gpd.read_file(r\"N:\\C2205_FAIRiCUBE\\f02_data\\d050_data_WIEN\\reference_units\\Bezirke\\Bezirke_31256.shp\")\n",
    "\n",
    "# Perform spatial union\n",
    "union_result = gpd.overlay(shp_100m_GRID, shp, how='union')\n",
    "\n",
    "# Save the result to a new shapefile\n",
    "union_result.to_file(r\"N:\\C2205_FAIRiCUBE\\f02_data\\d050_data_WIEN\\Vienna_gridded_data_collection\\100m_GRID\\Bezirke_100m.shp\")\n",
    "\n",
    "print (\"done\")"
   ]
  },
  {
   "cell_type": "markdown",
   "metadata": {},
   "source": [
    "Alternative: ZONAL JOIN overlay the Bezirke-layer with the 100m GRID:"
   ]
  },
  {
   "cell_type": "code",
   "execution_count": 11,
   "metadata": {},
   "outputs": [
    {
     "name": "stderr",
     "output_type": "stream",
     "text": [
      "c:\\ProgramData\\anaconda3\\lib\\site-packages\\IPython\\core\\interactiveshell.py:3400: FutureWarning: The `op` parameter is deprecated and will be removed in a future release. Please use the `predicate` parameter instead.\n",
      "  if await self.run_code(code, result, async_=asy):\n",
      "C:\\Users\\ManuelLöhnertz\\AppData\\Local\\Temp\\ipykernel_28576\\3281548056.py:25: UserWarning: Column names longer than 10 characters will be truncated when saved to ESRI Shapefile.\n",
      "  joined_data.to_file(output_shp)\n"
     ]
    },
    {
     "name": "stdout",
     "output_type": "stream",
     "text": [
      "done\n"
     ]
    }
   ],
   "source": [
    "## zonal join:\n",
    "\n",
    "import geopandas as gpd\n",
    "\n",
    "# Load the point and polygon shapefiles\n",
    "points = gpd.read_file(r\"N:\\C2205_FAIRiCUBE\\f02_data\\d050_data_WIEN\\reference_units\\GRID\\grid31256\\fishnet_100m_31256_points.shp\")\n",
    "\n",
    "\n",
    "polygons = gpd.read_file(r\"N:\\C2205_FAIRiCUBE\\f02_data\\d050_data_WIEN\\reference_units\\Bezirke\\Bezirke_31256.shp\")\n",
    "\n",
    "output_shp = r\"N:\\C2205_FAIRiCUBE\\f02_data\\d050_data_WIEN\\Vienna_gridded_data_collection\\100m_GRID\\Bezirke_100m_points.shp\"\n",
    "\n",
    "# Perform the zonal join\n",
    "joined_data = gpd.sjoin(points, polygons, how=\"left\", op=\"within\")\n",
    "\n",
    "# 'left' indicates that we want to keep all points, even if they don't intersect with any polygon\n",
    "# 'op=\"within\"' indicates that we want to find points that fall within the polygons\n",
    "\n",
    "# Remove points where index_right is NaN\n",
    "joined_data = joined_data.dropna(subset=['index_right'])\n",
    "\n",
    "\n",
    "# Display or manipulate the joined data as needed\n",
    "#print(joined_data.head())\n",
    "\n",
    "# Save the joined data to a new shapefile if necessary\n",
    "joined_data.to_file(output_shp)\n",
    "print (\"done\")"
   ]
  },
  {
   "cell_type": "markdown",
   "metadata": {},
   "source": [
    "# 2) If needed, the following code produce a raster from the grid"
   ]
  },
  {
   "cell_type": "code",
   "execution_count": 20,
   "metadata": {},
   "outputs": [
    {
     "name": "stdout",
     "output_type": "stream",
     "text": [
      "done\n"
     ]
    },
    {
     "name": "stderr",
     "output_type": "stream",
     "text": [
      "C:\\Users\\ManuelLöhnertz\\AppData\\Local\\Temp\\ipykernel_28576\\496379565.py:68: FionaDeprecationWarning: Collection.__next__() is buggy and will be removed in Fiona 2.0. Switch to `next(iter(collection))`.\n",
      "  geom = shape(next(src)['geometry'])  # take first feature's shapely geometry\n",
      "C:\\Users\\ManuelLöhnertz\\AppData\\Roaming\\Python\\Python310\\site-packages\\rasterio\\__init__.py:331: NotGeoreferencedWarning: Dataset has no geotransform, gcps, or rpcs. The identity matrix will be returned.\n",
      "  dataset = writer(\n"
     ]
    }
   ],
   "source": [
    "#https://gist.github.com/perrygeo/721040f8545272832a42\n",
    "\n",
    "import rasterio\n",
    "import fiona\n",
    "import numpy as np\n",
    "from rasterio import features\n",
    "from affine import Affine\n",
    "from shapely.geometry import shape, box\n",
    "\n",
    "\n",
    "\n",
    "################################################################## INPUT\n",
    "\n",
    "input_vector_polygon = r\"N:\\C2205_FAIRiCUBE\\f02_data\\d050_data_WIEN\\Vienna_gridded_data_collection\\100m_GRID\\Bezirke_100m.shp\"\n",
    "#resolution = 100 # pixel size in m\n",
    "output_raster_tif = r\"N:\\C2205_FAIRiCUBE\\f02_data\\d050_data_WIEN\\Vienna_gridded_data_collection\\100m_GRID\\Bezirke_100m2.tif\"\n",
    "\n",
    "attribute_name = 'BEZNR'\n",
    "\n",
    "##################################################################\n",
    "\n",
    "\n",
    "def _rasterize_geom(geom, shape, affinetrans, all_touched):\n",
    "    indata = [(geom, 1)]\n",
    "    rv_array = features.rasterize(\n",
    "        indata,\n",
    "        out_shape=shape,\n",
    "        transform=affinetrans,\n",
    "        fill=0,\n",
    "        all_touched=all_touched)\n",
    "    return rv_array\n",
    "\n",
    "\n",
    "def rasterize_pctcover(geom, atrans, shape):\n",
    "    alltouched = _rasterize_geom(geom, shape, atrans, all_touched=True)\n",
    "    exterior = _rasterize_geom(geom.exterior, shape, atrans, all_touched=True)\n",
    "\n",
    "    # Create percent cover grid as the difference between them\n",
    "    # at this point all cells are known 100% coverage,\n",
    "    # we'll update this array for exterior points\n",
    "    pctcover = (alltouched - exterior) * 100\n",
    "\n",
    "    # loop through indicies of all exterior cells\n",
    "    for r, c in zip(*np.where(exterior == 1)):\n",
    "\n",
    "        # Find cell bounds, from rasterio DatasetReader.window_bounds\n",
    "        window = ((r, r+1), (c, c+1))\n",
    "        ((row_min, row_max), (col_min, col_max)) = window\n",
    "        x_min, y_min = (col_min, row_max) * atrans\n",
    "        x_max, y_max = (col_max, row_min) * atrans\n",
    "        bounds = (x_min, y_min, x_max, y_max)\n",
    "\n",
    "        # Construct shapely geometry of cell\n",
    "        cell = box(*bounds)\n",
    "\n",
    "        # Intersect with original shape\n",
    "        cell_overlap = cell.intersection(geom)\n",
    "\n",
    "        # update pctcover with percentage based on area proportion\n",
    "        coverage = cell_overlap.area / cell.area\n",
    "        pctcover[r, c] = int(coverage * 100)\n",
    "\n",
    "    return pctcover\n",
    "\n",
    "\n",
    "if __name__ == \"__main__\":\n",
    "    with fiona.open(input_vector_polygon) as src:\n",
    "        geom = shape(next(src)['geometry'])  # take first feature's shapely geometry\n",
    "\n",
    "    scale = 100\n",
    "    atrans = Affine(1.0 / scale, 0.0, 0.0, 0.0, -1.0 / scale, 5.0)\n",
    "    shape = (5 * scale, 5 * scale)\n",
    "    profile = {\n",
    "        'affine': atrans,\n",
    "        'height': shape[0],\n",
    "        'width': shape[1],\n",
    "        'count': 1,\n",
    "        'crs': {},\n",
    "        'driver': 'GTiff',\n",
    "        'dtype': 'uint8',\n",
    "        'nodata': None,\n",
    "        'tiled': False}\n",
    "\n",
    "    pctcover = rasterize_pctcover(geom, atrans=atrans, shape=shape)\n",
    "    with rasterio.open(output_raster_tif, 'w', **profile) as dst:\n",
    "        dst.write(pctcover, 1)\n",
    "\n",
    "\n",
    "print (\"done\")"
   ]
  }
 ],
 "metadata": {
  "kernelspec": {
   "display_name": "Python 3 (ipykernel)",
   "language": "python",
   "name": "python3"
  },
  "language_info": {
   "codemirror_mode": {
    "name": "ipython",
    "version": 3
   },
   "file_extension": ".py",
   "mimetype": "text/x-python",
   "name": "python",
   "nbconvert_exporter": "python",
   "pygments_lexer": "ipython3",
   "version": "3.10.9"
  }
 },
 "nbformat": 4,
 "nbformat_minor": 2
}
