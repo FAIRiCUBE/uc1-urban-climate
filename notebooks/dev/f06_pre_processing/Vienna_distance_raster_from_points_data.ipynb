{
 "cells": [
  {
   "cell_type": "markdown",
   "metadata": {},
   "source": [
    "# 1) Prodcue distance raster from point data"
   ]
  },
  {
   "cell_type": "markdown",
   "metadata": {},
   "source": [
    "## 1.1 points inside 100m grid"
   ]
  },
  {
   "cell_type": "code",
   "execution_count": 5,
   "metadata": {},
   "outputs": [
    {
     "name": "stderr",
     "output_type": "stream",
     "text": [
      "C:\\ProgramData\\anaconda3\\lib\\site-packages\\IPython\\core\\interactiveshell.py:3400: FutureWarning: The `op` parameter is deprecated and will be removed in a future release. Please use the `predicate` parameter instead.\n",
      "  if await self.run_code(code, result, async_=asy):\n",
      "C:\\Users\\ManuelLöhnertz\\AppData\\Local\\Temp\\ipykernel_2504\\3321701658.py:20: UserWarning: Column names longer than 10 characters will be truncated when saved to ESRI Shapefile.\n",
      "  selected_polygons.to_file(output_grid_cell_with_points_inside , overwrite=True)\n"
     ]
    },
    {
     "name": "stdout",
     "output_type": "stream",
     "text": [
      "done\n"
     ]
    }
   ],
   "source": [
    "\n",
    "## point to overlay with gridcell\n",
    "\n",
    "\n",
    "import geopandas as gpd\n",
    "\n",
    "# Load the polygon and point layers\n",
    "polygons = gpd.read_file(r\"N:\\C2205_FAIRiCUBE\\f02_data\\d050_data_WIEN\\reference_units\\GRID\\grid31256\\fishnet_100m_31256.shp\")\n",
    "points =   gpd.read_file(r'N:\\C2205_FAIRiCUBE\\f02_data\\d050_data_WIEN\\sammelstellen\\Altstoffsammelstellen_BIO_und_Mistplaetze_points_31256.shp')\n",
    "\n",
    "output_grid_cell_with_points_inside = r'N:\\C2205_FAIRiCUBE\\f02_data\\d050_data_WIEN\\Vienna_gridded_data_collection\\100m_GRID\\Bio_sammel_mistplaetze_100m.shp'\n",
    "\n",
    "\n",
    "# Perform spatial join to find polygons covered by points\n",
    "selected_polygons = gpd.sjoin(polygons, points, how=\"inner\", op=\"contains\")\n",
    "\n",
    "# Display or manipulate the selected polygons as needed\n",
    "#print(selected_polygons.head())\n",
    "\n",
    "# Save the selected polygons to a new shapefile if necessary\n",
    "selected_polygons.to_file(output_grid_cell_with_points_inside , overwrite=True)\n",
    "\n",
    "\n",
    "\n",
    "## add some new attriubtes to output-shp:\n",
    "\n",
    "gdf = gpd.read_file(output_grid_cell_with_points_inside)\n",
    "# Define the values for the new attribute\n",
    "gdf['raster_att'] = 1\n",
    "\n",
    "#new_values = ['1']  # List of values corresponding to each feature in the shapefile\n",
    "# Add the new attribute\n",
    "#gdf['raster_att'] = new_values\n",
    "gdf.to_file(output_grid_cell_with_points_inside , overwrite=True)\n",
    "print (\"done\")\n"
   ]
  },
  {
   "cell_type": "markdown",
   "metadata": {},
   "source": [
    "# 1.2 raster from the resulting grids"
   ]
  },
  {
   "cell_type": "code",
   "execution_count": 10,
   "metadata": {},
   "outputs": [
    {
     "name": "stdout",
     "output_type": "stream",
     "text": [
      "done\n"
     ]
    }
   ],
   "source": [
    "##\n",
    "\n",
    "## raster to vector using vector attriubte (working perfectly):\n",
    "\n",
    "import geopandas as gpd\n",
    "import rasterio\n",
    "from rasterio.features import rasterize\n",
    "from rasterio.transform import from_bounds\n",
    "\n",
    "# Load the polygon layer\n",
    "polygons = gpd.read_file(r'N:\\C2205_FAIRiCUBE\\f02_data\\d050_data_WIEN\\Vienna_gridded_data_collection\\100m_GRID\\Bio_sammel_mistplaetze_100m.shp')\n",
    "\n",
    "output_raster = r'N:\\C2205_FAIRiCUBE\\f02_data\\d050_data_WIEN\\Vienna_gridded_data_collection\\100m_GRID\\Bio_sammel_mistplaetze_100m.tif'\n",
    "\n",
    "\n",
    "# Define the attribute to use for raster values\n",
    "attribute_to_rasterize = 'raster_att'\n",
    "\n",
    "# Define raster properties\n",
    "#xmin, ymin, xmax, ymax = polygons.total_bounds\n",
    "\n",
    "xmin=\t-11200\n",
    "ymin=\t331000\n",
    "xmax=\t18800\n",
    "ymax=\t354000\n",
    "\n",
    "projection ='epsg:31256'\n",
    "\n",
    "\n",
    "pixel_size = 100  # Adjust as needed\n",
    "\n",
    "\n",
    "width = int((xmax - xmin) / pixel_size)\n",
    "height = int((ymax - ymin) / pixel_size)\n",
    "transform = from_bounds(xmin, ymin, xmax, ymax, width, height)\n",
    "\n",
    "# Create an empty array to hold rasterized values\n",
    "raster_array = rasterize(\n",
    "    [(geom, value) for geom, value in zip(polygons.geometry, polygons[attribute_to_rasterize])],\n",
    "    out_shape=(height, width),\n",
    "    transform=transform,\n",
    "    fill=0,\n",
    "    all_touched=False,  # or True\n",
    "    dtype=rasterio.uint8\n",
    ")\n",
    "\n",
    "# Write the raster to a GeoTIFF file\n",
    "with rasterio.open(output_raster, \"w\", driver=\"GTiff\", \n",
    "                   height=raster_array.shape[0], \n",
    "                   width=raster_array.shape[1], \n",
    "                   count=1, \n",
    "                   dtype=raster_array.dtype, \n",
    "                   crs=polygons.crs, \n",
    "                   transform=transform\n",
    "                   ) as dst:\n",
    "    dst.write(raster_array, 1)\n",
    "\n",
    "\n",
    "print (\"done\")"
   ]
  },
  {
   "cell_type": "markdown",
   "metadata": {},
   "source": [
    "# 2) Calculation the distance of every raster cell to the nearest raster cell with value (1 = location of biotonne)"
   ]
  },
  {
   "cell_type": "code",
   "execution_count": 11,
   "metadata": {},
   "outputs": [
    {
     "name": "stdout",
     "output_type": "stream",
     "text": [
      "done\n"
     ]
    }
   ],
   "source": [
    "## calc. \n",
    "# The gdal_proximity.py script generates a raster proximity map indicating the distance from the center of each pixel \n",
    "# to the center of the nearest pixel identified as a target pixel. \n",
    "# Target pixels are those in the source raster for which the raster pixel value is in the set of target pixel values.\n",
    "# https://gdal.org/programs/gdal_proximity.html\n",
    "\n",
    "import subprocess\n",
    "\n",
    "# Full path to gdal_proximity.py\n",
    "gdal_proximity_path = r\"C:\\ProgramData\\anaconda3\\Scripts\\gdal_proximity.py\"\n",
    "\n",
    "# Input and output filenames\n",
    "input_raster =  r'N:\\C2205_FAIRiCUBE\\f02_data\\d050_data_WIEN\\Vienna_gridded_data_collection\\100m_GRID\\Bio_sammel_mistplaetze_100m2.tif'\n",
    "output_raster =  r'N:\\C2205_FAIRiCUBE\\f02_data\\d050_data_WIEN\\Vienna_gridded_data_collection\\100m_GRID\\Bio_sammel_mistplaetze_100m_distance_raster2.tif'\n",
    "\n",
    "\n",
    "# Command to run gdal_proximity.py\n",
    "cmd = [\"python\", gdal_proximity_path, input_raster, output_raster]\n",
    "\n",
    "# Run the command\n",
    "subprocess.run(cmd)\n",
    "\n",
    "print (\"done\")\n"
   ]
  },
  {
   "cell_type": "markdown",
   "metadata": {},
   "source": [
    "# normalized values:"
   ]
  },
  {
   "cell_type": "code",
   "execution_count": 12,
   "metadata": {},
   "outputs": [
    {
     "name": "stdout",
     "output_type": "stream",
     "text": [
      "Shape of raster values array: (230, 300)\n",
      "Minimum value: 0.0\n",
      "Maximum value: 104.23531\n",
      "Raster file written successfully: N:\\C2205_FAIRiCUBE\\f02_data\\d050_data_WIEN\\Vienna_gridded_data_collection\\100m_GRID\\Bio_sammel_mistplaetze_100m_distance_raster_lin_NORM02.tif\n"
     ]
    }
   ],
   "source": [
    "import numpy as np\n",
    "import rasterio\n",
    "\n",
    "\n",
    "import rasterio\n",
    "from rasterio.transform import from_origin\n",
    "from rasterio import Affine\n",
    "\n",
    "\n",
    "input_distance_raster = r'N:\\C2205_FAIRiCUBE\\f02_data\\d050_data_WIEN\\Vienna_gridded_data_collection\\100m_GRID\\Bio_sammel_mistplaetze_100m_distance_raster2.tif'\n",
    "# Define the output file path\n",
    "output_file = r'N:\\C2205_FAIRiCUBE\\f02_data\\d050_data_WIEN\\Vienna_gridded_data_collection\\100m_GRID\\Bio_sammel_mistplaetze_100m_distance_raster_lin_NORM02.tif'\n",
    "pixel_size = 100\n",
    "\n",
    "# Open the GeoTIFF file\n",
    "with rasterio.open(input_distance_raster) as src:\n",
    "    # Read the raster values\n",
    "    raster_values = src.read(1)  # Change the band index if necessary\n",
    "\n",
    "    # Print the shape of the raster values array\n",
    "    print(\"Shape of raster values array:\", raster_values.shape)\n",
    "\n",
    "    # Print the minimum and maximum values of the raster\n",
    "    print(\"Minimum value:\", raster_values.min())\n",
    "    print(\"Maximum value:\", raster_values.max())\n",
    "\n",
    "\n",
    "    # Example raster values\n",
    "    #raster_values = np.random.randint(0, 232343, size=(100, 100))  # Replace with your actual raster values\n",
    "\n",
    "    # Min-max normalization\n",
    "    min_val = np.min(raster_values.min())\n",
    "    max_val = np.max( raster_values.max())\n",
    "    normalized_values = 1-((raster_values - min_val) / (max_val - min_val) )  # tonne = 1 \n",
    "\n",
    "    # Verify the range of normalized values (should be between 0 and 1)\n",
    "    #min_normalized = np.min(normalized_values)\n",
    "    #max_normalized = np.max(normalized_values)\n",
    "    #print(\"Min normalized value:\", min_normalized)\n",
    "    #print(\"Max normalized value:\", max_normalized)\n",
    "\n",
    "\n",
    "\n",
    "    # Define the transformation parameters based on the dimensions of the raster and pixel size\n",
    "    # Adjust these parameters according to your raster dimensions and pixel size\n",
    "    transform = from_origin(0, 0, pixel_size, pixel_size)\n",
    "\n",
    "    # Create a raster profile\n",
    "    profile = src.profile\n",
    "\n",
    "    # Write the normalized values to the raster file\n",
    "    with rasterio.open(output_file, 'w', **profile) as dst:\n",
    "        dst.write(normalized_values, 1)  # Write the data to the first band\n",
    "\n",
    "print(\"Raster file written successfully:\", output_file)"
   ]
  },
  {
   "cell_type": "markdown",
   "metadata": {},
   "source": [
    "The follwowing image shows the final distance raster wiht normalized raster values from 0-1. The location of a biotonne hast the\n",
    "raster value 1.  The pixel value decreases with increasing distance from the bins.\n",
    "\n",
    "![distance](images/example_distance_raster.JPG)"
   ]
  }
 ],
 "metadata": {
  "kernelspec": {
   "display_name": "Python 3 (ipykernel)",
   "language": "python",
   "name": "python3"
  }
 },
 "nbformat": 4,
 "nbformat_minor": 2
}
