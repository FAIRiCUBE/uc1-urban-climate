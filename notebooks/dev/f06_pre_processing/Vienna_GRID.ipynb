{
 "cells": [
  {
   "cell_type": "markdown",
   "metadata": {},
   "source": [
    "# Creating and updating 100m & 1km GRIDs for Vienna in EPSG 31256 projection"
   ]
  },
  {
   "cell_type": "markdown",
   "metadata": {},
   "source": [
    "The following script helps to produce and update GRID files in vector (polygon, lines, points) format\n",
    "infos: Manuel\n",
    "\n",
    "\n"
   ]
  },
  {
   "cell_type": "markdown",
   "metadata": {},
   "source": [
    "read the lib"
   ]
  },
  {
   "cell_type": "code",
   "execution_count": 2,
   "metadata": {},
   "outputs": [],
   "source": [
    "# geometry:\n",
    "import geopandas as gpd\n",
    "import re\n",
    "from shapely.geometry import Point\n",
    "from shapely.geometry import Polygon\n",
    "from shapely.wkt import loads\n",
    "#import geodatasets\n",
    "import matplotlib.pyplot as plt\n",
    "import rasterio\n",
    "from rasterio import features\n",
    "from rasterio.features import rasterize\n",
    "from rasterio.transform import from_bounds\n",
    "from rasterio import Affine"
   ]
  },
  {
   "cell_type": "raw",
   "metadata": {
    "vscode": {
     "languageId": "raw"
    }
   },
   "source": [
    "INFO:\n",
    "\n",
    "1) Defining a cell code identifier for the 100m grid:\n",
    "\n",
    "[GRID100mID]\n",
    " 'EPSG31256_GRID_100m_E[bottom_left_X_coordinate]N[bottom_left_Y_coordinate]'\n",
    "In QGIS - field calculator:\n",
    "'EPSG31256_GRID_100m_E'+to_string( \"left\")+'N'+to_string( \"bottom\")\n",
    "\n",
    "-------------------------------------------------------------------------------------------------------------\n",
    "Used Projection and EXTEND\tversion 4\n",
    "CRS\tMGI / Austria GK East  (EPSG:31256) https://epsg.io/31256\n",
    "grid resolution\t100m\n",
    "bounding box:\t-11200,331000 : 18800,354000\n",
    "x_min=\t-11200\n",
    "y_min=\t331000\n",
    "x_max=\t18800\n",
    "y_max=\t354000\n",
    "number of grid cells\t\n",
    "-------------------------------------------------------------------------------------------------------------\n",
    "\n",
    "SHP version:\n",
    "fishnet.to_file(r\"N:\\C2205_FAIRiCUBE\\f02_data\\d050_data_WIEN\\reference_units\\GRID\\grid31256\\fishnet_100m_31256.shp\")\n",
    "\n",
    "-------------------------------------------------------------------------------------------------------------\n",
    "Attribute table:\n",
    "\n",
    "id\t     left\ttop  \tright\tbottom\tGRID100mID\n",
    "---------------------------------------------------------------------------\n",
    "2977\t-10000\t331100\t-9900\t331000\tEPSG31256_GRID_100m_E-10000N331000\n",
    "2976\t-10000\t331200\t-9900\t331100\tEPSG31256_GRID_100m_E-10000N331100\n",
    "2975\t-10000\t331300\t-9900\t331200\tEPSG31256_GRID_100m_E-10000N331200\n",
    "2974\t-10000\t331400\t-9900\t331300\tEPSG31256_GRID_100m_E-10000N331300\n"
   ]
  },
  {
   "cell_type": "markdown",
   "metadata": {},
   "source": [
    "# (0) Define Extent of the GRIDS:\n",
    "\n",
    "- bounding box:\t-11200,331000 : 18800,354000\n",
    "- x_min=\t-11200\n",
    "- y_min=\t331000\n",
    "- x_max=\t18800\n",
    "- y_max=\t354000"
   ]
  },
  {
   "cell_type": "code",
   "execution_count": 34,
   "metadata": {},
   "outputs": [],
   "source": [
    "# Set up extent & projection for the next calculations:"
   ]
  },
  {
   "cell_type": "code",
   "execution_count": 3,
   "metadata": {},
   "outputs": [],
   "source": [
    "# (1) Building 100m GRID with GRID ID in the attribute table:\n",
    "\n",
    "x_min=\t-11200\n",
    "y_min=\t331000\n",
    "x_max=\t18800\n",
    "y_max=\t354000\n",
    "\n",
    "projection ='epsg:31256'"
   ]
  },
  {
   "cell_type": "code",
   "execution_count": 36,
   "metadata": {},
   "outputs": [
    {
     "name": "stderr",
     "output_type": "stream",
     "text": [
      "C:\\Users\\ManuelLöhnertz\\AppData\\Roaming\\Python\\Python310\\site-packages\\pyproj\\crs\\crs.py:141: FutureWarning: '+init=<authority>:<code>' syntax is deprecated. '<authority>:<code>' is the preferred initialization method. When making the change, be mindful of axis order changes: https://pyproj4.github.io/pyproj/stable/gotchas.html#axis-order-changes-in-proj-6\n",
      "  in_crs_string = _prepare_from_proj_string(in_crs_string)\n"
     ]
    },
    {
     "name": "stdout",
     "output_type": "stream",
     "text": [
      "          EAST     NORTH                          GRID100mID  \\\n",
      "0     -11200.0  331000.0  EPSG31256_GRID_100m_E-11200N331000   \n",
      "1     -11200.0  331100.0  EPSG31256_GRID_100m_E-11200N331100   \n",
      "2     -11200.0  331200.0  EPSG31256_GRID_100m_E-11200N331200   \n",
      "3     -11200.0  331300.0  EPSG31256_GRID_100m_E-11200N331300   \n",
      "4     -11200.0  331400.0  EPSG31256_GRID_100m_E-11200N331400   \n",
      "...        ...       ...                                 ...   \n",
      "68995  18700.0  353500.0   EPSG31256_GRID_100m_E18700N353500   \n",
      "68996  18700.0  353600.0   EPSG31256_GRID_100m_E18700N353600   \n",
      "68997  18700.0  353700.0   EPSG31256_GRID_100m_E18700N353700   \n",
      "68998  18700.0  353800.0   EPSG31256_GRID_100m_E18700N353800   \n",
      "68999  18700.0  353900.0   EPSG31256_GRID_100m_E18700N353900   \n",
      "\n",
      "                                                geometry  \n",
      "0      POLYGON ((-11200.000 331000.000, -11100.000 33...  \n",
      "1      POLYGON ((-11200.000 331100.000, -11100.000 33...  \n",
      "2      POLYGON ((-11200.000 331200.000, -11100.000 33...  \n",
      "3      POLYGON ((-11200.000 331300.000, -11100.000 33...  \n",
      "4      POLYGON ((-11200.000 331400.000, -11100.000 33...  \n",
      "...                                                  ...  \n",
      "68995  POLYGON ((18700.000 353500.000, 18800.000 3535...  \n",
      "68996  POLYGON ((18700.000 353600.000, 18800.000 3536...  \n",
      "68997  POLYGON ((18700.000 353700.000, 18800.000 3537...  \n",
      "68998  POLYGON ((18700.000 353800.000, 18800.000 3538...  \n",
      "68999  POLYGON ((18700.000 353900.000, 18800.000 3539...  \n",
      "\n",
      "[69000 rows x 4 columns]\n",
      "done\n"
     ]
    }
   ],
   "source": [
    "import geopandas as gpd\n",
    "from shapely.geometry import Polygon\n",
    "\n",
    "def create_fishnet(extent, grid_size):\n",
    "    minx, miny, maxx, maxy = extent\n",
    "    polygons = []\n",
    "    for x in range(int(minx), int(maxx), grid_size):\n",
    "        for y in range(int(miny), int(maxy), grid_size):\n",
    "            polygon = Polygon([(x, y), (x+grid_size, y), (x+grid_size, y+grid_size), (x, y+grid_size)])\n",
    "            left, bottom, right, top = polygon.bounds\n",
    "            attributes = {'EAST': left, 'NORTH': bottom}\n",
    "            grid_id = 'EPSG31256_GRID_100m_E{}N{}'.format(int(left), int(bottom))\n",
    "            attributes['GRID100mID'] = grid_id\n",
    "            polygons.append((polygon, attributes))\n",
    "    return gpd.GeoDataFrame(geometry=[poly[0] for poly in polygons], data=[poly[1] for poly in polygons])\n",
    "\n",
    "\n",
    "# Example extent (xmin, ymin, xmax, ymax) and grid size in degrees\n",
    "#x_min=\t-11200\n",
    "#y_min=\t331000\n",
    "#x_max=\t18800\n",
    "#y_max=\t354000\n",
    "extent = (x_min, y_min, x_max, y_max)\n",
    "grid_size = 100\n",
    "\n",
    "fishnet = create_fishnet(extent, grid_size)\n",
    "#projection ='epsg:31256'\n",
    "fishnet.crs = {'init': projection}  # Assigning CRS, adjust as per your data\n",
    "\n",
    "# Save to file or display\n",
    "# fishnet.to_file(\"fishnet.shp\")\n",
    "print(fishnet)\n",
    "\n",
    "# Save to shapefile\n",
    "fishnet.to_file(r\"N:\\C2205_FAIRiCUBE\\f02_data\\d050_data_WIEN\\reference_units\\GRID\\grid31256\\fishnet_100m_31256.shp\")\n",
    "\n",
    "print (\"done\")"
   ]
  },
  {
   "cell_type": "markdown",
   "metadata": {},
   "source": [
    "# (2) Building 100m GRID with GRID ID in the attribute table as point layer"
   ]
  },
  {
   "cell_type": "code",
   "execution_count": 38,
   "metadata": {},
   "outputs": [
    {
     "name": "stderr",
     "output_type": "stream",
     "text": [
      "C:\\Users\\ManuelLöhnertz\\AppData\\Roaming\\Python\\Python310\\site-packages\\pyproj\\crs\\crs.py:141: FutureWarning: '+init=<authority>:<code>' syntax is deprecated. '<authority>:<code>' is the preferred initialization method. When making the change, be mindful of axis order changes: https://pyproj4.github.io/pyproj/stable/gotchas.html#axis-order-changes-in-proj-6\n",
      "  in_crs_string = _prepare_from_proj_string(in_crs_string)\n"
     ]
    },
    {
     "name": "stdout",
     "output_type": "stream",
     "text": [
      "done\n"
     ]
    }
   ],
   "source": [
    "# points\n",
    "import geopandas as gpd\n",
    "from shapely.geometry import Polygon, Point\n",
    "\n",
    "def create_fishnet(extent, grid_size):\n",
    "    minx, miny, maxx, maxy = extent\n",
    "    polygons = []\n",
    "    for x in range(int(minx), int(maxx), grid_size):\n",
    "        for y in range(int(miny), int(maxy), grid_size):\n",
    "            polygon = Polygon([(x, y), (x+grid_size, y), (x+grid_size, y+grid_size), (x, y+grid_size)])\n",
    "            left, bottom, right, top = polygon.bounds\n",
    "            attributes = {'EAST': left, 'NORTH': bottom}\n",
    "            #attributes = {'left': left, 'bottom': bottom, 'right': right, 'top': top}\n",
    "            grid_id = 'EPSG31256_GRID_100m_E{}N{}'.format(int(left), int(bottom))\n",
    "            attributes['GRID100mID'] = grid_id\n",
    "            polygons.append((polygon, attributes))\n",
    "    return gpd.GeoDataFrame(geometry=[poly[0] for poly in polygons], data=[poly[1] for poly in polygons])\n",
    "\n",
    "def calculate_center_points(fishnet):\n",
    "    center_points = fishnet['geometry'].centroid\n",
    "    #attributes = fishnet[['left', 'bottom', 'right', 'top', 'GRID100mID']]\n",
    "    attributes = fishnet[['EAST', 'NORTH', 'GRID100mID']]\n",
    "    \n",
    "    center_points_gdf = gpd.GeoDataFrame(geometry=center_points, data=attributes)\n",
    "    return center_points_gdf\n",
    "\n",
    "# Example extent (xmin, ymin, xmax, ymax) and grid size in degrees\n",
    "#x_min=\t-11200\n",
    "#y_min=\t331000\n",
    "#x_max=\t18800\n",
    "#y_max=\t354000\n",
    "extent = (x_min, y_min, x_max, y_max)\n",
    "grid_size = 100\n",
    "\n",
    "fishnet = create_fishnet(extent, grid_size)\n",
    "fishnet.crs = {'init': projection}  # Assigning CRS, adjust as per your data\n",
    "#fishnet.crs = {'init': 'epsg:31256'}  # Assigning CRS, adjust as per your data\n",
    "\n",
    "center_points = calculate_center_points(fishnet)\n",
    "\n",
    "# Save center points to shapefile\n",
    "center_points.to_file(r\"N:\\C2205_FAIRiCUBE\\f02_data\\d050_data_WIEN\\reference_units\\GRID\\grid31256\\fishnet_100m_31256_points.shp\")\n",
    "\n",
    "print (\"done\")\n",
    "\n"
   ]
  },
  {
   "cell_type": "markdown",
   "metadata": {},
   "source": [
    "# (3) Building 1km GRID with GRID ID in the attribute table:"
   ]
  },
  {
   "cell_type": "code",
   "execution_count": 40,
   "metadata": {},
   "outputs": [
    {
     "name": "stderr",
     "output_type": "stream",
     "text": [
      "C:\\Users\\ManuelLöhnertz\\AppData\\Roaming\\Python\\Python310\\site-packages\\pyproj\\crs\\crs.py:141: FutureWarning: '+init=<authority>:<code>' syntax is deprecated. '<authority>:<code>' is the preferred initialization method. When making the change, be mindful of axis order changes: https://pyproj4.github.io/pyproj/stable/gotchas.html#axis-order-changes-in-proj-6\n",
      "  in_crs_string = _prepare_from_proj_string(in_crs_string)\n"
     ]
    },
    {
     "name": "stdout",
     "output_type": "stream",
     "text": [
      "        EAST     NORTH                          GRID1kmID  \\\n",
      "0   -11200.0  331000.0  EPSG31256_GRID_1km_E-11200N331000   \n",
      "1   -11200.0  332000.0  EPSG31256_GRID_1km_E-11200N332000   \n",
      "2   -11200.0  333000.0  EPSG31256_GRID_1km_E-11200N333000   \n",
      "3   -11200.0  334000.0  EPSG31256_GRID_1km_E-11200N334000   \n",
      "4   -11200.0  335000.0  EPSG31256_GRID_1km_E-11200N335000   \n",
      "..       ...       ...                                ...   \n",
      "685  17800.0  349000.0   EPSG31256_GRID_1km_E17800N349000   \n",
      "686  17800.0  350000.0   EPSG31256_GRID_1km_E17800N350000   \n",
      "687  17800.0  351000.0   EPSG31256_GRID_1km_E17800N351000   \n",
      "688  17800.0  352000.0   EPSG31256_GRID_1km_E17800N352000   \n",
      "689  17800.0  353000.0   EPSG31256_GRID_1km_E17800N353000   \n",
      "\n",
      "                                              geometry  \n",
      "0    POLYGON ((-11200.000 331000.000, -10200.000 33...  \n",
      "1    POLYGON ((-11200.000 332000.000, -10200.000 33...  \n",
      "2    POLYGON ((-11200.000 333000.000, -10200.000 33...  \n",
      "3    POLYGON ((-11200.000 334000.000, -10200.000 33...  \n",
      "4    POLYGON ((-11200.000 335000.000, -10200.000 33...  \n",
      "..                                                 ...  \n",
      "685  POLYGON ((17800.000 349000.000, 18800.000 3490...  \n",
      "686  POLYGON ((17800.000 350000.000, 18800.000 3500...  \n",
      "687  POLYGON ((17800.000 351000.000, 18800.000 3510...  \n",
      "688  POLYGON ((17800.000 352000.000, 18800.000 3520...  \n",
      "689  POLYGON ((17800.000 353000.000, 18800.000 3530...  \n",
      "\n",
      "[690 rows x 4 columns]\n",
      "done\n"
     ]
    }
   ],
   "source": [
    "import geopandas as gpd\n",
    "from shapely.geometry import Polygon\n",
    "\n",
    "def create_fishnet(extent, grid_size):\n",
    "    minx, miny, maxx, maxy = extent\n",
    "    polygons = []\n",
    "    for x in range(int(minx), int(maxx), grid_size):\n",
    "        for y in range(int(miny), int(maxy), grid_size):\n",
    "            polygon = Polygon([(x, y), (x+grid_size, y), (x+grid_size, y+grid_size), (x, y+grid_size)])\n",
    "            left, bottom, right, top = polygon.bounds\n",
    "            #attributes = {'left': left, 'bottom': bottom, 'right': right, 'top': top}\n",
    "            attributes = {'EAST': left, 'NORTH': bottom}\n",
    "            grid_id = 'EPSG31256_GRID_1km_E{}N{}'.format(int(left), int(bottom))\n",
    "            attributes['GRID1kmID'] = grid_id\n",
    "            polygons.append((polygon, attributes))\n",
    "    return gpd.GeoDataFrame(geometry=[poly[0] for poly in polygons], data=[poly[1] for poly in polygons])\n",
    "\n",
    "\n",
    "\n",
    "# Example extent (xmin, ymin, xmax, ymax) and grid size in degrees\n",
    "#x_min=\t-11200\n",
    "#y_min=\t331000\n",
    "#x_max=\t18300\n",
    "#y_max=\t353900\n",
    "extent = (x_min, y_min, x_max, y_max)\n",
    "grid_size = 1000 # 1km\n",
    "\n",
    "fishnet = create_fishnet(extent, grid_size)\n",
    "fishnet.crs = {'init': projection}  # Assigning CRS, adjust as per your data\n",
    "#fishnet.crs = {'init': 'epsg:31256'}  # Assigning CRS, adjust as per your data\n",
    "\n",
    "# Save to file or display\n",
    "# fishnet.to_file(\"fishnet.shp\")\n",
    "print(fishnet)\n",
    "\n",
    "# Save to shapefile\n",
    "fishnet.to_file(r\"N:\\C2205_FAIRiCUBE\\f02_data\\d050_data_WIEN\\reference_units\\GRID\\grid31256\\fishnet_1km_31256.shp\")\n",
    "print (\"done\")"
   ]
  },
  {
   "cell_type": "markdown",
   "metadata": {},
   "source": [
    "# (4) Building 1km GRID with GRID ID in the attribute table as point layer"
   ]
  },
  {
   "cell_type": "code",
   "execution_count": 42,
   "metadata": {},
   "outputs": [
    {
     "name": "stderr",
     "output_type": "stream",
     "text": [
      "C:\\Users\\ManuelLöhnertz\\AppData\\Roaming\\Python\\Python310\\site-packages\\pyproj\\crs\\crs.py:141: FutureWarning: '+init=<authority>:<code>' syntax is deprecated. '<authority>:<code>' is the preferred initialization method. When making the change, be mindful of axis order changes: https://pyproj4.github.io/pyproj/stable/gotchas.html#axis-order-changes-in-proj-6\n",
      "  in_crs_string = _prepare_from_proj_string(in_crs_string)\n"
     ]
    },
    {
     "name": "stdout",
     "output_type": "stream",
     "text": [
      "done\n"
     ]
    }
   ],
   "source": [
    "# points\n",
    "import geopandas as gpd\n",
    "from shapely.geometry import Polygon, Point\n",
    "\n",
    "def create_fishnet(extent, grid_size):\n",
    "    minx, miny, maxx, maxy = extent\n",
    "    polygons = []\n",
    "    for x in range(int(minx), int(maxx), grid_size):\n",
    "        for y in range(int(miny), int(maxy), grid_size):\n",
    "            polygon = Polygon([(x, y), (x+grid_size, y), (x+grid_size, y+grid_size), (x, y+grid_size)])\n",
    "            left, bottom, right, top = polygon.bounds\n",
    "            attributes = {'EAST': left, 'NORTH': bottom}\n",
    "            #attributes = {'left': left, 'bottom': bottom, 'right': right, 'top': top}\n",
    "            grid_id = 'EPSG31256_GRID_1km_E{}N{}'.format(int(left), int(bottom))\n",
    "            attributes['GRID1kmID'] = grid_id\n",
    "            polygons.append((polygon, attributes))\n",
    "    return gpd.GeoDataFrame(geometry=[poly[0] for poly in polygons], data=[poly[1] for poly in polygons])\n",
    "\n",
    "def calculate_center_points(fishnet):\n",
    "    center_points = fishnet['geometry'].centroid\n",
    "    attributes = fishnet[['EAST', 'NORTH', 'GRID1kmID']]\n",
    "    #attributes = fishnet[['left', 'bottom', 'right', 'top', 'GRID1kmID']]\n",
    "    center_points_gdf = gpd.GeoDataFrame(geometry=center_points, data=attributes)\n",
    "    return center_points_gdf\n",
    "\n",
    "# Example extent (xmin, ymin, xmax, ymax) and grid size in degrees\n",
    "#x_min=\t-11200\n",
    "#y_min=\t331000\n",
    "#x_max=\t18800\n",
    "#y_max=\t354000\n",
    "extent = (x_min, y_min, x_max, y_max)\n",
    "grid_size = 1000 # 1km\n",
    "\n",
    "fishnet = create_fishnet(extent, grid_size)\n",
    "fishnet.crs = {'init': projection}  # Assigning CRS, adjust as per your data\n",
    "#fishnet.crs = {'init': 'epsg:31256'}  # Assigning CRS, adjust as per your data\n",
    "\n",
    "center_points = calculate_center_points(fishnet)\n",
    "\n",
    "# Save center points to shapefile\n",
    "center_points.to_file(r\"N:\\C2205_FAIRiCUBE\\f02_data\\d050_data_WIEN\\reference_units\\GRID\\grid31256\\fishnet_1km_31256_points.shp\")\n",
    "\n",
    "print (\"done\")\n",
    "\n"
   ]
  },
  {
   "cell_type": "markdown",
   "metadata": {},
   "source": [
    "# (5) Building 10m  GRID with GRID ID in the attribute table:"
   ]
  },
  {
   "cell_type": "code",
   "execution_count": 5,
   "metadata": {},
   "outputs": [
    {
     "name": "stderr",
     "output_type": "stream",
     "text": [
      "C:\\Users\\Admin\\.conda\\envs\\geospatial_ETC_DI\\lib\\site-packages\\pyproj\\crs\\crs.py:141: FutureWarning: '+init=<authority>:<code>' syntax is deprecated. '<authority>:<code>' is the preferred initialization method. When making the change, be mindful of axis order changes: https://pyproj4.github.io/pyproj/stable/gotchas.html#axis-order-changes-in-proj-6\n",
      "  in_crs_string = _prepare_from_proj_string(in_crs_string)\n"
     ]
    },
    {
     "name": "stdout",
     "output_type": "stream",
     "text": [
      "            EAST     NORTH                          GRID1kmID  \\\n",
      "0       -11200.0  331000.0  EPSG31256_GRID_1km_E-11200N331000   \n",
      "1       -11200.0  331010.0  EPSG31256_GRID_1km_E-11200N331010   \n",
      "2       -11200.0  331020.0  EPSG31256_GRID_1km_E-11200N331020   \n",
      "3       -11200.0  331030.0  EPSG31256_GRID_1km_E-11200N331030   \n",
      "4       -11200.0  331040.0  EPSG31256_GRID_1km_E-11200N331040   \n",
      "...          ...       ...                                ...   \n",
      "6899995  18790.0  353950.0   EPSG31256_GRID_1km_E18790N353950   \n",
      "6899996  18790.0  353960.0   EPSG31256_GRID_1km_E18790N353960   \n",
      "6899997  18790.0  353970.0   EPSG31256_GRID_1km_E18790N353970   \n",
      "6899998  18790.0  353980.0   EPSG31256_GRID_1km_E18790N353980   \n",
      "6899999  18790.0  353990.0   EPSG31256_GRID_1km_E18790N353990   \n",
      "\n",
      "                                                  geometry  \n",
      "0        POLYGON ((-11200.000 331000.000, -11190.000 33...  \n",
      "1        POLYGON ((-11200.000 331010.000, -11190.000 33...  \n",
      "2        POLYGON ((-11200.000 331020.000, -11190.000 33...  \n",
      "3        POLYGON ((-11200.000 331030.000, -11190.000 33...  \n",
      "4        POLYGON ((-11200.000 331040.000, -11190.000 33...  \n",
      "...                                                    ...  \n",
      "6899995  POLYGON ((18790.000 353950.000, 18800.000 3539...  \n",
      "6899996  POLYGON ((18790.000 353960.000, 18800.000 3539...  \n",
      "6899997  POLYGON ((18790.000 353970.000, 18800.000 3539...  \n",
      "6899998  POLYGON ((18790.000 353980.000, 18800.000 3539...  \n",
      "6899999  POLYGON ((18790.000 353990.000, 18800.000 3539...  \n",
      "\n",
      "[6900000 rows x 4 columns]\n",
      "done\n"
     ]
    }
   ],
   "source": [
    "import geopandas as gpd\n",
    "from shapely.geometry import Polygon\n",
    "\n",
    "def create_fishnet(extent, grid_size):\n",
    "    minx, miny, maxx, maxy = extent\n",
    "    polygons = []\n",
    "    for x in range(int(minx), int(maxx), grid_size):\n",
    "        for y in range(int(miny), int(maxy), grid_size):\n",
    "            polygon = Polygon([(x, y), (x+grid_size, y), (x+grid_size, y+grid_size), (x, y+grid_size)])\n",
    "            left, bottom, right, top = polygon.bounds\n",
    "            #attributes = {'left': left, 'bottom': bottom, 'right': right, 'top': top}\n",
    "            attributes = {'EAST': left, 'NORTH': bottom}\n",
    "            grid_id = 'EPSG31256_GRID_1km_E{}N{}'.format(int(left), int(bottom))\n",
    "            attributes['GRID1kmID'] = grid_id\n",
    "            polygons.append((polygon, attributes))\n",
    "    return gpd.GeoDataFrame(geometry=[poly[0] for poly in polygons], data=[poly[1] for poly in polygons])\n",
    "\n",
    "\n",
    "\n",
    "# Example extent (xmin, ymin, xmax, ymax) and grid size in degrees\n",
    "#x_min=\t-11200\n",
    "#y_min=\t331000\n",
    "#x_max=\t18300\n",
    "#y_max=\t353900\n",
    "extent = (x_min, y_min, x_max, y_max)\n",
    "grid_size = 10 # 10m\n",
    "\n",
    "fishnet = create_fishnet(extent, grid_size)\n",
    "fishnet.crs = {'init': projection}  # Assigning CRS, adjust as per your data\n",
    "#fishnet.crs = {'init': 'epsg:31256'}  # Assigning CRS, adjust as per your data\n",
    "\n",
    "# Save to file or display\n",
    "# fishnet.to_file(\"fishnet.shp\")\n",
    "print(fishnet)\n",
    "\n",
    "# Save to shapefile\n",
    "# fishnet.to_file(r\"N:\\C2205_FAIRiCUBE\\f02_data\\d050_data_WIEN\\reference_units\\GRID\\grid31256\\fishnet_10m_31256.shp\")\n",
    "\n",
    "fishnet.to_file(r\"N:\\C2205_FAIRiCUBE\\f02_data\\d050_data_WIEN\\reference_units\\GRID\\grid31256\\fishnet_10m_31256.gpkg\", layer ='GRID_poly_10m_31256')\n",
    "\n",
    "\n",
    "print (\"done\")"
   ]
  },
  {
   "cell_type": "code",
   "execution_count": 6,
   "metadata": {},
   "outputs": [],
   "source": [
    "fishnet.to_file(r\"N:\\C2205_FAIRiCUBE\\f02_data\\d050_data_WIEN\\reference_units\\GRID\\grid31256\\fishnet_10m_31256.shp\")"
   ]
  },
  {
   "cell_type": "markdown",
   "metadata": {},
   "source": [
    "# (6) Building 10m POINT GRID with GRID ID in the attribute table:"
   ]
  },
  {
   "cell_type": "code",
   "execution_count": 7,
   "metadata": {},
   "outputs": [
    {
     "name": "stderr",
     "output_type": "stream",
     "text": [
      "C:\\Users\\Admin\\.conda\\envs\\geospatial_ETC_DI\\lib\\site-packages\\pyproj\\crs\\crs.py:141: FutureWarning: '+init=<authority>:<code>' syntax is deprecated. '<authority>:<code>' is the preferred initialization method. When making the change, be mindful of axis order changes: https://pyproj4.github.io/pyproj/stable/gotchas.html#axis-order-changes-in-proj-6\n",
      "  in_crs_string = _prepare_from_proj_string(in_crs_string)\n"
     ]
    },
    {
     "name": "stdout",
     "output_type": "stream",
     "text": [
      "done\n"
     ]
    }
   ],
   "source": [
    "# points\n",
    "import geopandas as gpd\n",
    "from shapely.geometry import Polygon, Point\n",
    "\n",
    "def create_fishnet(extent, grid_size):\n",
    "    minx, miny, maxx, maxy = extent\n",
    "    polygons = []\n",
    "    for x in range(int(minx), int(maxx), grid_size):\n",
    "        for y in range(int(miny), int(maxy), grid_size):\n",
    "            polygon = Polygon([(x, y), (x+grid_size, y), (x+grid_size, y+grid_size), (x, y+grid_size)])\n",
    "            left, bottom, right, top = polygon.bounds\n",
    "            attributes = {'EAST': left, 'NORTH': bottom}\n",
    "            #attributes = {'left': left, 'bottom': bottom, 'right': right, 'top': top}\n",
    "            grid_id = 'EPSG31256_GRID_1km_E{}N{}'.format(int(left), int(bottom))\n",
    "            attributes['GRID1kmID'] = grid_id\n",
    "            polygons.append((polygon, attributes))\n",
    "    return gpd.GeoDataFrame(geometry=[poly[0] for poly in polygons], data=[poly[1] for poly in polygons])\n",
    "\n",
    "def calculate_center_points(fishnet):\n",
    "    center_points = fishnet['geometry'].centroid\n",
    "    attributes = fishnet[['EAST', 'NORTH', 'GRID1kmID']]\n",
    "    #attributes = fishnet[['left', 'bottom', 'right', 'top', 'GRID1kmID']]\n",
    "    center_points_gdf = gpd.GeoDataFrame(geometry=center_points, data=attributes)\n",
    "    return center_points_gdf\n",
    "\n",
    "# Example extent (xmin, ymin, xmax, ymax) and grid size in degrees\n",
    "#x_min=\t-11200\n",
    "#y_min=\t331000\n",
    "#x_max=\t18800\n",
    "#y_max=\t354000\n",
    "extent = (x_min, y_min, x_max, y_max)\n",
    "grid_size = 10 # 10m\n",
    "\n",
    "fishnet = create_fishnet(extent, grid_size)\n",
    "fishnet.crs = {'init': projection}  # Assigning CRS, adjust as per your data\n",
    "#fishnet.crs = {'init': 'epsg:31256'}  # Assigning CRS, adjust as per your data\n",
    "\n",
    "center_points = calculate_center_points(fishnet)\n",
    "\n",
    "# Save center points to shapefile\n",
    "center_points.to_file(r\"N:\\C2205_FAIRiCUBE\\f02_data\\d050_data_WIEN\\reference_units\\GRID\\grid31256\\fishnet_10m_31256_points.shp\")\n",
    "\n",
    "#center_points.to_file(r\"N:\\C2205_FAIRiCUBE\\f02_data\\d050_data_WIEN\\reference_units\\GRID\\grid31256\\fishnet_point_10m_31256.gpkg\", layer ='GRID_point_10m_31256')\n",
    "\n",
    "print (\"done\")\n",
    "\n"
   ]
  }
 ],
 "metadata": {
  "kernelspec": {
   "display_name": "Python 3 (ipykernel)",
   "language": "python",
   "name": "python3"
  },
  "language_info": {
   "codemirror_mode": {
    "name": "ipython",
    "version": 3
   },
   "file_extension": ".py",
   "mimetype": "text/x-python",
   "name": "python",
   "nbconvert_exporter": "python",
   "pygments_lexer": "ipython3",
   "version": "3.9.16"
  }
 },
 "nbformat": 4,
 "nbformat_minor": 2
}
