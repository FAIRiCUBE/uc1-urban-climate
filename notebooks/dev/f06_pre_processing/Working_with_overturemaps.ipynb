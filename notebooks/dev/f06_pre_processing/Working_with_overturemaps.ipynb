{
 "cells": [
  {
   "cell_type": "markdown",
   "metadata": {},
   "source": [
    "### Using .overturemaps. to get POIs data"
   ]
  },
  {
   "cell_type": "markdown",
   "metadata": {},
   "source": [
    "## (1) reading \n",
    "https://docs.overturemaps.org/guides/places/\n",
    "\n",
    "GitHub:\n",
    "https://github.com/OvertureMaps/overturemaps-py\n",
    "\n",
    "-->conda install -c conda-forge overturemaps"
   ]
  },
  {
   "cell_type": "code",
   "execution_count": 6,
   "metadata": {},
   "outputs": [
    {
     "name": "stdout",
     "output_type": "stream",
     "text": [
      "import done\n"
     ]
    }
   ],
   "source": [
    "import numpy as np\n",
    "import overturemaps\n",
    "from matplotlib.colors import LogNorm\n",
    "from palettable.colorbrewer.sequential import Oranges_9\n",
    "from overturemaps import core\n",
    "#from lonboard import Map, PolygonLayer\n",
    "#from lonboard.colormap import apply_continuous_cmap\n",
    "\n",
    "print (\"import done\")"
   ]
  },
  {
   "cell_type": "code",
   "execution_count": null,
   "metadata": {},
   "outputs": [],
   "source": [
    "# bounding box:\n",
    "#bbox = -74.02169, 40.696423, -73.891338, 40.831263\n",
    "bbox = 6.0691699784597031,49.5609875242575413 , 6.2036491383807801,49.6548682386800095 #Luxembourg"
   ]
  },
  {
   "cell_type": "code",
   "execution_count": null,
   "metadata": {},
   "outputs": [],
   "source": [
    "## lines\n",
    "gdf = core.geodataframe(\"segment\", bbox=bbox)\n",
    "gdf.head()\n",
    "gdf.to_file(r'E:\\temp\\dataframe_segment.shp') "
   ]
  },
  {
   "cell_type": "code",
   "execution_count": null,
   "metadata": {},
   "outputs": [],
   "source": [
    "## polygon land_use\n",
    "gdf = core.geodataframe(\"land_use\", bbox=bbox)\n",
    "gdf.head()\n",
    "gdf.to_file(r'E:\\temp\\dataframe_poly_land_use.shp') "
   ]
  },
  {
   "cell_type": "code",
   "execution_count": null,
   "metadata": {},
   "outputs": [],
   "source": [
    "## polygon land_cover\n",
    "gdf = core.geodataframe(\"land_cover\", bbox=bbox)\n",
    "gdf.head()\n",
    "gdf.to_file(r'E:\\temp\\dataframe_poly_land_cover.shp') "
   ]
  },
  {
   "cell_type": "code",
   "execution_count": null,
   "metadata": {},
   "outputs": [],
   "source": [
    "## lines\n",
    "gdf = core.geodataframe(\"segment\", bbox=bbox)\n",
    "gdf.head()\n",
    "gdf.to_file(r'E:\\temp\\dataframe_segment.shp') "
   ]
  },
  {
   "cell_type": "code",
   "execution_count": null,
   "metadata": {},
   "outputs": [],
   "source": [
    "## places\n",
    "\n",
    "#https://docs.overturemaps.org/guides/places/\n",
    "\n",
    "gdf = core.geodataframe(\"place\", bbox=bbox)\n",
    "gdf.head()\n",
    "gdf.to_file(r'E:\\temp\\dataframe_place.shp') \n",
    "\n"
   ]
  }
 ],
 "metadata": {
  "kernelspec": {
   "display_name": "base",
   "language": "python",
   "name": "python3"
  },
  "language_info": {
   "codemirror_mode": {
    "name": "ipython",
    "version": 3
   },
   "file_extension": ".py",
   "mimetype": "text/x-python",
   "name": "python",
   "nbconvert_exporter": "python",
   "pygments_lexer": "ipython3",
   "version": "3.9.13"
  }
 },
 "nbformat": 4,
 "nbformat_minor": 2
}
