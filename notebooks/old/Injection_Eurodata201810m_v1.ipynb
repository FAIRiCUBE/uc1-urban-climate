{
 "cells": [
  {
   "cell_type": "code",
   "execution_count": 70,
   "id": "48a1d338-03d3-461e-aaee-6f34915f7908",
   "metadata": {},
   "outputs": [],
   "source": [
    "# Configure plots for inline use in Jupyter Notebook\n",
    "%matplotlib inline\n",
    "\n",
    "import datetime as dt\n",
    "\n",
    "# Utilities\n",
    "import boto3\n",
    "import dateutil\n",
    "import geopandas as gpd\n",
    "import matplotlib.pyplot as plt\n",
    "import pandas as pd\n",
    "import os\n",
    "import rasterio\n",
    "\n",
    "# Sentinel Hub\n",
    "from sentinelhub import (\n",
    "    CRS,\n",
    "    BBox,\n",
    "    ByocCollection,\n",
    "    ByocCollectionAdditionalData,\n",
    "    ByocCollectionBand,\n",
    "    ByocTile,\n",
    "    DataCollection,\n",
    "    DownloadFailedException,\n",
    "    MimeType,\n",
    "    SentinelHubBYOC,\n",
    "    SentinelHubRequest,\n",
    "    SHConfig,\n",
    "    bbox_to_dimensions,\n",
    "    os_utils,\n",
    ")\n",
    "\n",
    "config = SHConfig()\n",
    "config.instance_id = os.environ.get(\"SH_INSTANCE_ID\")\n",
    "config.sh_client_id = os.environ.get(\"SH_CLIENT_ID\")\n",
    "config.sh_client_secret = os.environ.get(\"SH_CLIENT_SECRET\")\n",
    "config.aws_access_key_id = os.environ.get(\"username\")\n",
    "config.aws_secret_access_key = os.environ.get(\"password\")\n",
    "    \n",
    "    \n",
    "    "
   ]
  },
  {
   "cell_type": "code",
   "execution_count": 71,
   "id": "6cc1befc-6928-4116-9aa9-4dc5e1cb0aef",
   "metadata": {},
   "outputs": [],
   "source": [
    "# Initialize SentinelHubBYOC class\n",
    "byoc = SentinelHubBYOC(config=config)"
   ]
  },
  {
   "cell_type": "code",
   "execution_count": 72,
   "id": "2d07941f-8c75-4d7e-95ce-f725099a53a8",
   "metadata": {},
   "outputs": [],
   "source": [
    "new_collection = ByocCollection(name=\"UrbanAtlas2018_10m_raster\", s3_bucket=\"hub-fairicube0\")\n",
    "#byoc.delete_collection(new_collection) # for the delte of the collection"
   ]
  },
  {
   "cell_type": "code",
   "execution_count": 73,
   "id": "6a6f7d12-2bd4-4571-a605-2f8740542a41",
   "metadata": {},
   "outputs": [],
   "source": [
    "created_collection = byoc.create_collection(new_collection)"
   ]
  },
  {
   "cell_type": "code",
   "execution_count": 74,
   "id": "3a3105c5-b957-4823-9467-7efae44b1872",
   "metadata": {},
   "outputs": [
    {
     "name": "stdout",
     "output_type": "stream",
     "text": [
      "name: UrbanAtlas2018_10m_raster\n",
      "id: 565b9aba-e617-4f5e-b89f-c29e6c084840\n"
     ]
    }
   ],
   "source": [
    "print(\"name:\", created_collection[\"name\"])\n",
    "print(\"id:\", created_collection[\"id\"])\n",
    "\n"
   ]
  },
  {
   "cell_type": "code",
   "execution_count": 75,
   "id": "faee6f3f-78aa-4996-a514-69cdefd1fa25",
   "metadata": {},
   "outputs": [],
   "source": [
    "my_collection = byoc.get_collection(created_collection[\"id\"])"
   ]
  },
  {
   "cell_type": "code",
   "execution_count": 76,
   "id": "21c33ce7-5239-44c5-a85f-4590d909a09d",
   "metadata": {},
   "outputs": [
    {
     "name": "stdout",
     "output_type": "stream",
     "text": [
      "name: UrbanAtlas2018_10m_raster\n",
      "id: 565b9aba-e617-4f5e-b89f-c29e6c084840\n"
     ]
    }
   ],
   "source": [
    "print(f\"name: {my_collection['name']}\")\n",
    "print(f\"id: {my_collection['id']}\")"
   ]
  },
  {
   "cell_type": "code",
   "execution_count": 93,
   "id": "7a8722fb-0885-4fa0-b4db-3a2523a0019e",
   "metadata": {},
   "outputs": [
    {
     "name": "stdout",
     "output_type": "stream",
     "text": [
      "path link = data/d002_urban_atlas_tiles2/ua2018_mosaic_raster_10m_cog_1_2_(BAND).tif\n"
     ]
    }
   ],
   "source": [
    "#https://sentinelhub-py.readthedocs.io/en/latest/examples/byoc_request.html#Create-new-collection\n",
    "#input_folder =\"data/d002_urban_atlas\" #  to big file\n",
    "\n",
    "\n",
    "#Name: data/d002_urban_atlas_tiles/ua2018_mosaic_raster_10m_cog_01_34.tif\n",
    "\n",
    "input_folder =\"data/d002_urban_atlas_tiles2\"\n",
    "#d002_urban_atlas_tiles2/ua2018_mosaic_raster_10m_cog_1_1_B1.tif\n",
    "#input_raster_file = \"ua2018_mosaic_raster_10m_cog.tif\"\n",
    "#input_raster_file=\"ua2018_mosaic_raster_10m_cog_1_1_(BAND).tif\"\n",
    "input_raster_file=\"ua2018_mosaic_raster_10m_cog_1_2_(BAND).tif\"\n",
    "\n",
    "#input_raster_file=\"ua2018_mosaic_raster_10m_cog_01_34_(BAND).tif\"\n",
    "\n",
    "\n",
    "path_link = input_folder+\"/\"+input_raster_file\n",
    "\n",
    "print (\"path link = \" + path_link)\n",
    "#new_tile = ByocTile(path=\"folder/(BAND).tif\") \n",
    "new_tile= ByocTile(path=path_link) \n",
    "\n",
    "created_tile = byoc.create_tile(created_collection, new_tile)"
   ]
  },
  {
   "cell_type": "code",
   "execution_count": 94,
   "id": "e6a5c133-c009-4304-b84a-d211840b75c4",
   "metadata": {},
   "outputs": [
    {
     "name": "stdout",
     "output_type": "stream",
     "text": [
      "{'id': '833fcafd-a338-4fde-af5f-776454cde4cc', 'created': '2023-03-01T09:56:39.271428Z', 'ingestionStart': '2023-03-01T09:56:39.271428Z', 'path': 'data/d002_urban_atlas_tiles2/ua2018_mosaic_raster_10m_cog_1_2_(BAND).tif', 'status': 'WAITING'}\n"
     ]
    }
   ],
   "source": [
    "print (created_tile)"
   ]
  },
  {
   "cell_type": "code",
   "execution_count": 95,
   "id": "3c2e2384-4572-426a-8d24-991a26227884",
   "metadata": {},
   "outputs": [
    {
     "data": {
      "text/plain": [
       "{'id': '833fcafd-a338-4fde-af5f-776454cde4cc',\n",
       " 'created': '2023-03-01T09:56:39.271428Z',\n",
       " 'ingestionStart': '2023-03-01T09:56:39.271428Z',\n",
       " 'coverGeometry': {'type': 'Polygon',\n",
       "  'crs': {'type': 'name',\n",
       "   'properties': {'name': 'urn:ogc:def:crs:EPSG::3035'}},\n",
       "  'coordinates': [[[2273019.9998997524, 4270229.999818275],\n",
       "    [3273019.9999532765, 4270229.999840306],\n",
       "    [3273019.999954244, 5270229.999898081],\n",
       "    [2273019.999910484, 5270229.999892694],\n",
       "    [2273019.9998997524, 4270229.999818275]]]},\n",
       " 'tileGeometry': {'type': 'Polygon',\n",
       "  'crs': {'type': 'name',\n",
       "   'properties': {'name': 'urn:ogc:def:crs:EPSG::3035'}},\n",
       "  'coordinates': [[[2273020.0, 5270230.0],\n",
       "    [3273020.0, 5270230.0],\n",
       "    [3273020.0, 4270230.0],\n",
       "    [2273020.0, 4270230.0],\n",
       "    [2273020.0, 5270230.0]]]},\n",
       " 'path': 'data/d002_urban_atlas_tiles2/ua2018_mosaic_raster_10m_cog_1_2_(BAND).tif',\n",
       " 'status': 'INGESTED',\n",
       " 'additionalData': {'hasAddedPoints': True,\n",
       "  'filesMetadata': {'B1': {'headerSize': 104786,\n",
       "    'etag': '\"8de52df151aa7f0067f91943ca6dac2f-92\"'}},\n",
       "  'minMetersPerPixel': 10.0,\n",
       "  'maxMetersPerPixel': 1280.0}}"
      ]
     },
     "execution_count": 95,
     "metadata": {},
     "output_type": "execute_result"
    }
   ],
   "source": [
    "tile = byoc.get_tile(collection=created_collection[\"id\"], tile=created_tile[\"id\"])\n",
    "tile"
   ]
  },
  {
   "cell_type": "code",
   "execution_count": 96,
   "id": "c6014671-d1f8-40e3-9279-4f6fa6341ca7",
   "metadata": {},
   "outputs": [
    {
     "data": {
      "text/plain": [
       "{'id': '833fcafd-a338-4fde-af5f-776454cde4cc',\n",
       " 'created': '2023-03-01T09:56:39.271428Z',\n",
       " 'ingestionStart': '2023-03-01T09:56:39.271428Z',\n",
       " 'coverGeometry': {'type': 'Polygon',\n",
       "  'crs': {'type': 'name',\n",
       "   'properties': {'name': 'urn:ogc:def:crs:EPSG::3035'}},\n",
       "  'coordinates': [[[2273019.9998997524, 4270229.999818275],\n",
       "    [3273019.9999532765, 4270229.999840306],\n",
       "    [3273019.999954244, 5270229.999898081],\n",
       "    [2273019.999910484, 5270229.999892694],\n",
       "    [2273019.9998997524, 4270229.999818275]]]},\n",
       " 'tileGeometry': {'type': 'Polygon',\n",
       "  'crs': {'type': 'name',\n",
       "   'properties': {'name': 'urn:ogc:def:crs:EPSG::3035'}},\n",
       "  'coordinates': [[[2273020.0, 5270230.0],\n",
       "    [3273020.0, 5270230.0],\n",
       "    [3273020.0, 4270230.0],\n",
       "    [2273020.0, 4270230.0],\n",
       "    [2273020.0, 5270230.0]]]},\n",
       " 'path': 'data/d002_urban_atlas_tiles2/ua2018_mosaic_raster_10m_cog_1_2_(BAND).tif',\n",
       " 'status': 'INGESTED',\n",
       " 'additionalData': {'hasAddedPoints': True,\n",
       "  'filesMetadata': {'B1': {'headerSize': 104786,\n",
       "    'etag': '\"8de52df151aa7f0067f91943ca6dac2f-92\"'}},\n",
       "  'minMetersPerPixel': 10.0,\n",
       "  'maxMetersPerPixel': 1280.0}}"
      ]
     },
     "execution_count": 96,
     "metadata": {},
     "output_type": "execute_result"
    }
   ],
   "source": [
    "tile\n"
   ]
  },
  {
   "cell_type": "code",
   "execution_count": 97,
   "id": "1d00e086-c9d3-4fc8-a907-b09d679cbf81",
   "metadata": {},
   "outputs": [
    {
     "name": "stdout",
     "output_type": "stream",
     "text": [
      "{'id': '565b9aba-e617-4f5e-b89f-c29e6c084840', 'userId': 'a6e8d88e-0eed-4bd1-bb87-9d1bfbb204ff', 'name': 'UrbanAtlas2018_10m_raster', 's3Bucket': 'hub-fairicube0', 'created': '2023-03-01T09:42:32.974647Z', 'requiresMetadataUpdate': False, 'isConfigured': False}\n"
     ]
    }
   ],
   "source": [
    "#https://docs.sentinel-hub.com/api/latest/api/byoc/examples/\n",
    "\n",
    "print (my_collection)"
   ]
  },
  {
   "cell_type": "code",
   "execution_count": 98,
   "id": "45462a0f-d900-469b-8fc8-831b12c254a0",
   "metadata": {},
   "outputs": [],
   "source": [
    "#xx error hello world\n",
    "#for collection in my_collections:   \n",
    "#   byoc.delete_collection(collection)\n",
    "#print (\"end\")"
   ]
  },
  {
   "cell_type": "code",
   "execution_count": 99,
   "id": "543ace25-7630-481d-88d3-5683aeb48086",
   "metadata": {},
   "outputs": [
    {
     "name": "stdout",
     "output_type": "stream",
     "text": [
      "START--------------------------\n",
      "Collection name: UrbanAtlas2018_10m_raster\n",
      "Collection id:  565b9aba-e617-4f5e-b89f-c29e6c084840\n",
      "Tile status:  FAILED\n",
      "Tile created:  2023-03-01T09:42:37.853399Z\n",
      "Ingestion failed error:  {'failedIngestionCause': 'Did not find any file.'}\n",
      "Tile status:  INGESTED\n",
      "Tile created:  2023-03-01T09:43:47.993161Z\n",
      "Tile status:  INGESTED\n",
      "Tile created:  2023-03-01T09:56:39.271428Z\n",
      "-------------------\n",
      "end\n"
     ]
    }
   ],
   "source": [
    "# Initialize SentinelHubBYOC class\n",
    "byoc = SentinelHubBYOC(config=config)\n",
    "print (\"START--------------------------\")\n",
    "# list collections and tiles\n",
    "# from: https://sentinelhub-py.readthedocs.io/en/latest/examples/byoc_request.html\n",
    "collections_iterator = byoc.iter_collections()\n",
    "my_collections = list(collections_iterator)\n",
    "\n",
    "for collection in my_collections:\n",
    "    \n",
    "    print(\"Collection name:\", collection[\"name\"])\n",
    "    print(\"Collection id: \", collection[\"id\"])\n",
    "    tiles = list(byoc.iter_tiles(collection))\n",
    "    for tile in tiles:\n",
    "        print(\"Tile status: \", tile['status'])\n",
    "        print(\"Tile created: \", tile['created'])\n",
    "        if(tile['status'] == \"FAILED\"):\n",
    "            print(\"Ingestion failed error: \", tile['additionalData'])\n",
    "    print(\"-------------------\")\n",
    "print (\"end\")"
   ]
  },
  {
   "cell_type": "code",
   "execution_count": 91,
   "id": "90286e28-2cdb-4bd9-addf-3b38148c97e3",
   "metadata": {},
   "outputs": [],
   "source": [
    "delme = ByocCollection(name=\"UrbanAtlas2018_10m_raster\", s3_bucket=\"hub-fairicube0\")\n",
    "#byoc.delete_collection(new_collection) # for the delte of the collection"
   ]
  },
  {
   "cell_type": "code",
   "execution_count": null,
   "id": "bc046af8-b121-44f6-8d60-5ad60463f0c6",
   "metadata": {},
   "outputs": [],
   "source": []
  }
 ],
 "metadata": {
  "kernelspec": {
   "display_name": "fairicube-edc-2022.10-14",
   "language": "python",
   "name": "conda-env-fairicube-edc-2022.10-14-py"
  },
  "language_info": {
   "codemirror_mode": {
    "name": "ipython",
    "version": 3
   },
   "file_extension": ".py",
   "mimetype": "text/x-python",
   "name": "python",
   "nbconvert_exporter": "python",
   "pygments_lexer": "ipython3",
   "version": "3.9.15"
  }
 },
 "nbformat": 4,
 "nbformat_minor": 5
}
