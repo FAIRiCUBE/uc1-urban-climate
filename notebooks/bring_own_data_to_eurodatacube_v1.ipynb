{
 "cells": [
  {
   "cell_type": "code",
   "execution_count": 54,
   "id": "48a1d338-03d3-461e-aaee-6f34915f7908",
   "metadata": {},
   "outputs": [],
   "source": [
    "# Configure plots for inline use in Jupyter Notebook\n",
    "%matplotlib inline\n",
    "\n",
    "import datetime as dt\n",
    "\n",
    "# Utilities\n",
    "import boto3\n",
    "import dateutil\n",
    "import geopandas as gpd\n",
    "import matplotlib.pyplot as plt\n",
    "import pandas as pd\n",
    "import os\n",
    "\n",
    "# Sentinel Hub\n",
    "from sentinelhub import (\n",
    "    CRS,\n",
    "    BBox,\n",
    "    ByocCollection,\n",
    "    ByocCollectionAdditionalData,\n",
    "    ByocCollectionBand,\n",
    "    ByocTile,\n",
    "    DataCollection,\n",
    "    DownloadFailedException,\n",
    "    MimeType,\n",
    "    SentinelHubBYOC,\n",
    "    SentinelHubRequest,\n",
    "    SHConfig,\n",
    "    bbox_to_dimensions,\n",
    ")\n",
    "\n",
    "config = SHConfig()\n",
    "config.instance_id = os.environ.get(\"SH_INSTANCE_ID\")\n",
    "config.sh_client_id = os.environ.get(\"SH_CLIENT_ID\")\n",
    "config.sh_client_secret = os.environ.get(\"SH_CLIENT_SECRET\")\n",
    "config.aws_access_key_id = os.environ.get(\"username\")\n",
    "config.aws_secret_access_key = os.environ.get(\"password\")\n",
    "    \n",
    "    \n",
    "    "
   ]
  },
  {
   "cell_type": "code",
   "execution_count": 55,
   "id": "6cc1befc-6928-4116-9aa9-4dc5e1cb0aef",
   "metadata": {},
   "outputs": [],
   "source": [
    "# Initialize SentinelHubBYOC class\n",
    "byoc = SentinelHubBYOC(config=config)"
   ]
  },
  {
   "cell_type": "code",
   "execution_count": 56,
   "id": "2d07941f-8c75-4d7e-95ce-f725099a53a8",
   "metadata": {},
   "outputs": [],
   "source": [
    "new_collection = ByocCollection(name=\"new collection\", s3_bucket=\"hub-fairicube0\")"
   ]
  },
  {
   "cell_type": "code",
   "execution_count": 57,
   "id": "6a6f7d12-2bd4-4571-a605-2f8740542a41",
   "metadata": {},
   "outputs": [],
   "source": [
    "created_collection = byoc.create_collection(new_collection)"
   ]
  },
  {
   "cell_type": "code",
   "execution_count": 58,
   "id": "3a3105c5-b957-4823-9467-7efae44b1872",
   "metadata": {},
   "outputs": [
    {
     "name": "stdout",
     "output_type": "stream",
     "text": [
      "name: new collection\n",
      "id: 296c5575-b0ff-4f49-87f4-56155328c37b\n"
     ]
    }
   ],
   "source": [
    "print(\"name:\", created_collection[\"name\"])\n",
    "print(\"id:\", created_collection[\"id\"])\n",
    "\n"
   ]
  },
  {
   "cell_type": "code",
   "execution_count": 59,
   "id": "faee6f3f-78aa-4996-a514-69cdefd1fa25",
   "metadata": {},
   "outputs": [],
   "source": [
    "my_collection = byoc.get_collection(created_collection[\"id\"])"
   ]
  },
  {
   "cell_type": "code",
   "execution_count": 60,
   "id": "21c33ce7-5239-44c5-a85f-4590d909a09d",
   "metadata": {},
   "outputs": [
    {
     "name": "stdout",
     "output_type": "stream",
     "text": [
      "name: new collection\n",
      "id: 296c5575-b0ff-4f49-87f4-56155328c37b\n"
     ]
    }
   ],
   "source": [
    "print(f\"name: {my_collection['name']}\")\n",
    "print(f\"id: {my_collection['id']}\")"
   ]
  },
  {
   "cell_type": "code",
   "execution_count": 61,
   "id": "7a8722fb-0885-4fa0-b4db-3a2523a0019e",
   "metadata": {},
   "outputs": [],
   "source": [
    "#s3_folder =\"s3://hub-fairicube0/data/d001_administration/admin_boundaries_NUTS2021_100m_COG_3035.tif\"\n",
    "\n",
    "#new_tile = ByocTile(path=\"2019/11/27/28V/(BAND).tif\", sensing_time=dt.datetime(2019, 11, 27))#\n",
    "\n",
    "#Name: data/d002_urban_atlas/UrbanAtlas2018_10m_B1.tif\n",
    "new_tile = ByocTile(path=\"data/d002_urban_atlas/UrbanAtlas2018_10m_B1.tif\")\n",
    "created_tile = byoc.create_tile(created_collection, new_tile)"
   ]
  },
  {
   "cell_type": "code",
   "execution_count": 62,
   "id": "e6a5c133-c009-4304-b84a-d211840b75c4",
   "metadata": {},
   "outputs": [
    {
     "name": "stdout",
     "output_type": "stream",
     "text": [
      "{'id': '06de0a5a-4ff6-494d-8c91-880eadd8c717', 'created': '2023-02-16T12:26:55.537431Z', 'ingestionStart': '2023-02-16T12:26:55.537431Z', 'path': 'data/d002_urban_atlas/UrbanAtlas2018_10m_B1.tif', 'status': 'WAITING'}\n"
     ]
    }
   ],
   "source": [
    "print (created_tile)"
   ]
  },
  {
   "cell_type": "code",
   "execution_count": 68,
   "id": "3c2e2384-4572-426a-8d24-991a26227884",
   "metadata": {},
   "outputs": [
    {
     "data": {
      "text/plain": [
       "{'id': '06de0a5a-4ff6-494d-8c91-880eadd8c717',\n",
       " 'created': '2023-02-16T12:26:55.537431Z',\n",
       " 'ingestionStart': '2023-02-16T12:26:55.537431Z',\n",
       " 'path': 'data/d002_urban_atlas/UrbanAtlas2018_10m_B1.tif',\n",
       " 'status': 'FAILED',\n",
       " 'additionalData': {'failedIngestionCause': 'Could not access your files (check access policy).'}}"
      ]
     },
     "execution_count": 68,
     "metadata": {},
     "output_type": "execute_result"
    }
   ],
   "source": [
    "tile = byoc.get_tile(collection=created_collection[\"id\"], tile=created_tile[\"id\"])\n",
    "tile"
   ]
  },
  {
   "cell_type": "code",
   "execution_count": 70,
   "id": "c6014671-d1f8-40e3-9279-4f6fa6341ca7",
   "metadata": {},
   "outputs": [
    {
     "data": {
      "text/plain": [
       "{'id': '06de0a5a-4ff6-494d-8c91-880eadd8c717',\n",
       " 'created': '2023-02-16T12:26:55.537431Z',\n",
       " 'ingestionStart': '2023-02-16T12:26:55.537431Z',\n",
       " 'path': 'data/d002_urban_atlas/UrbanAtlas2018_10m_B1.tif',\n",
       " 'status': 'FAILED',\n",
       " 'additionalData': {'failedIngestionCause': 'Could not access your files (check access policy).'}}"
      ]
     },
     "execution_count": 70,
     "metadata": {},
     "output_type": "execute_result"
    }
   ],
   "source": [
    "tile\n"
   ]
  },
  {
   "cell_type": "code",
   "execution_count": 69,
   "id": "1d00e086-c9d3-4fc8-a907-b09d679cbf81",
   "metadata": {},
   "outputs": [
    {
     "name": "stdout",
     "output_type": "stream",
     "text": [
      "{'id': '296c5575-b0ff-4f49-87f4-56155328c37b', 'userId': 'a6e8d88e-0eed-4bd1-bb87-9d1bfbb204ff', 'name': 'new collection', 's3Bucket': 'hub-fairicube0', 'created': '2023-02-16T12:26:50.123072Z', 'requiresMetadataUpdate': False, 'isConfigured': False}\n"
     ]
    }
   ],
   "source": [
    "#https://docs.sentinel-hub.com/api/latest/api/byoc/examples/\n",
    "\n",
    "print (my_collection)"
   ]
  },
  {
   "cell_type": "code",
   "execution_count": null,
   "id": "45462a0f-d900-469b-8fc8-831b12c254a0",
   "metadata": {},
   "outputs": [],
   "source": [
    "#xx error"
   ]
  }
 ],
 "metadata": {
  "kernelspec": {
   "display_name": "fairicube-edc-2022.10-14",
   "language": "python",
   "name": "conda-env-fairicube-edc-2022.10-14-py"
  },
  "language_info": {
   "codemirror_mode": {
    "name": "ipython",
    "version": 3
   },
   "file_extension": ".py",
   "mimetype": "text/x-python",
   "name": "python",
   "nbconvert_exporter": "python",
   "pygments_lexer": "ipython3",
   "version": "3.9.15"
  }
 },
 "nbformat": 4,
 "nbformat_minor": 5
}
