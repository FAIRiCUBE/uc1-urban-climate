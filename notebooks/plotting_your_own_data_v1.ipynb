{
 "cells": [
  {
   "cell_type": "code",
   "execution_count": 1,
   "id": "501f3bb0-7142-443a-a4b6-3cf17773247f",
   "metadata": {},
   "outputs": [],
   "source": [
    "# Configure plots for inline use in Jupyter Notebook\n",
    "%matplotlib inline\n",
    "\n",
    "import datetime as dt\n",
    "\n",
    "# Utilities\n",
    "import boto3\n",
    "import dateutil\n",
    "import geopandas as gpd\n",
    "import matplotlib.pyplot as plt\n",
    "import pandas as pd\n",
    "import os\n",
    "\n",
    "# Sentinel Hub\n",
    "from sentinelhub import (\n",
    "    CRS,\n",
    "    BBox,\n",
    "    ByocCollection,\n",
    "    ByocCollectionAdditionalData,\n",
    "    ByocCollectionBand,\n",
    "    ByocTile,\n",
    "    DataCollection,\n",
    "    DownloadFailedException,\n",
    "    MimeType,\n",
    "    SentinelHubBYOC,\n",
    "    SentinelHubRequest,\n",
    "    SHConfig,\n",
    "    bbox_to_dimensions,\n",
    ")\n",
    "\n",
    "config = SHConfig()\n",
    "config.instance_id = os.environ.get(\"SH_INSTANCE_ID\")\n",
    "config.sh_client_id = os.environ.get(\"SH_CLIENT_ID\")\n",
    "config.sh_client_secret = os.environ.get(\"SH_CLIENT_SECRET\")\n",
    "config.aws_access_key_id = os.environ.get(\"username\")\n",
    "config.aws_secret_access_key = os.environ.get(\"password\")    "
   ]
  },
  {
   "cell_type": "code",
   "execution_count": 3,
   "id": "e07dbe1f-e1bb-4698-839b-362b3d80c086",
   "metadata": {},
   "outputs": [
    {
     "name": "stdout",
     "output_type": "stream",
     "text": [
      "START--------------------------\n",
      "Collection name: new collection\n",
      "Collection id:  9ce57124-0cc8-4c4f-9812-327ca1942170\n",
      "Tile status:  INGESTED\n",
      "Tile created:  2023-02-17T10:46:31.166466Z\n",
      "Tile path:  folder/(BAND).tif\n",
      "-------------------\n",
      "end\n"
     ]
    }
   ],
   "source": [
    "# Initialize SentinelHubBYOC class\n",
    "#https://sentinelhub-py.readthedocs.io/en/latest/reference/sentinelhub.html\n",
    "\n",
    "\n",
    "byoc = SentinelHubBYOC(config=config)\n",
    "print (\"START--------------------------\")\n",
    "# list collections and tiles\n",
    "# from: https://sentinelhub-py.readthedocs.io/en/latest/examples/byoc_request.html\n",
    "collections_iterator = byoc.iter_collections()\n",
    "my_collections = list(collections_iterator)\n",
    "\n",
    "for collection in my_collections:\n",
    "    \n",
    "    print(\"Collection name:\", collection[\"name\"])\n",
    "    print(\"Collection id: \", collection[\"id\"])\n",
    "    tiles = list(byoc.iter_tiles(collection))\n",
    "    for tile in tiles:\n",
    "        print(\"Tile status: \", tile['status'])\n",
    "        print(\"Tile created: \", tile['created'])\n",
    "        print(\"Tile path: \", tile['path'])\n",
    "        if(tile['status'] == \"FAILED\"):\n",
    "            print(\"Ingestion failed error: \", tile['additionalData'])\n",
    "    print(\"-------------------\")\n",
    "print (\"end\")"
   ]
  },
  {
   "cell_type": "code",
   "execution_count": 4,
   "id": "c688428c-a901-41b4-834a-3dbeedd2c85b",
   "metadata": {},
   "outputs": [
    {
     "data": {
      "text/plain": [
       "{'id': '4deec260-0fc0-401d-a763-300f08414e71',\n",
       " 'created': '2023-02-17T10:46:31.166466Z',\n",
       " 'ingestionStart': '2023-02-17T10:46:31.166466Z',\n",
       " 'coverGeometry': {'type': 'Polygon',\n",
       "  'crs': {'type': 'name',\n",
       "   'properties': {'name': 'urn:ogc:def:crs:EPSG::3035'}},\n",
       "  'coordinates': [[[4014669.999979591, 2933829.999639364],\n",
       "    [4071359.999983392, 2933829.9996399865],\n",
       "    [4071359.9999840036, 3015539.999661122],\n",
       "    [4014669.999980342, 3015539.999660529],\n",
       "    [4014669.999979591, 2933829.999639364]]]},\n",
       " 'tileGeometry': {'type': 'Polygon',\n",
       "  'crs': {'type': 'name',\n",
       "   'properties': {'name': 'urn:ogc:def:crs:EPSG::3035'}},\n",
       "  'coordinates': [[[4014670.0, 3015540.0],\n",
       "    [4071360.0, 3015540.0],\n",
       "    [4071360.0, 2933830.0],\n",
       "    [4014670.0, 2933830.0],\n",
       "    [4014670.0, 3015540.0]]]},\n",
       " 'path': 'folder/(BAND).tif',\n",
       " 'status': 'INGESTED',\n",
       " 'additionalData': {'hasAddedPoints': True,\n",
       "  'filesMetadata': {'UrbanAtlas2018_lux': {'headerSize': 1658,\n",
       "    'etag': '\"517fbe1f73c3ad2b51f2939e6fc58658-2\"'}},\n",
       "  'minMetersPerPixel': 10.0,\n",
       "  'maxMetersPerPixel': 80.0}}"
      ]
     },
     "execution_count": 4,
     "metadata": {},
     "output_type": "execute_result"
    }
   ],
   "source": [
    "# get first tile of first collection\n",
    "collections_iterator = byoc.iter_collections()\n",
    "collection = next(collections_iterator)\n",
    "tile = next(byoc.iter_tiles(collection))\n",
    "tile"
   ]
  },
  {
   "cell_type": "code",
   "execution_count": 5,
   "id": "412590f9-9406-4a4b-a908-2d67aef0cb35",
   "metadata": {},
   "outputs": [],
   "source": [
    "### Lux extent box 6.20,49.60 : 6.34,49.66\n",
    "\n",
    "x1 = 6.20  # degree\n",
    "y1 = 49.60  # degree\n",
    "x2 = 6.34  # degree\n",
    "y2 = 49.66  # degree\n",
    "\n",
    "bbox = x1, y1, x2, y2\n",
    "aoi = BBox([x1, y1, x2, y2], crs=CRS.WGS84)\n",
    "spatial_res = 0.00018   # = 20.038 meters in degree"
   ]
  },
  {
   "cell_type": "code",
   "execution_count": 6,
   "id": "3a82cc26-ff59-4a9d-9bb3-1e4af65c1d34",
   "metadata": {},
   "outputs": [
    {
     "data": {
      "text/plain": [
       "<DataCollection.BYOC_9ce57124-0cc8-4c4f-9812-327ca1942170: DataCollectionDefinition(\n",
       "  api_id: byoc-9ce57124-0cc8-4c4f-9812-327ca1942170\n",
       "  catalog_id: byoc-9ce57124-0cc8-4c4f-9812-327ca1942170\n",
       "  wfs_id: byoc-9ce57124-0cc8-4c4f-9812-327ca1942170\n",
       "  collection_type: BYOC\n",
       "  collection_id: 9ce57124-0cc8-4c4f-9812-327ca1942170\n",
       "  is_timeless: False\n",
       "  has_cloud_coverage: False\n",
       ")>"
      ]
     },
     "execution_count": 6,
     "metadata": {},
     "output_type": "execute_result"
    }
   ],
   "source": [
    "#https://sentinelhub-py.readthedocs.io/en/latest/examples/byoc_request.html\n",
    "#https://eurodatacube.com/notebooks/contributions/LPIS_LULC-Slo.ipynb\n",
    "data_collection = DataCollection.define_byoc(collection[\"id\"])\n",
    "data_collection"
   ]
  },
  {
   "cell_type": "code",
   "execution_count": 8,
   "id": "acfcc0bf-2a15-49fc-9802-765df951241a",
   "metadata": {},
   "outputs": [],
   "source": [
    "##https://docs.sentinel-hub.com/api/latest/evalscript/\n",
    "\n",
    "#SentinelHubBaseApiRequest.input_data(data_collection, identifier, time_interval, maxcc, mosaicking_order, upsampling, downsampling, other_args)\n",
    "###################################################\n",
    "## what is the band name of the tile? \n",
    "## from documentation:  \n",
    "## \"bands are not defined before the tile ingestion process. \n",
    "## BYOC service then automatically configures bands based on the first ingested tile \n",
    "## and names the band after the filename unless a band placeholder is defined\"\n",
    "## -> in this case, if tile was ingested with path=\"folder/(BAND).tif\" then band name is equal to filename \"UrbanAtlas2018_lux\"\n",
    "\n",
    "evalscript_test = \"\"\"\n",
    "\n",
    "//VERSION=3\n",
    "function setup() {\n",
    "  return {\n",
    "    input: [\"UrbanAtlas2018_lux\"],\n",
    "    output: { bands: 1 }\n",
    "  };\n",
    "}\n",
    "\n",
    "function evaluatePixel(sample) {\n",
    "  return [sample.UrbanAtlas2018_lux];\n",
    "}\n",
    "\"\"\"\n",
    "\n",
    "request = SentinelHubRequest(\n",
    "        evalscript=evalscript_test,\n",
    "        input_data=[\n",
    "            SentinelHubRequest.input_data(\n",
    "                #data_collection=data_collection,\n",
    "                data_collection=data_collection,\n",
    "                #time_interval=tile_time\n",
    "                # time_interval=\"2018\"\n",
    "                \n",
    "            )\n",
    "        ],\n",
    "        responses=[\n",
    "            SentinelHubRequest.output_response('default', MimeType.PNG)\n",
    "        ],\n",
    "        bbox=aoi,\n",
    "        size=bbox_to_dimensions(aoi, 100),\n",
    "        config=config\n",
    "    )\n",
    "data = request.get_data()[0]"
   ]
  },
  {
   "cell_type": "code",
   "execution_count": 9,
   "id": "5c2668a6-f11e-4c17-9138-3825d68c04d7",
   "metadata": {},
   "outputs": [
    {
     "data": {
      "text/plain": [
       "array([[255, 255, 255, ..., 255, 255, 255],\n",
       "       [255, 255, 255, ..., 255, 255, 255],\n",
       "       [255, 255, 255, ..., 255, 255, 255],\n",
       "       ...,\n",
       "       [255, 255, 255, ..., 255, 255, 255],\n",
       "       [255, 255, 255, ..., 255, 255, 255],\n",
       "       [255, 255, 255, ..., 255, 255, 255]], dtype=uint8)"
      ]
     },
     "execution_count": 9,
     "metadata": {},
     "output_type": "execute_result"
    }
   ],
   "source": [
    "data"
   ]
  },
  {
   "cell_type": "code",
   "execution_count": 10,
   "id": "c9d63bb8-2bd5-4450-a357-47ea76d92d92",
   "metadata": {},
   "outputs": [
    {
     "data": {
      "image/png": "[encoded data removed]",
      "text/plain": [
       "<Figure size 1500x1000 with 1 Axes>"
      ]
     },
     "metadata": {},
     "output_type": "display_data"
    }
   ],
   "source": [
    "fig, ax = plt.subplots(figsize=(15, 10))\n",
    "\n",
    "ax.imshow(data)\n",
    "# ax.set_title(tile_time.date().isoformat(), fontsize=10)\n",
    "\n",
    "plt.tight_layout()"
   ]
  },
  {
   "cell_type": "code",
   "execution_count": 10,
   "id": "7c146fae-2e8a-4e22-970c-29abd688910e",
   "metadata": {},
   "outputs": [
    {
     "data": {
      "text/html": [
       "<div>\n",
       "<style scoped>\n",
       "    .dataframe tbody tr th:only-of-type {\n",
       "        vertical-align: middle;\n",
       "    }\n",
       "\n",
       "    .dataframe tbody tr th {\n",
       "        vertical-align: top;\n",
       "    }\n",
       "\n",
       "    .dataframe thead th {\n",
       "        text-align: right;\n",
       "    }\n",
       "</style>\n",
       "<table border=\"1\" class=\"dataframe\">\n",
       "  <thead>\n",
       "    <tr style=\"text-align: right;\">\n",
       "      <th></th>\n",
       "      <th>path</th>\n",
       "      <th>status</th>\n",
       "      <th>tile_id</th>\n",
       "      <th>tile_geometry</th>\n",
       "      <th>cover_geometry</th>\n",
       "      <th>created</th>\n",
       "      <th>sensing_time</th>\n",
       "      <th>additional_data</th>\n",
       "      <th>other_data</th>\n",
       "      <th>geometry</th>\n",
       "    </tr>\n",
       "  </thead>\n",
       "  <tbody>\n",
       "    <tr>\n",
       "      <th>0</th>\n",
       "      <td>folder/(BAND).tif</td>\n",
       "      <td>INGESTED</td>\n",
       "      <td>4deec260-0fc0-401d-a763-300f08414e71</td>\n",
       "      <td>Geometry(POLYGON ((4014670 3015540, 4071360 30...</td>\n",
       "      <td>Geometry(POLYGON ((4014669.999979591 2933829.9...</td>\n",
       "      <td>2023-02-17 10:46:31.166466+00:00</td>\n",
       "      <td>None</td>\n",
       "      <td>{'hasAddedPoints': True, 'filesMetadata': {'Ur...</td>\n",
       "      <td>{'ingestionStart': '2023-02-17T10:46:31.166466Z'}</td>\n",
       "      <td>POLYGON ((5.77456 49.43812, 6.55538 49.46470, ...</td>\n",
       "    </tr>\n",
       "  </tbody>\n",
       "</table>\n",
       "</div>"
      ],
      "text/plain": [
       "                path    status                               tile_id  \\\n",
       "0  folder/(BAND).tif  INGESTED  4deec260-0fc0-401d-a763-300f08414e71   \n",
       "\n",
       "                                       tile_geometry  \\\n",
       "0  Geometry(POLYGON ((4014670 3015540, 4071360 30...   \n",
       "\n",
       "                                      cover_geometry  \\\n",
       "0  Geometry(POLYGON ((4014669.999979591 2933829.9...   \n",
       "\n",
       "                           created sensing_time  \\\n",
       "0 2023-02-17 10:46:31.166466+00:00         None   \n",
       "\n",
       "                                     additional_data  \\\n",
       "0  {'hasAddedPoints': True, 'filesMetadata': {'Ur...   \n",
       "\n",
       "                                          other_data  \\\n",
       "0  {'ingestionStart': '2023-02-17T10:46:31.166466Z'}   \n",
       "\n",
       "                                            geometry  \n",
       "0  POLYGON ((5.77456 49.43812, 6.55538 49.46470, ...  "
      ]
     },
     "execution_count": 10,
     "metadata": {},
     "output_type": "execute_result"
    }
   ],
   "source": [
    "# show tile info in table format -- works for one tile\n",
    "tile_iterator = byoc.iter_tiles(collection)\n",
    "tiles_for_visualized = []\n",
    "tiles_for_visualized.append(ByocTile.from_dict(next(tile_iterator)))\n",
    "\n",
    "tiles_gdf = gpd.GeoDataFrame(\n",
    "    tiles_for_visualized,\n",
    "    geometry=[t.cover_geometry.transform(CRS.WGS84).geometry for t in tiles_for_visualized],\n",
    "    crs=\"epsg:4326\",\n",
    ")\n",
    "tiles_gdf\n",
    "\n",
    "# show tile info in table format -- works for more than one tiles\n",
    "# tile_iterator = byoc.iter_tiles(created_collection)\n",
    "# tiles_for_visualized = []\n",
    "# for i in range(100):\n",
    "#     tiles_for_visualized.append(ByocTile.from_dict(next(tile_iterator)))\n",
    "\n",
    "# tiles_gdf = gpd.GeoDataFrame(\n",
    "#     tiles_for_visualized,\n",
    "#     geometry=[t.cover_geometry.transform(CRS.WGS84).geometry for t in tiles_for_visualized],\n",
    "#     crs=\"epsg:4326\",\n",
    "# )\n",
    "# tiles_gdf.head()"
   ]
  },
  {
   "cell_type": "code",
   "execution_count": 11,
   "id": "109ec61e-45ac-4ca0-a2dc-e1c13dac8e86",
   "metadata": {},
   "outputs": [
    {
     "data": {
      "image/png": "[encoded data removed]",
      "text/plain": [
       "<Figure size 1700x800 with 1 Axes>"
      ]
     },
     "metadata": {},
     "output_type": "display_data"
    }
   ],
   "source": [
    "# show tile extent...\n",
    "fig, ax = plt.subplots(figsize=(17, 8))\n",
    "tiles_gdf.plot(ax=ax);"
   ]
  },
  {
   "cell_type": "code",
   "execution_count": null,
   "id": "9357f847-bdc6-4cf5-be35-b66ce2d39822",
   "metadata": {},
   "outputs": [],
   "source": []
  }
 ],
 "metadata": {
  "kernelspec": {
   "display_name": "fairicube-edc-2022.10-14",
   "language": "python",
   "name": "conda-env-fairicube-edc-2022.10-14-py"
  },
  "language_info": {
   "codemirror_mode": {
    "name": "ipython",
    "version": 3
   },
   "file_extension": ".py",
   "mimetype": "text/x-python",
   "name": "python",
   "nbconvert_exporter": "python",
   "pygments_lexer": "ipython3",
   "version": "3.9.15"
  }
 },
 "nbformat": 4,
 "nbformat_minor": 5
}
