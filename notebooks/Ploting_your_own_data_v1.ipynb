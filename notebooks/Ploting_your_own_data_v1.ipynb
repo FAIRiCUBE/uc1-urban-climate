{
 "cells": [
  {
   "cell_type": "code",
   "execution_count": 1,
   "id": "501f3bb0-7142-443a-a4b6-3cf17773247f",
   "metadata": {},
   "outputs": [],
   "source": [
    "# Configure plots for inline use in Jupyter Notebook\n",
    "%matplotlib inline\n",
    "\n",
    "import datetime as dt\n",
    "\n",
    "# Utilities\n",
    "import boto3\n",
    "import dateutil\n",
    "import geopandas as gpd\n",
    "import matplotlib.pyplot as plt\n",
    "import pandas as pd\n",
    "import os\n",
    "\n",
    "# Sentinel Hub\n",
    "from sentinelhub import (\n",
    "    CRS,\n",
    "    BBox,\n",
    "    ByocCollection,\n",
    "    ByocCollectionAdditionalData,\n",
    "    ByocCollectionBand,\n",
    "    ByocTile,\n",
    "    DataCollection,\n",
    "    DownloadFailedException,\n",
    "    MimeType,\n",
    "    SentinelHubBYOC,\n",
    "    SentinelHubRequest,\n",
    "    SHConfig,\n",
    "    bbox_to_dimensions,\n",
    ")\n",
    "\n",
    "config = SHConfig()\n",
    "config.instance_id = os.environ.get(\"SH_INSTANCE_ID\")\n",
    "config.sh_client_id = os.environ.get(\"SH_CLIENT_ID\")\n",
    "config.sh_client_secret = os.environ.get(\"SH_CLIENT_SECRET\")\n",
    "config.aws_access_key_id = os.environ.get(\"username\")\n",
    "config.aws_secret_access_key = os.environ.get(\"password\")\n",
    "    \n",
    "    \n",
    "        "
   ]
  },
  {
   "cell_type": "code",
   "execution_count": 2,
   "id": "e07dbe1f-e1bb-4698-839b-362b3d80c086",
   "metadata": {},
   "outputs": [
    {
     "name": "stdout",
     "output_type": "stream",
     "text": [
      "START--------------------------\n",
      "Collection name: new collection\n",
      "Collection id:  9ce57124-0cc8-4c4f-9812-327ca1942170\n",
      "Tile status:  INGESTED\n",
      "Tile created:  2023-02-17T10:46:31.166466Z\n",
      "-------------------\n",
      "end\n"
     ]
    }
   ],
   "source": [
    "# Initialize SentinelHubBYOC class\n",
    "#https://sentinelhub-py.readthedocs.io/en/latest/reference/sentinelhub.html\n",
    "\n",
    "\n",
    "byoc = SentinelHubBYOC(config=config)\n",
    "print (\"START--------------------------\")\n",
    "# list collections and tiles\n",
    "# from: https://sentinelhub-py.readthedocs.io/en/latest/examples/byoc_request.html\n",
    "collections_iterator = byoc.iter_collections()\n",
    "my_collections = list(collections_iterator)\n",
    "\n",
    "for collection in my_collections:\n",
    "    \n",
    "    print(\"Collection name:\", collection[\"name\"])\n",
    "    print(\"Collection id: \", collection[\"id\"])\n",
    "    tiles = list(byoc.iter_tiles(collection))\n",
    "    for tile in tiles:\n",
    "        print(\"Tile status: \", tile['status'])\n",
    "        print(\"Tile created: \", tile['created'])\n",
    "        if(tile['status'] == \"FAILED\"):\n",
    "            print(\"Ingestion failed error: \", tile['additionalData'])\n",
    "    print(\"-------------------\")\n",
    "print (\"end\")"
   ]
  },
  {
   "cell_type": "code",
   "execution_count": 43,
   "id": "412590f9-9406-4a4b-a908-2d67aef0cb35",
   "metadata": {},
   "outputs": [],
   "source": [
    "### Lux extend box 6.20,49.60 : 6.34,49.66\n",
    "\n",
    "x1 = 6.20  # degree\n",
    "y1 = 49.60  # degree\n",
    "x2 = 6.34  # degree\n",
    "y2 = 49.66  # degree\n",
    "\n",
    "bbox = x1, y1, x2, y2\n",
    "aoi = BBox([x1, y1, x2, y2], crs=CRS.WGS84)\n",
    "spatial_res = 0.00018   # = 20.038 meters in degree"
   ]
  },
  {
   "cell_type": "code",
   "execution_count": 3,
   "id": "c688428c-a901-41b4-834a-3dbeedd2c85b",
   "metadata": {},
   "outputs": [
    {
     "data": {
      "text/plain": [
       "{'id': '4deec260-0fc0-401d-a763-300f08414e71',\n",
       " 'created': '2023-02-17T10:46:31.166466Z',\n",
       " 'ingestionStart': '2023-02-17T10:46:31.166466Z',\n",
       " 'coverGeometry': {'type': 'Polygon',\n",
       "  'crs': {'type': 'name',\n",
       "   'properties': {'name': 'urn:ogc:def:crs:EPSG::3035'}},\n",
       "  'coordinates': [[[4014669.999979591, 2933829.999639364],\n",
       "    [4071359.999983392, 2933829.9996399865],\n",
       "    [4071359.9999840036, 3015539.999661122],\n",
       "    [4014669.999980342, 3015539.999660529],\n",
       "    [4014669.999979591, 2933829.999639364]]]},\n",
       " 'tileGeometry': {'type': 'Polygon',\n",
       "  'crs': {'type': 'name',\n",
       "   'properties': {'name': 'urn:ogc:def:crs:EPSG::3035'}},\n",
       "  'coordinates': [[[4014670.0, 3015540.0],\n",
       "    [4071360.0, 3015540.0],\n",
       "    [4071360.0, 2933830.0],\n",
       "    [4014670.0, 2933830.0],\n",
       "    [4014670.0, 3015540.0]]]},\n",
       " 'path': 'folder/(BAND).tif',\n",
       " 'status': 'INGESTED',\n",
       " 'additionalData': {'hasAddedPoints': True,\n",
       "  'filesMetadata': {'UrbanAtlas2018_lux': {'headerSize': 1658,\n",
       "    'etag': '\"517fbe1f73c3ad2b51f2939e6fc58658-2\"'}},\n",
       "  'minMetersPerPixel': 10.0,\n",
       "  'maxMetersPerPixel': 80.0}}"
      ]
     },
     "execution_count": 3,
     "metadata": {},
     "output_type": "execute_result"
    }
   ],
   "source": [
    "tile"
   ]
  },
  {
   "cell_type": "code",
   "execution_count": 4,
   "id": "3a82cc26-ff59-4a9d-9bb3-1e4af65c1d34",
   "metadata": {},
   "outputs": [],
   "source": [
    "#https://sentinelhub-py.readthedocs.io/en/latest/examples/byoc_request.html\n",
    "#https://eurodatacube.com/notebooks/contributions/LPIS_LULC-Slo.ipynb\n",
    "data_collection = DataCollection.define_byoc(collection[\"id\"])"
   ]
  },
  {
   "cell_type": "code",
   "execution_count": 5,
   "id": "7c146fae-2e8a-4e22-970c-29abd688910e",
   "metadata": {},
   "outputs": [
    {
     "name": "stdout",
     "output_type": "stream",
     "text": [
      "new collection\n"
     ]
    }
   ],
   "source": [
    "#print(data_collection)\n",
    "print(collection[\"name\"])\n"
   ]
  },
  {
   "cell_type": "code",
   "execution_count": 6,
   "id": "109ec61e-45ac-4ca0-a2dc-e1c13dac8e86",
   "metadata": {},
   "outputs": [],
   "source": [
    "tile_time = [\"sensingTime\"]"
   ]
  },
  {
   "cell_type": "code",
   "execution_count": 7,
   "id": "4a43665b-bd6a-4773-8206-bd8f91d94492",
   "metadata": {},
   "outputs": [
    {
     "data": {
      "text/plain": [
       "{'id': '4deec260-0fc0-401d-a763-300f08414e71',\n",
       " 'created': '2023-02-17T10:46:31.166466Z',\n",
       " 'ingestionStart': '2023-02-17T10:46:31.166466Z',\n",
       " 'coverGeometry': {'type': 'Polygon',\n",
       "  'crs': {'type': 'name',\n",
       "   'properties': {'name': 'urn:ogc:def:crs:EPSG::3035'}},\n",
       "  'coordinates': [[[4014669.999979591, 2933829.999639364],\n",
       "    [4071359.999983392, 2933829.9996399865],\n",
       "    [4071359.9999840036, 3015539.999661122],\n",
       "    [4014669.999980342, 3015539.999660529],\n",
       "    [4014669.999979591, 2933829.999639364]]]},\n",
       " 'tileGeometry': {'type': 'Polygon',\n",
       "  'crs': {'type': 'name',\n",
       "   'properties': {'name': 'urn:ogc:def:crs:EPSG::3035'}},\n",
       "  'coordinates': [[[4014670.0, 3015540.0],\n",
       "    [4071360.0, 3015540.0],\n",
       "    [4071360.0, 2933830.0],\n",
       "    [4014670.0, 2933830.0],\n",
       "    [4014670.0, 3015540.0]]]},\n",
       " 'path': 'folder/(BAND).tif',\n",
       " 'status': 'INGESTED',\n",
       " 'additionalData': {'hasAddedPoints': True,\n",
       "  'filesMetadata': {'UrbanAtlas2018_lux': {'headerSize': 1658,\n",
       "    'etag': '\"517fbe1f73c3ad2b51f2939e6fc58658-2\"'}},\n",
       "  'minMetersPerPixel': 10.0,\n",
       "  'maxMetersPerPixel': 80.0}}"
      ]
     },
     "execution_count": 7,
     "metadata": {},
     "output_type": "execute_result"
    }
   ],
   "source": [
    "tile\n"
   ]
  },
  {
   "cell_type": "code",
   "execution_count": 8,
   "id": "acfcc0bf-2a15-49fc-9802-765df951241a",
   "metadata": {},
   "outputs": [
    {
     "ename": "NameError",
     "evalue": "name 'aoi' is not defined",
     "output_type": "error",
     "traceback": [
      "\u001b[0;31m---------------------------------------------------------------------------\u001b[0m",
      "\u001b[0;31mNameError\u001b[0m                                 Traceback (most recent call last)",
      "Cell \u001b[0;32mIn[8], line 34\u001b[0m\n\u001b[1;32m      1\u001b[0m \u001b[38;5;66;03m##https://docs.sentinel-hub.com/api/latest/evalscript/\u001b[39;00m\n\u001b[1;32m      2\u001b[0m \n\u001b[1;32m      3\u001b[0m \u001b[38;5;66;03m#SentinelHubBaseApiRequest.input_data(data_collection, identifier, time_interval, maxcc, mosaicking_order, upsampling, downsampling, other_args)\u001b[39;00m\n\u001b[1;32m      5\u001b[0m evalscript_test \u001b[38;5;241m=\u001b[39m \u001b[38;5;124m\"\"\"\u001b[39m\n\u001b[1;32m      6\u001b[0m \n\u001b[1;32m      7\u001b[0m \u001b[38;5;124m//VERSION=3\u001b[39m\n\u001b[0;32m   (...)\u001b[0m\n\u001b[1;32m     17\u001b[0m \u001b[38;5;124m}\u001b[39m\n\u001b[1;32m     18\u001b[0m \u001b[38;5;124m\"\"\"\u001b[39m\n\u001b[1;32m     20\u001b[0m request \u001b[38;5;241m=\u001b[39m SentinelHubRequest(\n\u001b[1;32m     21\u001b[0m         evalscript\u001b[38;5;241m=\u001b[39mevalscript_test,\n\u001b[1;32m     22\u001b[0m         input_data\u001b[38;5;241m=\u001b[39m[\n\u001b[1;32m     23\u001b[0m             SentinelHubRequest\u001b[38;5;241m.\u001b[39minput_data(\n\u001b[1;32m     24\u001b[0m                 \u001b[38;5;66;03m#data_collection=data_collection,\u001b[39;00m\n\u001b[1;32m     25\u001b[0m                 data_collection\u001b[38;5;241m=\u001b[39mdata_collection,\n\u001b[1;32m     26\u001b[0m                 \u001b[38;5;66;03m#time_interval=tile_time\u001b[39;00m\n\u001b[1;32m     27\u001b[0m                 time_interval\u001b[38;5;241m=\u001b[39m\u001b[38;5;124m\"\u001b[39m\u001b[38;5;124m2018\u001b[39m\u001b[38;5;124m\"\u001b[39m\n\u001b[1;32m     28\u001b[0m                 \n\u001b[1;32m     29\u001b[0m             )\n\u001b[1;32m     30\u001b[0m         ],\n\u001b[1;32m     31\u001b[0m         responses\u001b[38;5;241m=\u001b[39m[\n\u001b[1;32m     32\u001b[0m             SentinelHubRequest\u001b[38;5;241m.\u001b[39moutput_response(\u001b[38;5;124m'\u001b[39m\u001b[38;5;124mdefault\u001b[39m\u001b[38;5;124m'\u001b[39m, MimeType\u001b[38;5;241m.\u001b[39mPNG)\n\u001b[1;32m     33\u001b[0m         ],\n\u001b[0;32m---> 34\u001b[0m         bbox\u001b[38;5;241m=\u001b[39m\u001b[43maoi\u001b[49m,\n\u001b[1;32m     35\u001b[0m         size\u001b[38;5;241m=\u001b[39mbbox_to_dimensions(aoi, \u001b[38;5;241m100\u001b[39m),\n\u001b[1;32m     36\u001b[0m         config\u001b[38;5;241m=\u001b[39mconfig\n\u001b[1;32m     37\u001b[0m     )\n",
      "\u001b[0;31mNameError\u001b[0m: name 'aoi' is not defined"
     ]
    }
   ],
   "source": [
    "##https://docs.sentinel-hub.com/api/latest/evalscript/\n",
    "\n",
    "#SentinelHubBaseApiRequest.input_data(data_collection, identifier, time_interval, maxcc, mosaicking_order, upsampling, downsampling, other_args)\n",
    "\n",
    "evalscript_test = \"\"\"\n",
    "\n",
    "//VERSION=3\n",
    "function setup() {\n",
    "  return {\n",
    "    input: [\"B01\"],\n",
    "    output: { bands: 1 }\n",
    "  };\n",
    "}\n",
    "\n",
    "function evaluatePixel(sample) {\n",
    "  return [1 * sample.B01];\n",
    "}\n",
    "\"\"\"\n",
    "\n",
    "request = SentinelHubRequest(\n",
    "        evalscript=evalscript_test,\n",
    "        input_data=[\n",
    "            SentinelHubRequest.input_data(\n",
    "                #data_collection=data_collection,\n",
    "                data_collection=data_collection,\n",
    "                #time_interval=tile_time\n",
    "                time_interval=\"2018\"\n",
    "                \n",
    "            )\n",
    "        ],\n",
    "        responses=[\n",
    "            SentinelHubRequest.output_response('default', MimeType.PNG)\n",
    "        ],\n",
    "        bbox=aoi,\n",
    "        size=bbox_to_dimensions(aoi, 100),\n",
    "        config=config\n",
    "    )"
   ]
  },
  {
   "cell_type": "code",
   "execution_count": 52,
   "id": "319ea414-f045-468c-848a-adf94d8203d4",
   "metadata": {},
   "outputs": [
    {
     "ename": "DownloadFailedException",
     "evalue": "Failed to download from:\nhttps://services.sentinel-hub.com/api/v1/process\nwith HTTPError:\n400 Client Error: Bad Request for url: https://services.sentinel-hub.com/api/v1/process\nServer response: \"{\"status\": 400, \"reason\": \"Bad Request\", \"message\": \"CUSTOM has no band B01\", \"code\": \"RENDERER_EXCEPTION\"}\"",
     "output_type": "error",
     "traceback": [
      "\u001b[0;31m---------------------------------------------------------------------------\u001b[0m",
      "\u001b[0;31mHTTPError\u001b[0m                                 Traceback (most recent call last)",
      "File \u001b[0;32m/home/conda/fairicube/509ef1ea91778cd89e0732da937c672a0e4c27fd9e360fadaa9831b15c3fb15c-20230123-091006-736556-1-edc-2022.10-14/lib/python3.9/site-packages/sentinelhub/download/handlers.py:41\u001b[0m, in \u001b[0;36mfail_user_errors.<locals>.new_download_func\u001b[0;34m(self, request)\u001b[0m\n\u001b[1;32m     40\u001b[0m \u001b[38;5;28;01mtry\u001b[39;00m:\n\u001b[0;32m---> 41\u001b[0m     \u001b[38;5;28;01mreturn\u001b[39;00m \u001b[43mdownload_func\u001b[49m\u001b[43m(\u001b[49m\u001b[38;5;28;43mself\u001b[39;49m\u001b[43m,\u001b[49m\u001b[43m \u001b[49m\u001b[43mrequest\u001b[49m\u001b[43m)\u001b[49m\n\u001b[1;32m     42\u001b[0m \u001b[38;5;28;01mexcept\u001b[39;00m requests\u001b[38;5;241m.\u001b[39mHTTPError \u001b[38;5;28;01mas\u001b[39;00m exception:\n",
      "File \u001b[0;32m/home/conda/fairicube/509ef1ea91778cd89e0732da937c672a0e4c27fd9e360fadaa9831b15c3fb15c-20230123-091006-736556-1-edc-2022.10-14/lib/python3.9/site-packages/sentinelhub/download/sentinelhub_client.py:90\u001b[0m, in \u001b[0;36mSentinelHubDownloadClient._execute_download\u001b[0;34m(self, request)\u001b[0m\n\u001b[1;32m     88\u001b[0m     \u001b[38;5;28;01mcontinue\u001b[39;00m\n\u001b[0;32m---> 90\u001b[0m \u001b[43mresponse\u001b[49m\u001b[38;5;241;43m.\u001b[39;49m\u001b[43mraise_for_status\u001b[49m\u001b[43m(\u001b[49m\u001b[43m)\u001b[49m\n\u001b[1;32m     92\u001b[0m LOGGER\u001b[38;5;241m.\u001b[39mdebug(\u001b[38;5;124m\"\u001b[39m\u001b[38;5;124mSuccessful \u001b[39m\u001b[38;5;132;01m%s\u001b[39;00m\u001b[38;5;124m request to \u001b[39m\u001b[38;5;132;01m%s\u001b[39;00m\u001b[38;5;124m\"\u001b[39m, request\u001b[38;5;241m.\u001b[39mrequest_type\u001b[38;5;241m.\u001b[39mvalue, request\u001b[38;5;241m.\u001b[39murl)\n",
      "File \u001b[0;32m/home/conda/fairicube/509ef1ea91778cd89e0732da937c672a0e4c27fd9e360fadaa9831b15c3fb15c-20230123-091006-736556-1-edc-2022.10-14/lib/python3.9/site-packages/requests/models.py:1021\u001b[0m, in \u001b[0;36mResponse.raise_for_status\u001b[0;34m(self)\u001b[0m\n\u001b[1;32m   1020\u001b[0m \u001b[38;5;28;01mif\u001b[39;00m http_error_msg:\n\u001b[0;32m-> 1021\u001b[0m     \u001b[38;5;28;01mraise\u001b[39;00m HTTPError(http_error_msg, response\u001b[38;5;241m=\u001b[39m\u001b[38;5;28mself\u001b[39m)\n",
      "\u001b[0;31mHTTPError\u001b[0m: 400 Client Error: Bad Request for url: https://services.sentinel-hub.com/api/v1/process",
      "\nThe above exception was the direct cause of the following exception:\n",
      "\u001b[0;31mDownloadFailedException\u001b[0m                   Traceback (most recent call last)",
      "Cell \u001b[0;32mIn[52], line 1\u001b[0m\n\u001b[0;32m----> 1\u001b[0m data \u001b[38;5;241m=\u001b[39m \u001b[43mrequest\u001b[49m\u001b[38;5;241;43m.\u001b[39;49m\u001b[43mget_data\u001b[49m\u001b[43m(\u001b[49m\u001b[43m)\u001b[49m[\u001b[38;5;241m0\u001b[39m]\n",
      "File \u001b[0;32m/home/conda/fairicube/509ef1ea91778cd89e0732da937c672a0e4c27fd9e360fadaa9831b15c3fb15c-20230123-091006-736556-1-edc-2022.10-14/lib/python3.9/site-packages/sentinelhub/base.py:110\u001b[0m, in \u001b[0;36mDataRequest.get_data\u001b[0;34m(self, save_data, redownload, data_filter, max_threads, decode_data, raise_download_errors, show_progress)\u001b[0m\n\u001b[1;32m     88\u001b[0m \u001b[38;5;250m\u001b[39m\u001b[38;5;124;03m\"\"\"Get requested data either by downloading it or by reading it from the disk (if it\u001b[39;00m\n\u001b[1;32m     89\u001b[0m \u001b[38;5;124;03mwas previously downloaded and saved).\u001b[39;00m\n\u001b[1;32m     90\u001b[0m \n\u001b[0;32m   (...)\u001b[0m\n\u001b[1;32m    107\u001b[0m \u001b[38;5;124;03m    shape ``[height, width, channels]``.\u001b[39;00m\n\u001b[1;32m    108\u001b[0m \u001b[38;5;124;03m\"\"\"\u001b[39;00m\n\u001b[1;32m    109\u001b[0m \u001b[38;5;28mself\u001b[39m\u001b[38;5;241m.\u001b[39m_preprocess_request(save_data, \u001b[38;5;28;01mTrue\u001b[39;00m)\n\u001b[0;32m--> 110\u001b[0m \u001b[38;5;28;01mreturn\u001b[39;00m \u001b[38;5;28;43mself\u001b[39;49m\u001b[38;5;241;43m.\u001b[39;49m\u001b[43m_execute_data_download\u001b[49m\u001b[43m(\u001b[49m\n\u001b[1;32m    111\u001b[0m \u001b[43m    \u001b[49m\u001b[43mdata_filter\u001b[49m\u001b[43m,\u001b[49m\n\u001b[1;32m    112\u001b[0m \u001b[43m    \u001b[49m\u001b[43mredownload\u001b[49m\u001b[43m,\u001b[49m\n\u001b[1;32m    113\u001b[0m \u001b[43m    \u001b[49m\u001b[43mmax_threads\u001b[49m\u001b[43m,\u001b[49m\n\u001b[1;32m    114\u001b[0m \u001b[43m    \u001b[49m\u001b[43mraise_download_errors\u001b[49m\u001b[43m,\u001b[49m\n\u001b[1;32m    115\u001b[0m \u001b[43m    \u001b[49m\u001b[43mdecode_data\u001b[49m\u001b[38;5;241;43m=\u001b[39;49m\u001b[43mdecode_data\u001b[49m\u001b[43m,\u001b[49m\n\u001b[1;32m    116\u001b[0m \u001b[43m    \u001b[49m\u001b[43mshow_progress\u001b[49m\u001b[38;5;241;43m=\u001b[39;49m\u001b[43mshow_progress\u001b[49m\u001b[43m,\u001b[49m\n\u001b[1;32m    117\u001b[0m \u001b[43m\u001b[49m\u001b[43m)\u001b[49m\n",
      "File \u001b[0;32m/home/conda/fairicube/509ef1ea91778cd89e0732da937c672a0e4c27fd9e360fadaa9831b15c3fb15c-20230123-091006-736556-1-edc-2022.10-14/lib/python3.9/site-packages/sentinelhub/base.py:184\u001b[0m, in \u001b[0;36mDataRequest._execute_data_download\u001b[0;34m(self, data_filter, redownload, max_threads, raise_download_errors, decode_data, show_progress)\u001b[0m\n\u001b[1;32m    179\u001b[0m     \u001b[38;5;28;01mraise\u001b[39;00m \u001b[38;5;167;01mValueError\u001b[39;00m(\u001b[38;5;124m\"\u001b[39m\u001b[38;5;124mdata_filter parameter must be a list of indices\u001b[39m\u001b[38;5;124m\"\u001b[39m)\n\u001b[1;32m    181\u001b[0m client \u001b[38;5;241m=\u001b[39m \u001b[38;5;28mself\u001b[39m\u001b[38;5;241m.\u001b[39mdownload_client_class(\n\u001b[1;32m    182\u001b[0m     redownload\u001b[38;5;241m=\u001b[39mredownload, raise_download_errors\u001b[38;5;241m=\u001b[39mraise_download_errors, config\u001b[38;5;241m=\u001b[39m\u001b[38;5;28mself\u001b[39m\u001b[38;5;241m.\u001b[39mconfig\n\u001b[1;32m    183\u001b[0m )\n\u001b[0;32m--> 184\u001b[0m data_list \u001b[38;5;241m=\u001b[39m \u001b[43mclient\u001b[49m\u001b[38;5;241;43m.\u001b[39;49m\u001b[43mdownload\u001b[49m\u001b[43m(\u001b[49m\n\u001b[1;32m    185\u001b[0m \u001b[43m    \u001b[49m\u001b[43mfiltered_download_list\u001b[49m\u001b[43m,\u001b[49m\u001b[43m \u001b[49m\u001b[43mmax_threads\u001b[49m\u001b[38;5;241;43m=\u001b[39;49m\u001b[43mmax_threads\u001b[49m\u001b[43m,\u001b[49m\u001b[43m \u001b[49m\u001b[43mdecode_data\u001b[49m\u001b[38;5;241;43m=\u001b[39;49m\u001b[43mdecode_data\u001b[49m\u001b[43m,\u001b[49m\u001b[43m \u001b[49m\u001b[43mshow_progress\u001b[49m\u001b[38;5;241;43m=\u001b[39;49m\u001b[43mshow_progress\u001b[49m\n\u001b[1;32m    186\u001b[0m \u001b[43m\u001b[49m\u001b[43m)\u001b[49m\n\u001b[1;32m    188\u001b[0m \u001b[38;5;28;01mif\u001b[39;00m is_repeating_filter:\n\u001b[1;32m    189\u001b[0m     data_list \u001b[38;5;241m=\u001b[39m [copy\u001b[38;5;241m.\u001b[39mdeepcopy(data_list[index]) \u001b[38;5;28;01mfor\u001b[39;00m index \u001b[38;5;129;01min\u001b[39;00m mapping_list]\n",
      "File \u001b[0;32m/home/conda/fairicube/509ef1ea91778cd89e0732da937c672a0e4c27fd9e360fadaa9831b15c3fb15c-20230123-091006-736556-1-edc-2022.10-14/lib/python3.9/site-packages/sentinelhub/download/sentinelhub_client.py:62\u001b[0m, in \u001b[0;36mSentinelHubDownloadClient.download\u001b[0;34m(self, *args, **kwargs)\u001b[0m\n\u001b[1;32m     60\u001b[0m \u001b[38;5;28mself\u001b[39m\u001b[38;5;241m.\u001b[39mlock \u001b[38;5;241m=\u001b[39m Lock()\n\u001b[1;32m     61\u001b[0m \u001b[38;5;28;01mtry\u001b[39;00m:\n\u001b[0;32m---> 62\u001b[0m     \u001b[38;5;28;01mreturn\u001b[39;00m \u001b[38;5;28;43msuper\u001b[39;49m\u001b[43m(\u001b[49m\u001b[43m)\u001b[49m\u001b[38;5;241;43m.\u001b[39;49m\u001b[43mdownload\u001b[49m\u001b[43m(\u001b[49m\u001b[38;5;241;43m*\u001b[39;49m\u001b[43margs\u001b[49m\u001b[43m,\u001b[49m\u001b[43m \u001b[49m\u001b[38;5;241;43m*\u001b[39;49m\u001b[38;5;241;43m*\u001b[39;49m\u001b[43mkwargs\u001b[49m\u001b[43m)\u001b[49m\n\u001b[1;32m     63\u001b[0m \u001b[38;5;28;01mfinally\u001b[39;00m:\n\u001b[1;32m     64\u001b[0m     \u001b[38;5;28mself\u001b[39m\u001b[38;5;241m.\u001b[39mlock \u001b[38;5;241m=\u001b[39m \u001b[38;5;28;01mNone\u001b[39;00m\n",
      "File \u001b[0;32m/home/conda/fairicube/509ef1ea91778cd89e0732da937c672a0e4c27fd9e360fadaa9831b15c3fb15c-20230123-091006-736556-1-edc-2022.10-14/lib/python3.9/site-packages/sentinelhub/download/client.py:113\u001b[0m, in \u001b[0;36mDownloadClient.download\u001b[0;34m(self, download_requests, max_threads, decode_data, show_progress)\u001b[0m\n\u001b[1;32m    111\u001b[0m     \u001b[38;5;28;01melse\u001b[39;00m:\n\u001b[1;32m    112\u001b[0m         \u001b[38;5;28;01mfor\u001b[39;00m future \u001b[38;5;129;01min\u001b[39;00m as_completed(download_list):\n\u001b[0;32m--> 113\u001b[0m             data_list[future_order[future]] \u001b[38;5;241m=\u001b[39m \u001b[38;5;28;43mself\u001b[39;49m\u001b[38;5;241;43m.\u001b[39;49m\u001b[43m_process_download_future\u001b[49m\u001b[43m(\u001b[49m\u001b[43mfuture\u001b[49m\u001b[43m)\u001b[49m\n\u001b[1;32m    115\u001b[0m \u001b[38;5;28;01mif\u001b[39;00m \u001b[38;5;28misinstance\u001b[39m(download_requests, DownloadRequest):\n\u001b[1;32m    116\u001b[0m     \u001b[38;5;28;01mreturn\u001b[39;00m data_list[\u001b[38;5;241m0\u001b[39m]\n",
      "File \u001b[0;32m/home/conda/fairicube/509ef1ea91778cd89e0732da937c672a0e4c27fd9e360fadaa9831b15c3fb15c-20230123-091006-736556-1-edc-2022.10-14/lib/python3.9/site-packages/sentinelhub/download/client.py:126\u001b[0m, in \u001b[0;36mDownloadClient._process_download_future\u001b[0;34m(self, future)\u001b[0m\n\u001b[1;32m    124\u001b[0m \u001b[38;5;28;01mif\u001b[39;00m \u001b[38;5;28mself\u001b[39m\u001b[38;5;241m.\u001b[39mraise_download_errors:\n\u001b[1;32m    125\u001b[0m     traceback \u001b[38;5;241m=\u001b[39m sys\u001b[38;5;241m.\u001b[39mexc_info()[\u001b[38;5;241m2\u001b[39m]\n\u001b[0;32m--> 126\u001b[0m     \u001b[38;5;28;01mraise\u001b[39;00m download_exception\u001b[38;5;241m.\u001b[39mwith_traceback(traceback)\n\u001b[1;32m    128\u001b[0m warnings\u001b[38;5;241m.\u001b[39mwarn(\u001b[38;5;28mstr\u001b[39m(download_exception), category\u001b[38;5;241m=\u001b[39mSHRuntimeWarning)\n\u001b[1;32m    129\u001b[0m \u001b[38;5;28;01mreturn\u001b[39;00m \u001b[38;5;28;01mNone\u001b[39;00m\n",
      "File \u001b[0;32m/home/conda/fairicube/509ef1ea91778cd89e0732da937c672a0e4c27fd9e360fadaa9831b15c3fb15c-20230123-091006-736556-1-edc-2022.10-14/lib/python3.9/site-packages/sentinelhub/download/client.py:122\u001b[0m, in \u001b[0;36mDownloadClient._process_download_future\u001b[0;34m(self, future)\u001b[0m\n\u001b[1;32m    120\u001b[0m \u001b[38;5;250m\u001b[39m\u001b[38;5;124;03m\"\"\"Unpacks the future and correctly handles exceptions\"\"\"\u001b[39;00m\n\u001b[1;32m    121\u001b[0m \u001b[38;5;28;01mtry\u001b[39;00m:\n\u001b[0;32m--> 122\u001b[0m     \u001b[38;5;28;01mreturn\u001b[39;00m \u001b[43mfuture\u001b[49m\u001b[38;5;241;43m.\u001b[39;49m\u001b[43mresult\u001b[49m\u001b[43m(\u001b[49m\u001b[43m)\u001b[49m\n\u001b[1;32m    123\u001b[0m \u001b[38;5;28;01mexcept\u001b[39;00m DownloadFailedException \u001b[38;5;28;01mas\u001b[39;00m download_exception:\n\u001b[1;32m    124\u001b[0m     \u001b[38;5;28;01mif\u001b[39;00m \u001b[38;5;28mself\u001b[39m\u001b[38;5;241m.\u001b[39mraise_download_errors:\n",
      "File \u001b[0;32m/home/conda/fairicube/509ef1ea91778cd89e0732da937c672a0e4c27fd9e360fadaa9831b15c3fb15c-20230123-091006-736556-1-edc-2022.10-14/lib/python3.9/concurrent/futures/_base.py:439\u001b[0m, in \u001b[0;36mFuture.result\u001b[0;34m(self, timeout)\u001b[0m\n\u001b[1;32m    437\u001b[0m     \u001b[38;5;28;01mraise\u001b[39;00m CancelledError()\n\u001b[1;32m    438\u001b[0m \u001b[38;5;28;01melif\u001b[39;00m \u001b[38;5;28mself\u001b[39m\u001b[38;5;241m.\u001b[39m_state \u001b[38;5;241m==\u001b[39m FINISHED:\n\u001b[0;32m--> 439\u001b[0m     \u001b[38;5;28;01mreturn\u001b[39;00m \u001b[38;5;28;43mself\u001b[39;49m\u001b[38;5;241;43m.\u001b[39;49m\u001b[43m__get_result\u001b[49m\u001b[43m(\u001b[49m\u001b[43m)\u001b[49m\n\u001b[1;32m    441\u001b[0m \u001b[38;5;28mself\u001b[39m\u001b[38;5;241m.\u001b[39m_condition\u001b[38;5;241m.\u001b[39mwait(timeout)\n\u001b[1;32m    443\u001b[0m \u001b[38;5;28;01mif\u001b[39;00m \u001b[38;5;28mself\u001b[39m\u001b[38;5;241m.\u001b[39m_state \u001b[38;5;129;01min\u001b[39;00m [CANCELLED, CANCELLED_AND_NOTIFIED]:\n",
      "File \u001b[0;32m/home/conda/fairicube/509ef1ea91778cd89e0732da937c672a0e4c27fd9e360fadaa9831b15c3fb15c-20230123-091006-736556-1-edc-2022.10-14/lib/python3.9/concurrent/futures/_base.py:391\u001b[0m, in \u001b[0;36mFuture.__get_result\u001b[0;34m(self)\u001b[0m\n\u001b[1;32m    389\u001b[0m \u001b[38;5;28;01mif\u001b[39;00m \u001b[38;5;28mself\u001b[39m\u001b[38;5;241m.\u001b[39m_exception:\n\u001b[1;32m    390\u001b[0m     \u001b[38;5;28;01mtry\u001b[39;00m:\n\u001b[0;32m--> 391\u001b[0m         \u001b[38;5;28;01mraise\u001b[39;00m \u001b[38;5;28mself\u001b[39m\u001b[38;5;241m.\u001b[39m_exception\n\u001b[1;32m    392\u001b[0m     \u001b[38;5;28;01mfinally\u001b[39;00m:\n\u001b[1;32m    393\u001b[0m         \u001b[38;5;66;03m# Break a reference cycle with the exception in self._exception\u001b[39;00m\n\u001b[1;32m    394\u001b[0m         \u001b[38;5;28mself\u001b[39m \u001b[38;5;241m=\u001b[39m \u001b[38;5;28;01mNone\u001b[39;00m\n",
      "File \u001b[0;32m/home/conda/fairicube/509ef1ea91778cd89e0732da937c672a0e4c27fd9e360fadaa9831b15c3fb15c-20230123-091006-736556-1-edc-2022.10-14/lib/python3.9/concurrent/futures/thread.py:58\u001b[0m, in \u001b[0;36m_WorkItem.run\u001b[0;34m(self)\u001b[0m\n\u001b[1;32m     55\u001b[0m     \u001b[38;5;28;01mreturn\u001b[39;00m\n\u001b[1;32m     57\u001b[0m \u001b[38;5;28;01mtry\u001b[39;00m:\n\u001b[0;32m---> 58\u001b[0m     result \u001b[38;5;241m=\u001b[39m \u001b[38;5;28;43mself\u001b[39;49m\u001b[38;5;241;43m.\u001b[39;49m\u001b[43mfn\u001b[49m\u001b[43m(\u001b[49m\u001b[38;5;241;43m*\u001b[39;49m\u001b[38;5;28;43mself\u001b[39;49m\u001b[38;5;241;43m.\u001b[39;49m\u001b[43margs\u001b[49m\u001b[43m,\u001b[49m\u001b[43m \u001b[49m\u001b[38;5;241;43m*\u001b[39;49m\u001b[38;5;241;43m*\u001b[39;49m\u001b[38;5;28;43mself\u001b[39;49m\u001b[38;5;241;43m.\u001b[39;49m\u001b[43mkwargs\u001b[49m\u001b[43m)\u001b[49m\n\u001b[1;32m     59\u001b[0m \u001b[38;5;28;01mexcept\u001b[39;00m \u001b[38;5;167;01mBaseException\u001b[39;00m \u001b[38;5;28;01mas\u001b[39;00m exc:\n\u001b[1;32m     60\u001b[0m     \u001b[38;5;28mself\u001b[39m\u001b[38;5;241m.\u001b[39mfuture\u001b[38;5;241m.\u001b[39mset_exception(exc)\n",
      "File \u001b[0;32m/home/conda/fairicube/509ef1ea91778cd89e0732da937c672a0e4c27fd9e360fadaa9831b15c3fb15c-20230123-091006-736556-1-edc-2022.10-14/lib/python3.9/site-packages/sentinelhub/download/client.py:133\u001b[0m, in \u001b[0;36mDownloadClient._single_download_decoded\u001b[0;34m(self, request)\u001b[0m\n\u001b[1;32m    131\u001b[0m \u001b[38;5;28;01mdef\u001b[39;00m \u001b[38;5;21m_single_download_decoded\u001b[39m(\u001b[38;5;28mself\u001b[39m, request: DownloadRequest) \u001b[38;5;241m-\u001b[39m\u001b[38;5;241m>\u001b[39m Any:\n\u001b[1;32m    132\u001b[0m \u001b[38;5;250m    \u001b[39m\u001b[38;5;124;03m\"\"\"Downloads a response and decodes it into data. By decoding a single response\"\"\"\u001b[39;00m\n\u001b[0;32m--> 133\u001b[0m     response \u001b[38;5;241m=\u001b[39m \u001b[38;5;28;43mself\u001b[39;49m\u001b[38;5;241;43m.\u001b[39;49m\u001b[43m_single_download\u001b[49m\u001b[43m(\u001b[49m\u001b[43mrequest\u001b[49m\u001b[43m)\u001b[49m\n\u001b[1;32m    134\u001b[0m     \u001b[38;5;28;01mreturn\u001b[39;00m \u001b[38;5;28;01mNone\u001b[39;00m \u001b[38;5;28;01mif\u001b[39;00m response \u001b[38;5;129;01mis\u001b[39;00m \u001b[38;5;28;01mNone\u001b[39;00m \u001b[38;5;28;01melse\u001b[39;00m response\u001b[38;5;241m.\u001b[39mdecode()\n",
      "File \u001b[0;32m/home/conda/fairicube/509ef1ea91778cd89e0732da937c672a0e4c27fd9e360fadaa9831b15c3fb15c-20230123-091006-736556-1-edc-2022.10-14/lib/python3.9/site-packages/sentinelhub/download/client.py:146\u001b[0m, in \u001b[0;36mDownloadClient._single_download\u001b[0;34m(self, request)\u001b[0m\n\u001b[1;32m    144\u001b[0m no_local_data \u001b[38;5;241m=\u001b[39m \u001b[38;5;28mself\u001b[39m\u001b[38;5;241m.\u001b[39mredownload \u001b[38;5;129;01mor\u001b[39;00m response_path \u001b[38;5;129;01mis\u001b[39;00m \u001b[38;5;28;01mNone\u001b[39;00m \u001b[38;5;129;01mor\u001b[39;00m \u001b[38;5;129;01mnot\u001b[39;00m os\u001b[38;5;241m.\u001b[39mpath\u001b[38;5;241m.\u001b[39mexists(response_path)\n\u001b[1;32m    145\u001b[0m \u001b[38;5;28;01mif\u001b[39;00m no_local_data:\n\u001b[0;32m--> 146\u001b[0m     response \u001b[38;5;241m=\u001b[39m \u001b[38;5;28;43mself\u001b[39;49m\u001b[38;5;241;43m.\u001b[39;49m\u001b[43m_execute_download\u001b[49m\u001b[43m(\u001b[49m\u001b[43mrequest\u001b[49m\u001b[43m)\u001b[49m\n\u001b[1;32m    147\u001b[0m \u001b[38;5;28;01melse\u001b[39;00m:\n\u001b[1;32m    148\u001b[0m     \u001b[38;5;28;01mif\u001b[39;00m \u001b[38;5;129;01mnot\u001b[39;00m request\u001b[38;5;241m.\u001b[39mreturn_data \u001b[38;5;129;01mor\u001b[39;00m response_path \u001b[38;5;129;01mis\u001b[39;00m \u001b[38;5;28;01mNone\u001b[39;00m:\n",
      "File \u001b[0;32m/home/conda/fairicube/509ef1ea91778cd89e0732da937c672a0e4c27fd9e360fadaa9831b15c3fb15c-20230123-091006-736556-1-edc-2022.10-14/lib/python3.9/site-packages/sentinelhub/download/handlers.py:67\u001b[0m, in \u001b[0;36mretry_temporary_errors.<locals>.new_download_func\u001b[0;34m(self, request)\u001b[0m\n\u001b[1;32m     65\u001b[0m \u001b[38;5;28;01mfor\u001b[39;00m attempt_num \u001b[38;5;129;01min\u001b[39;00m \u001b[38;5;28mrange\u001b[39m(download_attempts):\n\u001b[1;32m     66\u001b[0m     \u001b[38;5;28;01mtry\u001b[39;00m:\n\u001b[0;32m---> 67\u001b[0m         \u001b[38;5;28;01mreturn\u001b[39;00m \u001b[43mdownload_func\u001b[49m\u001b[43m(\u001b[49m\u001b[38;5;28;43mself\u001b[39;49m\u001b[43m,\u001b[49m\u001b[43m \u001b[49m\u001b[43mrequest\u001b[49m\u001b[43m)\u001b[49m\n\u001b[1;32m     68\u001b[0m     \u001b[38;5;28;01mexcept\u001b[39;00m requests\u001b[38;5;241m.\u001b[39mRequestException \u001b[38;5;28;01mas\u001b[39;00m exception:\n\u001b[1;32m     69\u001b[0m         \u001b[38;5;28;01mif\u001b[39;00m \u001b[38;5;129;01mnot\u001b[39;00m (\n\u001b[1;32m     70\u001b[0m             _is_temporary_problem(exception)\n\u001b[1;32m     71\u001b[0m             \u001b[38;5;129;01mor\u001b[39;00m (\n\u001b[0;32m   (...)\u001b[0m\n\u001b[1;32m     74\u001b[0m             )\n\u001b[1;32m     75\u001b[0m         ):\n",
      "File \u001b[0;32m/home/conda/fairicube/509ef1ea91778cd89e0732da937c672a0e4c27fd9e360fadaa9831b15c3fb15c-20230123-091006-736556-1-edc-2022.10-14/lib/python3.9/site-packages/sentinelhub/download/handlers.py:47\u001b[0m, in \u001b[0;36mfail_user_errors.<locals>.new_download_func\u001b[0;34m(self, request)\u001b[0m\n\u001b[1;32m     42\u001b[0m \u001b[38;5;28;01mexcept\u001b[39;00m requests\u001b[38;5;241m.\u001b[39mHTTPError \u001b[38;5;28;01mas\u001b[39;00m exception:\n\u001b[1;32m     43\u001b[0m     \u001b[38;5;28;01mif\u001b[39;00m (\n\u001b[1;32m     44\u001b[0m         exception\u001b[38;5;241m.\u001b[39mresponse\u001b[38;5;241m.\u001b[39mstatus_code \u001b[38;5;241m<\u001b[39m requests\u001b[38;5;241m.\u001b[39mstatus_codes\u001b[38;5;241m.\u001b[39mcodes\u001b[38;5;241m.\u001b[39mINTERNAL_SERVER_ERROR\n\u001b[1;32m     45\u001b[0m         \u001b[38;5;129;01mand\u001b[39;00m exception\u001b[38;5;241m.\u001b[39mresponse\u001b[38;5;241m.\u001b[39mstatus_code \u001b[38;5;241m!=\u001b[39m requests\u001b[38;5;241m.\u001b[39mstatus_codes\u001b[38;5;241m.\u001b[39mcodes\u001b[38;5;241m.\u001b[39mTOO_MANY_REQUESTS\n\u001b[1;32m     46\u001b[0m     ):\n\u001b[0;32m---> 47\u001b[0m         \u001b[38;5;28;01mraise\u001b[39;00m DownloadFailedException(\n\u001b[1;32m     48\u001b[0m             _create_download_failed_message(exception, request\u001b[38;5;241m.\u001b[39murl), request_exception\u001b[38;5;241m=\u001b[39mexception\n\u001b[1;32m     49\u001b[0m         ) \u001b[38;5;28;01mfrom\u001b[39;00m \u001b[38;5;21;01mexception\u001b[39;00m\n\u001b[1;32m     50\u001b[0m     \u001b[38;5;28;01mraise\u001b[39;00m exception \u001b[38;5;28;01mfrom\u001b[39;00m \u001b[38;5;21;01mexception\u001b[39;00m\n",
      "\u001b[0;31mDownloadFailedException\u001b[0m: Failed to download from:\nhttps://services.sentinel-hub.com/api/v1/process\nwith HTTPError:\n400 Client Error: Bad Request for url: https://services.sentinel-hub.com/api/v1/process\nServer response: \"{\"status\": 400, \"reason\": \"Bad Request\", \"message\": \"CUSTOM has no band B01\", \"code\": \"RENDERER_EXCEPTION\"}\""
     ]
    }
   ],
   "source": [
    "data = request.get_data()[0]"
   ]
  },
  {
   "cell_type": "code",
   "execution_count": null,
   "id": "9357f847-bdc6-4cf5-be35-b66ce2d39822",
   "metadata": {},
   "outputs": [],
   "source": []
  }
 ],
 "metadata": {
  "kernelspec": {
   "display_name": "fairicube-edc-2022.10-14",
   "language": "python",
   "name": "conda-env-fairicube-edc-2022.10-14-py"
  },
  "language_info": {
   "codemirror_mode": {
    "name": "ipython",
    "version": 3
   },
   "file_extension": ".py",
   "mimetype": "text/x-python",
   "name": "python",
   "nbconvert_exporter": "python",
   "pygments_lexer": "ipython3",
   "version": "3.9.15"
  }
 },
 "nbformat": 4,
 "nbformat_minor": 5
}
