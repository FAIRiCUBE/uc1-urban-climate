{
 "cells": [
  {
   "cell_type": "markdown",
   "id": "e94a5901-4e2c-4b1a-98e9-1bf1b091105d",
   "metadata": {},
   "source": [
    "# Reading tables and storing information as tables and databases"
   ]
  },
  {
   "cell_type": "code",
   "execution_count": 2,
   "id": "3446a6c1-12e5-4f8c-bbc3-3b1d1f5731d6",
   "metadata": {},
   "outputs": [
    {
     "name": "stdout",
     "output_type": "stream",
     "text": [
      "START the work ......\n"
     ]
    }
   ],
   "source": [
    "# Configure plots for inline use in Jupyter Notebook\n",
    "%matplotlib inline\n",
    "\n",
    "import datetime as dt\n",
    "\n",
    "# Utilities\n",
    "import boto3\n",
    "import dateutil\n",
    "import geopandas as gpd\n",
    "import matplotlib.pyplot as plt\n",
    "import pandas as pd\n",
    "import os\n",
    "import rasterio\n",
    "# Various utilities\n",
    "import json\n",
    "import xarray as xr\n",
    "import shapely.geometry\n",
    "import IPython.display\n",
    "import zarr\n",
    "\n",
    "# Sentinel Hub\n",
    "from sentinelhub import (\n",
    "    CRS,\n",
    "    BBox,\n",
    "    ByocCollection,\n",
    "    ByocCollectionAdditionalData,\n",
    "    ByocCollectionBand,\n",
    "    ByocTile,\n",
    "    DataCollection,\n",
    "    DownloadFailedException,\n",
    "    MimeType,\n",
    "    SentinelHubBYOC,\n",
    "    SentinelHubRequest,\n",
    "    SHConfig,\n",
    "    bbox_to_dimensions,\n",
    "    os_utils,\n",
    ")\n",
    "\n",
    "config = SHConfig()\n",
    "config.instance_id = os.environ.get(\"SH_INSTANCE_ID\")\n",
    "config.sh_client_id = os.environ.get(\"SH_CLIENT_ID\")\n",
    "config.sh_client_secret = os.environ.get(\"SH_CLIENT_SECRET\")\n",
    "config.aws_access_key_id = os.environ.get(\"username\")\n",
    "config.aws_secret_access_key = os.environ.get(\"password\")\n",
    "\n",
    "print (\"START the work ......\")"
   ]
  },
  {
   "cell_type": "code",
   "execution_count": 3,
   "id": "33bfa14a-8f31-4b15-958b-277928c2b87c",
   "metadata": {},
   "outputs": [
    {
     "name": "stdout",
     "output_type": "stream",
     "text": [
      "./../../../s3/interim/LU001C/LU001C.tiff\n",
      "          X          Y  city_code  urban_atlas_2018                  geometry\n",
      "0  6.069266  49.654853      65535             31000  POINT (6.06927 49.65485)\n",
      "1  6.069399  49.654853      65535             31000  POINT (6.06940 49.65485)\n",
      "2  6.069532  49.654853      65535             31000  POINT (6.06953 49.65485)\n",
      "3  6.069665  49.654853      65535             31000  POINT (6.06967 49.65485)\n",
      "4  6.069798  49.654853      65535             31000  POINT (6.06980 49.65485)\n",
      "------------\n"
     ]
    },
    {
     "ename": "NameError",
     "evalue": "name 'test' is not defined",
     "output_type": "error",
     "traceback": [
      "\u001b[0;31m---------------------------------------------------------------------------\u001b[0m",
      "\u001b[0;31mNameError\u001b[0m                                 Traceback (most recent call last)",
      "Cell \u001b[0;32mIn[3], line 48\u001b[0m\n\u001b[1;32m     46\u001b[0m \u001b[38;5;66;03m### combine:\u001b[39;00m\n\u001b[1;32m     47\u001b[0m combine_table_cube_urban\u001b[38;5;241m=\u001b[39mdf\u001b[38;5;241m.\u001b[39mgroupby([\u001b[38;5;124m'\u001b[39m\u001b[38;5;124mcity_code\u001b[39m\u001b[38;5;124m'\u001b[39m,\u001b[38;5;124m'\u001b[39m\u001b[38;5;124murban_atlas_2018\u001b[39m\u001b[38;5;124m'\u001b[39m])\u001b[38;5;241m.\u001b[39msize()\u001b[38;5;241m.\u001b[39mreset_index()\u001b[38;5;241m.\u001b[39mrename(columns\u001b[38;5;241m=\u001b[39m{\u001b[38;5;241m0\u001b[39m:\u001b[38;5;124m'\u001b[39m\u001b[38;5;124mcount\u001b[39m\u001b[38;5;124m'\u001b[39m})\n\u001b[0;32m---> 48\u001b[0m \u001b[38;5;28mprint\u001b[39m(\u001b[43mtest\u001b[49m\u001b[38;5;241m.\u001b[39mhead())\n\u001b[1;32m     51\u001b[0m combine_table_cube_urban\u001b[38;5;241m.\u001b[39mto_csv(index\u001b[38;5;241m=\u001b[39m\u001b[38;5;28;01mFalse\u001b[39;00m)\n\u001b[1;32m     53\u001b[0m ouptut_table \u001b[38;5;241m=\u001b[39m \u001b[38;5;124m\"\u001b[39m\u001b[38;5;124m./../../../s3/data/c001_city_cube/tables/urban_cube_v2.csv\u001b[39m\u001b[38;5;124m\"\u001b[39m\n",
      "\u001b[0;31mNameError\u001b[0m: name 'test' is not defined"
     ]
    }
   ],
   "source": [
    "import geopandas as gpd\n",
    "import numpy as np\n",
    "import pandas as pd\n",
    "import rasterio as rio\n",
    "from pathlib import Path  \n",
    "\n",
    "### reading raster\n",
    "raster_2band = \"./../../../s3/interim/LU001C/LU001C.tiff\"\n",
    "print (raster_2band)\n",
    "\n",
    "with rio.Env():\n",
    "    with rio.open(raster_2band) as src:\n",
    "        crs = src.crs\n",
    "\n",
    "        # create 1D coordinate arrays (coordinates of the pixel center)\n",
    "        xmin, ymax = np.around(src.xy(0.00, 0.00), 9)  # src.xy(0, 0)\n",
    "        xmax, ymin = np.around(src.xy(src.height-1, src.width-1), 9)  # src.xy(src.width-1, src.height-1)\n",
    "        x = np.linspace(xmin, xmax, src.width)\n",
    "        y = np.linspace(ymax, ymin, src.height)  # max -> min so coords are top -> bottom\n",
    "\n",
    "\n",
    "        # create 2D arrays\n",
    "        xs, ys = np.meshgrid(x, y)\n",
    "        b1 = src.read(1)\n",
    "        b2 = src.read(2)\n",
    "\n",
    "        # Apply NoData mask\n",
    "        mask = src.read_masks(1) > 0\n",
    "        xs, ys, b1,b2 = xs[mask], ys[mask], b1[mask],b2[mask]\n",
    "\n",
    "data = {\"X\": pd.Series(xs.ravel()),\n",
    "        \"Y\": pd.Series(ys.ravel()),\n",
    "        \"city_code\": pd.Series(b1.ravel()),\n",
    "        \"urban_atlas_2018\": pd.Series(b2.ravel())\n",
    "       \n",
    "       }\n",
    "\n",
    "df = pd.DataFrame(data=data)\n",
    "geometry = gpd.points_from_xy(df.X, df.Y)\n",
    "gdf = gpd.GeoDataFrame(df, crs=crs, geometry=geometry)\n",
    "\n",
    "print(gdf.head())\n",
    "\n",
    "print (\"------------\")\n",
    "\n",
    "### combine different dimesnions: \n",
    "combine_table_cube_urban=df.groupby(['city_code','urban_atlas_2018']).size().reset_index().rename(columns={0:'count'})\n",
    "\n",
    "\n",
    "### writting data to table\n",
    "combine_table_cube_urban.to_csv(index=False)\n",
    "ouptut_table = \"./../../../s3/data/c001_city_cube/tables/urban_cube_v2.csv\"\n",
    "filepath = Path(ouptut_table)  \n",
    "filepath.parent.mkdir(parents=True, exist_ok=True)  \n",
    "combine_table_cube_urban.to_csv(filepath)  \n",
    "\n"
   ]
  },
  {
   "cell_type": "code",
   "execution_count": null,
   "id": "0e74e088-67a1-4de0-bf27-425361f7e66c",
   "metadata": {},
   "outputs": [],
   "source": []
  }
 ],
 "metadata": {
  "kernelspec": {
   "display_name": "fairicube-edc-2022.10-14",
   "language": "python",
   "name": "conda-env-fairicube-edc-2022.10-14-py"
  },
  "language_info": {
   "codemirror_mode": {
    "name": "ipython",
    "version": 3
   },
   "file_extension": ".py",
   "mimetype": "text/x-python",
   "name": "python",
   "nbconvert_exporter": "python",
   "pygments_lexer": "ipython3",
   "version": "3.9.15"
  }
 },
 "nbformat": 4,
 "nbformat_minor": 5
}
