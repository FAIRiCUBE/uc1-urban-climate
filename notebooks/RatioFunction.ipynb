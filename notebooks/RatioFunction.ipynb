{
 "cells": [
  {
   "cell_type": "code",
   "execution_count": 1,
   "id": "9cb665ca-40dc-465b-97fc-f9df65527ad9",
   "metadata": {},
   "outputs": [],
   "source": [
    "import rasterio\n",
    "from matplotlib import pyplot\n",
    "import numpy as np\n",
    "import os\n",
    "\n",
    "def ComputeTypeRatios(filename):\n",
    "    dataset = rasterio.open(filename)\n",
    "    ndv = dataset.nodatavals[0]\n",
    "    typology = dataset.read(1)\n",
    "    a = np.array(typology)\n",
    "    unique, counts = np.unique(a, return_counts=True)\n",
    "    r = dict(zip(unique, counts))\n",
    "    nb_points = typology.size - r[ndv]\n",
    "    ratios = counts*100 / nb_points\n",
    "    r = dict(zip(unique, ratios))\n",
    "    del r[ndv]\n",
    "    return r"
   ]
  },
  {
   "cell_type": "markdown",
   "id": "f120782b-886f-4df9-a847-8b3db6f13db2",
   "metadata": {},
   "source": [
    "Loop over all tif files in the current directory and save the ratios into a csv file"
   ]
  },
  {
   "cell_type": "code",
   "execution_count": 6,
   "id": "074718f0-80c1-4385-aa99-088a3613e9ae",
   "metadata": {},
   "outputs": [
    {
     "name": "stdout",
     "output_type": "stream",
     "text": [
      "UrbanAtlas2018_lux.tif :  {11100: 0.3160345737624541, 11210: 2.7967489910374237, 11220: 1.6300002739081878, 11230: 0.14936664221268814, 11240: 0.03397077919713928, 11300: 0.16737292730765627, 12100: 2.752334258290336, 12210: 0.25243471055474576, 12220: 2.4856802070668853, 12230: 0.23018689360492955, 12300: 0.011911731603260901, 12400: 0.15532250801431857, 13100: 0.24715302102432185, 13300: 0.13158379839617704, 13400: 0.12741161038636734, 14100: 0.31018272372838124, 14200: 0.5168504965577908, 21000: 24.108169772070248, 22000: 2.0945231345128437, 23000: 22.968607694631896, 31000: 36.673247525975334, 32000: 1.3278691410759307, 40000: 0.029374823245428325, 50000: 0.4836617618352511}\n",
      "------------\n"
     ]
    }
   ],
   "source": [
    "import csv\n",
    "with open('Test.csv', 'w') as f:\n",
    "    for file in os.listdir(\".\"):\n",
    "        writer=csv.writer(f, delimiter='\\t',lineterminator='\\n',)\n",
    "        if file.endswith(\".tif\"):\n",
    "            r = ComputeTypeRatios(file)\n",
    "            print(file, \": \", r)\n",
    "            print(\"------------\")\n",
    "            writer.writerow(r.keys())\n",
    "            writer.writerow(r.values())\n",
    "        "
   ]
  },
  {
   "cell_type": "code",
   "execution_count": null,
   "id": "f568e30a-ba3d-4ad0-ad7e-cd530b230701",
   "metadata": {},
   "outputs": [],
   "source": []
  }
 ],
 "metadata": {
  "kernelspec": {
   "display_name": "fairicube-edc-2022.10-14",
   "language": "python",
   "name": "conda-env-fairicube-edc-2022.10-14-py"
  },
  "language_info": {
   "codemirror_mode": {
    "name": "ipython",
    "version": 3
   },
   "file_extension": ".py",
   "mimetype": "text/x-python",
   "name": "python",
   "nbconvert_exporter": "python",
   "pygments_lexer": "ipython3",
   "version": "3.9.15"
  }
 },
 "nbformat": 4,
 "nbformat_minor": 5
}
